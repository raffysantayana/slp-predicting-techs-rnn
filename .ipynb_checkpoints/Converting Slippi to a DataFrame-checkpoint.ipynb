{
 "cells": [
  {
   "cell_type": "markdown",
   "metadata": {},
   "source": [
    "# Converting Slippi to a DataFrame"
   ]
  },
  {
   "cell_type": "markdown",
   "metadata": {},
   "source": [
    "avg inputs per second fox n marth\n",
    "kd ratio fox vs marth \n",
    "w/l ratio fox vs marth\n",
    "avg damage per stock fox vs marth\n",
    "\n",
    "\n",
    "WHEN MODELING\n",
    "try sklearn.model_selection.RandomizedSearchCV"
   ]
  },
  {
   "cell_type": "markdown",
   "metadata": {},
   "source": [
    "Importing libraries"
   ]
  },
  {
   "cell_type": "code",
   "execution_count": 1,
   "metadata": {},
   "outputs": [],
   "source": [
    "# to organize data\n",
    "import pandas as pd\n",
    "import numpy as np\n",
    "\n",
    "# to read in Slippi files\n",
    "import slippi as slp\n",
    "\n",
    "# to get all files within a directory\n",
    "import os"
   ]
  },
  {
   "cell_type": "markdown",
   "metadata": {},
   "source": [
    "Getting file paths to all games<sub>[1](https://kite.com/python/examples/4286/os-get-the-path-of-all-files-in-a-directory)</sub>"
   ]
  },
  {
   "cell_type": "code",
   "execution_count": 2,
   "metadata": {},
   "outputs": [],
   "source": [
    "dir_fp9 = \"../data/Fight-Pitt-9/\"\n",
    "dir_fb5 = '../data/Full-Bloom-5/'\n",
    "dir_gang = '../data/Gang-Steals/'\n",
    "dir_pound = '../data/Pound-2019/'\n",
    "\n",
    "# lists of file paths to Slippi files\n",
    "fight_pitt_9, full_bloom_5, gang, pound = [], [], [], []\n",
    "\n",
    "# adding each file to their respective list\n",
    "# Fight Pitt 9\n",
    "for path in os.listdir(dir_fp9):\n",
    "    full_path = os.path.join(dir_fp9, path)\n",
    "    if os.path.isfile(full_path):\n",
    "        fight_pitt_9.append(full_path)\n",
    "\n",
    "# Full Bloom 5\n",
    "for path in os.listdir(dir_fb5):\n",
    "    full_path = os.path.join(dir_fb5, path)\n",
    "    if os.path.isfile(full_path):\n",
    "        full_bloom_5.append(full_path)\n",
    "        \n",
    "# Gang Steals\n",
    "for path in os.listdir(dir_gang):\n",
    "    full_path = os.path.join(dir_gang, path)\n",
    "    if os.path.isfile(full_path):\n",
    "        gang.append(full_path)\n",
    "        \n",
    "# Pound 2019\n",
    "for path in os.listdir(dir_pound):\n",
    "    full_path = os.path.join(dir_pound, path)\n",
    "    if os.path.isfile(full_path):\n",
    "        pound.append(full_path)"
   ]
  },
  {
   "cell_type": "markdown",
   "metadata": {},
   "source": [
    "According to Finder, there are \n",
    "- 1,151 items in the Fight Pitt 9 directory\n",
    "- 4,506 items in the Full Bloom 5 directory\n",
    "- 3,563 items in the Gang Steals directory\n",
    "- 10,455 items in the Pound 2019 directory"
   ]
  },
  {
   "cell_type": "code",
   "execution_count": 3,
   "metadata": {},
   "outputs": [
    {
     "name": "stdout",
     "output_type": "stream",
     "text": [
      "# of Fight Pitt 9 games: 1151\n",
      "Expecting 1151\n",
      "\n",
      "# of Full Bloom 5 games: 3989\n",
      "Expecting 4506\n",
      "\n",
      "# of Gang games: 3429\n",
      "Expecting 3563\n",
      "\n",
      "# of Pound games: 10455\n",
      "Expecting 10455\n"
     ]
    }
   ],
   "source": [
    "print(f'# of Fight Pitt 9 games: {len(fight_pitt_9)}')\n",
    "print('Expecting 1151')\n",
    "print()\n",
    "\n",
    "print(f'# of Full Bloom 5 games: {len(full_bloom_5)}')\n",
    "print('Expecting 4506')\n",
    "print()\n",
    "\n",
    "print(f'# of Gang games: {len(gang)}')\n",
    "print('Expecting 3563')\n",
    "print()\n",
    "\n",
    "print(f'# of Pound games: {len(pound)}')\n",
    "print('Expecting 10455')"
   ]
  },
  {
   "cell_type": "markdown",
   "metadata": {},
   "source": [
    "Some files have not been added to the list most likely because they did not pass the criteria of `os.path.isfile(full_path)` in cell 2."
   ]
  },
  {
   "cell_type": "code",
   "execution_count": 4,
   "metadata": {},
   "outputs": [
    {
     "data": {
      "text/plain": [
       "['../data/Fight-Pitt-9/Game_20190406T182021.slp',\n",
       " '../data/Fight-Pitt-9/Game_20190406T054329.slp',\n",
       " '../data/Fight-Pitt-9/Game_20190406T113710.slp',\n",
       " '../data/Fight-Pitt-9/Game_20190406T060932.slp',\n",
       " '../data/Fight-Pitt-9/Game_20190406T063208.slp']"
      ]
     },
     "execution_count": 4,
     "metadata": {},
     "output_type": "execute_result"
    }
   ],
   "source": [
    "fight_pitt_9[:5]"
   ]
  },
  {
   "cell_type": "code",
   "execution_count": 5,
   "metadata": {},
   "outputs": [
    {
     "data": {
      "text/plain": [
       "['../data/Full-Bloom-5/Game_20190324T025008.slp',\n",
       " '../data/Full-Bloom-5/Game_20190323T154451 copy.slp',\n",
       " '../data/Full-Bloom-5/Game_20190323T174036.slp',\n",
       " '../data/Full-Bloom-5/Game_20190323T122502.slp',\n",
       " '../data/Full-Bloom-5/Game_20190323T201405.slp']"
      ]
     },
     "execution_count": 5,
     "metadata": {},
     "output_type": "execute_result"
    }
   ],
   "source": [
    "full_bloom_5[:5]"
   ]
  },
  {
   "cell_type": "code",
   "execution_count": 6,
   "metadata": {},
   "outputs": [
    {
     "data": {
      "text/plain": [
       "['../data/Gang-Steals/Game_20190309T113711 copy.slp',\n",
       " '../data/Gang-Steals/Game_20190309T122751.slp',\n",
       " '../data/Gang-Steals/Game_20190309T134133.slp',\n",
       " '../data/Gang-Steals/Game_20190308T161214.slp',\n",
       " '../data/Gang-Steals/Game_20190309T124452.slp']"
      ]
     },
     "execution_count": 6,
     "metadata": {},
     "output_type": "execute_result"
    }
   ],
   "source": [
    "gang[:5]"
   ]
  },
  {
   "cell_type": "code",
   "execution_count": 7,
   "metadata": {},
   "outputs": [
    {
     "data": {
      "text/plain": [
       "['../data/Pound-2019/Game_20190419T004854.slp',\n",
       " '../data/Pound-2019/Game_20190421T184006.slp',\n",
       " '../data/Pound-2019/Game_20190419T212042.slp',\n",
       " '../data/Pound-2019/Game_20190419T112944.slp',\n",
       " '../data/Pound-2019/Game_20190420T173958.slp']"
      ]
     },
     "execution_count": 7,
     "metadata": {},
     "output_type": "execute_result"
    }
   ],
   "source": [
    "pound[:5]"
   ]
  },
  {
   "cell_type": "code",
   "execution_count": 8,
   "metadata": {},
   "outputs": [],
   "source": [
    "def gen_games():\n",
    "    fp9_games = (slp.Game(file) for file in fight_pitt_9)\n",
    "    fb5_games = (slp.Game(file) for file in full_bloom_5)\n",
    "    gang_games = (slp.Game(file) for file in gang)\n",
    "    pound_games = (slp.Game(file) for file in pound)\n",
    "    return fp9_games, fb5_games, gang_games, pound_games\n",
    "fp9_games, fb5_games, gang_games, pound_games = gen_games()"
   ]
  },
  {
   "cell_type": "markdown",
   "metadata": {},
   "source": [
    "## Reading in .slp File"
   ]
  },
  {
   "cell_type": "code",
   "execution_count": 9,
   "metadata": {},
   "outputs": [],
   "source": [
    "gang_game = slp.Game(gang[0])\n",
    "fb5_game = slp.Game(full_bloom_5[0])\n",
    "fp9_game = slp.Game(fight_pitt_9[0])\n",
    "\n",
    "new_gamepath = '../data/BTSSmash-Game_20190922T193150.slp'\n",
    "game = slp.Game(new_gamepath)"
   ]
  },
  {
   "cell_type": "markdown",
   "metadata": {},
   "source": [
    "## Extracting Metadata of Game"
   ]
  },
  {
   "cell_type": "markdown",
   "metadata": {},
   "source": [
    "### Date\n",
    "When reading in a list of Slippi files, a list comprehension will be used to iterate through each game."
   ]
  },
  {
   "cell_type": "code",
   "execution_count": 10,
   "metadata": {},
   "outputs": [
    {
     "name": "stdout",
     "output_type": "stream",
     "text": [
      "2019-09-22 19:31:50+00:00\n"
     ]
    }
   ],
   "source": [
    "date = game.metadata.date\n",
    "print(date)"
   ]
  },
  {
   "cell_type": "markdown",
   "metadata": {},
   "source": [
    "### Duration\n",
    "This details the length of the match in _n_ frames where a single frame is 1/60 seconds."
   ]
  },
  {
   "cell_type": "code",
   "execution_count": 11,
   "metadata": {},
   "outputs": [
    {
     "data": {
      "text/plain": [
       "8184"
      ]
     },
     "execution_count": 11,
     "metadata": {},
     "output_type": "execute_result"
    }
   ],
   "source": [
    "duration = game.metadata.duration\n",
    "duration"
   ]
  },
  {
   "cell_type": "markdown",
   "metadata": {},
   "source": [
    "### Platform\n",
    "The platform on which the game was played. Either on a Dolphin emulator or console."
   ]
  },
  {
   "cell_type": "code",
   "execution_count": 12,
   "metadata": {},
   "outputs": [
    {
     "data": {
      "text/plain": [
       "Platform.NETWORK"
      ]
     },
     "execution_count": 12,
     "metadata": {},
     "output_type": "execute_result"
    }
   ],
   "source": [
    "platform = game.metadata.platform\n",
    "platform"
   ]
  },
  {
   "cell_type": "markdown",
   "metadata": {},
   "source": [
    "### Characters\n",
    "We will need to determine which controller ports are being used to determine where to read data from."
   ]
  },
  {
   "cell_type": "markdown",
   "metadata": {},
   "source": [
    "#### For New Versions of Slippi as Used in Big House 9"
   ]
  },
  {
   "cell_type": "code",
   "execution_count": 13,
   "metadata": {},
   "outputs": [
    {
     "data": {
      "text/plain": [
       "(Player(characters={InGameCharacter.JIGGLYPUFF: 8184}),\n",
       " Player(characters={InGameCharacter.FALCO: 8184}),\n",
       " None,\n",
       " None)"
      ]
     },
     "execution_count": 13,
     "metadata": {},
     "output_type": "execute_result"
    }
   ],
   "source": [
    "game.metadata.players"
   ]
  },
  {
   "cell_type": "code",
   "execution_count": 14,
   "metadata": {},
   "outputs": [
    {
     "data": {
      "text/plain": [
       "[0, 1]"
      ]
     },
     "execution_count": 14,
     "metadata": {},
     "output_type": "execute_result"
    }
   ],
   "source": [
    "ports = [game.metadata.players.index(port) for port in game.metadata.players if port != None]\n",
    "ports"
   ]
  },
  {
   "cell_type": "code",
   "execution_count": 15,
   "metadata": {},
   "outputs": [
    {
     "data": {
      "text/plain": [
       "[InGameCharacter.JIGGLYPUFF, InGameCharacter.FALCO]"
      ]
     },
     "execution_count": 15,
     "metadata": {},
     "output_type": "execute_result"
    }
   ],
   "source": [
    "# Player 1 is index 0\n",
    "# Player 2 is index 1\n",
    "characters = [char for port in ports for char in game.metadata.players[port].characters]\n",
    "characters"
   ]
  },
  {
   "cell_type": "code",
   "execution_count": 16,
   "metadata": {},
   "outputs": [
    {
     "data": {
      "text/plain": [
       "InGameCharacter.JIGGLYPUFF"
      ]
     },
     "execution_count": 16,
     "metadata": {},
     "output_type": "execute_result"
    }
   ],
   "source": [
    "player_1 = characters[0]\n",
    "player_2 = characters[1]\n",
    "player_1"
   ]
  },
  {
   "cell_type": "code",
   "execution_count": 17,
   "metadata": {},
   "outputs": [
    {
     "data": {
      "text/plain": [
       "InGameCharacter.FALCO"
      ]
     },
     "execution_count": 17,
     "metadata": {},
     "output_type": "execute_result"
    }
   ],
   "source": [
    "player_2"
   ]
  },
  {
   "cell_type": "markdown",
   "metadata": {},
   "source": [
    "#### For Older Versions of Slippi Such as Full Bloom 5"
   ]
  },
  {
   "cell_type": "code",
   "execution_count": 18,
   "metadata": {},
   "outputs": [
    {
     "data": {
      "text/plain": [
       "(Player(character=CSSCharacter.MARTH, costume=3, stocks=4, tag=, team=None, type=Type.HUMAN, ucf=UCF(dash_back=DashBack.UCF, shield_drop=ShieldDrop.UCF)),\n",
       " None,\n",
       " None,\n",
       " Player(character=CSSCharacter.JIGGLYPUFF, costume=2, stocks=4, tag=, team=None, type=Type.HUMAN, ucf=UCF(dash_back=DashBack.UCF, shield_drop=ShieldDrop.UCF)))"
      ]
     },
     "execution_count": 18,
     "metadata": {},
     "output_type": "execute_result"
    }
   ],
   "source": [
    "gang_game.start.players"
   ]
  },
  {
   "cell_type": "code",
   "execution_count": 19,
   "metadata": {},
   "outputs": [
    {
     "data": {
      "text/plain": [
       "[0, 3]"
      ]
     },
     "execution_count": 19,
     "metadata": {},
     "output_type": "execute_result"
    }
   ],
   "source": [
    "[gang_game.start.players.index(port) for port in gang_game.start.players if port != None]"
   ]
  },
  {
   "cell_type": "code",
   "execution_count": 20,
   "metadata": {},
   "outputs": [
    {
     "data": {
      "text/plain": [
       "[0, 3]"
      ]
     },
     "execution_count": 20,
     "metadata": {},
     "output_type": "execute_result"
    }
   ],
   "source": [
    "ports_gang = [gang_game.start.players.index(port) for port in gang_game.start.players if port != None]\n",
    "ports_gang"
   ]
  },
  {
   "cell_type": "code",
   "execution_count": 21,
   "metadata": {},
   "outputs": [
    {
     "data": {
      "text/plain": [
       "CSSCharacter.MARTH"
      ]
     },
     "execution_count": 21,
     "metadata": {},
     "output_type": "execute_result"
    }
   ],
   "source": [
    "gang_game.start.players[0].character"
   ]
  },
  {
   "cell_type": "code",
   "execution_count": 22,
   "metadata": {},
   "outputs": [
    {
     "data": {
      "text/plain": [
       "[CSSCharacter.MARTH, CSSCharacter.JIGGLYPUFF]"
      ]
     },
     "execution_count": 22,
     "metadata": {},
     "output_type": "execute_result"
    }
   ],
   "source": [
    "characters_gang = [gang_game.start.players[port].character for port in ports_gang]\n",
    "characters_gang"
   ]
  },
  {
   "cell_type": "code",
   "execution_count": 23,
   "metadata": {},
   "outputs": [],
   "source": [
    "def test_metadata_extraction(testing_game):\n",
    "    print(testing_game.start.players)\n",
    "    print()\n",
    "    ports_test = [testing_game.start.players.index(port) for port in testing_game.start.players if port != None]\n",
    "    print(ports_test)\n",
    "    characters_test = [testing_game.start.players[port].character for port in ports_test]\n",
    "    print(characters_test)"
   ]
  },
  {
   "cell_type": "code",
   "execution_count": 24,
   "metadata": {},
   "outputs": [
    {
     "name": "stdout",
     "output_type": "stream",
     "text": [
      "(Player(character=CSSCharacter.MARTH, costume=3, stocks=4, tag=, team=None, type=Type.HUMAN, ucf=UCF(dash_back=DashBack.UCF, shield_drop=ShieldDrop.UCF)), None, None, Player(character=CSSCharacter.JIGGLYPUFF, costume=2, stocks=4, tag=, team=None, type=Type.HUMAN, ucf=UCF(dash_back=DashBack.UCF, shield_drop=ShieldDrop.UCF)))\n",
      "\n",
      "[0, 3]\n",
      "[CSSCharacter.MARTH, CSSCharacter.JIGGLYPUFF]\n"
     ]
    }
   ],
   "source": [
    "test_metadata_extraction(gang_game)"
   ]
  },
  {
   "cell_type": "code",
   "execution_count": 25,
   "metadata": {},
   "outputs": [
    {
     "name": "stdout",
     "output_type": "stream",
     "text": [
      "(None, Player(character=CSSCharacter.MARTH, costume=4, stocks=4, tag=, team=None, type=Type.HUMAN, ucf=UCF(dash_back=DashBack.UCF, shield_drop=ShieldDrop.UCF)), None, Player(character=CSSCharacter.FALCO, costume=3, stocks=4, tag=, team=None, type=Type.HUMAN, ucf=UCF(dash_back=DashBack.UCF, shield_drop=ShieldDrop.UCF)))\n",
      "\n",
      "[1, 3]\n",
      "[CSSCharacter.MARTH, CSSCharacter.FALCO]\n"
     ]
    }
   ],
   "source": [
    "test_metadata_extraction(fb5_game)"
   ]
  },
  {
   "cell_type": "code",
   "execution_count": 26,
   "metadata": {},
   "outputs": [
    {
     "name": "stdout",
     "output_type": "stream",
     "text": [
      "(Player(character=CSSCharacter.ICE_CLIMBERS, costume=0, stocks=4, tag=, team=None, type=Type.HUMAN, ucf=UCF(dash_back=DashBack.UCF, shield_drop=ShieldDrop.UCF)), None, None, Player(character=CSSCharacter.MARTH, costume=1, stocks=4, tag=, team=None, type=Type.HUMAN, ucf=UCF(dash_back=DashBack.UCF, shield_drop=ShieldDrop.UCF)))\n",
      "\n",
      "[0, 3]\n",
      "[CSSCharacter.ICE_CLIMBERS, CSSCharacter.MARTH]\n"
     ]
    }
   ],
   "source": [
    "test_metadata_extraction(fp9_game)"
   ]
  },
  {
   "cell_type": "code",
   "execution_count": 27,
   "metadata": {},
   "outputs": [
    {
     "name": "stdout",
     "output_type": "stream",
     "text": [
      "(Player(character=CSSCharacter.JIGGLYPUFF, costume=3, stocks=4, tag=, team=None, type=Type.HUMAN, ucf=UCF(dash_back=DashBack.UCF, shield_drop=ShieldDrop.UCF)), Player(character=CSSCharacter.FALCO, costume=3, stocks=4, tag=, team=None, type=Type.HUMAN, ucf=UCF(dash_back=DashBack.UCF, shield_drop=ShieldDrop.UCF)), None, None)\n",
      "\n",
      "[0, 1]\n",
      "[CSSCharacter.JIGGLYPUFF, CSSCharacter.FALCO]\n"
     ]
    }
   ],
   "source": [
    "test_metadata_extraction(game)"
   ]
  },
  {
   "cell_type": "markdown",
   "metadata": {},
   "source": [
    "### Stage"
   ]
  },
  {
   "cell_type": "code",
   "execution_count": 28,
   "metadata": {},
   "outputs": [
    {
     "data": {
      "text/plain": [
       "Stage.POKEMON_STADIUM"
      ]
     },
     "execution_count": 28,
     "metadata": {},
     "output_type": "execute_result"
    }
   ],
   "source": [
    "game.start.stage"
   ]
  },
  {
   "cell_type": "markdown",
   "metadata": {},
   "source": [
    "### Metadata Series\n",
    "When reading in multiple games a DataFrame will be made where each row will represent a single game."
   ]
  },
  {
   "cell_type": "code",
   "execution_count": 29,
   "metadata": {},
   "outputs": [
    {
     "data": {
      "text/plain": [
       "date             2019-09-22 19:31:50+00:00\n",
       "duration                              8184\n",
       "platform                  Platform.NETWORK\n",
       "p1_port                                  0\n",
       "p1_character    InGameCharacter.JIGGLYPUFF\n",
       "p2_port                                  1\n",
       "p2_character         InGameCharacter.FALCO\n",
       "stage                Stage.POKEMON_STADIUM\n",
       "dtype: object"
      ]
     },
     "execution_count": 29,
     "metadata": {},
     "output_type": "execute_result"
    }
   ],
   "source": [
    "pd.Series({'date': date,\n",
    "           'duration': duration,\n",
    "           'platform': platform,\n",
    "           'p1_port': ports[0],\n",
    "           'p1_character': characters[0],\n",
    "           'p2_port': ports[1],\n",
    "           'p2_character': characters[1],\n",
    "          'stage': game.start.stage})"
   ]
  },
  {
   "cell_type": "markdown",
   "metadata": {},
   "source": [
    "### Getting all Metadata"
   ]
  },
  {
   "cell_type": "code",
   "execution_count": 30,
   "metadata": {},
   "outputs": [],
   "source": [
    "test_fp9 = fight_pitt_9[:10]"
   ]
  },
  {
   "cell_type": "code",
   "execution_count": 31,
   "metadata": {},
   "outputs": [
    {
     "data": {
      "text/plain": [
       "Player(character=CSSCharacter.JIGGLYPUFF, costume=3, stocks=4, tag=, team=None, type=Type.HUMAN, ucf=UCF(dash_back=DashBack.UCF, shield_drop=ShieldDrop.UCF))"
      ]
     },
     "execution_count": 31,
     "metadata": {},
     "output_type": "execute_result"
    }
   ],
   "source": [
    "game.start.players[0]"
   ]
  },
  {
   "cell_type": "code",
   "execution_count": 32,
   "metadata": {},
   "outputs": [
    {
     "data": {
      "text/plain": [
       "'20190406T182021'"
      ]
     },
     "execution_count": 32,
     "metadata": {},
     "output_type": "execute_result"
    }
   ],
   "source": [
    "fight_pitt_9[0].split('/')[-1].strip('Game_').strip('.slp')"
   ]
  },
  {
   "cell_type": "code",
   "execution_count": 33,
   "metadata": {},
   "outputs": [
    {
     "ename": "NameError",
     "evalue": "name 'df_fp9' is not defined",
     "output_type": "error",
     "traceback": [
      "\u001b[0;31m---------------------------------------------------------------------------\u001b[0m",
      "\u001b[0;31mNameError\u001b[0m                                 Traceback (most recent call last)",
      "\u001b[0;32m<ipython-input-33-9332bda5b23c>\u001b[0m in \u001b[0;36m<module>\u001b[0;34m\u001b[0m\n\u001b[0;32m----> 1\u001b[0;31m \u001b[0mdf_fp9\u001b[0m\u001b[0;34m\u001b[0m\u001b[0;34m\u001b[0m\u001b[0m\n\u001b[0m",
      "\u001b[0;31mNameError\u001b[0m: name 'df_fp9' is not defined"
     ]
    }
   ],
   "source": [
    "df_fp9"
   ]
  },
  {
   "cell_type": "code",
   "execution_count": 34,
   "metadata": {},
   "outputs": [],
   "source": [
    "### THIS IS ADJUSTED TO TAKE ANY NUMBER OF FILE PATHS\n",
    "### AND PARSE TO A DATAFRAME\n",
    "### INCLUDING PORT AND CHARACTER INFO\n",
    "def metadata_to_df(slp_paths):\n",
    "    '''\n",
    "    Of a collection of games, store the metadata as a dataframe.\n",
    "    \n",
    "    slp_paths (list): each value is the file path to games\n",
    "    returns a dataframe\n",
    "    '''\n",
    "    length = len(slp_paths)\n",
    "    count = 0\n",
    "    dates, game_id, durations, plats, p1_ports, p1_chars, p2_ports, p2_chars, stages, is_teams, is_pal = list(), list(), list(), list(), list(), list(), list(), list(), list(), list(), list()\n",
    "    for path in slp_paths:\n",
    "        count += 1\n",
    "        print(f'Parsing file {count} of {length}: {round(count / length * 100, 2)}%', end = '\\r')\n",
    "        # try to create Game object, else skip it and try the next one\n",
    "        try:\n",
    "            game = slp.Game(path)\n",
    "        except:\n",
    "            print(f'Skip game {count} of {length}')\n",
    "            continue\n",
    "            \n",
    "        # set game ID\n",
    "        # to get file path using game_id:\n",
    "        # ../folder_directory/Game_[game_id].slp\n",
    "        game_id.append(slp_paths[count - 1].split('/')[-1].strip('Game_').strip('.slp'))\n",
    "        \n",
    "        # take the date, duration, and platform data\n",
    "        dates.append(game.metadata.date)\n",
    "        durations.append(game.metadata.duration)\n",
    "        plats.append(game.metadata.platform)\n",
    "\n",
    "        # get active ports\n",
    "        ports = [game.start.players.index(port) for port in game.start.players if port != None]\n",
    "        p1_ports.append(ports[0])\n",
    "        p2_ports.append(ports[1])\n",
    "\n",
    "        # get characters\n",
    "        characters = [game.start.players[port].character for port in ports]\n",
    "        p1_chars.append(characters[0])\n",
    "        p2_chars.append(characters[1])\n",
    "        \n",
    "        # get stages played on\n",
    "        stages.append(game.start.stage)\n",
    "        \n",
    "        # is the game not a 1v1\n",
    "        is_teams.append(game.start.is_teams)\n",
    "        \n",
    "        # is this not a v1.02 match\n",
    "        is_pal.append(game.start.is_pal)\n",
    "        \n",
    "    return pd.DataFrame(data = {\n",
    "            'game_id': game_id,\n",
    "            'date': dates,\n",
    "            'duration': durations,\n",
    "            'platform': plats,\n",
    "            'p1_port': p1_ports,\n",
    "            'p1_char': p1_chars,\n",
    "            'p2_port': p2_ports,\n",
    "            'p2_char': p2_chars,\n",
    "            'stage': stages,\n",
    "            'is_teams': is_teams,\n",
    "            'is_pal': is_pal\n",
    "        })"
   ]
  },
  {
   "cell_type": "code",
   "execution_count": 35,
   "metadata": {},
   "outputs": [],
   "source": [
    "# def metadata_to_df(slp_paths):\n",
    "#     '''\n",
    "#     Of a collection of games, store the metadata as a dataframe.\n",
    "    \n",
    "#     slp_paths (list): each value is the file path to games\n",
    "#     returns a dataframe\n",
    "#     '''\n",
    "#     dates, durations, plats, p1_ports, p1_chars, p2_ports, p2_chars = list(), list(), list(), list(), list(), list(), list()\n",
    "#     if len(slp_paths) == 1:\n",
    "#         game = slp.Game(slp_paths[0])\n",
    "#         ports = [game.metadata.players.index(port) for port in game.metadata.players if port != None]\n",
    "#         characters = [char for port in ports for char in game.metadata.players[port].characters]\n",
    "#         try:\n",
    "#             return pd.Series({\n",
    "#                 'date': game.metadata.date,\n",
    "#                 'duration': game.metadata.duration,\n",
    "#                 'platform': game.metadata.platform,\n",
    "#                 'p1_port': ports[0],\n",
    "#                 'p1_char': characters[0],\n",
    "#                 'p2_port': ports[1],\n",
    "#                 'p2_char': characters[1]\n",
    "#             })\n",
    "#         except:\n",
    "#             ports = [other_game.start.players.index(port) for port in other_game.start.players if port != None]\n",
    "#             characters = [other_game.start.players[port].character for port in ports_old]\n",
    "#             return pd.Series({\n",
    "#                 'date': game.metadata.date,\n",
    "#                 'duration': game.metadata.duration,\n",
    "#                 'platform': game.metadata.platform,\n",
    "#                 'p1_port': ports[0],\n",
    "#                 'p1_char': characters[0],\n",
    "#                 'p2_port': ports[1],\n",
    "#                 'p2_char': characters[1]\n",
    "#             })\n",
    "#     else:\n",
    "#         for path in slp_paths:\n",
    "#             try:\n",
    "#                 game = slp.Game(path)\n",
    "#             except:\n",
    "#                 continue\n",
    "#             dates.append(game.metadata.date)\n",
    "#             durations.append(game.metadata.duration)\n",
    "#             plats.append(game.metadata.platform)\n",
    "\n",
    "#             # get active ports\n",
    "#             ports = [game.metadata.players.index(port) for port in game.metadata.players if port != None]\n",
    "#             try:\n",
    "#                 p1_ports.append(ports[0])\n",
    "#                 p2_ports.append(ports[1])\n",
    "#             except:\n",
    "#                 ports = [game.start.players.index(port) for port in other_game.start.players if port != None]\n",
    "#                 p1_ports.append(ports[0])\n",
    "#                 p2_ports.append(ports[1])\n",
    "\n",
    "#             # get characters\n",
    "#             characters = [char for port in ports for char in game.metadata.players[port].characters]\n",
    "#             try:\n",
    "#                 p1_chars.append(characters[0])\n",
    "#                 p2_chars.append(characters[1])\n",
    "#             except:\n",
    "#                 characters = [game.start.players[port].character for port in ports_old]\n",
    "#                 p1_chars.append(characters[0])\n",
    "#                 p2_chars.append(characters[1])\n",
    "#         return pd.DataFrame(data = {\n",
    "#                 'date': dates,\n",
    "#                 'duration': durations,\n",
    "#                 'platform': plats,\n",
    "#                 'p1_port': p1_ports,\n",
    "#                 'p1_char': p1_chars,\n",
    "#                 'p2_port': p2_ports,\n",
    "#                 'p2_char': p2_chars\n",
    "#             })\n",
    "#     return None"
   ]
  },
  {
   "cell_type": "code",
   "execution_count": 36,
   "metadata": {},
   "outputs": [],
   "source": [
    "# '''\n",
    "# THIS ONE WORKS DO NOT TOUCH\n",
    "# '''\n",
    "# def metadata_to_df(games):\n",
    "#     '''\n",
    "#     Of a collection of games, store the metadata as a dataframe.\n",
    "    \n",
    "#     games (generator): each value is a slp.Game() object\n",
    "#     returns a dataframe\n",
    "#     '''\n",
    "#     dates, durations, plats, p1_ports, p1_chars, p2_ports, p2_chars = list(), list(), list(), list(), list(), list(), list()\n",
    "#     for game in games:\n",
    "#         dates.append(game.metadata.date)\n",
    "#         durations.append(game.metadata.duration)\n",
    "#         plats.append(game.metadata.platform)\n",
    "\n",
    "#         # get active ports\n",
    "#         ports = [game.metadata.players.index(port) for port in game.metadata.players if port != None]\n",
    "#         try:\n",
    "#             p1_ports.append(ports[0])\n",
    "#             p2_ports.append(ports[1])\n",
    "#         except:\n",
    "#             p1_ports.append('')\n",
    "#             p2_ports.append('')\n",
    "\n",
    "#             # get characters\n",
    "#         characters = [char for port in ports for char in game.metadata.players[port].characters]\n",
    "#         try:\n",
    "#             p1_chars.append(characters[0])\n",
    "#             p2_chars.append(characters[1])\n",
    "#         except:\n",
    "#             characters = [game.start.players[port].character for port in ports]\n",
    "#             p1_chars.append('')\n",
    "#             p2_chars.append('')\n",
    "#     return pd.DataFrame(data = {\n",
    "#                 'date': dates,\n",
    "#                 'duration': durations,\n",
    "#                 'platform': plats,\n",
    "#                 'p1_port': p1_ports,\n",
    "#                 'p1_char': p1_chars,\n",
    "#                 'p2_port': p2_ports,\n",
    "#                 'p2_char': p2_chars\n",
    "#             })"
   ]
  },
  {
   "cell_type": "markdown",
   "metadata": {},
   "source": [
    "Even though the character information is missing in the metadata, the character information is stored in other locations of each game file such as the start attribute of the Game object."
   ]
  },
  {
   "cell_type": "code",
   "execution_count": 37,
   "metadata": {},
   "outputs": [
    {
     "data": {
      "text/plain": [
       "UCF(dash_back=DashBack.UCF, shield_drop=ShieldDrop.UCF)"
      ]
     },
     "execution_count": 37,
     "metadata": {},
     "output_type": "execute_result"
    }
   ],
   "source": [
    "game.start.players[0].ucf"
   ]
  },
  {
   "cell_type": "code",
   "execution_count": 38,
   "metadata": {
    "scrolled": true
   },
   "outputs": [
    {
     "name": "stdout",
     "output_type": "stream",
     "text": [
      "Parsing file 21 of 1151: 1.82%\r"
     ]
    },
    {
     "name": "stderr",
     "output_type": "stream",
     "text": [
      "\u001b[33mWARNING\u001b[0m unknown Attack: 87\n"
     ]
    },
    {
     "name": "stdout",
     "output_type": "stream",
     "text": [
      "Parsing file 37 of 1151: 3.21%\r"
     ]
    },
    {
     "name": "stderr",
     "output_type": "stream",
     "text": [
      "\u001b[33mWARNING\u001b[0m unknown Attack: 59\n"
     ]
    },
    {
     "name": "stdout",
     "output_type": "stream",
     "text": [
      "Parsing file 83 of 1151: 7.21%\r"
     ]
    },
    {
     "name": "stderr",
     "output_type": "stream",
     "text": [
      "\u001b[33mWARNING\u001b[0m unknown ActionState: 383\n",
      "\u001b[33mWARNING\u001b[0m unknown ActionState: 384\n",
      "\u001b[33mWARNING\u001b[0m unknown ActionState: 385\n"
     ]
    },
    {
     "name": "stdout",
     "output_type": "stream",
     "text": [
      "Skip game 173 of 1151151: 15.03%\n",
      "Parsing file 176 of 1151: 15.29%\r"
     ]
    },
    {
     "name": "stderr",
     "output_type": "stream",
     "text": [
      "\u001b[33mWARNING\u001b[0m unknown Attack: 57\n"
     ]
    },
    {
     "name": "stdout",
     "output_type": "stream",
     "text": [
      "Parsing file 185 of 1151: 16.07%\r"
     ]
    },
    {
     "name": "stderr",
     "output_type": "stream",
     "text": [
      "\u001b[33mWARNING\u001b[0m unknown Attack: 60\n",
      "\u001b[33mWARNING\u001b[0m unknown Attack: 58\n"
     ]
    },
    {
     "name": "stdout",
     "output_type": "stream",
     "text": [
      "Skip game 197 of 1151151: 17.12%\n",
      "Parsing file 312 of 1151: 27.11%\r"
     ]
    },
    {
     "name": "stderr",
     "output_type": "stream",
     "text": [
      "\u001b[33mWARNING\u001b[0m unknown ActionState: 389\n",
      "\u001b[33mWARNING\u001b[0m unknown ActionState: 390\n"
     ]
    },
    {
     "name": "stdout",
     "output_type": "stream",
     "text": [
      "Skip game 381 of 1151151: 33.1%%\n",
      "Parsing file 427 of 1151: 37.1%%\r"
     ]
    },
    {
     "name": "stderr",
     "output_type": "stream",
     "text": [
      "\u001b[33mWARNING\u001b[0m unknown Attack: 63\n"
     ]
    },
    {
     "name": "stdout",
     "output_type": "stream",
     "text": [
      "Parsing file 464 of 1151: 40.31%\r"
     ]
    },
    {
     "name": "stderr",
     "output_type": "stream",
     "text": [
      "\u001b[33mWARNING\u001b[0m unknown ActionState: 388\n"
     ]
    },
    {
     "name": "stdout",
     "output_type": "stream",
     "text": [
      "Parsing file 518 of 1151: 45.0%%\r"
     ]
    },
    {
     "name": "stderr",
     "output_type": "stream",
     "text": [
      "\u001b[33mWARNING\u001b[0m unknown ActionState: 391\n",
      "\u001b[33mWARNING\u001b[0m unknown ActionState: 396\n",
      "\u001b[33mWARNING\u001b[0m unknown ActionState: 397\n",
      "\u001b[33mWARNING\u001b[0m unknown ActionState: 394\n",
      "\u001b[33mWARNING\u001b[0m unknown ActionState: 395\n"
     ]
    },
    {
     "name": "stdout",
     "output_type": "stream",
     "text": [
      "Parsing file 760 of 1151: 66.03%\r"
     ]
    },
    {
     "name": "stderr",
     "output_type": "stream",
     "text": [
      "\u001b[33mWARNING\u001b[0m unknown ActionState: 492\n",
      "\u001b[33mWARNING\u001b[0m unknown ActionState: 493\n",
      "\u001b[33mWARNING\u001b[0m unknown ActionState: 494\n",
      "\u001b[33mWARNING\u001b[0m unknown Attack: 38\n"
     ]
    },
    {
     "name": "stdout",
     "output_type": "stream",
     "text": [
      "Skip game 868 of 1151151: 75.41%\n",
      "Skip game 1036 of 1151151: 90.01%\n",
      "Parsing file 1151 of 1151: 100.0%\r"
     ]
    }
   ],
   "source": [
    "df_fp9 = metadata_to_df(fight_pitt_9)"
   ]
  },
  {
   "cell_type": "code",
   "execution_count": 39,
   "metadata": {
    "scrolled": true
   },
   "outputs": [
    {
     "data": {
      "text/html": [
       "<div>\n",
       "<style scoped>\n",
       "    .dataframe tbody tr th:only-of-type {\n",
       "        vertical-align: middle;\n",
       "    }\n",
       "\n",
       "    .dataframe tbody tr th {\n",
       "        vertical-align: top;\n",
       "    }\n",
       "\n",
       "    .dataframe thead th {\n",
       "        text-align: right;\n",
       "    }\n",
       "</style>\n",
       "<table border=\"1\" class=\"dataframe\">\n",
       "  <thead>\n",
       "    <tr style=\"text-align: right;\">\n",
       "      <th></th>\n",
       "      <th>game_id</th>\n",
       "      <th>date</th>\n",
       "      <th>duration</th>\n",
       "      <th>platform</th>\n",
       "      <th>p1_port</th>\n",
       "      <th>p1_char</th>\n",
       "      <th>p2_port</th>\n",
       "      <th>p2_char</th>\n",
       "      <th>stage</th>\n",
       "      <th>is_teams</th>\n",
       "      <th>is_pal</th>\n",
       "    </tr>\n",
       "  </thead>\n",
       "  <tbody>\n",
       "    <tr>\n",
       "      <th>0</th>\n",
       "      <td>20190406T182021</td>\n",
       "      <td>2019-04-06 18:20:21+00:00</td>\n",
       "      <td>11653</td>\n",
       "      <td>Platform.NINTENDONT</td>\n",
       "      <td>0</td>\n",
       "      <td>14</td>\n",
       "      <td>3</td>\n",
       "      <td>9</td>\n",
       "      <td>32</td>\n",
       "      <td>False</td>\n",
       "      <td>False</td>\n",
       "    </tr>\n",
       "    <tr>\n",
       "      <th>1</th>\n",
       "      <td>20190406T054329</td>\n",
       "      <td>2019-04-06 05:43:29+00:00</td>\n",
       "      <td>1435</td>\n",
       "      <td>Platform.NINTENDONT</td>\n",
       "      <td>1</td>\n",
       "      <td>20</td>\n",
       "      <td>2</td>\n",
       "      <td>18</td>\n",
       "      <td>31</td>\n",
       "      <td>False</td>\n",
       "      <td>False</td>\n",
       "    </tr>\n",
       "    <tr>\n",
       "      <th>2</th>\n",
       "      <td>20190406T113710</td>\n",
       "      <td>2019-04-06 11:37:10+00:00</td>\n",
       "      <td>7577</td>\n",
       "      <td>Platform.NINTENDONT</td>\n",
       "      <td>0</td>\n",
       "      <td>22</td>\n",
       "      <td>1</td>\n",
       "      <td>2</td>\n",
       "      <td>3</td>\n",
       "      <td>True</td>\n",
       "      <td>False</td>\n",
       "    </tr>\n",
       "    <tr>\n",
       "      <th>3</th>\n",
       "      <td>20190406T060932</td>\n",
       "      <td>2019-04-06 06:09:32+00:00</td>\n",
       "      <td>9589</td>\n",
       "      <td>Platform.NINTENDONT</td>\n",
       "      <td>0</td>\n",
       "      <td>20</td>\n",
       "      <td>3</td>\n",
       "      <td>7</td>\n",
       "      <td>28</td>\n",
       "      <td>False</td>\n",
       "      <td>False</td>\n",
       "    </tr>\n",
       "    <tr>\n",
       "      <th>4</th>\n",
       "      <td>20190406T063208</td>\n",
       "      <td>2019-04-06 06:32:08+00:00</td>\n",
       "      <td>10043</td>\n",
       "      <td>Platform.NINTENDONT</td>\n",
       "      <td>0</td>\n",
       "      <td>14</td>\n",
       "      <td>3</td>\n",
       "      <td>9</td>\n",
       "      <td>8</td>\n",
       "      <td>False</td>\n",
       "      <td>False</td>\n",
       "    </tr>\n",
       "  </tbody>\n",
       "</table>\n",
       "</div>"
      ],
      "text/plain": [
       "           game_id                      date  duration             platform  \\\n",
       "0  20190406T182021 2019-04-06 18:20:21+00:00     11653  Platform.NINTENDONT   \n",
       "1  20190406T054329 2019-04-06 05:43:29+00:00      1435  Platform.NINTENDONT   \n",
       "2  20190406T113710 2019-04-06 11:37:10+00:00      7577  Platform.NINTENDONT   \n",
       "3  20190406T060932 2019-04-06 06:09:32+00:00      9589  Platform.NINTENDONT   \n",
       "4  20190406T063208 2019-04-06 06:32:08+00:00     10043  Platform.NINTENDONT   \n",
       "\n",
       "   p1_port  p1_char  p2_port  p2_char  stage  is_teams  is_pal  \n",
       "0        0       14        3        9     32     False   False  \n",
       "1        1       20        2       18     31     False   False  \n",
       "2        0       22        1        2      3      True   False  \n",
       "3        0       20        3        7     28     False   False  \n",
       "4        0       14        3        9      8     False   False  "
      ]
     },
     "execution_count": 39,
     "metadata": {},
     "output_type": "execute_result"
    }
   ],
   "source": [
    "df_fp9.head()"
   ]
  },
  {
   "cell_type": "code",
   "execution_count": 40,
   "metadata": {},
   "outputs": [],
   "source": [
    "df_fp9.to_csv('../data/fp9.csv')"
   ]
  },
  {
   "cell_type": "code",
   "execution_count": 41,
   "metadata": {},
   "outputs": [
    {
     "data": {
      "text/plain": [
       "11255218"
      ]
     },
     "execution_count": 41,
     "metadata": {},
     "output_type": "execute_result"
    }
   ],
   "source": [
    "sum(df_fp9['duration'])"
   ]
  },
  {
   "cell_type": "code",
   "execution_count": 42,
   "metadata": {},
   "outputs": [
    {
     "data": {
      "text/plain": [
       "True"
      ]
     },
     "execution_count": 42,
     "metadata": {},
     "output_type": "execute_result"
    }
   ],
   "source": [
    "df_fp9.shape == df_fp9.drop_duplicates(subset = ['game_id']).shape"
   ]
  },
  {
   "cell_type": "code",
   "execution_count": 43,
   "metadata": {},
   "outputs": [
    {
     "data": {
      "text/plain": [
       "(1146, 11)"
      ]
     },
     "execution_count": 43,
     "metadata": {},
     "output_type": "execute_result"
    }
   ],
   "source": [
    "df_fp9.shape"
   ]
  },
  {
   "cell_type": "code",
   "execution_count": 44,
   "metadata": {},
   "outputs": [],
   "source": [
    "df_fp9.set_index('game_id', inplace = True)"
   ]
  },
  {
   "cell_type": "markdown",
   "metadata": {},
   "source": [
    "For an easier time determining which character each player used in the game, I will be using the [documentation](https://py-slippi.readthedocs.io/en/latest/source/slippi.html) to make sure they are appropriately mapped. Upon looking into the docs, I noticed that there are two enumeration objects regarding characters, `CSSCharacter` and `InGameCharacter`. These objects label all tournament legal chracters, but in different orders. For example, Mario has a value of 0 in the `InGameCharacter` object, but has a value of 8 in `CSSCharacter`. Since I know which characters are more frequently played in tournaments, I'll take the value counts of one character column and determine if the `CSSCharacter` was interpretted or `InGameCharacter`."
   ]
  },
  {
   "cell_type": "code",
   "execution_count": 45,
   "metadata": {},
   "outputs": [
    {
     "data": {
      "text/plain": [
       "9     266\n",
       "20    226\n",
       "2     209\n",
       "0     102\n",
       "15     61\n",
       "19     56\n",
       "12     36\n",
       "16     34\n",
       "14     32\n",
       "22     27\n",
       "1      26\n",
       "25     16\n",
       "6      14\n",
       "7      11\n",
       "3       5\n",
       "10      5\n",
       "17      4\n",
       "8       4\n",
       "13      3\n",
       "18      3\n",
       "5       2\n",
       "21      1\n",
       "11      1\n",
       "4       1\n",
       "23      1\n",
       "Name: p1_char, dtype: int64"
      ]
     },
     "execution_count": 45,
     "metadata": {},
     "output_type": "execute_result"
    }
   ],
   "source": [
    "df_fp9['p1_char'].value_counts()"
   ]
  },
  {
   "cell_type": "markdown",
   "metadata": {},
   "source": [
    "# MAKE THIS A TABLE\n",
    "Val. `Object`: Character\n",
    "\n",
    "    `Other Object`: Character\n",
    "    \n",
    "9. `CSSCharacter`: Marth\n",
    "\n",
    "    `InGameCharacter`: Peach\n",
    "    \n",
    "Since both characters are popular relative to the rest of the characters, I am not completely certain that a value of 9 represents Marth or Peach.\n",
    "\n",
    "20. `CSSCharacter`: Fox\n",
    "\n",
    "    `InGameCharacter`: Young Link\n",
    "\n",
    "If someone were to tell me the second most frequent character in ports 0, 1, or 2 are either Fox or Young Link, then I would am confident that the it was Fox. I am now inclined to say that the values represent the `CSSCharacter` object rather than the `InGameCharacter` object.\n",
    "\n",
    "2. `CSSCharacter`: Fox\n",
    "\n",
    "    `InGameCharacter`: Captain Falcon\n",
    "\n",
    "Both of these characters are popular, so I am again uncertain.\n",
    "\n",
    "0. `CSSCharacter`: Captain Falcon\n",
    "\n",
    "    `InGameCharacter`: Mario\n",
    "    \n",
    "This is a similar comparison to Fox and Young Link. Of Captain Falcon and Mario, Captain Falcon is the more popular character. Additionally, comparing Fox and Captain Falcon, it is expected that there are more Fox players than Captain Falcon players.\n",
    "\n",
    "With the above comparisons, I am very confident that the values are the `CSSCharacter` object."
   ]
  },
  {
   "cell_type": "code",
   "execution_count": 46,
   "metadata": {},
   "outputs": [],
   "source": [
    "csscharacter = {\n",
    "    0: 'Captain Falcon',\n",
    "    1: 'Donkey Kong',\n",
    "    2: 'Fox',\n",
    "    3: 'Game and Watch',\n",
    "    4: 'Kirby',\n",
    "    5: 'Bowser',\n",
    "    6: 'Link',\n",
    "    7: 'Luigi',\n",
    "    8: 'Mario',\n",
    "    9: 'Marth',\n",
    "    10: 'Mewtwo',\n",
    "    11: 'Ness',\n",
    "    12: 'Peach',\n",
    "    13: 'Pikachu',\n",
    "    14: 'Ice Climbers',\n",
    "    15: 'Jigglypuff',\n",
    "    16: 'Samus',\n",
    "    17: 'Yoshi',\n",
    "    18: 'Zelda',\n",
    "    19: 'Sheik',\n",
    "    20: 'Falco',\n",
    "    21: 'Young Link',\n",
    "    22: 'Dr. Mario',\n",
    "    23: 'Roy',\n",
    "    24: 'Pichu',\n",
    "    25: 'Ganondorf'\n",
    "}"
   ]
  },
  {
   "cell_type": "code",
   "execution_count": 47,
   "metadata": {},
   "outputs": [],
   "source": [
    "df_fp9['p1_char_name'] = df_fp9['p1_char'].map(csscharacter)\n",
    "df_fp9['p2_char_name'] = df_fp9['p2_char'].map(csscharacter)"
   ]
  },
  {
   "cell_type": "code",
   "execution_count": 48,
   "metadata": {},
   "outputs": [
    {
     "data": {
      "text/html": [
       "<div>\n",
       "<style scoped>\n",
       "    .dataframe tbody tr th:only-of-type {\n",
       "        vertical-align: middle;\n",
       "    }\n",
       "\n",
       "    .dataframe tbody tr th {\n",
       "        vertical-align: top;\n",
       "    }\n",
       "\n",
       "    .dataframe thead th {\n",
       "        text-align: right;\n",
       "    }\n",
       "</style>\n",
       "<table border=\"1\" class=\"dataframe\">\n",
       "  <thead>\n",
       "    <tr style=\"text-align: right;\">\n",
       "      <th></th>\n",
       "      <th>date</th>\n",
       "      <th>duration</th>\n",
       "      <th>platform</th>\n",
       "      <th>p1_port</th>\n",
       "      <th>p1_char</th>\n",
       "      <th>p2_port</th>\n",
       "      <th>p2_char</th>\n",
       "      <th>stage</th>\n",
       "      <th>is_teams</th>\n",
       "      <th>is_pal</th>\n",
       "      <th>p1_char_name</th>\n",
       "      <th>p2_char_name</th>\n",
       "    </tr>\n",
       "    <tr>\n",
       "      <th>game_id</th>\n",
       "      <th></th>\n",
       "      <th></th>\n",
       "      <th></th>\n",
       "      <th></th>\n",
       "      <th></th>\n",
       "      <th></th>\n",
       "      <th></th>\n",
       "      <th></th>\n",
       "      <th></th>\n",
       "      <th></th>\n",
       "      <th></th>\n",
       "      <th></th>\n",
       "    </tr>\n",
       "  </thead>\n",
       "  <tbody>\n",
       "    <tr>\n",
       "      <th>20190406T182021</th>\n",
       "      <td>2019-04-06 18:20:21+00:00</td>\n",
       "      <td>11653</td>\n",
       "      <td>Platform.NINTENDONT</td>\n",
       "      <td>0</td>\n",
       "      <td>14</td>\n",
       "      <td>3</td>\n",
       "      <td>9</td>\n",
       "      <td>32</td>\n",
       "      <td>False</td>\n",
       "      <td>False</td>\n",
       "      <td>Ice Climbers</td>\n",
       "      <td>Marth</td>\n",
       "    </tr>\n",
       "    <tr>\n",
       "      <th>20190406T054329</th>\n",
       "      <td>2019-04-06 05:43:29+00:00</td>\n",
       "      <td>1435</td>\n",
       "      <td>Platform.NINTENDONT</td>\n",
       "      <td>1</td>\n",
       "      <td>20</td>\n",
       "      <td>2</td>\n",
       "      <td>18</td>\n",
       "      <td>31</td>\n",
       "      <td>False</td>\n",
       "      <td>False</td>\n",
       "      <td>Falco</td>\n",
       "      <td>Zelda</td>\n",
       "    </tr>\n",
       "    <tr>\n",
       "      <th>20190406T113710</th>\n",
       "      <td>2019-04-06 11:37:10+00:00</td>\n",
       "      <td>7577</td>\n",
       "      <td>Platform.NINTENDONT</td>\n",
       "      <td>0</td>\n",
       "      <td>22</td>\n",
       "      <td>1</td>\n",
       "      <td>2</td>\n",
       "      <td>3</td>\n",
       "      <td>True</td>\n",
       "      <td>False</td>\n",
       "      <td>Dr. Mario</td>\n",
       "      <td>Fox</td>\n",
       "    </tr>\n",
       "    <tr>\n",
       "      <th>20190406T060932</th>\n",
       "      <td>2019-04-06 06:09:32+00:00</td>\n",
       "      <td>9589</td>\n",
       "      <td>Platform.NINTENDONT</td>\n",
       "      <td>0</td>\n",
       "      <td>20</td>\n",
       "      <td>3</td>\n",
       "      <td>7</td>\n",
       "      <td>28</td>\n",
       "      <td>False</td>\n",
       "      <td>False</td>\n",
       "      <td>Falco</td>\n",
       "      <td>Luigi</td>\n",
       "    </tr>\n",
       "    <tr>\n",
       "      <th>20190406T063208</th>\n",
       "      <td>2019-04-06 06:32:08+00:00</td>\n",
       "      <td>10043</td>\n",
       "      <td>Platform.NINTENDONT</td>\n",
       "      <td>0</td>\n",
       "      <td>14</td>\n",
       "      <td>3</td>\n",
       "      <td>9</td>\n",
       "      <td>8</td>\n",
       "      <td>False</td>\n",
       "      <td>False</td>\n",
       "      <td>Ice Climbers</td>\n",
       "      <td>Marth</td>\n",
       "    </tr>\n",
       "  </tbody>\n",
       "</table>\n",
       "</div>"
      ],
      "text/plain": [
       "                                     date  duration             platform  \\\n",
       "game_id                                                                    \n",
       "20190406T182021 2019-04-06 18:20:21+00:00     11653  Platform.NINTENDONT   \n",
       "20190406T054329 2019-04-06 05:43:29+00:00      1435  Platform.NINTENDONT   \n",
       "20190406T113710 2019-04-06 11:37:10+00:00      7577  Platform.NINTENDONT   \n",
       "20190406T060932 2019-04-06 06:09:32+00:00      9589  Platform.NINTENDONT   \n",
       "20190406T063208 2019-04-06 06:32:08+00:00     10043  Platform.NINTENDONT   \n",
       "\n",
       "                 p1_port  p1_char  p2_port  p2_char  stage  is_teams  is_pal  \\\n",
       "game_id                                                                        \n",
       "20190406T182021        0       14        3        9     32     False   False   \n",
       "20190406T054329        1       20        2       18     31     False   False   \n",
       "20190406T113710        0       22        1        2      3      True   False   \n",
       "20190406T060932        0       20        3        7     28     False   False   \n",
       "20190406T063208        0       14        3        9      8     False   False   \n",
       "\n",
       "                 p1_char_name p2_char_name  \n",
       "game_id                                     \n",
       "20190406T182021  Ice Climbers        Marth  \n",
       "20190406T054329         Falco        Zelda  \n",
       "20190406T113710     Dr. Mario          Fox  \n",
       "20190406T060932         Falco        Luigi  \n",
       "20190406T063208  Ice Climbers        Marth  "
      ]
     },
     "execution_count": 48,
     "metadata": {},
     "output_type": "execute_result"
    }
   ],
   "source": [
    "df_fp9.head()"
   ]
  },
  {
   "cell_type": "markdown",
   "metadata": {},
   "source": [
    "I know I want to analyze matches that have a Fox, just because that is a character I personally play and know there are a lot of matches."
   ]
  },
  {
   "cell_type": "code",
   "execution_count": 49,
   "metadata": {},
   "outputs": [
    {
     "name": "stdout",
     "output_type": "stream",
     "text": [
      "df_fp9.shape: (1146, 12)\n"
     ]
    },
    {
     "data": {
      "text/plain": [
       "(432, 12)"
      ]
     },
     "execution_count": 49,
     "metadata": {},
     "output_type": "execute_result"
    }
   ],
   "source": [
    "df_fox = df_fp9.loc[(df_fp9['p1_char_name'] == 'Fox') | (df_fp9['p2_char_name'] == 'Fox')]\n",
    "print('df_fp9.shape:', df_fp9.shape)\n",
    "df_fox.shape"
   ]
  },
  {
   "cell_type": "code",
   "execution_count": 50,
   "metadata": {},
   "outputs": [
    {
     "data": {
      "text/plain": [
       "11255218"
      ]
     },
     "execution_count": 50,
     "metadata": {},
     "output_type": "execute_result"
    }
   ],
   "source": [
    "sum(df_fp9['duration'])"
   ]
  },
  {
   "cell_type": "code",
   "execution_count": 51,
   "metadata": {},
   "outputs": [
    {
     "data": {
      "text/plain": [
       "3923167"
      ]
     },
     "execution_count": 51,
     "metadata": {},
     "output_type": "execute_result"
    }
   ],
   "source": [
    "sum(df_fox['duration'])"
   ]
  },
  {
   "cell_type": "markdown",
   "metadata": {},
   "source": [
    "I also want to drop all games that were not a 1 vs. 1 match. So, I do not want `is_teams` to be True."
   ]
  },
  {
   "cell_type": "code",
   "execution_count": 52,
   "metadata": {},
   "outputs": [
    {
     "data": {
      "text/plain": [
       "(432, 12)"
      ]
     },
     "execution_count": 52,
     "metadata": {},
     "output_type": "execute_result"
    }
   ],
   "source": [
    "df_fox.shape"
   ]
  },
  {
   "cell_type": "code",
   "execution_count": 53,
   "metadata": {},
   "outputs": [
    {
     "data": {
      "text/html": [
       "<div>\n",
       "<style scoped>\n",
       "    .dataframe tbody tr th:only-of-type {\n",
       "        vertical-align: middle;\n",
       "    }\n",
       "\n",
       "    .dataframe tbody tr th {\n",
       "        vertical-align: top;\n",
       "    }\n",
       "\n",
       "    .dataframe thead th {\n",
       "        text-align: right;\n",
       "    }\n",
       "</style>\n",
       "<table border=\"1\" class=\"dataframe\">\n",
       "  <thead>\n",
       "    <tr style=\"text-align: right;\">\n",
       "      <th></th>\n",
       "      <th>date</th>\n",
       "      <th>duration</th>\n",
       "      <th>platform</th>\n",
       "      <th>p1_port</th>\n",
       "      <th>p1_char</th>\n",
       "      <th>p2_port</th>\n",
       "      <th>p2_char</th>\n",
       "      <th>stage</th>\n",
       "      <th>is_teams</th>\n",
       "      <th>is_pal</th>\n",
       "      <th>p1_char_name</th>\n",
       "      <th>p2_char_name</th>\n",
       "    </tr>\n",
       "    <tr>\n",
       "      <th>game_id</th>\n",
       "      <th></th>\n",
       "      <th></th>\n",
       "      <th></th>\n",
       "      <th></th>\n",
       "      <th></th>\n",
       "      <th></th>\n",
       "      <th></th>\n",
       "      <th></th>\n",
       "      <th></th>\n",
       "      <th></th>\n",
       "      <th></th>\n",
       "      <th></th>\n",
       "    </tr>\n",
       "  </thead>\n",
       "  <tbody>\n",
       "    <tr>\n",
       "      <th>20190406T193851</th>\n",
       "      <td>2019-04-06 19:38:51+00:00</td>\n",
       "      <td>10627</td>\n",
       "      <td>Platform.NINTENDONT</td>\n",
       "      <td>0</td>\n",
       "      <td>2</td>\n",
       "      <td>3</td>\n",
       "      <td>2</td>\n",
       "      <td>3</td>\n",
       "      <td>False</td>\n",
       "      <td>False</td>\n",
       "      <td>Fox</td>\n",
       "      <td>Fox</td>\n",
       "    </tr>\n",
       "    <tr>\n",
       "      <th>20190406T165651</th>\n",
       "      <td>2019-04-06 16:56:51+00:00</td>\n",
       "      <td>9608</td>\n",
       "      <td>Platform.NINTENDONT</td>\n",
       "      <td>1</td>\n",
       "      <td>20</td>\n",
       "      <td>3</td>\n",
       "      <td>2</td>\n",
       "      <td>28</td>\n",
       "      <td>False</td>\n",
       "      <td>False</td>\n",
       "      <td>Falco</td>\n",
       "      <td>Fox</td>\n",
       "    </tr>\n",
       "    <tr>\n",
       "      <th>20190406T190633</th>\n",
       "      <td>2019-04-06 19:06:33+00:00</td>\n",
       "      <td>7016</td>\n",
       "      <td>Platform.NINTENDONT</td>\n",
       "      <td>0</td>\n",
       "      <td>20</td>\n",
       "      <td>3</td>\n",
       "      <td>2</td>\n",
       "      <td>8</td>\n",
       "      <td>False</td>\n",
       "      <td>False</td>\n",
       "      <td>Falco</td>\n",
       "      <td>Fox</td>\n",
       "    </tr>\n",
       "    <tr>\n",
       "      <th>20190406T104708</th>\n",
       "      <td>2019-04-06 10:47:08+00:00</td>\n",
       "      <td>12301</td>\n",
       "      <td>Platform.NINTENDONT</td>\n",
       "      <td>2</td>\n",
       "      <td>2</td>\n",
       "      <td>3</td>\n",
       "      <td>9</td>\n",
       "      <td>28</td>\n",
       "      <td>False</td>\n",
       "      <td>False</td>\n",
       "      <td>Fox</td>\n",
       "      <td>Marth</td>\n",
       "    </tr>\n",
       "    <tr>\n",
       "      <th>20190406T133629</th>\n",
       "      <td>2019-04-06 13:36:29+00:00</td>\n",
       "      <td>8593</td>\n",
       "      <td>Platform.NINTENDONT</td>\n",
       "      <td>0</td>\n",
       "      <td>2</td>\n",
       "      <td>1</td>\n",
       "      <td>2</td>\n",
       "      <td>28</td>\n",
       "      <td>False</td>\n",
       "      <td>False</td>\n",
       "      <td>Fox</td>\n",
       "      <td>Fox</td>\n",
       "    </tr>\n",
       "    <tr>\n",
       "      <th>...</th>\n",
       "      <td>...</td>\n",
       "      <td>...</td>\n",
       "      <td>...</td>\n",
       "      <td>...</td>\n",
       "      <td>...</td>\n",
       "      <td>...</td>\n",
       "      <td>...</td>\n",
       "      <td>...</td>\n",
       "      <td>...</td>\n",
       "      <td>...</td>\n",
       "      <td>...</td>\n",
       "      <td>...</td>\n",
       "    </tr>\n",
       "    <tr>\n",
       "      <th>20190406T132314</th>\n",
       "      <td>2019-04-06 13:23:14+00:00</td>\n",
       "      <td>9584</td>\n",
       "      <td>Platform.NINTENDONT</td>\n",
       "      <td>2</td>\n",
       "      <td>2</td>\n",
       "      <td>3</td>\n",
       "      <td>20</td>\n",
       "      <td>2</td>\n",
       "      <td>False</td>\n",
       "      <td>False</td>\n",
       "      <td>Fox</td>\n",
       "      <td>Falco</td>\n",
       "    </tr>\n",
       "    <tr>\n",
       "      <th>20190406T012007</th>\n",
       "      <td>2019-04-06 01:20:07+00:00</td>\n",
       "      <td>12929</td>\n",
       "      <td>Platform.NINTENDONT</td>\n",
       "      <td>0</td>\n",
       "      <td>2</td>\n",
       "      <td>3</td>\n",
       "      <td>9</td>\n",
       "      <td>32</td>\n",
       "      <td>False</td>\n",
       "      <td>False</td>\n",
       "      <td>Fox</td>\n",
       "      <td>Marth</td>\n",
       "    </tr>\n",
       "    <tr>\n",
       "      <th>20190406T123437</th>\n",
       "      <td>2019-04-06 12:34:37+00:00</td>\n",
       "      <td>7731</td>\n",
       "      <td>Platform.NINTENDONT</td>\n",
       "      <td>2</td>\n",
       "      <td>2</td>\n",
       "      <td>3</td>\n",
       "      <td>16</td>\n",
       "      <td>2</td>\n",
       "      <td>False</td>\n",
       "      <td>False</td>\n",
       "      <td>Fox</td>\n",
       "      <td>Samus</td>\n",
       "    </tr>\n",
       "    <tr>\n",
       "      <th>20190406T174037</th>\n",
       "      <td>2019-04-06 17:40:37+00:00</td>\n",
       "      <td>8641</td>\n",
       "      <td>Platform.NINTENDONT</td>\n",
       "      <td>0</td>\n",
       "      <td>15</td>\n",
       "      <td>3</td>\n",
       "      <td>2</td>\n",
       "      <td>8</td>\n",
       "      <td>False</td>\n",
       "      <td>False</td>\n",
       "      <td>Jigglypuff</td>\n",
       "      <td>Fox</td>\n",
       "    </tr>\n",
       "    <tr>\n",
       "      <th>20190406T174751</th>\n",
       "      <td>2019-04-06 17:47:51+00:00</td>\n",
       "      <td>8191</td>\n",
       "      <td>Platform.NINTENDONT</td>\n",
       "      <td>0</td>\n",
       "      <td>2</td>\n",
       "      <td>3</td>\n",
       "      <td>19</td>\n",
       "      <td>28</td>\n",
       "      <td>False</td>\n",
       "      <td>False</td>\n",
       "      <td>Fox</td>\n",
       "      <td>Sheik</td>\n",
       "    </tr>\n",
       "  </tbody>\n",
       "</table>\n",
       "<p>404 rows × 12 columns</p>\n",
       "</div>"
      ],
      "text/plain": [
       "                                     date  duration             platform  \\\n",
       "game_id                                                                    \n",
       "20190406T193851 2019-04-06 19:38:51+00:00     10627  Platform.NINTENDONT   \n",
       "20190406T165651 2019-04-06 16:56:51+00:00      9608  Platform.NINTENDONT   \n",
       "20190406T190633 2019-04-06 19:06:33+00:00      7016  Platform.NINTENDONT   \n",
       "20190406T104708 2019-04-06 10:47:08+00:00     12301  Platform.NINTENDONT   \n",
       "20190406T133629 2019-04-06 13:36:29+00:00      8593  Platform.NINTENDONT   \n",
       "...                                   ...       ...                  ...   \n",
       "20190406T132314 2019-04-06 13:23:14+00:00      9584  Platform.NINTENDONT   \n",
       "20190406T012007 2019-04-06 01:20:07+00:00     12929  Platform.NINTENDONT   \n",
       "20190406T123437 2019-04-06 12:34:37+00:00      7731  Platform.NINTENDONT   \n",
       "20190406T174037 2019-04-06 17:40:37+00:00      8641  Platform.NINTENDONT   \n",
       "20190406T174751 2019-04-06 17:47:51+00:00      8191  Platform.NINTENDONT   \n",
       "\n",
       "                 p1_port  p1_char  p2_port  p2_char  stage  is_teams  is_pal  \\\n",
       "game_id                                                                        \n",
       "20190406T193851        0        2        3        2      3     False   False   \n",
       "20190406T165651        1       20        3        2     28     False   False   \n",
       "20190406T190633        0       20        3        2      8     False   False   \n",
       "20190406T104708        2        2        3        9     28     False   False   \n",
       "20190406T133629        0        2        1        2     28     False   False   \n",
       "...                  ...      ...      ...      ...    ...       ...     ...   \n",
       "20190406T132314        2        2        3       20      2     False   False   \n",
       "20190406T012007        0        2        3        9     32     False   False   \n",
       "20190406T123437        2        2        3       16      2     False   False   \n",
       "20190406T174037        0       15        3        2      8     False   False   \n",
       "20190406T174751        0        2        3       19     28     False   False   \n",
       "\n",
       "                p1_char_name p2_char_name  \n",
       "game_id                                    \n",
       "20190406T193851          Fox          Fox  \n",
       "20190406T165651        Falco          Fox  \n",
       "20190406T190633        Falco          Fox  \n",
       "20190406T104708          Fox        Marth  \n",
       "20190406T133629          Fox          Fox  \n",
       "...                      ...          ...  \n",
       "20190406T132314          Fox        Falco  \n",
       "20190406T012007          Fox        Marth  \n",
       "20190406T123437          Fox        Samus  \n",
       "20190406T174037   Jigglypuff          Fox  \n",
       "20190406T174751          Fox        Sheik  \n",
       "\n",
       "[404 rows x 12 columns]"
      ]
     },
     "execution_count": 53,
     "metadata": {},
     "output_type": "execute_result"
    }
   ],
   "source": [
    "df_fox = df_fox.loc[df_fox['is_teams'] == False]\n",
    "df_fox"
   ]
  },
  {
   "cell_type": "code",
   "execution_count": 54,
   "metadata": {},
   "outputs": [
    {
     "data": {
      "text/plain": [
       "3626337"
      ]
     },
     "execution_count": 54,
     "metadata": {},
     "output_type": "execute_result"
    }
   ],
   "source": [
    "sum(df_fox['duration'])"
   ]
  },
  {
   "cell_type": "code",
   "execution_count": 55,
   "metadata": {},
   "outputs": [
    {
     "data": {
      "text/plain": [
       "28    80\n",
       "32    75\n",
       "31    73\n",
       "8     72\n",
       "2     61\n",
       "3     42\n",
       "14     1\n",
       "Name: stage, dtype: int64"
      ]
     },
     "execution_count": 55,
     "metadata": {},
     "output_type": "execute_result"
    }
   ],
   "source": [
    "df_fox['stage'].value_counts()"
   ]
  },
  {
   "cell_type": "code",
   "execution_count": 56,
   "metadata": {},
   "outputs": [],
   "source": [
    "stages = {\n",
    "    2: 'Fountain of Dreams',\n",
    "    3: 'Pokemon Stadium',\n",
    "    4: \"Princess Peach's Castle\",\n",
    "    5: 'Kongo Jungle',\n",
    "    6: 'Brinstar',\n",
    "    7: 'Corneria',\n",
    "    8: \"Yoshi's Story\",\n",
    "    9: 'Onett',\n",
    "    10: 'Mute City',\n",
    "    11: 'Rainbow Cruise',\n",
    "    12: 'Jungle Japes',\n",
    "    13: 'Great Bay',\n",
    "    14: 'Hyrule Temple',\n",
    "    15: 'Brinstar Depths',\n",
    "    16: \"Yoshi's Island\",\n",
    "    17: 'Green Greens',\n",
    "    18: 'Fourside',\n",
    "    19: 'Mushroom Kingdom I',\n",
    "    20: 'Mushroom Kingdom II',\n",
    "    22: 'Venom',\n",
    "    23: 'Poke Floats',\n",
    "    24: 'Big Blue',\n",
    "    25: 'Icicle Mountain',\n",
    "    26: 'Icetop',\n",
    "    27: 'Flat Zone',\n",
    "    28: 'Dream Land 64',\n",
    "    29: \"Yoshi's Island 64\",\n",
    "    30: 'Kongo Jungle 64',\n",
    "    31: 'Battlefield',\n",
    "    32: 'Final Destination'\n",
    "}"
   ]
  },
  {
   "cell_type": "code",
   "execution_count": 57,
   "metadata": {},
   "outputs": [
    {
     "data": {
      "text/html": [
       "<div>\n",
       "<style scoped>\n",
       "    .dataframe tbody tr th:only-of-type {\n",
       "        vertical-align: middle;\n",
       "    }\n",
       "\n",
       "    .dataframe tbody tr th {\n",
       "        vertical-align: top;\n",
       "    }\n",
       "\n",
       "    .dataframe thead th {\n",
       "        text-align: right;\n",
       "    }\n",
       "</style>\n",
       "<table border=\"1\" class=\"dataframe\">\n",
       "  <thead>\n",
       "    <tr style=\"text-align: right;\">\n",
       "      <th></th>\n",
       "      <th>date</th>\n",
       "      <th>duration</th>\n",
       "      <th>platform</th>\n",
       "      <th>p1_port</th>\n",
       "      <th>p1_char</th>\n",
       "      <th>p2_port</th>\n",
       "      <th>p2_char</th>\n",
       "      <th>stage</th>\n",
       "      <th>is_teams</th>\n",
       "      <th>is_pal</th>\n",
       "      <th>p1_char_name</th>\n",
       "      <th>p2_char_name</th>\n",
       "      <th>stage_name</th>\n",
       "    </tr>\n",
       "    <tr>\n",
       "      <th>game_id</th>\n",
       "      <th></th>\n",
       "      <th></th>\n",
       "      <th></th>\n",
       "      <th></th>\n",
       "      <th></th>\n",
       "      <th></th>\n",
       "      <th></th>\n",
       "      <th></th>\n",
       "      <th></th>\n",
       "      <th></th>\n",
       "      <th></th>\n",
       "      <th></th>\n",
       "      <th></th>\n",
       "    </tr>\n",
       "  </thead>\n",
       "  <tbody>\n",
       "    <tr>\n",
       "      <th>20190406T193851</th>\n",
       "      <td>2019-04-06 19:38:51+00:00</td>\n",
       "      <td>10627</td>\n",
       "      <td>Platform.NINTENDONT</td>\n",
       "      <td>0</td>\n",
       "      <td>2</td>\n",
       "      <td>3</td>\n",
       "      <td>2</td>\n",
       "      <td>3</td>\n",
       "      <td>False</td>\n",
       "      <td>False</td>\n",
       "      <td>Fox</td>\n",
       "      <td>Fox</td>\n",
       "      <td>Pokemon Stadium</td>\n",
       "    </tr>\n",
       "    <tr>\n",
       "      <th>20190406T165651</th>\n",
       "      <td>2019-04-06 16:56:51+00:00</td>\n",
       "      <td>9608</td>\n",
       "      <td>Platform.NINTENDONT</td>\n",
       "      <td>1</td>\n",
       "      <td>20</td>\n",
       "      <td>3</td>\n",
       "      <td>2</td>\n",
       "      <td>28</td>\n",
       "      <td>False</td>\n",
       "      <td>False</td>\n",
       "      <td>Falco</td>\n",
       "      <td>Fox</td>\n",
       "      <td>Dream Land 64</td>\n",
       "    </tr>\n",
       "    <tr>\n",
       "      <th>20190406T190633</th>\n",
       "      <td>2019-04-06 19:06:33+00:00</td>\n",
       "      <td>7016</td>\n",
       "      <td>Platform.NINTENDONT</td>\n",
       "      <td>0</td>\n",
       "      <td>20</td>\n",
       "      <td>3</td>\n",
       "      <td>2</td>\n",
       "      <td>8</td>\n",
       "      <td>False</td>\n",
       "      <td>False</td>\n",
       "      <td>Falco</td>\n",
       "      <td>Fox</td>\n",
       "      <td>Yoshi's Story</td>\n",
       "    </tr>\n",
       "    <tr>\n",
       "      <th>20190406T104708</th>\n",
       "      <td>2019-04-06 10:47:08+00:00</td>\n",
       "      <td>12301</td>\n",
       "      <td>Platform.NINTENDONT</td>\n",
       "      <td>2</td>\n",
       "      <td>2</td>\n",
       "      <td>3</td>\n",
       "      <td>9</td>\n",
       "      <td>28</td>\n",
       "      <td>False</td>\n",
       "      <td>False</td>\n",
       "      <td>Fox</td>\n",
       "      <td>Marth</td>\n",
       "      <td>Dream Land 64</td>\n",
       "    </tr>\n",
       "    <tr>\n",
       "      <th>20190406T133629</th>\n",
       "      <td>2019-04-06 13:36:29+00:00</td>\n",
       "      <td>8593</td>\n",
       "      <td>Platform.NINTENDONT</td>\n",
       "      <td>0</td>\n",
       "      <td>2</td>\n",
       "      <td>1</td>\n",
       "      <td>2</td>\n",
       "      <td>28</td>\n",
       "      <td>False</td>\n",
       "      <td>False</td>\n",
       "      <td>Fox</td>\n",
       "      <td>Fox</td>\n",
       "      <td>Dream Land 64</td>\n",
       "    </tr>\n",
       "    <tr>\n",
       "      <th>...</th>\n",
       "      <td>...</td>\n",
       "      <td>...</td>\n",
       "      <td>...</td>\n",
       "      <td>...</td>\n",
       "      <td>...</td>\n",
       "      <td>...</td>\n",
       "      <td>...</td>\n",
       "      <td>...</td>\n",
       "      <td>...</td>\n",
       "      <td>...</td>\n",
       "      <td>...</td>\n",
       "      <td>...</td>\n",
       "      <td>...</td>\n",
       "    </tr>\n",
       "    <tr>\n",
       "      <th>20190406T132314</th>\n",
       "      <td>2019-04-06 13:23:14+00:00</td>\n",
       "      <td>9584</td>\n",
       "      <td>Platform.NINTENDONT</td>\n",
       "      <td>2</td>\n",
       "      <td>2</td>\n",
       "      <td>3</td>\n",
       "      <td>20</td>\n",
       "      <td>2</td>\n",
       "      <td>False</td>\n",
       "      <td>False</td>\n",
       "      <td>Fox</td>\n",
       "      <td>Falco</td>\n",
       "      <td>Fountain of Dreams</td>\n",
       "    </tr>\n",
       "    <tr>\n",
       "      <th>20190406T012007</th>\n",
       "      <td>2019-04-06 01:20:07+00:00</td>\n",
       "      <td>12929</td>\n",
       "      <td>Platform.NINTENDONT</td>\n",
       "      <td>0</td>\n",
       "      <td>2</td>\n",
       "      <td>3</td>\n",
       "      <td>9</td>\n",
       "      <td>32</td>\n",
       "      <td>False</td>\n",
       "      <td>False</td>\n",
       "      <td>Fox</td>\n",
       "      <td>Marth</td>\n",
       "      <td>Final Destination</td>\n",
       "    </tr>\n",
       "    <tr>\n",
       "      <th>20190406T123437</th>\n",
       "      <td>2019-04-06 12:34:37+00:00</td>\n",
       "      <td>7731</td>\n",
       "      <td>Platform.NINTENDONT</td>\n",
       "      <td>2</td>\n",
       "      <td>2</td>\n",
       "      <td>3</td>\n",
       "      <td>16</td>\n",
       "      <td>2</td>\n",
       "      <td>False</td>\n",
       "      <td>False</td>\n",
       "      <td>Fox</td>\n",
       "      <td>Samus</td>\n",
       "      <td>Fountain of Dreams</td>\n",
       "    </tr>\n",
       "    <tr>\n",
       "      <th>20190406T174037</th>\n",
       "      <td>2019-04-06 17:40:37+00:00</td>\n",
       "      <td>8641</td>\n",
       "      <td>Platform.NINTENDONT</td>\n",
       "      <td>0</td>\n",
       "      <td>15</td>\n",
       "      <td>3</td>\n",
       "      <td>2</td>\n",
       "      <td>8</td>\n",
       "      <td>False</td>\n",
       "      <td>False</td>\n",
       "      <td>Jigglypuff</td>\n",
       "      <td>Fox</td>\n",
       "      <td>Yoshi's Story</td>\n",
       "    </tr>\n",
       "    <tr>\n",
       "      <th>20190406T174751</th>\n",
       "      <td>2019-04-06 17:47:51+00:00</td>\n",
       "      <td>8191</td>\n",
       "      <td>Platform.NINTENDONT</td>\n",
       "      <td>0</td>\n",
       "      <td>2</td>\n",
       "      <td>3</td>\n",
       "      <td>19</td>\n",
       "      <td>28</td>\n",
       "      <td>False</td>\n",
       "      <td>False</td>\n",
       "      <td>Fox</td>\n",
       "      <td>Sheik</td>\n",
       "      <td>Dream Land 64</td>\n",
       "    </tr>\n",
       "  </tbody>\n",
       "</table>\n",
       "<p>404 rows × 13 columns</p>\n",
       "</div>"
      ],
      "text/plain": [
       "                                     date  duration             platform  \\\n",
       "game_id                                                                    \n",
       "20190406T193851 2019-04-06 19:38:51+00:00     10627  Platform.NINTENDONT   \n",
       "20190406T165651 2019-04-06 16:56:51+00:00      9608  Platform.NINTENDONT   \n",
       "20190406T190633 2019-04-06 19:06:33+00:00      7016  Platform.NINTENDONT   \n",
       "20190406T104708 2019-04-06 10:47:08+00:00     12301  Platform.NINTENDONT   \n",
       "20190406T133629 2019-04-06 13:36:29+00:00      8593  Platform.NINTENDONT   \n",
       "...                                   ...       ...                  ...   \n",
       "20190406T132314 2019-04-06 13:23:14+00:00      9584  Platform.NINTENDONT   \n",
       "20190406T012007 2019-04-06 01:20:07+00:00     12929  Platform.NINTENDONT   \n",
       "20190406T123437 2019-04-06 12:34:37+00:00      7731  Platform.NINTENDONT   \n",
       "20190406T174037 2019-04-06 17:40:37+00:00      8641  Platform.NINTENDONT   \n",
       "20190406T174751 2019-04-06 17:47:51+00:00      8191  Platform.NINTENDONT   \n",
       "\n",
       "                 p1_port  p1_char  p2_port  p2_char  stage  is_teams  is_pal  \\\n",
       "game_id                                                                        \n",
       "20190406T193851        0        2        3        2      3     False   False   \n",
       "20190406T165651        1       20        3        2     28     False   False   \n",
       "20190406T190633        0       20        3        2      8     False   False   \n",
       "20190406T104708        2        2        3        9     28     False   False   \n",
       "20190406T133629        0        2        1        2     28     False   False   \n",
       "...                  ...      ...      ...      ...    ...       ...     ...   \n",
       "20190406T132314        2        2        3       20      2     False   False   \n",
       "20190406T012007        0        2        3        9     32     False   False   \n",
       "20190406T123437        2        2        3       16      2     False   False   \n",
       "20190406T174037        0       15        3        2      8     False   False   \n",
       "20190406T174751        0        2        3       19     28     False   False   \n",
       "\n",
       "                p1_char_name p2_char_name          stage_name  \n",
       "game_id                                                        \n",
       "20190406T193851          Fox          Fox     Pokemon Stadium  \n",
       "20190406T165651        Falco          Fox       Dream Land 64  \n",
       "20190406T190633        Falco          Fox       Yoshi's Story  \n",
       "20190406T104708          Fox        Marth       Dream Land 64  \n",
       "20190406T133629          Fox          Fox       Dream Land 64  \n",
       "...                      ...          ...                 ...  \n",
       "20190406T132314          Fox        Falco  Fountain of Dreams  \n",
       "20190406T012007          Fox        Marth   Final Destination  \n",
       "20190406T123437          Fox        Samus  Fountain of Dreams  \n",
       "20190406T174037   Jigglypuff          Fox       Yoshi's Story  \n",
       "20190406T174751          Fox        Sheik       Dream Land 64  \n",
       "\n",
       "[404 rows x 13 columns]"
      ]
     },
     "execution_count": 57,
     "metadata": {},
     "output_type": "execute_result"
    }
   ],
   "source": [
    "df_fox['stage_name'] = df_fox['stage'].map(stages)\n",
    "df_fox"
   ]
  },
  {
   "cell_type": "code",
   "execution_count": 58,
   "metadata": {},
   "outputs": [
    {
     "data": {
      "text/plain": [
       "Dream Land 64         80\n",
       "Final Destination     75\n",
       "Battlefield           73\n",
       "Yoshi's Story         72\n",
       "Fountain of Dreams    61\n",
       "Pokemon Stadium       42\n",
       "Hyrule Temple          1\n",
       "Name: stage_name, dtype: int64"
      ]
     },
     "execution_count": 58,
     "metadata": {},
     "output_type": "execute_result"
    }
   ],
   "source": [
    "df_fox['stage_name'].value_counts()"
   ]
  },
  {
   "cell_type": "code",
   "execution_count": 59,
   "metadata": {},
   "outputs": [
    {
     "data": {
      "text/plain": [
       "[('Battlefield', 589991),\n",
       " ('Fountain of Dreams', 512964),\n",
       " ('Dream Land 64', 760645),\n",
       " ('Pokemon Stadium', 415010),\n",
       " ('Hyrule Temple', 20639),\n",
       " ('Final Destination', 700649),\n",
       " (\"Yoshi's Story\", 626439)]"
      ]
     },
     "execution_count": 59,
     "metadata": {},
     "output_type": "execute_result"
    }
   ],
   "source": [
    "# create a list of tuples where the first item is the stage name\n",
    "# and the second item is the total number of frames played on that stage\n",
    "# with at least one Fox\n",
    "stage_frame_total = [(stage, sum(df_fox.loc[(df_fox['stage_name'] == stage), 'duration'])) for stage in set(df_fox['stage_name'].values)]\n",
    "stage_frame_total"
   ]
  },
  {
   "cell_type": "code",
   "execution_count": 60,
   "metadata": {},
   "outputs": [
    {
     "data": {
      "text/plain": [
       "[('Hyrule Temple', 20639),\n",
       " ('Pokemon Stadium', 415010),\n",
       " ('Fountain of Dreams', 512964),\n",
       " ('Battlefield', 589991),\n",
       " (\"Yoshi's Story\", 626439),\n",
       " ('Final Destination', 700649),\n",
       " ('Dream Land 64', 760645)]"
      ]
     },
     "execution_count": 60,
     "metadata": {},
     "output_type": "execute_result"
    }
   ],
   "source": [
    "sorted(stage_frame_total, key = lambda val: val[1])"
   ]
  },
  {
   "cell_type": "markdown",
   "metadata": {},
   "source": [
    "Although there are more games played on Dream Land than any other stage, I will only be using games played on Final Destination. Between Dream Land, Final Destination has a frame difference of about 60,000 frames or 10,000 seconds or "
   ]
  },
  {
   "cell_type": "code",
   "execution_count": 61,
   "metadata": {},
   "outputs": [
    {
     "name": "stdout",
     "output_type": "stream",
     "text": [
      "Battlefield :  589991\n",
      "Fountain of Dreams :  512964\n",
      "Dream Land 64 :  760645\n",
      "Pokemon Stadium :  415010\n",
      "Hyrule Temple :  20639\n",
      "Final Destination :  700649\n",
      "Yoshi's Story :  626439\n"
     ]
    }
   ],
   "source": [
    "for stage in set(df_fox['stage_name'].values):\n",
    "    print(stage, ': ', sum(df_fox.loc[(df_fox['stage_name'] == stage), 'duration']))"
   ]
  },
  {
   "cell_type": "markdown",
   "metadata": {},
   "source": [
    "Now I want to get a frequency of each matchup. For example, how many matches did a Fox player fight another Fox player? How many matches did a Fox player fight a Captain Falcon?"
   ]
  },
  {
   "cell_type": "code",
   "execution_count": 62,
   "metadata": {},
   "outputs": [
    {
     "data": {
      "text/plain": [
       "Falco             64\n",
       "Marth             64\n",
       "Peach             19\n",
       "Jigglypuff        12\n",
       "Sheik             12\n",
       "Captain Falcon    10\n",
       "Ganondorf          6\n",
       "Dr. Mario          5\n",
       "Donkey Kong        4\n",
       "Samus              3\n",
       "Luigi              2\n",
       "Ice Climbers       1\n",
       "Name: p1_char_name, dtype: int64"
      ]
     },
     "execution_count": 62,
     "metadata": {},
     "output_type": "execute_result"
    }
   ],
   "source": [
    "p1_nofox_counts = df_fox.loc[df_fox['p1_char_name'] != 'Fox', 'p1_char_name'].value_counts()\n",
    "p2_nofox_counts = df_fox.loc[df_fox['p2_char_name'] != 'Fox', 'p2_char_name'].value_counts()\n",
    "p1_nofox_counts"
   ]
  },
  {
   "cell_type": "code",
   "execution_count": 63,
   "metadata": {},
   "outputs": [
    {
     "data": {
      "text/plain": [
       "Marth             42\n",
       "Falco             26\n",
       "Peach             15\n",
       "Sheik             15\n",
       "Captain Falcon    12\n",
       "Jigglypuff        10\n",
       "Ice Climbers       9\n",
       "Luigi              5\n",
       "Roy                4\n",
       "Ganondorf          3\n",
       "Samus              3\n",
       "Pikachu            3\n",
       "Zelda              2\n",
       "Ness               1\n",
       "Donkey Kong        1\n",
       "Name: p2_char_name, dtype: int64"
      ]
     },
     "execution_count": 63,
     "metadata": {},
     "output_type": "execute_result"
    }
   ],
   "source": [
    "p2_nofox_counts"
   ]
  },
  {
   "cell_type": "code",
   "execution_count": 65,
   "metadata": {},
   "outputs": [
    {
     "data": {
      "text/plain": [
       "Marth             42\n",
       "Falco             26\n",
       "Peach             15\n",
       "Sheik             15\n",
       "Captain Falcon    12\n",
       "Jigglypuff        10\n",
       "Ice Climbers       9\n",
       "Luigi              5\n",
       "Roy                4\n",
       "Ganondorf          3\n",
       "Samus              3\n",
       "Pikachu            3\n",
       "Zelda              2\n",
       "Ness               1\n",
       "Donkey Kong        1\n",
       "Falco             64\n",
       "Marth             64\n",
       "Peach             19\n",
       "Jigglypuff        12\n",
       "Sheik             12\n",
       "Captain Falcon    10\n",
       "Ganondorf          6\n",
       "Dr. Mario          5\n",
       "Donkey Kong        4\n",
       "Samus              3\n",
       "Luigi              2\n",
       "Ice Climbers       1\n",
       "dtype: int64"
      ]
     },
     "execution_count": 65,
     "metadata": {},
     "output_type": "execute_result"
    }
   ],
   "source": [
    "not_foxes = p2_nofox_counts.append(p1_nofox_counts)\n",
    "not_foxes"
   ]
  },
  {
   "cell_type": "code",
   "execution_count": 66,
   "metadata": {},
   "outputs": [
    {
     "data": {
      "text/plain": [
       "Marth             106\n",
       "Falco              90\n",
       "Peach              34\n",
       "Sheik              27\n",
       "Jigglypuff         22\n",
       "Captain Falcon     22\n",
       "Ice Climbers       10\n",
       "Ganondorf           9\n",
       "Luigi               7\n",
       "Samus               6\n",
       "Dr. Mario           5\n",
       "Donkey Kong         5\n",
       "Roy                 4\n",
       "Pikachu             3\n",
       "Zelda               2\n",
       "Ness                1\n",
       "dtype: int64"
      ]
     },
     "execution_count": 66,
     "metadata": {},
     "output_type": "execute_result"
    }
   ],
   "source": [
    "not_foxes.groupby(not_foxes.index).sum().sort_values(ascending = False)"
   ]
  },
  {
   "cell_type": "markdown",
   "metadata": {},
   "source": [
    "Marth and Falco both have a lot of games against Fox. This makes sense because they both have strong options to defeat Fox. Let's drop all rows that do not have Fox, Falco, or Marth. Then consider how many frames exist a game is played on Final Destination with Fox vs. Marth or Fox vs. Falco."
   ]
  },
  {
   "cell_type": "code",
   "execution_count": 67,
   "metadata": {},
   "outputs": [],
   "source": [
    "mask_fd = (df_fox['stage_name'] == 'Final Destination')\n",
    "mask_marth = (df_fox['p1_char_name'] == 'Marth') | (df_fox['p2_char_name'] == 'Marth')\n",
    "mask_falco = (df_fox['p1_char_name'] == 'Falco') | (df_fox['p2_char_name'] == 'Falco')"
   ]
  },
  {
   "cell_type": "code",
   "execution_count": 68,
   "metadata": {},
   "outputs": [
    {
     "data": {
      "text/html": [
       "<div>\n",
       "<style scoped>\n",
       "    .dataframe tbody tr th:only-of-type {\n",
       "        vertical-align: middle;\n",
       "    }\n",
       "\n",
       "    .dataframe tbody tr th {\n",
       "        vertical-align: top;\n",
       "    }\n",
       "\n",
       "    .dataframe thead th {\n",
       "        text-align: right;\n",
       "    }\n",
       "</style>\n",
       "<table border=\"1\" class=\"dataframe\">\n",
       "  <thead>\n",
       "    <tr style=\"text-align: right;\">\n",
       "      <th></th>\n",
       "      <th>date</th>\n",
       "      <th>duration</th>\n",
       "      <th>platform</th>\n",
       "      <th>p1_port</th>\n",
       "      <th>p1_char</th>\n",
       "      <th>p2_port</th>\n",
       "      <th>p2_char</th>\n",
       "      <th>stage</th>\n",
       "      <th>is_teams</th>\n",
       "      <th>is_pal</th>\n",
       "      <th>p1_char_name</th>\n",
       "      <th>p2_char_name</th>\n",
       "      <th>stage_name</th>\n",
       "    </tr>\n",
       "    <tr>\n",
       "      <th>game_id</th>\n",
       "      <th></th>\n",
       "      <th></th>\n",
       "      <th></th>\n",
       "      <th></th>\n",
       "      <th></th>\n",
       "      <th></th>\n",
       "      <th></th>\n",
       "      <th></th>\n",
       "      <th></th>\n",
       "      <th></th>\n",
       "      <th></th>\n",
       "      <th></th>\n",
       "      <th></th>\n",
       "    </tr>\n",
       "  </thead>\n",
       "  <tbody>\n",
       "    <tr>\n",
       "      <th>20190406T144505</th>\n",
       "      <td>2019-04-06 14:45:05+00:00</td>\n",
       "      <td>8449</td>\n",
       "      <td>Platform.NINTENDONT</td>\n",
       "      <td>2</td>\n",
       "      <td>20</td>\n",
       "      <td>3</td>\n",
       "      <td>2</td>\n",
       "      <td>32</td>\n",
       "      <td>False</td>\n",
       "      <td>False</td>\n",
       "      <td>Falco</td>\n",
       "      <td>Fox</td>\n",
       "      <td>Final Destination</td>\n",
       "    </tr>\n",
       "    <tr>\n",
       "      <th>20190406T190420</th>\n",
       "      <td>2019-04-06 19:04:20+00:00</td>\n",
       "      <td>7437</td>\n",
       "      <td>Platform.NINTENDONT</td>\n",
       "      <td>0</td>\n",
       "      <td>20</td>\n",
       "      <td>3</td>\n",
       "      <td>2</td>\n",
       "      <td>32</td>\n",
       "      <td>False</td>\n",
       "      <td>False</td>\n",
       "      <td>Falco</td>\n",
       "      <td>Fox</td>\n",
       "      <td>Final Destination</td>\n",
       "    </tr>\n",
       "    <tr>\n",
       "      <th>20190406T190322</th>\n",
       "      <td>2019-04-06 19:03:22+00:00</td>\n",
       "      <td>8206</td>\n",
       "      <td>Platform.NINTENDONT</td>\n",
       "      <td>1</td>\n",
       "      <td>20</td>\n",
       "      <td>3</td>\n",
       "      <td>2</td>\n",
       "      <td>32</td>\n",
       "      <td>False</td>\n",
       "      <td>False</td>\n",
       "      <td>Falco</td>\n",
       "      <td>Fox</td>\n",
       "      <td>Final Destination</td>\n",
       "    </tr>\n",
       "    <tr>\n",
       "      <th>20190309T012347</th>\n",
       "      <td>2019-03-09 01:23:47+00:00</td>\n",
       "      <td>5429</td>\n",
       "      <td>Platform.NINTENDONT</td>\n",
       "      <td>0</td>\n",
       "      <td>2</td>\n",
       "      <td>3</td>\n",
       "      <td>20</td>\n",
       "      <td>32</td>\n",
       "      <td>False</td>\n",
       "      <td>False</td>\n",
       "      <td>Fox</td>\n",
       "      <td>Falco</td>\n",
       "      <td>Final Destination</td>\n",
       "    </tr>\n",
       "    <tr>\n",
       "      <th>20190406T114015</th>\n",
       "      <td>2019-04-06 11:40:15+00:00</td>\n",
       "      <td>9572</td>\n",
       "      <td>Platform.NINTENDONT</td>\n",
       "      <td>0</td>\n",
       "      <td>20</td>\n",
       "      <td>2</td>\n",
       "      <td>2</td>\n",
       "      <td>32</td>\n",
       "      <td>False</td>\n",
       "      <td>False</td>\n",
       "      <td>Falco</td>\n",
       "      <td>Fox</td>\n",
       "      <td>Final Destination</td>\n",
       "    </tr>\n",
       "  </tbody>\n",
       "</table>\n",
       "</div>"
      ],
      "text/plain": [
       "                                     date  duration             platform  \\\n",
       "game_id                                                                    \n",
       "20190406T144505 2019-04-06 14:45:05+00:00      8449  Platform.NINTENDONT   \n",
       "20190406T190420 2019-04-06 19:04:20+00:00      7437  Platform.NINTENDONT   \n",
       "20190406T190322 2019-04-06 19:03:22+00:00      8206  Platform.NINTENDONT   \n",
       "20190309T012347 2019-03-09 01:23:47+00:00      5429  Platform.NINTENDONT   \n",
       "20190406T114015 2019-04-06 11:40:15+00:00      9572  Platform.NINTENDONT   \n",
       "\n",
       "                 p1_port  p1_char  p2_port  p2_char  stage  is_teams  is_pal  \\\n",
       "game_id                                                                        \n",
       "20190406T144505        2       20        3        2     32     False   False   \n",
       "20190406T190420        0       20        3        2     32     False   False   \n",
       "20190406T190322        1       20        3        2     32     False   False   \n",
       "20190309T012347        0        2        3       20     32     False   False   \n",
       "20190406T114015        0       20        2        2     32     False   False   \n",
       "\n",
       "                p1_char_name p2_char_name         stage_name  \n",
       "game_id                                                       \n",
       "20190406T144505        Falco          Fox  Final Destination  \n",
       "20190406T190420        Falco          Fox  Final Destination  \n",
       "20190406T190322        Falco          Fox  Final Destination  \n",
       "20190309T012347          Fox        Falco  Final Destination  \n",
       "20190406T114015        Falco          Fox  Final Destination  "
      ]
     },
     "execution_count": 68,
     "metadata": {},
     "output_type": "execute_result"
    }
   ],
   "source": [
    "df_falco_fd = df_fox.loc[mask_falco & mask_fd]\n",
    "df_falco_fd.head()"
   ]
  },
  {
   "cell_type": "code",
   "execution_count": 69,
   "metadata": {},
   "outputs": [
    {
     "data": {
      "text/html": [
       "<div>\n",
       "<style scoped>\n",
       "    .dataframe tbody tr th:only-of-type {\n",
       "        vertical-align: middle;\n",
       "    }\n",
       "\n",
       "    .dataframe tbody tr th {\n",
       "        vertical-align: top;\n",
       "    }\n",
       "\n",
       "    .dataframe thead th {\n",
       "        text-align: right;\n",
       "    }\n",
       "</style>\n",
       "<table border=\"1\" class=\"dataframe\">\n",
       "  <thead>\n",
       "    <tr style=\"text-align: right;\">\n",
       "      <th></th>\n",
       "      <th>date</th>\n",
       "      <th>duration</th>\n",
       "      <th>platform</th>\n",
       "      <th>p1_port</th>\n",
       "      <th>p1_char</th>\n",
       "      <th>p2_port</th>\n",
       "      <th>p2_char</th>\n",
       "      <th>stage</th>\n",
       "      <th>is_teams</th>\n",
       "      <th>is_pal</th>\n",
       "      <th>p1_char_name</th>\n",
       "      <th>p2_char_name</th>\n",
       "      <th>stage_name</th>\n",
       "    </tr>\n",
       "    <tr>\n",
       "      <th>game_id</th>\n",
       "      <th></th>\n",
       "      <th></th>\n",
       "      <th></th>\n",
       "      <th></th>\n",
       "      <th></th>\n",
       "      <th></th>\n",
       "      <th></th>\n",
       "      <th></th>\n",
       "      <th></th>\n",
       "      <th></th>\n",
       "      <th></th>\n",
       "      <th></th>\n",
       "      <th></th>\n",
       "    </tr>\n",
       "  </thead>\n",
       "  <tbody>\n",
       "    <tr>\n",
       "      <th>20190406T044258</th>\n",
       "      <td>2019-04-06 04:42:58+00:00</td>\n",
       "      <td>10377</td>\n",
       "      <td>Platform.NINTENDONT</td>\n",
       "      <td>2</td>\n",
       "      <td>9</td>\n",
       "      <td>3</td>\n",
       "      <td>2</td>\n",
       "      <td>32</td>\n",
       "      <td>False</td>\n",
       "      <td>False</td>\n",
       "      <td>Marth</td>\n",
       "      <td>Fox</td>\n",
       "      <td>Final Destination</td>\n",
       "    </tr>\n",
       "    <tr>\n",
       "      <th>20190406T210840</th>\n",
       "      <td>2019-04-06 21:08:40+00:00</td>\n",
       "      <td>10255</td>\n",
       "      <td>Platform.NINTENDONT</td>\n",
       "      <td>1</td>\n",
       "      <td>9</td>\n",
       "      <td>3</td>\n",
       "      <td>2</td>\n",
       "      <td>32</td>\n",
       "      <td>False</td>\n",
       "      <td>False</td>\n",
       "      <td>Marth</td>\n",
       "      <td>Fox</td>\n",
       "      <td>Final Destination</td>\n",
       "    </tr>\n",
       "    <tr>\n",
       "      <th>20190406T010555</th>\n",
       "      <td>2019-04-06 01:05:55+00:00</td>\n",
       "      <td>5830</td>\n",
       "      <td>Platform.NINTENDONT</td>\n",
       "      <td>0</td>\n",
       "      <td>2</td>\n",
       "      <td>3</td>\n",
       "      <td>9</td>\n",
       "      <td>32</td>\n",
       "      <td>False</td>\n",
       "      <td>False</td>\n",
       "      <td>Fox</td>\n",
       "      <td>Marth</td>\n",
       "      <td>Final Destination</td>\n",
       "    </tr>\n",
       "    <tr>\n",
       "      <th>20190406T011825</th>\n",
       "      <td>2019-04-06 01:18:25+00:00</td>\n",
       "      <td>5395</td>\n",
       "      <td>Platform.NINTENDONT</td>\n",
       "      <td>0</td>\n",
       "      <td>2</td>\n",
       "      <td>3</td>\n",
       "      <td>9</td>\n",
       "      <td>32</td>\n",
       "      <td>False</td>\n",
       "      <td>False</td>\n",
       "      <td>Fox</td>\n",
       "      <td>Marth</td>\n",
       "      <td>Final Destination</td>\n",
       "    </tr>\n",
       "    <tr>\n",
       "      <th>20190406T181629</th>\n",
       "      <td>2019-04-06 18:16:29+00:00</td>\n",
       "      <td>7655</td>\n",
       "      <td>Platform.NINTENDONT</td>\n",
       "      <td>1</td>\n",
       "      <td>9</td>\n",
       "      <td>3</td>\n",
       "      <td>2</td>\n",
       "      <td>32</td>\n",
       "      <td>False</td>\n",
       "      <td>False</td>\n",
       "      <td>Marth</td>\n",
       "      <td>Fox</td>\n",
       "      <td>Final Destination</td>\n",
       "    </tr>\n",
       "  </tbody>\n",
       "</table>\n",
       "</div>"
      ],
      "text/plain": [
       "                                     date  duration             platform  \\\n",
       "game_id                                                                    \n",
       "20190406T044258 2019-04-06 04:42:58+00:00     10377  Platform.NINTENDONT   \n",
       "20190406T210840 2019-04-06 21:08:40+00:00     10255  Platform.NINTENDONT   \n",
       "20190406T010555 2019-04-06 01:05:55+00:00      5830  Platform.NINTENDONT   \n",
       "20190406T011825 2019-04-06 01:18:25+00:00      5395  Platform.NINTENDONT   \n",
       "20190406T181629 2019-04-06 18:16:29+00:00      7655  Platform.NINTENDONT   \n",
       "\n",
       "                 p1_port  p1_char  p2_port  p2_char  stage  is_teams  is_pal  \\\n",
       "game_id                                                                        \n",
       "20190406T044258        2        9        3        2     32     False   False   \n",
       "20190406T210840        1        9        3        2     32     False   False   \n",
       "20190406T010555        0        2        3        9     32     False   False   \n",
       "20190406T011825        0        2        3        9     32     False   False   \n",
       "20190406T181629        1        9        3        2     32     False   False   \n",
       "\n",
       "                p1_char_name p2_char_name         stage_name  \n",
       "game_id                                                       \n",
       "20190406T044258        Marth          Fox  Final Destination  \n",
       "20190406T210840        Marth          Fox  Final Destination  \n",
       "20190406T010555          Fox        Marth  Final Destination  \n",
       "20190406T011825          Fox        Marth  Final Destination  \n",
       "20190406T181629        Marth          Fox  Final Destination  "
      ]
     },
     "execution_count": 69,
     "metadata": {},
     "output_type": "execute_result"
    }
   ],
   "source": [
    "df_marth_fd = df_fox.loc[mask_marth & mask_fd]\n",
    "df_marth_fd.head()"
   ]
  },
  {
   "cell_type": "code",
   "execution_count": 70,
   "metadata": {},
   "outputs": [
    {
     "data": {
      "text/plain": [
       "200637"
      ]
     },
     "execution_count": 70,
     "metadata": {},
     "output_type": "execute_result"
    }
   ],
   "source": [
    "sum(df_marth_fd['duration'])"
   ]
  },
  {
   "cell_type": "code",
   "execution_count": 71,
   "metadata": {},
   "outputs": [
    {
     "data": {
      "text/plain": [
       "106178"
      ]
     },
     "execution_count": 71,
     "metadata": {},
     "output_type": "execute_result"
    }
   ],
   "source": [
    "sum(df_falco_fd['duration'])"
   ]
  },
  {
   "cell_type": "markdown",
   "metadata": {},
   "source": [
    "I will keep both dataframes, but will initially use `df_falco_fd` due to less frames since time is a current constraint."
   ]
  },
  {
   "cell_type": "code",
   "execution_count": 72,
   "metadata": {},
   "outputs": [
    {
     "data": {
      "text/plain": [
       "True"
      ]
     },
     "execution_count": 72,
     "metadata": {},
     "output_type": "execute_result"
    }
   ],
   "source": [
    "df_marth_fd.shape == df_marth_fd.drop_duplicates().shape"
   ]
  },
  {
   "cell_type": "code",
   "execution_count": 73,
   "metadata": {},
   "outputs": [
    {
     "data": {
      "text/plain": [
       "(21, 13)"
      ]
     },
     "execution_count": 73,
     "metadata": {},
     "output_type": "execute_result"
    }
   ],
   "source": [
    "df_marth_fd.shape"
   ]
  },
  {
   "cell_type": "code",
   "execution_count": 74,
   "metadata": {},
   "outputs": [
    {
     "data": {
      "text/plain": [
       "True"
      ]
     },
     "execution_count": 74,
     "metadata": {},
     "output_type": "execute_result"
    }
   ],
   "source": [
    "df_falco_fd.shape == df_falco_fd.drop_duplicates().shape"
   ]
  },
  {
   "cell_type": "code",
   "execution_count": 75,
   "metadata": {},
   "outputs": [
    {
     "data": {
      "text/plain": [
       "(13, 13)"
      ]
     },
     "execution_count": 75,
     "metadata": {},
     "output_type": "execute_result"
    }
   ],
   "source": [
    "df_falco_fd.shape"
   ]
  },
  {
   "cell_type": "code",
   "execution_count": 76,
   "metadata": {},
   "outputs": [
    {
     "name": "stdout",
     "output_type": "stream",
     "text": [
      "20190406T144505\n",
      "20190406T190420\n",
      "20190406T190322\n",
      "20190309T012347\n",
      "20190406T114015\n",
      "20190406T183745\n",
      "20190406T214523\n",
      "20190406T175827\n",
      "20190406T102328\n",
      "20190406T104203\n",
      "20190406T105900\n",
      "20190406T143503\n",
      "20190406T114529\n"
     ]
    }
   ],
   "source": [
    "for game in df_falco_fd.index:\n",
    "    print(game)"
   ]
  },
  {
   "cell_type": "markdown",
   "metadata": {},
   "source": [
    "Since I want to predict all of Fox's actions in this tournament when fighting against Falco, I will need to have a column that will specify which port is controlling Fox and which port is controlling Falco."
   ]
  },
  {
   "cell_type": "code",
   "execution_count": 80,
   "metadata": {},
   "outputs": [
    {
     "data": {
      "text/plain": [
       "(2,)"
      ]
     },
     "execution_count": 80,
     "metadata": {},
     "output_type": "execute_result"
    }
   ],
   "source": [
    "df_falco_fd.loc[df_falco_fd['p1_char_name'] == 'Fox', 'p1_port'].shape"
   ]
  },
  {
   "cell_type": "code",
   "execution_count": 81,
   "metadata": {},
   "outputs": [
    {
     "data": {
      "text/plain": [
       "(11,)"
      ]
     },
     "execution_count": 81,
     "metadata": {},
     "output_type": "execute_result"
    }
   ],
   "source": [
    "df_falco_fd.loc[df_falco_fd['p2_char_name'] == 'Fox', 'p1_port'].shape"
   ]
  },
  {
   "cell_type": "code",
   "execution_count": 85,
   "metadata": {},
   "outputs": [
    {
     "data": {
      "text/html": [
       "<div>\n",
       "<style scoped>\n",
       "    .dataframe tbody tr th:only-of-type {\n",
       "        vertical-align: middle;\n",
       "    }\n",
       "\n",
       "    .dataframe tbody tr th {\n",
       "        vertical-align: top;\n",
       "    }\n",
       "\n",
       "    .dataframe thead th {\n",
       "        text-align: right;\n",
       "    }\n",
       "</style>\n",
       "<table border=\"1\" class=\"dataframe\">\n",
       "  <thead>\n",
       "    <tr style=\"text-align: right;\">\n",
       "      <th></th>\n",
       "      <th>date</th>\n",
       "      <th>duration</th>\n",
       "      <th>platform</th>\n",
       "      <th>p1_port</th>\n",
       "      <th>p1_char</th>\n",
       "      <th>p2_port</th>\n",
       "      <th>p2_char</th>\n",
       "      <th>stage</th>\n",
       "      <th>is_teams</th>\n",
       "      <th>is_pal</th>\n",
       "      <th>p1_char_name</th>\n",
       "      <th>p2_char_name</th>\n",
       "      <th>stage_name</th>\n",
       "    </tr>\n",
       "    <tr>\n",
       "      <th>game_id</th>\n",
       "      <th></th>\n",
       "      <th></th>\n",
       "      <th></th>\n",
       "      <th></th>\n",
       "      <th></th>\n",
       "      <th></th>\n",
       "      <th></th>\n",
       "      <th></th>\n",
       "      <th></th>\n",
       "      <th></th>\n",
       "      <th></th>\n",
       "      <th></th>\n",
       "      <th></th>\n",
       "    </tr>\n",
       "  </thead>\n",
       "  <tbody>\n",
       "    <tr>\n",
       "      <th>20190406T144505</th>\n",
       "      <td>2019-04-06 14:45:05+00:00</td>\n",
       "      <td>8449</td>\n",
       "      <td>Platform.NINTENDONT</td>\n",
       "      <td>2</td>\n",
       "      <td>20</td>\n",
       "      <td>3</td>\n",
       "      <td>2</td>\n",
       "      <td>32</td>\n",
       "      <td>False</td>\n",
       "      <td>False</td>\n",
       "      <td>Falco</td>\n",
       "      <td>Fox</td>\n",
       "      <td>Final Destination</td>\n",
       "    </tr>\n",
       "    <tr>\n",
       "      <th>20190406T190420</th>\n",
       "      <td>2019-04-06 19:04:20+00:00</td>\n",
       "      <td>7437</td>\n",
       "      <td>Platform.NINTENDONT</td>\n",
       "      <td>0</td>\n",
       "      <td>20</td>\n",
       "      <td>3</td>\n",
       "      <td>2</td>\n",
       "      <td>32</td>\n",
       "      <td>False</td>\n",
       "      <td>False</td>\n",
       "      <td>Falco</td>\n",
       "      <td>Fox</td>\n",
       "      <td>Final Destination</td>\n",
       "    </tr>\n",
       "    <tr>\n",
       "      <th>20190406T190322</th>\n",
       "      <td>2019-04-06 19:03:22+00:00</td>\n",
       "      <td>8206</td>\n",
       "      <td>Platform.NINTENDONT</td>\n",
       "      <td>1</td>\n",
       "      <td>20</td>\n",
       "      <td>3</td>\n",
       "      <td>2</td>\n",
       "      <td>32</td>\n",
       "      <td>False</td>\n",
       "      <td>False</td>\n",
       "      <td>Falco</td>\n",
       "      <td>Fox</td>\n",
       "      <td>Final Destination</td>\n",
       "    </tr>\n",
       "    <tr>\n",
       "      <th>20190309T012347</th>\n",
       "      <td>2019-03-09 01:23:47+00:00</td>\n",
       "      <td>5429</td>\n",
       "      <td>Platform.NINTENDONT</td>\n",
       "      <td>0</td>\n",
       "      <td>2</td>\n",
       "      <td>3</td>\n",
       "      <td>20</td>\n",
       "      <td>32</td>\n",
       "      <td>False</td>\n",
       "      <td>False</td>\n",
       "      <td>Fox</td>\n",
       "      <td>Falco</td>\n",
       "      <td>Final Destination</td>\n",
       "    </tr>\n",
       "    <tr>\n",
       "      <th>20190406T114015</th>\n",
       "      <td>2019-04-06 11:40:15+00:00</td>\n",
       "      <td>9572</td>\n",
       "      <td>Platform.NINTENDONT</td>\n",
       "      <td>0</td>\n",
       "      <td>20</td>\n",
       "      <td>2</td>\n",
       "      <td>2</td>\n",
       "      <td>32</td>\n",
       "      <td>False</td>\n",
       "      <td>False</td>\n",
       "      <td>Falco</td>\n",
       "      <td>Fox</td>\n",
       "      <td>Final Destination</td>\n",
       "    </tr>\n",
       "    <tr>\n",
       "      <th>20190406T183745</th>\n",
       "      <td>2019-04-06 18:37:45+00:00</td>\n",
       "      <td>6712</td>\n",
       "      <td>Platform.NINTENDONT</td>\n",
       "      <td>0</td>\n",
       "      <td>20</td>\n",
       "      <td>3</td>\n",
       "      <td>2</td>\n",
       "      <td>32</td>\n",
       "      <td>False</td>\n",
       "      <td>False</td>\n",
       "      <td>Falco</td>\n",
       "      <td>Fox</td>\n",
       "      <td>Final Destination</td>\n",
       "    </tr>\n",
       "    <tr>\n",
       "      <th>20190406T214523</th>\n",
       "      <td>2019-04-06 21:45:23+00:00</td>\n",
       "      <td>6220</td>\n",
       "      <td>Platform.NINTENDONT</td>\n",
       "      <td>0</td>\n",
       "      <td>20</td>\n",
       "      <td>3</td>\n",
       "      <td>2</td>\n",
       "      <td>32</td>\n",
       "      <td>False</td>\n",
       "      <td>False</td>\n",
       "      <td>Falco</td>\n",
       "      <td>Fox</td>\n",
       "      <td>Final Destination</td>\n",
       "    </tr>\n",
       "    <tr>\n",
       "      <th>20190406T175827</th>\n",
       "      <td>2019-04-06 17:58:27+00:00</td>\n",
       "      <td>8705</td>\n",
       "      <td>Platform.NINTENDONT</td>\n",
       "      <td>0</td>\n",
       "      <td>2</td>\n",
       "      <td>1</td>\n",
       "      <td>20</td>\n",
       "      <td>32</td>\n",
       "      <td>False</td>\n",
       "      <td>False</td>\n",
       "      <td>Fox</td>\n",
       "      <td>Falco</td>\n",
       "      <td>Final Destination</td>\n",
       "    </tr>\n",
       "    <tr>\n",
       "      <th>20190406T102328</th>\n",
       "      <td>2019-04-06 10:23:28+00:00</td>\n",
       "      <td>9281</td>\n",
       "      <td>Platform.NINTENDONT</td>\n",
       "      <td>0</td>\n",
       "      <td>20</td>\n",
       "      <td>2</td>\n",
       "      <td>2</td>\n",
       "      <td>32</td>\n",
       "      <td>False</td>\n",
       "      <td>False</td>\n",
       "      <td>Falco</td>\n",
       "      <td>Fox</td>\n",
       "      <td>Final Destination</td>\n",
       "    </tr>\n",
       "    <tr>\n",
       "      <th>20190406T104203</th>\n",
       "      <td>2019-04-06 10:42:03+00:00</td>\n",
       "      <td>7117</td>\n",
       "      <td>Platform.NINTENDONT</td>\n",
       "      <td>1</td>\n",
       "      <td>20</td>\n",
       "      <td>2</td>\n",
       "      <td>2</td>\n",
       "      <td>32</td>\n",
       "      <td>False</td>\n",
       "      <td>False</td>\n",
       "      <td>Falco</td>\n",
       "      <td>Fox</td>\n",
       "      <td>Final Destination</td>\n",
       "    </tr>\n",
       "    <tr>\n",
       "      <th>20190406T105900</th>\n",
       "      <td>2019-04-06 10:59:00+00:00</td>\n",
       "      <td>12435</td>\n",
       "      <td>Platform.NINTENDONT</td>\n",
       "      <td>0</td>\n",
       "      <td>20</td>\n",
       "      <td>1</td>\n",
       "      <td>2</td>\n",
       "      <td>32</td>\n",
       "      <td>False</td>\n",
       "      <td>False</td>\n",
       "      <td>Falco</td>\n",
       "      <td>Fox</td>\n",
       "      <td>Final Destination</td>\n",
       "    </tr>\n",
       "    <tr>\n",
       "      <th>20190406T143503</th>\n",
       "      <td>2019-04-06 14:35:03+00:00</td>\n",
       "      <td>7148</td>\n",
       "      <td>Platform.NINTENDONT</td>\n",
       "      <td>2</td>\n",
       "      <td>20</td>\n",
       "      <td>3</td>\n",
       "      <td>2</td>\n",
       "      <td>32</td>\n",
       "      <td>False</td>\n",
       "      <td>False</td>\n",
       "      <td>Falco</td>\n",
       "      <td>Fox</td>\n",
       "      <td>Final Destination</td>\n",
       "    </tr>\n",
       "    <tr>\n",
       "      <th>20190406T114529</th>\n",
       "      <td>2019-04-06 11:45:29+00:00</td>\n",
       "      <td>9467</td>\n",
       "      <td>Platform.NINTENDONT</td>\n",
       "      <td>0</td>\n",
       "      <td>20</td>\n",
       "      <td>3</td>\n",
       "      <td>2</td>\n",
       "      <td>32</td>\n",
       "      <td>False</td>\n",
       "      <td>False</td>\n",
       "      <td>Falco</td>\n",
       "      <td>Fox</td>\n",
       "      <td>Final Destination</td>\n",
       "    </tr>\n",
       "  </tbody>\n",
       "</table>\n",
       "</div>"
      ],
      "text/plain": [
       "                                     date  duration             platform  \\\n",
       "game_id                                                                    \n",
       "20190406T144505 2019-04-06 14:45:05+00:00      8449  Platform.NINTENDONT   \n",
       "20190406T190420 2019-04-06 19:04:20+00:00      7437  Platform.NINTENDONT   \n",
       "20190406T190322 2019-04-06 19:03:22+00:00      8206  Platform.NINTENDONT   \n",
       "20190309T012347 2019-03-09 01:23:47+00:00      5429  Platform.NINTENDONT   \n",
       "20190406T114015 2019-04-06 11:40:15+00:00      9572  Platform.NINTENDONT   \n",
       "20190406T183745 2019-04-06 18:37:45+00:00      6712  Platform.NINTENDONT   \n",
       "20190406T214523 2019-04-06 21:45:23+00:00      6220  Platform.NINTENDONT   \n",
       "20190406T175827 2019-04-06 17:58:27+00:00      8705  Platform.NINTENDONT   \n",
       "20190406T102328 2019-04-06 10:23:28+00:00      9281  Platform.NINTENDONT   \n",
       "20190406T104203 2019-04-06 10:42:03+00:00      7117  Platform.NINTENDONT   \n",
       "20190406T105900 2019-04-06 10:59:00+00:00     12435  Platform.NINTENDONT   \n",
       "20190406T143503 2019-04-06 14:35:03+00:00      7148  Platform.NINTENDONT   \n",
       "20190406T114529 2019-04-06 11:45:29+00:00      9467  Platform.NINTENDONT   \n",
       "\n",
       "                 p1_port  p1_char  p2_port  p2_char  stage  is_teams  is_pal  \\\n",
       "game_id                                                                        \n",
       "20190406T144505        2       20        3        2     32     False   False   \n",
       "20190406T190420        0       20        3        2     32     False   False   \n",
       "20190406T190322        1       20        3        2     32     False   False   \n",
       "20190309T012347        0        2        3       20     32     False   False   \n",
       "20190406T114015        0       20        2        2     32     False   False   \n",
       "20190406T183745        0       20        3        2     32     False   False   \n",
       "20190406T214523        0       20        3        2     32     False   False   \n",
       "20190406T175827        0        2        1       20     32     False   False   \n",
       "20190406T102328        0       20        2        2     32     False   False   \n",
       "20190406T104203        1       20        2        2     32     False   False   \n",
       "20190406T105900        0       20        1        2     32     False   False   \n",
       "20190406T143503        2       20        3        2     32     False   False   \n",
       "20190406T114529        0       20        3        2     32     False   False   \n",
       "\n",
       "                p1_char_name p2_char_name         stage_name  \n",
       "game_id                                                       \n",
       "20190406T144505        Falco          Fox  Final Destination  \n",
       "20190406T190420        Falco          Fox  Final Destination  \n",
       "20190406T190322        Falco          Fox  Final Destination  \n",
       "20190309T012347          Fox        Falco  Final Destination  \n",
       "20190406T114015        Falco          Fox  Final Destination  \n",
       "20190406T183745        Falco          Fox  Final Destination  \n",
       "20190406T214523        Falco          Fox  Final Destination  \n",
       "20190406T175827          Fox        Falco  Final Destination  \n",
       "20190406T102328        Falco          Fox  Final Destination  \n",
       "20190406T104203        Falco          Fox  Final Destination  \n",
       "20190406T105900        Falco          Fox  Final Destination  \n",
       "20190406T143503        Falco          Fox  Final Destination  \n",
       "20190406T114529        Falco          Fox  Final Destination  "
      ]
     },
     "execution_count": 85,
     "metadata": {},
     "output_type": "execute_result"
    }
   ],
   "source": [
    "df_falco_fd"
   ]
  },
  {
   "cell_type": "code",
   "execution_count": null,
   "metadata": {},
   "outputs": [],
   "source": [
    "df_falco_fd.loc[df_falco_fd[]]"
   ]
  },
  {
   "cell_type": "code",
   "execution_count": 97,
   "metadata": {},
   "outputs": [
    {
     "data": {
      "text/plain": [
       "[3, 3, 3, 0, 2, 3, 3, 0, 2, 2, 1, 3, 3]"
      ]
     },
     "execution_count": 97,
     "metadata": {},
     "output_type": "execute_result"
    }
   ],
   "source": [
    "fox_ports = [df_falco_fd.loc[ident, 'p1_port'] if df_falco_fd.loc[ident, 'p1_char_name'] == 'Fox' else df_falco_fd.loc[ident, 'p2_port'] for ident in df_falco_fd.index]\n",
    "fox_ports"
   ]
  },
  {
   "cell_type": "code",
   "execution_count": 110,
   "metadata": {},
   "outputs": [
    {
     "data": {
      "text/plain": [
       "[2, 0, 1, 3, 0, 0, 0, 1, 0, 1, 0, 2, 0]"
      ]
     },
     "execution_count": 110,
     "metadata": {},
     "output_type": "execute_result"
    }
   ],
   "source": [
    "not_fox_ports = [df_falco_fd.loc[ident, 'p1_port'] if df_falco_fd.loc[ident, 'p1_char_name'] != 'Fox' else df_falco_fd.loc[ident, 'p2_port'] for ident in df_falco_fd.index]\n",
    "not_fox_ports"
   ]
  },
  {
   "cell_type": "code",
   "execution_count": 111,
   "metadata": {},
   "outputs": [
    {
     "name": "stderr",
     "output_type": "stream",
     "text": [
      "\u001b[33mWARNING\u001b[0m \n",
      "A value is trying to be set on a copy of a slice from a DataFrame.\n",
      "Try using .loc[row_indexer,col_indexer] = value instead\n",
      "\n",
      "See the caveats in the documentation: http://pandas.pydata.org/pandas-docs/stable/user_guide/indexing.html#returning-a-view-versus-a-copy\n",
      "\u001b[33mWARNING\u001b[0m \n",
      "A value is trying to be set on a copy of a slice from a DataFrame.\n",
      "Try using .loc[row_indexer,col_indexer] = value instead\n",
      "\n",
      "See the caveats in the documentation: http://pandas.pydata.org/pandas-docs/stable/user_guide/indexing.html#returning-a-view-versus-a-copy\n"
     ]
    }
   ],
   "source": [
    "df_falco_fd['fox_ports'] = fox_ports\n",
    "df_falco_fd['falco_ports'] = not_fox_ports"
   ]
  },
  {
   "cell_type": "code",
   "execution_count": 112,
   "metadata": {},
   "outputs": [
    {
     "data": {
      "text/html": [
       "<div>\n",
       "<style scoped>\n",
       "    .dataframe tbody tr th:only-of-type {\n",
       "        vertical-align: middle;\n",
       "    }\n",
       "\n",
       "    .dataframe tbody tr th {\n",
       "        vertical-align: top;\n",
       "    }\n",
       "\n",
       "    .dataframe thead th {\n",
       "        text-align: right;\n",
       "    }\n",
       "</style>\n",
       "<table border=\"1\" class=\"dataframe\">\n",
       "  <thead>\n",
       "    <tr style=\"text-align: right;\">\n",
       "      <th></th>\n",
       "      <th>date</th>\n",
       "      <th>duration</th>\n",
       "      <th>platform</th>\n",
       "      <th>p1_port</th>\n",
       "      <th>p1_char</th>\n",
       "      <th>p2_port</th>\n",
       "      <th>p2_char</th>\n",
       "      <th>stage</th>\n",
       "      <th>is_teams</th>\n",
       "      <th>is_pal</th>\n",
       "      <th>p1_char_name</th>\n",
       "      <th>p2_char_name</th>\n",
       "      <th>stage_name</th>\n",
       "      <th>fox_ports</th>\n",
       "      <th>falco_ports</th>\n",
       "    </tr>\n",
       "    <tr>\n",
       "      <th>game_id</th>\n",
       "      <th></th>\n",
       "      <th></th>\n",
       "      <th></th>\n",
       "      <th></th>\n",
       "      <th></th>\n",
       "      <th></th>\n",
       "      <th></th>\n",
       "      <th></th>\n",
       "      <th></th>\n",
       "      <th></th>\n",
       "      <th></th>\n",
       "      <th></th>\n",
       "      <th></th>\n",
       "      <th></th>\n",
       "      <th></th>\n",
       "    </tr>\n",
       "  </thead>\n",
       "  <tbody>\n",
       "    <tr>\n",
       "      <th>20190406T144505</th>\n",
       "      <td>2019-04-06 14:45:05+00:00</td>\n",
       "      <td>8449</td>\n",
       "      <td>Platform.NINTENDONT</td>\n",
       "      <td>2</td>\n",
       "      <td>20</td>\n",
       "      <td>3</td>\n",
       "      <td>2</td>\n",
       "      <td>32</td>\n",
       "      <td>False</td>\n",
       "      <td>False</td>\n",
       "      <td>Falco</td>\n",
       "      <td>Fox</td>\n",
       "      <td>Final Destination</td>\n",
       "      <td>3</td>\n",
       "      <td>2</td>\n",
       "    </tr>\n",
       "    <tr>\n",
       "      <th>20190406T190420</th>\n",
       "      <td>2019-04-06 19:04:20+00:00</td>\n",
       "      <td>7437</td>\n",
       "      <td>Platform.NINTENDONT</td>\n",
       "      <td>0</td>\n",
       "      <td>20</td>\n",
       "      <td>3</td>\n",
       "      <td>2</td>\n",
       "      <td>32</td>\n",
       "      <td>False</td>\n",
       "      <td>False</td>\n",
       "      <td>Falco</td>\n",
       "      <td>Fox</td>\n",
       "      <td>Final Destination</td>\n",
       "      <td>3</td>\n",
       "      <td>0</td>\n",
       "    </tr>\n",
       "    <tr>\n",
       "      <th>20190406T190322</th>\n",
       "      <td>2019-04-06 19:03:22+00:00</td>\n",
       "      <td>8206</td>\n",
       "      <td>Platform.NINTENDONT</td>\n",
       "      <td>1</td>\n",
       "      <td>20</td>\n",
       "      <td>3</td>\n",
       "      <td>2</td>\n",
       "      <td>32</td>\n",
       "      <td>False</td>\n",
       "      <td>False</td>\n",
       "      <td>Falco</td>\n",
       "      <td>Fox</td>\n",
       "      <td>Final Destination</td>\n",
       "      <td>3</td>\n",
       "      <td>1</td>\n",
       "    </tr>\n",
       "    <tr>\n",
       "      <th>20190309T012347</th>\n",
       "      <td>2019-03-09 01:23:47+00:00</td>\n",
       "      <td>5429</td>\n",
       "      <td>Platform.NINTENDONT</td>\n",
       "      <td>0</td>\n",
       "      <td>2</td>\n",
       "      <td>3</td>\n",
       "      <td>20</td>\n",
       "      <td>32</td>\n",
       "      <td>False</td>\n",
       "      <td>False</td>\n",
       "      <td>Fox</td>\n",
       "      <td>Falco</td>\n",
       "      <td>Final Destination</td>\n",
       "      <td>0</td>\n",
       "      <td>3</td>\n",
       "    </tr>\n",
       "    <tr>\n",
       "      <th>20190406T114015</th>\n",
       "      <td>2019-04-06 11:40:15+00:00</td>\n",
       "      <td>9572</td>\n",
       "      <td>Platform.NINTENDONT</td>\n",
       "      <td>0</td>\n",
       "      <td>20</td>\n",
       "      <td>2</td>\n",
       "      <td>2</td>\n",
       "      <td>32</td>\n",
       "      <td>False</td>\n",
       "      <td>False</td>\n",
       "      <td>Falco</td>\n",
       "      <td>Fox</td>\n",
       "      <td>Final Destination</td>\n",
       "      <td>2</td>\n",
       "      <td>0</td>\n",
       "    </tr>\n",
       "    <tr>\n",
       "      <th>20190406T183745</th>\n",
       "      <td>2019-04-06 18:37:45+00:00</td>\n",
       "      <td>6712</td>\n",
       "      <td>Platform.NINTENDONT</td>\n",
       "      <td>0</td>\n",
       "      <td>20</td>\n",
       "      <td>3</td>\n",
       "      <td>2</td>\n",
       "      <td>32</td>\n",
       "      <td>False</td>\n",
       "      <td>False</td>\n",
       "      <td>Falco</td>\n",
       "      <td>Fox</td>\n",
       "      <td>Final Destination</td>\n",
       "      <td>3</td>\n",
       "      <td>0</td>\n",
       "    </tr>\n",
       "    <tr>\n",
       "      <th>20190406T214523</th>\n",
       "      <td>2019-04-06 21:45:23+00:00</td>\n",
       "      <td>6220</td>\n",
       "      <td>Platform.NINTENDONT</td>\n",
       "      <td>0</td>\n",
       "      <td>20</td>\n",
       "      <td>3</td>\n",
       "      <td>2</td>\n",
       "      <td>32</td>\n",
       "      <td>False</td>\n",
       "      <td>False</td>\n",
       "      <td>Falco</td>\n",
       "      <td>Fox</td>\n",
       "      <td>Final Destination</td>\n",
       "      <td>3</td>\n",
       "      <td>0</td>\n",
       "    </tr>\n",
       "    <tr>\n",
       "      <th>20190406T175827</th>\n",
       "      <td>2019-04-06 17:58:27+00:00</td>\n",
       "      <td>8705</td>\n",
       "      <td>Platform.NINTENDONT</td>\n",
       "      <td>0</td>\n",
       "      <td>2</td>\n",
       "      <td>1</td>\n",
       "      <td>20</td>\n",
       "      <td>32</td>\n",
       "      <td>False</td>\n",
       "      <td>False</td>\n",
       "      <td>Fox</td>\n",
       "      <td>Falco</td>\n",
       "      <td>Final Destination</td>\n",
       "      <td>0</td>\n",
       "      <td>1</td>\n",
       "    </tr>\n",
       "    <tr>\n",
       "      <th>20190406T102328</th>\n",
       "      <td>2019-04-06 10:23:28+00:00</td>\n",
       "      <td>9281</td>\n",
       "      <td>Platform.NINTENDONT</td>\n",
       "      <td>0</td>\n",
       "      <td>20</td>\n",
       "      <td>2</td>\n",
       "      <td>2</td>\n",
       "      <td>32</td>\n",
       "      <td>False</td>\n",
       "      <td>False</td>\n",
       "      <td>Falco</td>\n",
       "      <td>Fox</td>\n",
       "      <td>Final Destination</td>\n",
       "      <td>2</td>\n",
       "      <td>0</td>\n",
       "    </tr>\n",
       "    <tr>\n",
       "      <th>20190406T104203</th>\n",
       "      <td>2019-04-06 10:42:03+00:00</td>\n",
       "      <td>7117</td>\n",
       "      <td>Platform.NINTENDONT</td>\n",
       "      <td>1</td>\n",
       "      <td>20</td>\n",
       "      <td>2</td>\n",
       "      <td>2</td>\n",
       "      <td>32</td>\n",
       "      <td>False</td>\n",
       "      <td>False</td>\n",
       "      <td>Falco</td>\n",
       "      <td>Fox</td>\n",
       "      <td>Final Destination</td>\n",
       "      <td>2</td>\n",
       "      <td>1</td>\n",
       "    </tr>\n",
       "    <tr>\n",
       "      <th>20190406T105900</th>\n",
       "      <td>2019-04-06 10:59:00+00:00</td>\n",
       "      <td>12435</td>\n",
       "      <td>Platform.NINTENDONT</td>\n",
       "      <td>0</td>\n",
       "      <td>20</td>\n",
       "      <td>1</td>\n",
       "      <td>2</td>\n",
       "      <td>32</td>\n",
       "      <td>False</td>\n",
       "      <td>False</td>\n",
       "      <td>Falco</td>\n",
       "      <td>Fox</td>\n",
       "      <td>Final Destination</td>\n",
       "      <td>1</td>\n",
       "      <td>0</td>\n",
       "    </tr>\n",
       "    <tr>\n",
       "      <th>20190406T143503</th>\n",
       "      <td>2019-04-06 14:35:03+00:00</td>\n",
       "      <td>7148</td>\n",
       "      <td>Platform.NINTENDONT</td>\n",
       "      <td>2</td>\n",
       "      <td>20</td>\n",
       "      <td>3</td>\n",
       "      <td>2</td>\n",
       "      <td>32</td>\n",
       "      <td>False</td>\n",
       "      <td>False</td>\n",
       "      <td>Falco</td>\n",
       "      <td>Fox</td>\n",
       "      <td>Final Destination</td>\n",
       "      <td>3</td>\n",
       "      <td>2</td>\n",
       "    </tr>\n",
       "    <tr>\n",
       "      <th>20190406T114529</th>\n",
       "      <td>2019-04-06 11:45:29+00:00</td>\n",
       "      <td>9467</td>\n",
       "      <td>Platform.NINTENDONT</td>\n",
       "      <td>0</td>\n",
       "      <td>20</td>\n",
       "      <td>3</td>\n",
       "      <td>2</td>\n",
       "      <td>32</td>\n",
       "      <td>False</td>\n",
       "      <td>False</td>\n",
       "      <td>Falco</td>\n",
       "      <td>Fox</td>\n",
       "      <td>Final Destination</td>\n",
       "      <td>3</td>\n",
       "      <td>0</td>\n",
       "    </tr>\n",
       "  </tbody>\n",
       "</table>\n",
       "</div>"
      ],
      "text/plain": [
       "                                     date  duration             platform  \\\n",
       "game_id                                                                    \n",
       "20190406T144505 2019-04-06 14:45:05+00:00      8449  Platform.NINTENDONT   \n",
       "20190406T190420 2019-04-06 19:04:20+00:00      7437  Platform.NINTENDONT   \n",
       "20190406T190322 2019-04-06 19:03:22+00:00      8206  Platform.NINTENDONT   \n",
       "20190309T012347 2019-03-09 01:23:47+00:00      5429  Platform.NINTENDONT   \n",
       "20190406T114015 2019-04-06 11:40:15+00:00      9572  Platform.NINTENDONT   \n",
       "20190406T183745 2019-04-06 18:37:45+00:00      6712  Platform.NINTENDONT   \n",
       "20190406T214523 2019-04-06 21:45:23+00:00      6220  Platform.NINTENDONT   \n",
       "20190406T175827 2019-04-06 17:58:27+00:00      8705  Platform.NINTENDONT   \n",
       "20190406T102328 2019-04-06 10:23:28+00:00      9281  Platform.NINTENDONT   \n",
       "20190406T104203 2019-04-06 10:42:03+00:00      7117  Platform.NINTENDONT   \n",
       "20190406T105900 2019-04-06 10:59:00+00:00     12435  Platform.NINTENDONT   \n",
       "20190406T143503 2019-04-06 14:35:03+00:00      7148  Platform.NINTENDONT   \n",
       "20190406T114529 2019-04-06 11:45:29+00:00      9467  Platform.NINTENDONT   \n",
       "\n",
       "                 p1_port  p1_char  p2_port  p2_char  stage  is_teams  is_pal  \\\n",
       "game_id                                                                        \n",
       "20190406T144505        2       20        3        2     32     False   False   \n",
       "20190406T190420        0       20        3        2     32     False   False   \n",
       "20190406T190322        1       20        3        2     32     False   False   \n",
       "20190309T012347        0        2        3       20     32     False   False   \n",
       "20190406T114015        0       20        2        2     32     False   False   \n",
       "20190406T183745        0       20        3        2     32     False   False   \n",
       "20190406T214523        0       20        3        2     32     False   False   \n",
       "20190406T175827        0        2        1       20     32     False   False   \n",
       "20190406T102328        0       20        2        2     32     False   False   \n",
       "20190406T104203        1       20        2        2     32     False   False   \n",
       "20190406T105900        0       20        1        2     32     False   False   \n",
       "20190406T143503        2       20        3        2     32     False   False   \n",
       "20190406T114529        0       20        3        2     32     False   False   \n",
       "\n",
       "                p1_char_name p2_char_name         stage_name  fox_ports  \\\n",
       "game_id                                                                   \n",
       "20190406T144505        Falco          Fox  Final Destination          3   \n",
       "20190406T190420        Falco          Fox  Final Destination          3   \n",
       "20190406T190322        Falco          Fox  Final Destination          3   \n",
       "20190309T012347          Fox        Falco  Final Destination          0   \n",
       "20190406T114015        Falco          Fox  Final Destination          2   \n",
       "20190406T183745        Falco          Fox  Final Destination          3   \n",
       "20190406T214523        Falco          Fox  Final Destination          3   \n",
       "20190406T175827          Fox        Falco  Final Destination          0   \n",
       "20190406T102328        Falco          Fox  Final Destination          2   \n",
       "20190406T104203        Falco          Fox  Final Destination          2   \n",
       "20190406T105900        Falco          Fox  Final Destination          1   \n",
       "20190406T143503        Falco          Fox  Final Destination          3   \n",
       "20190406T114529        Falco          Fox  Final Destination          3   \n",
       "\n",
       "                 falco_ports  \n",
       "game_id                       \n",
       "20190406T144505            2  \n",
       "20190406T190420            0  \n",
       "20190406T190322            1  \n",
       "20190309T012347            3  \n",
       "20190406T114015            0  \n",
       "20190406T183745            0  \n",
       "20190406T214523            0  \n",
       "20190406T175827            1  \n",
       "20190406T102328            0  \n",
       "20190406T104203            1  \n",
       "20190406T105900            0  \n",
       "20190406T143503            2  \n",
       "20190406T114529            0  "
      ]
     },
     "execution_count": 112,
     "metadata": {},
     "output_type": "execute_result"
    }
   ],
   "source": [
    "df_falco_fd"
   ]
  },
  {
   "cell_type": "code",
   "execution_count": 100,
   "metadata": {},
   "outputs": [
    {
     "data": {
      "text/plain": [
       "['20190406T144505',\n",
       " '20190406T190420',\n",
       " '20190406T190322',\n",
       " '20190309T012347',\n",
       " '20190406T114015',\n",
       " '20190406T183745',\n",
       " '20190406T214523',\n",
       " '20190406T175827',\n",
       " '20190406T102328',\n",
       " '20190406T104203',\n",
       " '20190406T105900',\n",
       " '20190406T143503',\n",
       " '20190406T114529']"
      ]
     },
     "execution_count": 100,
     "metadata": {},
     "output_type": "execute_result"
    }
   ],
   "source": [
    "falco_fd_gameid = list(df_falco_fd.index)\n",
    "falco_fd_gameid"
   ]
  },
  {
   "cell_type": "code",
   "execution_count": 101,
   "metadata": {},
   "outputs": [
    {
     "data": {
      "text/plain": [
       "['../data/Fight-Pitt-9/Game_20190406T144505.slp',\n",
       " '../data/Fight-Pitt-9/Game_20190406T190420.slp',\n",
       " '../data/Fight-Pitt-9/Game_20190406T190322.slp',\n",
       " '../data/Fight-Pitt-9/Game_20190309T012347.slp',\n",
       " '../data/Fight-Pitt-9/Game_20190406T114015.slp',\n",
       " '../data/Fight-Pitt-9/Game_20190406T183745.slp',\n",
       " '../data/Fight-Pitt-9/Game_20190406T214523.slp',\n",
       " '../data/Fight-Pitt-9/Game_20190406T175827.slp',\n",
       " '../data/Fight-Pitt-9/Game_20190406T102328.slp',\n",
       " '../data/Fight-Pitt-9/Game_20190406T104203.slp',\n",
       " '../data/Fight-Pitt-9/Game_20190406T105900.slp',\n",
       " '../data/Fight-Pitt-9/Game_20190406T143503.slp',\n",
       " '../data/Fight-Pitt-9/Game_20190406T114529.slp']"
      ]
     },
     "execution_count": 101,
     "metadata": {},
     "output_type": "execute_result"
    }
   ],
   "source": [
    "falco_fd_games = list(map(lambda val: '../data/Fight-Pitt-9/Game_' + val + '.slp', falco_fd_gameid))\n",
    "falco_fd_games"
   ]
  },
  {
   "cell_type": "markdown",
   "metadata": {},
   "source": [
    "```python\n",
    "### THIS IS ADJUSTED TO TAKE ANY NUMBER OF FILE PATHS\n",
    "### AND PARSE TO A DATAFRAME\n",
    "### INCLUDING PORT AND CHARACTER INFO\n",
    "def metadata_to_df(slp_paths):\n",
    "    '''\n",
    "    Of a collection of games, store the metadata as a dataframe.\n",
    "    \n",
    "    slp_paths (list): each value is the file path to games\n",
    "    returns a dataframe\n",
    "    '''\n",
    "    length = len(slp_paths)\n",
    "    count = 0\n",
    "    dates, game_id, durations, plats, p1_ports, p1_chars, p2_ports, p2_chars, stages, is_teams, is_pal = list(), list(), list(), list(), list(), list(), list(), list(), list(), list(), list()\n",
    "    for path in slp_paths:\n",
    "        count += 1\n",
    "        print(f'Parsing file {count} of {length}: {round(count / length * 100, 2)}%', end = '\\r')\n",
    "        # try to create Game object, else skip it and try the next one\n",
    "        try:\n",
    "            game = slp.Game(path)\n",
    "        except:\n",
    "            print(f'Skip game {count} of {length}')\n",
    "            continue\n",
    "            \n",
    "        # set game ID\n",
    "        # to get file path using game_id:\n",
    "        # ../folder_directory/Game_[game_id].slp\n",
    "        try:\n",
    "            game_id.append(slp_paths[count].split('/')[-1].strip('Game_').strip('.slp'))\n",
    "        except:\n",
    "            continue\n",
    "        \n",
    "        # take the date, duration, and platform data\n",
    "        dates.append(game.metadata.date)\n",
    "        durations.append(game.metadata.duration)\n",
    "        plats.append(game.metadata.platform)\n",
    "\n",
    "        # get active ports\n",
    "        ports = [game.start.players.index(port) for port in game.start.players if port != None]\n",
    "        p1_ports.append(ports[0])\n",
    "        p2_ports.append(ports[1])\n",
    "\n",
    "        # get characters\n",
    "        characters = [game.start.players[port].character for port in ports]\n",
    "        p1_chars.append(characters[0])\n",
    "        p2_chars.append(characters[1])\n",
    "        \n",
    "        # get stages played on\n",
    "        stages.append(game.start.stage)\n",
    "        \n",
    "        # is the game not a 1v1\n",
    "        is_teams.append(game.start.is_teams)\n",
    "        \n",
    "        # is this not a v1.02 match\n",
    "        is_pal.append(game.start.is_pal)\n",
    "        \n",
    "    return pd.DataFrame(data = {\n",
    "            'game_id': game_id,\n",
    "            'date': dates,\n",
    "            'duration': durations,\n",
    "            'platform': plats,\n",
    "            'p1_port': p1_ports,\n",
    "            'p1_char': p1_chars,\n",
    "            'p2_port': p2_ports,\n",
    "            'p2_char': p2_chars,\n",
    "            'stage': stages,\n",
    "            'is_teams': is_teams,\n",
    "            'is_pal': is_pal\n",
    "        })\n",
    "```"
   ]
  },
  {
   "cell_type": "code",
   "execution_count": 104,
   "metadata": {},
   "outputs": [],
   "source": [
    "# def frames_to_df(slp_paths):\n",
    "#     length = len(slp_paths)\n",
    "#     count = 0\n",
    "    \n",
    "#     p1_button_dict = {'Trigger Analog':[],'Start': [],'Y': [],'X': [],'B': [],'A': [],'L': [],'R': [],\n",
    "#                       'Z': [],'Dpad-Up': [],'Dpad-Down': [],'Dpad-Right': [],'Dpad-Left': []}\n",
    "    \n",
    "#     p2_button_dict = {'Trigger Analog':[],'Start': [],'Y': [],'X': [],'B': [],'A': [],'L': [],'R': [],\n",
    "#                       'Z': [],'Dpad-Up': [],'Dpad-Down': [],'Dpad-Right': [],'Dpad-Left': []}\n",
    "    \n",
    "#     # foreign key to metadata dataframe\n",
    "#     game_id = list()\n",
    "    \n",
    "#     # frame index\n",
    "#     index = list()\n",
    "    \n",
    "#     # feature per frame for p1\n",
    "#     p1_combo_count, p1_dmg, p1_direction, \\\n",
    "#     p1_Lcancel, p1_last_attack_landed, p1_last_hit_by, p1_position_x, p1_position_y, \\\n",
    "#     p1_shield, p1_state, p1_stage_age, p1_stocks, p1_cstick_x, p1_cstick_y, p1_dmg, p1_direction, \\\n",
    "#     p1_joystick_x, p1_joystick_y,  p1_position, p1_raw_analog_x, p1_state, p1_state_age = list(), list(), list(), \\\n",
    "#     list(), list(), list(), list(), list(), list(), list(), list(), list(), list(), list(), list(), \\\n",
    "#     list(), list(), list(), list(), list(), list(), list()\n",
    "    \n",
    "#     # feature per frame for p2\n",
    "#     p2_combo_count, p2_dmg, p2_direction, \\\n",
    "#     p2_Lcancel, p2_last_attack_landed, p2_last_hit_by, p2_position_x, p2_position_y, \\\n",
    "#     p2_shield, p2_state, p2_stage_age, p2_stocks, p2_cstick_x, p2_cstick_y, p2_dmg, p2_direction, \\\n",
    "#     p2_joystick_x, p2_joystick_y, p2_position, p2_raw_analog_x, p2_state, p2_state_age = list(), list(), list(), \\\n",
    "#     list(), list(), list(), list(), list(), list(), list(), list(), list(), list(), list(), list(), \\\n",
    "#     list(), list(), list(), list(), list(), list(), list()\n",
    "    \n",
    "#     for path in slp_paths:\n",
    "        \n",
    "#         curr_gameid = slp_paths[count].split('/')[-1].strip('Game_').strip('.slp')\n",
    "#         count += 1\n",
    "#         print(f'Parsing file {count} of {length}: {round(count / length * 100, 2)}%')\n",
    "#         try:\n",
    "#             game = slp.Game(path)\n",
    "#         except:\n",
    "#             print(f'Skip game {count} of {length}')\n",
    "#             continue\n",
    "\n",
    "#         # get active ports\n",
    "#         # index 0: player 1\n",
    "#         # index 1: player 2\n",
    "#         ports = [game.start.players.index(port) for port in game.start.players if port != None]\n",
    "        \n",
    "#         # for each Frame object of all frames in a specific game\n",
    "#         flength = len(game.frames)\n",
    "#         fcount = 0\n",
    "#         for frame in game.frames:\n",
    "#             fcount += 1\n",
    "#             print(f'Parsing frame {fcount} of {flength}: {round(fcount / flength * 100, 2)}%', end = '\\r')\n",
    "#             game_id.append(curr_gameid)\n",
    "            \n",
    "#             index.append(frame.index)\n",
    "            \n",
    "#             p1_cstick_x.append(frame.ports[ports[0]].leader.pre.cstick.x)\n",
    "#             p2_cstick_x.append(frame.ports[ports[1]].leader.pre.cstick.x)\n",
    "            \n",
    "#             p1_cstick_y.append(frame.ports[ports[0]].leader.pre.cstick.y)\n",
    "#             p2_cstick_y.append(frame.ports[ports[1]].leader.pre.cstick.y)\n",
    "            \n",
    "#             p1_joystick_x.append(frame.ports[ports[0]].leader.pre.joystick.x)\n",
    "#             p2_joystick_x.append(frame.ports[ports[1]].leader.pre.joystick.x)\n",
    "            \n",
    "#             p1_joystick_y.append(frame.ports[ports[0]].leader.pre.joystick.y)\n",
    "#             p2_joystick_y.append(frame.ports[ports[1]].leader.pre.joystick.y)\n",
    "            \n",
    "#             p1_combo_count.append(frame.ports[ports[0]].leader.post.combo_count)\n",
    "#             p2_combo_count.append(frame.ports[ports[1]].leader.post.combo_count)\n",
    "            \n",
    "#             p1_dmg.append(frame.ports[ports[0]].leader.post.damage)\n",
    "#             p2_dmg.append(frame.ports[ports[1]].leader.post.damage)\n",
    "            \n",
    "#             p1_direction.append(frame.ports[ports[0]].leader.post.direction)\n",
    "#             p2_direction.append(frame.ports[ports[1]].leader.post.direction)\n",
    "            \n",
    "#             p1_Lcancel.append(frame.ports[ports[0]].leader.post.l_cancel)\n",
    "#             p2_Lcancel.append(frame.ports[ports[1]].leader.post.l_cancel)\n",
    "            \n",
    "#             p1_last_attack_landed.append(frame.ports[ports[0]].leader.post.last_attack_landed)\n",
    "#             p2_last_attack_landed.append(frame.ports[ports[1]].leader.post.last_attack_landed)\n",
    "            \n",
    "#             p1_last_hit_by.append(frame.ports[ports[0]].leader.post.last_hit_by)\n",
    "#             p2_last_hit_by.append(frame.ports[ports[1]].leader.post.last_hit_by)\n",
    "            \n",
    "#             p1_position_x.append(frame.ports[ports[0]].leader.post.position.x)\n",
    "#             p2_position_x.append(frame.ports[ports[1]].leader.post.position.x)\n",
    "            \n",
    "#             p1_position_y.append(frame.ports[ports[0]].leader.post.position.y)\n",
    "#             p2_position_y.append(frame.ports[ports[1]].leader.post.position.y)\n",
    "            \n",
    "#             p1_shield.append(frame.ports[ports[0]].leader.post.shield)\n",
    "#             p2_shield.append(frame.ports[ports[1]].leader.post.shield)\n",
    "            \n",
    "#             p1_state.append(frame.ports[ports[0]].leader.post.state)\n",
    "#             p2_state.append(frame.ports[ports[1]].leader.post.state)\n",
    "            \n",
    "#             p1_state_age.append(frame.ports[ports[0]].leader.post.state_age)\n",
    "#             p2_state_age.append(frame.ports[ports[1]].leader.post.state_age)\n",
    "            \n",
    "#             p1_stocks.append(frame.ports[ports[0]].leader.post.stocks)\n",
    "#             p2_stocks.append(frame.ports[ports[1]].leader.post.stocks)\n",
    "            \n",
    "#             p1_ins = str(frame.ports[ports[0]].leader.pre.buttons.logical).split('.')[1].split('|')\n",
    "#             for button in p1_button_dict:\n",
    "#                 if button in p1_ins:\n",
    "#                     p1_button_dict[button].append(1)\n",
    "#                 else:\n",
    "#                     p1_button_dict[button].append(0)\n",
    "            \n",
    "#             p2_ins = str(frame.ports[ports[1]].leader.pre.buttons.logical).split('.')[1].split('|')\n",
    "#             for button in p2_button_dict:\n",
    "#                 if button in p2_ins:\n",
    "#                     p2_button_dict[button].append(1)\n",
    "#                 else:\n",
    "#                     p2_button_dict[button].append(0)\n",
    "            \n",
    "            \n",
    "            \n",
    "# # p2_airborne, p2_combo_count, p2_dmg, p2_direction, p2_flags, p2_ground, p2_hit_stun, \\\n",
    "# # p2_jumps, p2_Lcancel, p2_last_attack_landed, p2_last_hit_by, p2_position, p2_shield, \\\n",
    "# # p2_state, p2_stage_age, p2_stocks, p2_cstick, p2_dmg, p2_direction, p2_joystick, \\\n",
    "# # p2_position, p2_state\n",
    "\n",
    "#     return pd.DataFrame({\n",
    "#         'game_id': game_id,\n",
    "#         'frame_index': index,\n",
    "        \n",
    "#         # p1\n",
    "#         'p1_cstick_x': p1_cstick_x,\n",
    "#         'p1_cstick_y': p1_cstick_y,\n",
    "#         'p1_joystick_x': p1_joystick_x,\n",
    "#         'p1_joystick_y': p1_joystick_y,\n",
    "#         'p1_trigger_analog': p1_button_dict['Trigger Analog'],\n",
    "#         'p1_Start': p1_button_dict['Start'],\n",
    "#         'p1_Y': p1_button_dict['Y'],\n",
    "#         'p1_X': p1_button_dict['X'],\n",
    "#         'p1_B': p1_button_dict['B'],\n",
    "#         'p1_A': p1_button_dict['A'],\n",
    "#         'p1_L': p1_button_dict['L'],\n",
    "#         'p1_R': p1_button_dict['R'],\n",
    "#         'p1_Z': p1_button_dict['Z'],\n",
    "#         'p1_Dpad_Up': p1_button_dict['Dpad-Up'],\n",
    "#         'p1_Dpad_Down': p1_button_dict['Dpad-Down'],\n",
    "#         'p1_Dpad_Right': p1_button_dict['Dpad-Right'],\n",
    "#         'p1_Dpad_Left': p1_button_dict['Dpad-Left'],\n",
    "#         'p1_combo_count': p1_combo_count,\n",
    "#         'p1_dmg': p1_dmg,\n",
    "#         'p1_direction': p1_direction,\n",
    "        \n",
    "#         # p2\n",
    "#         'p2_cstick_x': p2_cstick_x,\n",
    "#         'p2_cstick_y': p2_cstick_y,\n",
    "#         'p2_joystick_x': p2_joystick_x,\n",
    "#         'p2_joystick_y': p2_joystick_y,\n",
    "#         'p2_trigger_analog': p2_button_dict['Trigger Analog'],\n",
    "#         'p2_Start': p2_button_dict['Start'],\n",
    "#         'p2_Y': p2_button_dict['Y'],\n",
    "#         'p2_X': p2_button_dict['X'],\n",
    "#         'p2_B': p2_button_dict['B'],\n",
    "#         'p2_A': p2_button_dict['A'],\n",
    "#         'p2_L': p2_button_dict['L'],\n",
    "#         'p2_R': p2_button_dict['R'],\n",
    "#         'p2_Z': p2_button_dict['Z'],\n",
    "#         'p2_Dpad_Up': p2_button_dict['Dpad-Up'],\n",
    "#         'p2_Dpad_Down': p2_button_dict['Dpad-Down'],\n",
    "#         'p2_Dpad_Right': p2_button_dict['Dpad-Right'],\n",
    "#         'p2_Dpad_Left': p2_button_dict['Dpad-Left'],\n",
    "#         'p2_combo_count': p2_combo_count,\n",
    "#         'p2_dmg': p2_dmg,\n",
    "#         'p2_direction': p2_direction\n",
    "        \n",
    "#     })"
   ]
  },
  {
   "cell_type": "code",
   "execution_count": null,
   "metadata": {},
   "outputs": [],
   "source": []
  },
  {
   "cell_type": "code",
   "execution_count": null,
   "metadata": {},
   "outputs": [],
   "source": []
  },
  {
   "cell_type": "code",
   "execution_count": null,
   "metadata": {},
   "outputs": [],
   "source": []
  },
  {
   "cell_type": "code",
   "execution_count": null,
   "metadata": {},
   "outputs": [],
   "source": []
  },
  {
   "cell_type": "code",
   "execution_count": null,
   "metadata": {},
   "outputs": [],
   "source": []
  },
  {
   "cell_type": "code",
   "execution_count": null,
   "metadata": {},
   "outputs": [],
   "source": []
  },
  {
   "cell_type": "code",
   "execution_count": null,
   "metadata": {},
   "outputs": [],
   "source": []
  },
  {
   "cell_type": "code",
   "execution_count": 122,
   "metadata": {},
   "outputs": [],
   "source": [
    "def frames_to_df(slp_paths):\n",
    "    length = len(slp_paths)\n",
    "    count = 0\n",
    "    \n",
    "    fox_button_dict = {'Trigger Analog':[],'Start': [],'Y': [],'X': [],'B': [],'A': [],'L': [],'R': [],\n",
    "                      'Z': [],'Dpad-Up': [],'Dpad-Down': [],'Dpad-Right': [],'Dpad-Left': []}\n",
    "    \n",
    "    nfox_button_dict = {'Trigger Analog':[],'Start': [],'Y': [],'X': [],'B': [],'A': [],'L': [],'R': [],\n",
    "                      'Z': [],'Dpad-Up': [],'Dpad-Down': [],'Dpad-Right': [],'Dpad-Left': []}\n",
    "    \n",
    "    # foreign key to metadata dataframe\n",
    "    game_id = list()\n",
    "    \n",
    "    # frame index\n",
    "    index = list()\n",
    "    \n",
    "    # feature per frame for fox\n",
    "    fox_combo_count, fox_dmg, fox_direction, \\\n",
    "    fox_Lcancel, ffox_last_attack_landed, fox_last_hit_by, fox_position_x, fox_position_y, \\\n",
    "    fox_shield, fox_state, fox_stage_age, fox_stocks, fox_cstick_x, fox_cstick_y, fox_dmg, fox_direction, \\\n",
    "    fox_joystick_x, fox_joystick_y,  fox_position, fox_raw_analog_x, fox_state, fox_state_age = list(), list(), list(), \\\n",
    "    list(), list(), list(), list(), list(), list(), list(), list(), list(), list(), list(), list(), \\\n",
    "    list(), list(), list(), list(), list(), list(), list()\n",
    "    \n",
    "    # feature per frame for not fox\n",
    "    nfox_combo_count, nfox_dmg, nfox_direction, \\\n",
    "    nfox_Lcancel, nfox_last_attack_landed, nfox_last_hit_by, nfox_position_x, nfox_position_y, \\\n",
    "    nfox_shield, nfox_state, p2_stage_age, nfox_stocks, nfox_cstick_x, nfox_cstick_y, nfox_dmg, nfox_direction, \\\n",
    "    nfox_joystick_x, nfox_joystick_y, nfox_position, nfox_raw_analog_x, nfox_state, nfox_state_age = list(), list(), list(), \\\n",
    "    list(), list(), list(), list(), list(), list(), list(), list(), list(), list(), list(), list(), \\\n",
    "    list(), list(), list(), list(), list(), list(), list()\n",
    "    \n",
    "    for path in slp_paths:\n",
    "        \n",
    "        curr_gameid = slp_paths[count].split('/')[-1].strip('Game_').strip('.slp')\n",
    "#         count += 1\n",
    "        print(f'Parsing file {count + 1} of {length}: {round((count + 1) / length * 100, 2)}%')\n",
    "        try:\n",
    "            game = slp.Game(path)\n",
    "        except:\n",
    "            print(f'Skip game {count + 1} of {length}')\n",
    "            continue\n",
    "\n",
    "        # get fox ports and non-fox ports\n",
    "        fox_ports = [df_falco_fd.loc[ident, 'p1_port'] if df_falco_fd.loc[ident, 'p1_char_name'] == 'Fox' else df_falco_fd.loc[ident, 'p2_port'] for ident in df_falco_fd.index]\n",
    "        nfox_ports = [df_falco_fd.loc[ident, 'p1_port'] if df_falco_fd.loc[ident, 'p1_char_name'] != 'Fox' else df_falco_fd.loc[ident, 'p2_port'] for ident in df_falco_fd.index]\n",
    "        \n",
    "        # for each Frame object of all frames in a specific game\n",
    "        frame_length = len(game.frames)\n",
    "        frame_count = 0\n",
    "        for frame in game.frames:\n",
    "            frame_count += 1\n",
    "            print(f'Parsing frame {frame_count} of {frame_length}: {round(frame_count / frame_length * 100, 2)}%', end = '\\r')\n",
    "            game_id.append(curr_gameid)\n",
    "            \n",
    "            index.append(frame.index)\n",
    "            \n",
    "            fox_cstick_x.append(frame.ports[fox_port[count]].leader.pre.cstick.x)\n",
    "            nfox_cstick_x.append(frame.ports[nfox_ports[count]].leader.pre.cstick.x)\n",
    "\n",
    "            fox_cstick_y.append(frame.ports[fox_ports[count]].leader.pre.cstick.y)\n",
    "            nfox_cstick_y.append(frame.ports[nfox_ports[count]].leader.pre.cstick.y)\n",
    "            \n",
    "            fox_joystick_x.append(frame.ports[fox_ports[count]].leader.pre.joystick.x)\n",
    "            nfox_joystick_x.append(frame.ports[nfox_ports[count]].leader.pre.joystick.x)\n",
    "            \n",
    "            fox_joystick_y.append(frame.ports[fox_ports[count]].leader.pre.joystick.y)\n",
    "            nfox_joystick_y.append(frame.ports[nfox_ports[count]].leader.pre.joystick.y)\n",
    "            \n",
    "            fox_combo_count.append(frame.ports[fox_ports[count]].leader.post.combo_count)\n",
    "            nfox_combo_count.append(frame.ports[nfox_ports[count]].leader.post.combo_count)\n",
    "            \n",
    "            fox_dmg.append(frame.ports[fox_ports[count]].leader.post.damage)\n",
    "            nfox_dmg.append(frame.ports[nfox_ports[count]].leader.post.damage)\n",
    "            \n",
    "            fox_direction.append(frame.ports[fox_ports[count]].leader.post.direction)\n",
    "            nfox_direction.append(frame.ports[nfox_ports[count]].leader.post.direction)\n",
    "            \n",
    "            fox_Lcancel.append(frame.ports[fox_ports[count]].leader.post.l_cancel)\n",
    "            nfox_Lcancel.append(frame.ports[nfox_ports[count]].leader.post.l_cancel)\n",
    "            \n",
    "            fox_last_hit_by.append(frame.ports[fox_ports[count]].leader.post.last_hit_by)\n",
    "            nfox_last_hit_by.append(frame.ports[nfox_ports[count]].leader.post.last_hit_by)\n",
    "            \n",
    "            fox_position_x.append(frame.ports[fox_ports[count]].leader.post.position.x)\n",
    "            nfox_position_x.append(frame.ports[nfox_ports[count]].leader.post.position.x)\n",
    "            \n",
    "            fox_position_y.append(frame.ports[fox_ports[count]].leader.post.position.y)\n",
    "            nfox_position_y.append(frame.ports[nfox_ports[count]].leader.post.position.y)\n",
    "            \n",
    "            fox_shield.append(frame.ports[fox_ports[count]].leader.post.shield)\n",
    "            nfox_shield.append(frame.ports[nfox_ports[count]].leader.post.shield)\n",
    "            \n",
    "            fox_state.append(frame.ports[fox_ports[count]].leader.post.state)\n",
    "            nfox_state.append(frame.ports[nfox_ports[count]].leader.post.state)\n",
    "            \n",
    "            fox_state_age.append(frame.ports[fox_ports[count]].leader.post.state_age)\n",
    "            nfox_state_age.append(frame.ports[nfox_ports[count]].leader.post.state_age)\n",
    "            \n",
    "            fox_stocks.append(frame.ports[fox_ports[count]].leader.post.stocks)\n",
    "            nfox_stocks.append(frame.ports[nfox_ports[count]].leader.post.stocks)\n",
    "            \n",
    "            fox_ins = str(frame.ports[fox_ports[count]].leader.pre.buttons.logical).split('.')[1].split('|')\n",
    "            for button in fox_button_dict:\n",
    "                if button in fox_ins:\n",
    "                    fox_button_dict[button].append(1)\n",
    "                else:\n",
    "                    fox_button_dict[button].append(0)\n",
    "            \n",
    "            nfox_ins = str(frame.ports[nfox_ports[count]].leader.pre.buttons.logical).split('.')[1].split('|')\n",
    "            for button in nfox_button_dict:\n",
    "                if button in nfox_ins:\n",
    "                    nfox_button_dict[button].append(1)\n",
    "                else:\n",
    "                    nfox_button_dict[button].append(0)\n",
    "            \n",
    "        count += 1\n",
    "            \n",
    "# p2_airborne, p2_combo_count, p2_dmg, p2_direction, p2_flags, p2_ground, p2_hit_stun, \\\n",
    "# p2_jumps, p2_Lcancel, p2_last_attack_landed, p2_last_hit_by, p2_position, p2_shield, \\\n",
    "# p2_state, p2_stage_age, p2_stocks, p2_cstick, p2_dmg, p2_direction, p2_joystick, \\\n",
    "# p2_position, p2_state\n",
    "\n",
    "    return pd.DataFrame({\n",
    "        'game_id': game_id,\n",
    "        'frame_index': index,\n",
    "        \n",
    "        # p1\n",
    "        'fox_cstick_x': fox_cstick_x,\n",
    "        'fox_cstick_y': fox_cstick_y,\n",
    "        'fox_joystick_x': fox_joystick_x,\n",
    "        'fox_joystick_y': fox_joystick_y,\n",
    "        'fox_trigger_analog': fox_button_dict['Trigger Analog'],\n",
    "        'fox_Start': fox_button_dict['Start'],\n",
    "        'fox_Y': fox_button_dict['Y'],\n",
    "        'fox_X': fox_button_dict['X'],\n",
    "        'fox_B': fox_button_dict['B'],\n",
    "        'fox_A': fox_button_dict['A'],\n",
    "        'fox_L': fox_button_dict['L'],\n",
    "        'fox_R': fox_button_dict['R'],\n",
    "        'fox_Z': fox_button_dict['Z'],\n",
    "        'fox_Dpad_Up': fox_button_dict['Dpad-Up'],\n",
    "        'fox_Dpad_Down': fox_button_dict['Dpad-Down'],\n",
    "        'fox_Dpad_Right': fox_button_dict['Dpad-Right'],\n",
    "        'fox_Dpad_Left': fox_button_dict['Dpad-Left'],\n",
    "        'fox_combo_count': fox_combo_count,\n",
    "        'fox_dmg': fox_dmg,\n",
    "        'fox_direction': fox_direction,\n",
    "        \n",
    "        # p2\n",
    "        'nfox_cstick_x': nfox_cstick_x,\n",
    "        'nfox_cstick_y': nfox_cstick_y,\n",
    "        'nfox_joystick_x': nfox_joystick_x,\n",
    "        'nfox_joystick_y': nfox_joystick_y,\n",
    "        'nfox_foxigger_analog': nfox_button_dict['Trigger Analog'],\n",
    "        'nfox_Start': nfox_button_dict['Start'],\n",
    "        'nfox_Y': nfox_button_dict['Y'],\n",
    "        'nfox_X': nfox_button_dict['X'],\n",
    "        'nfox_B': nfox_button_dict['B'],\n",
    "        'nfox_A': nfox_button_dict['A'],\n",
    "        'nfox_L': nfox_button_dict['L'],\n",
    "        'nfox_R': nfox_button_dict['R'],\n",
    "        'nfox_Z': nfox_button_dict['Z'],\n",
    "        'nfox_Dpad_Up': nfox_button_dict['Dpad-Up'],\n",
    "        'nfox_Dpad_Down': nfox_button_dict['Dpad-Down'],\n",
    "        'nfox_Dpad_Right': nfox_button_dict['Dpad-Right'],\n",
    "        'nfox_Dpad_Left': nfox_button_dict['Dpad-Left'],\n",
    "        'nfox_combo_count': nfox_combo_count,\n",
    "        'nfox_2_dmg': nfox_dmg,\n",
    "        'nfox_direction': nfox_direction\n",
    "    })"
   ]
  },
  {
   "cell_type": "code",
   "execution_count": 123,
   "metadata": {
    "scrolled": true
   },
   "outputs": [
    {
     "name": "stdout",
     "output_type": "stream",
     "text": [
      "Parsing file 1 of 3: 33.33%\n",
      "Parsing file 2 of 3: 66.67% 100.0%\n",
      "Parsing file 3 of 3: 100.0% 100.0%\n",
      "Parsing frame 8206 of 8206: 100.0%\r"
     ]
    },
    {
     "data": {
      "text/html": [
       "<div>\n",
       "<style scoped>\n",
       "    .dataframe tbody tr th:only-of-type {\n",
       "        vertical-align: middle;\n",
       "    }\n",
       "\n",
       "    .dataframe tbody tr th {\n",
       "        vertical-align: top;\n",
       "    }\n",
       "\n",
       "    .dataframe thead th {\n",
       "        text-align: right;\n",
       "    }\n",
       "</style>\n",
       "<table border=\"1\" class=\"dataframe\">\n",
       "  <thead>\n",
       "    <tr style=\"text-align: right;\">\n",
       "      <th></th>\n",
       "      <th>game_id</th>\n",
       "      <th>frame_index</th>\n",
       "      <th>fox_cstick_x</th>\n",
       "      <th>fox_cstick_y</th>\n",
       "      <th>fox_joystick_x</th>\n",
       "      <th>fox_joystick_y</th>\n",
       "      <th>fox_trigger_analog</th>\n",
       "      <th>fox_Start</th>\n",
       "      <th>fox_Y</th>\n",
       "      <th>fox_X</th>\n",
       "      <th>...</th>\n",
       "      <th>nfox_L</th>\n",
       "      <th>nfox_R</th>\n",
       "      <th>nfox_Z</th>\n",
       "      <th>nfox_Dpad_Up</th>\n",
       "      <th>nfox_Dpad_Down</th>\n",
       "      <th>nfox_Dpad_Right</th>\n",
       "      <th>nfox_Dpad_Left</th>\n",
       "      <th>nfox_combo_count</th>\n",
       "      <th>nfox_2_dmg</th>\n",
       "      <th>nfox_direction</th>\n",
       "    </tr>\n",
       "  </thead>\n",
       "  <tbody>\n",
       "    <tr>\n",
       "      <th>0</th>\n",
       "      <td>20190406T144505</td>\n",
       "      <td>-123</td>\n",
       "      <td>0.0</td>\n",
       "      <td>0.0</td>\n",
       "      <td>0.0</td>\n",
       "      <td>0.0</td>\n",
       "      <td>0</td>\n",
       "      <td>0</td>\n",
       "      <td>0</td>\n",
       "      <td>0</td>\n",
       "      <td>...</td>\n",
       "      <td>0</td>\n",
       "      <td>0</td>\n",
       "      <td>0</td>\n",
       "      <td>0</td>\n",
       "      <td>0</td>\n",
       "      <td>0</td>\n",
       "      <td>0</td>\n",
       "      <td>0</td>\n",
       "      <td>0.0</td>\n",
       "      <td>1</td>\n",
       "    </tr>\n",
       "    <tr>\n",
       "      <th>1</th>\n",
       "      <td>20190406T144505</td>\n",
       "      <td>-122</td>\n",
       "      <td>0.0</td>\n",
       "      <td>0.0</td>\n",
       "      <td>0.0</td>\n",
       "      <td>0.0</td>\n",
       "      <td>0</td>\n",
       "      <td>0</td>\n",
       "      <td>0</td>\n",
       "      <td>0</td>\n",
       "      <td>...</td>\n",
       "      <td>0</td>\n",
       "      <td>0</td>\n",
       "      <td>0</td>\n",
       "      <td>0</td>\n",
       "      <td>0</td>\n",
       "      <td>0</td>\n",
       "      <td>0</td>\n",
       "      <td>0</td>\n",
       "      <td>0.0</td>\n",
       "      <td>1</td>\n",
       "    </tr>\n",
       "    <tr>\n",
       "      <th>2</th>\n",
       "      <td>20190406T144505</td>\n",
       "      <td>-121</td>\n",
       "      <td>0.0</td>\n",
       "      <td>0.0</td>\n",
       "      <td>0.0</td>\n",
       "      <td>0.0</td>\n",
       "      <td>0</td>\n",
       "      <td>0</td>\n",
       "      <td>0</td>\n",
       "      <td>0</td>\n",
       "      <td>...</td>\n",
       "      <td>0</td>\n",
       "      <td>0</td>\n",
       "      <td>0</td>\n",
       "      <td>0</td>\n",
       "      <td>0</td>\n",
       "      <td>0</td>\n",
       "      <td>0</td>\n",
       "      <td>0</td>\n",
       "      <td>0.0</td>\n",
       "      <td>1</td>\n",
       "    </tr>\n",
       "    <tr>\n",
       "      <th>3</th>\n",
       "      <td>20190406T144505</td>\n",
       "      <td>-120</td>\n",
       "      <td>0.0</td>\n",
       "      <td>0.0</td>\n",
       "      <td>0.0</td>\n",
       "      <td>0.0</td>\n",
       "      <td>0</td>\n",
       "      <td>0</td>\n",
       "      <td>0</td>\n",
       "      <td>0</td>\n",
       "      <td>...</td>\n",
       "      <td>0</td>\n",
       "      <td>0</td>\n",
       "      <td>0</td>\n",
       "      <td>0</td>\n",
       "      <td>0</td>\n",
       "      <td>0</td>\n",
       "      <td>0</td>\n",
       "      <td>0</td>\n",
       "      <td>0.0</td>\n",
       "      <td>1</td>\n",
       "    </tr>\n",
       "    <tr>\n",
       "      <th>4</th>\n",
       "      <td>20190406T144505</td>\n",
       "      <td>-119</td>\n",
       "      <td>0.0</td>\n",
       "      <td>0.0</td>\n",
       "      <td>0.0</td>\n",
       "      <td>0.0</td>\n",
       "      <td>0</td>\n",
       "      <td>0</td>\n",
       "      <td>0</td>\n",
       "      <td>0</td>\n",
       "      <td>...</td>\n",
       "      <td>0</td>\n",
       "      <td>0</td>\n",
       "      <td>0</td>\n",
       "      <td>0</td>\n",
       "      <td>0</td>\n",
       "      <td>0</td>\n",
       "      <td>0</td>\n",
       "      <td>0</td>\n",
       "      <td>0.0</td>\n",
       "      <td>1</td>\n",
       "    </tr>\n",
       "  </tbody>\n",
       "</table>\n",
       "<p>5 rows × 42 columns</p>\n",
       "</div>"
      ],
      "text/plain": [
       "           game_id  frame_index  fox_cstick_x  fox_cstick_y  fox_joystick_x  \\\n",
       "0  20190406T144505         -123           0.0           0.0             0.0   \n",
       "1  20190406T144505         -122           0.0           0.0             0.0   \n",
       "2  20190406T144505         -121           0.0           0.0             0.0   \n",
       "3  20190406T144505         -120           0.0           0.0             0.0   \n",
       "4  20190406T144505         -119           0.0           0.0             0.0   \n",
       "\n",
       "   fox_joystick_y  fox_trigger_analog  fox_Start  fox_Y  fox_X  ...  nfox_L  \\\n",
       "0             0.0                   0          0      0      0  ...       0   \n",
       "1             0.0                   0          0      0      0  ...       0   \n",
       "2             0.0                   0          0      0      0  ...       0   \n",
       "3             0.0                   0          0      0      0  ...       0   \n",
       "4             0.0                   0          0      0      0  ...       0   \n",
       "\n",
       "   nfox_R  nfox_Z  nfox_Dpad_Up  nfox_Dpad_Down  nfox_Dpad_Right  \\\n",
       "0       0       0             0               0                0   \n",
       "1       0       0             0               0                0   \n",
       "2       0       0             0               0                0   \n",
       "3       0       0             0               0                0   \n",
       "4       0       0             0               0                0   \n",
       "\n",
       "   nfox_Dpad_Left  nfox_combo_count  nfox_2_dmg  nfox_direction  \n",
       "0               0                 0         0.0               1  \n",
       "1               0                 0         0.0               1  \n",
       "2               0                 0         0.0               1  \n",
       "3               0                 0         0.0               1  \n",
       "4               0                 0         0.0               1  \n",
       "\n",
       "[5 rows x 42 columns]"
      ]
     },
     "execution_count": 123,
     "metadata": {},
     "output_type": "execute_result"
    }
   ],
   "source": [
    "test = frames_to_df(falco_fd_games[:3])\n",
    "test.head()"
   ]
  },
  {
   "cell_type": "code",
   "execution_count": null,
   "metadata": {},
   "outputs": [],
   "source": [
    "game.frames[0].ports[0].leader.pre.cstick"
   ]
  },
  {
   "cell_type": "code",
   "execution_count": null,
   "metadata": {},
   "outputs": [],
   "source": []
  },
  {
   "cell_type": "code",
   "execution_count": null,
   "metadata": {},
   "outputs": [],
   "source": []
  },
  {
   "cell_type": "markdown",
   "metadata": {},
   "source": [
    "## Extracting Frame Data from Games "
   ]
  },
  {
   "cell_type": "code",
   "execution_count": null,
   "metadata": {},
   "outputs": [],
   "source": [
    "fight_pitt_9[215]"
   ]
  },
  {
   "cell_type": "code",
   "execution_count": null,
   "metadata": {},
   "outputs": [],
   "source": []
  },
  {
   "cell_type": "code",
   "execution_count": null,
   "metadata": {},
   "outputs": [],
   "source": [
    "game = slp.Game(fight_pitt_9[215])\n",
    "game.metadata.duration"
   ]
  },
  {
   "cell_type": "code",
   "execution_count": null,
   "metadata": {},
   "outputs": [],
   "source": [
    "frames = game.frames\n",
    "frames"
   ]
  },
  {
   "cell_type": "code",
   "execution_count": null,
   "metadata": {},
   "outputs": [],
   "source": [
    "frames[0].ports[2].leader.post.state"
   ]
  },
  {
   "cell_type": "code",
   "execution_count": null,
   "metadata": {},
   "outputs": [],
   "source": [
    "frames[60].ports[2].leader.pre.buttons"
   ]
  },
  {
   "cell_type": "code",
   "execution_count": null,
   "metadata": {},
   "outputs": [],
   "source": [
    "frames[60].ports[2].leader.pre.triggers"
   ]
  },
  {
   "cell_type": "code",
   "execution_count": null,
   "metadata": {},
   "outputs": [],
   "source": []
  },
  {
   "cell_type": "code",
   "execution_count": null,
   "metadata": {},
   "outputs": [],
   "source": [
    "# def remove_init_frames(game):\n",
    "#     return [frame for frame in frames if frame.index >= 0]"
   ]
  },
  {
   "cell_type": "code",
   "execution_count": null,
   "metadata": {},
   "outputs": [],
   "source": [
    "# frames = remove_init_frames(game)"
   ]
  },
  {
   "cell_type": "markdown",
   "metadata": {},
   "source": [
    "### Index"
   ]
  },
  {
   "cell_type": "code",
   "execution_count": null,
   "metadata": {},
   "outputs": [],
   "source": [
    "frames[0].index"
   ]
  },
  {
   "cell_type": "markdown",
   "metadata": {},
   "source": [
    "## Player 1 Information\n",
    "\n",
    "### Direction"
   ]
  },
  {
   "cell_type": "code",
   "execution_count": null,
   "metadata": {},
   "outputs": [],
   "source": []
  },
  {
   "cell_type": "code",
   "execution_count": null,
   "metadata": {},
   "outputs": [],
   "source": [
    "frames[0].ports[3]"
   ]
  },
  {
   "cell_type": "markdown",
   "metadata": {},
   "source": [
    "### "
   ]
  },
  {
   "cell_type": "code",
   "execution_count": null,
   "metadata": {},
   "outputs": [],
   "source": [
    "for i in range(len(frames)):\n",
    "    if frames[i].ports[3].leader.post.state == 191:\n",
    "        print(i)\n",
    "        print(frames[i].ports[3].leader.post.state)\n",
    "        print()"
   ]
  },
  {
   "cell_type": "code",
   "execution_count": null,
   "metadata": {},
   "outputs": [],
   "source": [
    "frames[0].ports"
   ]
  },
  {
   "cell_type": "code",
   "execution_count": null,
   "metadata": {},
   "outputs": [],
   "source": [
    "frames[0].ports[df_falco_fd.loc[213, 'p1_port']]"
   ]
  },
  {
   "cell_type": "code",
   "execution_count": null,
   "metadata": {},
   "outputs": [],
   "source": [
    "ic_game = slp.Game(fight_pitt_9[0])"
   ]
  },
  {
   "cell_type": "code",
   "execution_count": null,
   "metadata": {},
   "outputs": [],
   "source": [
    "ic_game.frames[0].ports[0]"
   ]
  },
  {
   "cell_type": "code",
   "execution_count": null,
   "metadata": {},
   "outputs": [],
   "source": [
    "ic_game.start"
   ]
  },
  {
   "cell_type": "code",
   "execution_count": null,
   "metadata": {},
   "outputs": [],
   "source": [
    "for i in ic_game.frames[200:300]:\n",
    "    print(i.ports[3].leader.pre.buttons)"
   ]
  },
  {
   "cell_type": "code",
   "execution_count": null,
   "metadata": {},
   "outputs": [],
   "source": [
    "ic_game.frames[300].ports[3].leader.pre.buttons"
   ]
  },
  {
   "cell_type": "code",
   "execution_count": null,
   "metadata": {},
   "outputs": [],
   "source": [
    "df_fp9.loc[df_fp9['p1_char_name'] == 'Ice Climbers']"
   ]
  },
  {
   "cell_type": "code",
   "execution_count": null,
   "metadata": {},
   "outputs": [],
   "source": [
    "df_falco_fd.loc[213, 'p1_port']"
   ]
  },
  {
   "cell_type": "markdown",
   "metadata": {},
   "source": [
    "### Get active ports"
   ]
  },
  {
   "cell_type": "markdown",
   "metadata": {},
   "source": [
    "This will be taken from the df_falco_fd or df_marth_fd dataframe."
   ]
  },
  {
   "cell_type": "code",
   "execution_count": null,
   "metadata": {},
   "outputs": [],
   "source": [
    "df_falco_fd.head()"
   ]
  },
  {
   "cell_type": "code",
   "execution_count": null,
   "metadata": {},
   "outputs": [],
   "source": [
    "df_falco_fd.loc[213, 'p1_port']"
   ]
  },
  {
   "cell_type": "code",
   "execution_count": null,
   "metadata": {},
   "outputs": [],
   "source": [
    "df_falco_fd.loc[213, 'p2_port']"
   ]
  },
  {
   "cell_type": "code",
   "execution_count": null,
   "metadata": {},
   "outputs": [],
   "source": []
  },
  {
   "cell_type": "code",
   "execution_count": null,
   "metadata": {
    "scrolled": true
   },
   "outputs": [],
   "source": [
    "frames[0].ports[0]"
   ]
  },
  {
   "cell_type": "code",
   "execution_count": null,
   "metadata": {},
   "outputs": [],
   "source": [
    "frames[0].ports[3].leader.post.position"
   ]
  },
  {
   "cell_type": "code",
   "execution_count": null,
   "metadata": {},
   "outputs": [],
   "source": [
    "frames[0]"
   ]
  },
  {
   "cell_type": "code",
   "execution_count": null,
   "metadata": {},
   "outputs": [],
   "source": []
  },
  {
   "cell_type": "code",
   "execution_count": null,
   "metadata": {},
   "outputs": [],
   "source": []
  },
  {
   "cell_type": "code",
   "execution_count": null,
   "metadata": {},
   "outputs": [],
   "source": []
  },
  {
   "cell_type": "code",
   "execution_count": null,
   "metadata": {},
   "outputs": [],
   "source": []
  },
  {
   "cell_type": "code",
   "execution_count": null,
   "metadata": {},
   "outputs": [],
   "source": []
  },
  {
   "cell_type": "code",
   "execution_count": null,
   "metadata": {},
   "outputs": [],
   "source": [
    "game.metadata.duration"
   ]
  },
  {
   "cell_type": "code",
   "execution_count": null,
   "metadata": {},
   "outputs": [],
   "source": []
  },
  {
   "cell_type": "code",
   "execution_count": null,
   "metadata": {},
   "outputs": [],
   "source": [
    "test_game.start"
   ]
  },
  {
   "cell_type": "code",
   "execution_count": null,
   "metadata": {},
   "outputs": [],
   "source": [
    "frame = test_game.frames[0]\n",
    "frame"
   ]
  },
  {
   "cell_type": "code",
   "execution_count": null,
   "metadata": {},
   "outputs": [],
   "source": [
    "frame.ports[0].leader.post"
   ]
  },
  {
   "cell_type": "code",
   "execution_count": null,
   "metadata": {},
   "outputs": [],
   "source": [
    "frame.ports[0].leader.pre"
   ]
  },
  {
   "cell_type": "code",
   "execution_count": null,
   "metadata": {},
   "outputs": [],
   "source": [
    "frame.ports[0].leader.post."
   ]
  },
  {
   "cell_type": "code",
   "execution_count": null,
   "metadata": {},
   "outputs": [],
   "source": [
    "pd.Series({})"
   ]
  },
  {
   "cell_type": "code",
   "execution_count": null,
   "metadata": {},
   "outputs": [],
   "source": [
    "frame.index"
   ]
  },
  {
   "cell_type": "code",
   "execution_count": null,
   "metadata": {},
   "outputs": [],
   "source": [
    "len(other_game.frames)"
   ]
  },
  {
   "cell_type": "code",
   "execution_count": null,
   "metadata": {},
   "outputs": [],
   "source": [
    "count = 0\n",
    "for i in range(len(other_game.frames)):\n",
    "    if other_game.frames[i].ports[1].leader.post.last_attack_landed != None:\n",
    "#         print(other_game.frames[i].ports[1].leader.post)\n",
    "        count += 1\n",
    "print(count)"
   ]
  },
  {
   "cell_type": "code",
   "execution_count": null,
   "metadata": {},
   "outputs": [],
   "source": [
    "frame.ports"
   ]
  },
  {
   "cell_type": "code",
   "execution_count": null,
   "metadata": {},
   "outputs": [],
   "source": [
    "def frames_to_df(slp_paths):\n",
    "    '''\n",
    "    Of a collection of games, store each individual frame as a dataframe.\n",
    "    \n",
    "    slp_paths (list): each value is the file path to games\n",
    "    returns a dataframe\n",
    "    '''\n",
    "    "
   ]
  },
  {
   "cell_type": "markdown",
   "metadata": {},
   "source": [
    "```python\n",
    "def metadata_to_df(slp_paths):\n",
    "    '''\n",
    "    Of a collection of games, store the metadata as a dataframe.\n",
    "    \n",
    "    slp_paths (list): each value is the file path to games\n",
    "    returns a dataframe\n",
    "    '''\n",
    "    dates, durations, plats, p1_ports, p1_chars, p2_ports, p2_chars = list(), list(), list(), list(), list(), list(), list()\n",
    "    if len(slp_paths) == 1:\n",
    "        game = slp.Game(slp_paths[0])\n",
    "        ports = [game.metadata.players.index(port) for port in game.metadata.players if port != None]\n",
    "        characters = [char for port in ports for char in game.metadata.players[port].characters]\n",
    "        try:\n",
    "            return pd.Series({\n",
    "                'date': game.metadata.date,\n",
    "                'duration': game.metadata.duration,\n",
    "                'platform': game.metadata.platform,\n",
    "                'p1_port': ports[0],\n",
    "                'p1_char': characters[0],\n",
    "                'p2_port': ports[1],\n",
    "                'p2_char': characters[1]\n",
    "            })\n",
    "        except:\n",
    "            return pd.Series({\n",
    "                'date': game.metadata.date,\n",
    "                'duration': game.metadata.duration,\n",
    "                'platform': game.metadata.platform,\n",
    "                'p1_port': '',\n",
    "                'p1_char': '',\n",
    "                'p2_port': '',\n",
    "                'p2_char': ''\n",
    "            })\n",
    "    else:\n",
    "        for path in slp_paths:\n",
    "            try:\n",
    "                game = slp.Game(path)\n",
    "            except:\n",
    "                continue\n",
    "            dates.append(game.metadata.date)\n",
    "            durations.append(game.metadata.duration)\n",
    "            plats.append(game.metadata.platform)\n",
    "\n",
    "            # get active ports\n",
    "            ports = [game.metadata.players.index(port) for port in game.metadata.players if port != None]\n",
    "            try:\n",
    "                p1_ports.append(ports[0])\n",
    "                p2_ports.append(ports[1])\n",
    "            except:\n",
    "                p1_ports.append('')\n",
    "                p2_ports.append('')\n",
    "\n",
    "            # get characters\n",
    "            characters = [char for port in ports for char in game.metadata.players[port].characters]\n",
    "            try:\n",
    "                p1_chars.append(characters[0])\n",
    "                p2_chars.append(characters[1])\n",
    "            except:\n",
    "                p1_chars.append('')\n",
    "                p2_chars.append('')\n",
    "        return pd.DataFrame(data = {\n",
    "                'date': dates,\n",
    "                'duration': durations,\n",
    "                'platform': plats,\n",
    "                'p1_port': p1_ports,\n",
    "                'p1_char': p1_chars,\n",
    "                'p2_port': p2_ports,\n",
    "                'p2_char': p2_chars\n",
    "            })\n",
    "    return None```"
   ]
  },
  {
   "cell_type": "code",
   "execution_count": null,
   "metadata": {},
   "outputs": [],
   "source": [
    "slp.Game(fight_pitt_9[0]).start"
   ]
  },
  {
   "cell_type": "code",
   "execution_count": null,
   "metadata": {},
   "outputs": [],
   "source": [
    "df_fp9.tail()"
   ]
  },
  {
   "cell_type": "markdown",
   "metadata": {},
   "source": [
    "### Data Dictionary\n",
    "\n"
   ]
  },
  {
   "cell_type": "markdown",
   "metadata": {},
   "source": [
    "I want each row to be a single frame. Columns will be\n",
    "- binary controller inputs: A, B, X, Y, Z, Directional Pad, Start.\n",
    "- Continuous(?) inputs from 0 to 1: L and R\n",
    "- Continuous(?) inputs from -1 to 1 on each axis: Analog stick and C-stick\n",
    "- stage (`game.start.stage`)\n",
    "- position of selected player (`game.frames[n].ports[m].leader.pre.position`)\n",
    "- direction the selected player is facing (\n",
    "\n",
    "Do I want a dataframe per player per game?\n",
    "\n",
    "Do I want to use pre-frame or post-frame information?\n",
    "\n"
   ]
  },
  {
   "cell_type": "code",
   "execution_count": null,
   "metadata": {},
   "outputs": [],
   "source": [
    "slp.id.ActionState.ENTRY_START"
   ]
  },
  {
   "cell_type": "code",
   "execution_count": null,
   "metadata": {},
   "outputs": [],
   "source": []
  },
  {
   "cell_type": "code",
   "execution_count": null,
   "metadata": {},
   "outputs": [],
   "source": [
    "def after_entry(game):\n",
    "    for frame in game.frames:\n",
    "        if frame.ports[1].leader.pre.state != slp.id.ActionState.ENTRY_START \\\n",
    "        and frame.ports[1].leader.pre.state != slp.id.ActionState.ENTRY_END \\\n",
    "        and frame.ports[1].leader.pre.state != slp.id.ActionState.ENTRY:\n",
    "            return frame\n",
    "after_entry(game).ports[0].leader.pre.state"
   ]
  },
  {
   "cell_type": "code",
   "execution_count": null,
   "metadata": {},
   "outputs": [],
   "source": [
    "game.frames[0].ports[1].leader.pre.state"
   ]
  },
  {
   "cell_type": "code",
   "execution_count": null,
   "metadata": {},
   "outputs": [],
   "source": [
    "game.frames[20].ports[1].leader.pre.state"
   ]
  },
  {
   "cell_type": "code",
   "execution_count": null,
   "metadata": {},
   "outputs": [],
   "source": [
    "game.frames[0].ports[1].leader.pre.position"
   ]
  },
  {
   "cell_type": "code",
   "execution_count": null,
   "metadata": {},
   "outputs": [],
   "source": [
    "game.frames[2354].ports[1].leader.pre.buttons"
   ]
  },
  {
   "cell_type": "code",
   "execution_count": null,
   "metadata": {},
   "outputs": [],
   "source": [
    "game.frames[0].ports[1].leader.pre.buttons"
   ]
  },
  {
   "cell_type": "code",
   "execution_count": null,
   "metadata": {},
   "outputs": [],
   "source": [
    "game.frames[0].ports[1].leader.post"
   ]
  },
  {
   "cell_type": "code",
   "execution_count": null,
   "metadata": {},
   "outputs": [],
   "source": [
    "game.frames[0]"
   ]
  },
  {
   "cell_type": "code",
   "execution_count": null,
   "metadata": {},
   "outputs": [],
   "source": [
    "frame_index = [frame.index for frame in frames]"
   ]
  },
  {
   "cell_type": "code",
   "execution_count": null,
   "metadata": {},
   "outputs": [],
   "source": [
    "frames[0].ports"
   ]
  },
  {
   "cell_type": "code",
   "execution_count": null,
   "metadata": {
    "scrolled": true
   },
   "outputs": [],
   "source": [
    "for frame in game.frames:\n",
    "    data = frame.ports[0].leader # see also: port.follower (ICs)\n",
    "    print(data.post.state) # character's post-frame action state"
   ]
  },
  {
   "cell_type": "code",
   "execution_count": null,
   "metadata": {},
   "outputs": [],
   "source": []
  },
  {
   "cell_type": "code",
   "execution_count": null,
   "metadata": {},
   "outputs": [],
   "source": []
  }
 ],
 "metadata": {
  "kernelspec": {
   "display_name": "Python 3",
   "language": "python",
   "name": "python3"
  },
  "language_info": {
   "codemirror_mode": {
    "name": "ipython",
    "version": 3
   },
   "file_extension": ".py",
   "mimetype": "text/x-python",
   "name": "python",
   "nbconvert_exporter": "python",
   "pygments_lexer": "ipython3",
   "version": "3.7.5"
  }
 },
 "nbformat": 4,
 "nbformat_minor": 2
}
