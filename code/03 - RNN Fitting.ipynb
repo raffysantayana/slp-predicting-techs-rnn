{
 "cells": [
  {
   "cell_type": "markdown",
   "metadata": {},
   "source": [
    "# Modeling Fox's Wake-Up Behavior\n",
    "## Table of Contents\n",
    "1. [Imports](#imports)\n",
    "2. [Reading in Data](#read)\n",
    "3. [Reducing Noise](#noise)\n",
    "4. [Modeling](#Modeling)\n",
    "\n",
    "<a id = 'imports'></a>\n",
    "## Imports"
   ]
  },
  {
   "cell_type": "code",
   "execution_count": 1,
   "metadata": {},
   "outputs": [],
   "source": [
    "import pandas as pd\n",
    "import numpy as np\n",
    "\n",
    "from sklearn.preprocessing import StandardScaler\n",
    "from sklearn.model_selection import train_test_split\n",
    "\n",
    "from tensorflow.keras.models import Sequential\n",
    "from tensorflow.keras.layers import Dense, Dropout, GRU\n",
    "from tensorflow.keras.optimizers import Adam\n",
    "from tensorflow.keras.preprocessing.sequence import TimeseriesGenerator\n",
    "from tensorflow.keras.utils import to_categorical\n",
    "from tensorflow.keras.callbacks import EarlyStopping\n",
    "from tensorflow.keras import regularizers\n",
    "\n",
    "import matplotlib.pyplot as plt\n",
    "%matplotlib inline"
   ]
  },
  {
   "cell_type": "markdown",
   "metadata": {},
   "source": [
    "<a id = 'read'></a>\n",
    "## Reading in Data"
   ]
  },
  {
   "cell_type": "code",
   "execution_count": 2,
   "metadata": {},
   "outputs": [
    {
     "data": {
      "text/html": [
       "<div>\n",
       "<style scoped>\n",
       "    .dataframe tbody tr th:only-of-type {\n",
       "        vertical-align: middle;\n",
       "    }\n",
       "\n",
       "    .dataframe tbody tr th {\n",
       "        vertical-align: top;\n",
       "    }\n",
       "\n",
       "    .dataframe thead th {\n",
       "        text-align: right;\n",
       "    }\n",
       "</style>\n",
       "<table border=\"1\" class=\"dataframe\">\n",
       "  <thead>\n",
       "    <tr style=\"text-align: right;\">\n",
       "      <th></th>\n",
       "      <th>Unnamed: 0</th>\n",
       "      <th>game_id</th>\n",
       "      <th>frame_index</th>\n",
       "      <th>fox_cstick_x</th>\n",
       "      <th>fox_cstick_y</th>\n",
       "      <th>fox_joystick_x</th>\n",
       "      <th>fox_joystick_y</th>\n",
       "      <th>fox_trigger_analog</th>\n",
       "      <th>fox_Start</th>\n",
       "      <th>fox_Y</th>\n",
       "      <th>...</th>\n",
       "      <th>nfox_combo_count</th>\n",
       "      <th>nfox_dmg</th>\n",
       "      <th>nfox_direction</th>\n",
       "      <th>nfox_last_hit_by</th>\n",
       "      <th>nfox_position_x</th>\n",
       "      <th>nfox_position_y</th>\n",
       "      <th>nfox_shield</th>\n",
       "      <th>nfox_state</th>\n",
       "      <th>nfox_state_age</th>\n",
       "      <th>nfox_stocks</th>\n",
       "    </tr>\n",
       "  </thead>\n",
       "  <tbody>\n",
       "    <tr>\n",
       "      <th>0</th>\n",
       "      <td>0</td>\n",
       "      <td>20190406T144505</td>\n",
       "      <td>-123</td>\n",
       "      <td>0.0</td>\n",
       "      <td>0.0</td>\n",
       "      <td>0.0</td>\n",
       "      <td>0.0</td>\n",
       "      <td>0</td>\n",
       "      <td>0</td>\n",
       "      <td>0</td>\n",
       "      <td>...</td>\n",
       "      <td>0</td>\n",
       "      <td>0.0</td>\n",
       "      <td>1</td>\n",
       "      <td>NaN</td>\n",
       "      <td>-60.0</td>\n",
       "      <td>10.0</td>\n",
       "      <td>60.0</td>\n",
       "      <td>322</td>\n",
       "      <td>-1.0</td>\n",
       "      <td>4</td>\n",
       "    </tr>\n",
       "    <tr>\n",
       "      <th>1</th>\n",
       "      <td>1</td>\n",
       "      <td>20190406T144505</td>\n",
       "      <td>-122</td>\n",
       "      <td>0.0</td>\n",
       "      <td>0.0</td>\n",
       "      <td>0.0</td>\n",
       "      <td>0.0</td>\n",
       "      <td>0</td>\n",
       "      <td>0</td>\n",
       "      <td>0</td>\n",
       "      <td>...</td>\n",
       "      <td>0</td>\n",
       "      <td>0.0</td>\n",
       "      <td>1</td>\n",
       "      <td>NaN</td>\n",
       "      <td>-60.0</td>\n",
       "      <td>10.0</td>\n",
       "      <td>60.0</td>\n",
       "      <td>322</td>\n",
       "      <td>-1.0</td>\n",
       "      <td>4</td>\n",
       "    </tr>\n",
       "    <tr>\n",
       "      <th>2</th>\n",
       "      <td>2</td>\n",
       "      <td>20190406T144505</td>\n",
       "      <td>-121</td>\n",
       "      <td>0.0</td>\n",
       "      <td>0.0</td>\n",
       "      <td>0.0</td>\n",
       "      <td>0.0</td>\n",
       "      <td>0</td>\n",
       "      <td>0</td>\n",
       "      <td>0</td>\n",
       "      <td>...</td>\n",
       "      <td>0</td>\n",
       "      <td>0.0</td>\n",
       "      <td>1</td>\n",
       "      <td>NaN</td>\n",
       "      <td>-60.0</td>\n",
       "      <td>10.0</td>\n",
       "      <td>60.0</td>\n",
       "      <td>322</td>\n",
       "      <td>-1.0</td>\n",
       "      <td>4</td>\n",
       "    </tr>\n",
       "    <tr>\n",
       "      <th>3</th>\n",
       "      <td>3</td>\n",
       "      <td>20190406T144505</td>\n",
       "      <td>-120</td>\n",
       "      <td>0.0</td>\n",
       "      <td>0.0</td>\n",
       "      <td>0.0</td>\n",
       "      <td>0.0</td>\n",
       "      <td>0</td>\n",
       "      <td>0</td>\n",
       "      <td>0</td>\n",
       "      <td>...</td>\n",
       "      <td>0</td>\n",
       "      <td>0.0</td>\n",
       "      <td>1</td>\n",
       "      <td>NaN</td>\n",
       "      <td>-60.0</td>\n",
       "      <td>10.0</td>\n",
       "      <td>60.0</td>\n",
       "      <td>322</td>\n",
       "      <td>-1.0</td>\n",
       "      <td>4</td>\n",
       "    </tr>\n",
       "    <tr>\n",
       "      <th>4</th>\n",
       "      <td>4</td>\n",
       "      <td>20190406T144505</td>\n",
       "      <td>-119</td>\n",
       "      <td>0.0</td>\n",
       "      <td>0.0</td>\n",
       "      <td>0.0</td>\n",
       "      <td>0.0</td>\n",
       "      <td>0</td>\n",
       "      <td>0</td>\n",
       "      <td>0</td>\n",
       "      <td>...</td>\n",
       "      <td>0</td>\n",
       "      <td>0.0</td>\n",
       "      <td>1</td>\n",
       "      <td>NaN</td>\n",
       "      <td>-60.0</td>\n",
       "      <td>10.0</td>\n",
       "      <td>60.0</td>\n",
       "      <td>322</td>\n",
       "      <td>-1.0</td>\n",
       "      <td>4</td>\n",
       "    </tr>\n",
       "  </tbody>\n",
       "</table>\n",
       "<p>5 rows × 57 columns</p>\n",
       "</div>"
      ],
      "text/plain": [
       "   Unnamed: 0          game_id  frame_index  fox_cstick_x  fox_cstick_y  \\\n",
       "0           0  20190406T144505         -123           0.0           0.0   \n",
       "1           1  20190406T144505         -122           0.0           0.0   \n",
       "2           2  20190406T144505         -121           0.0           0.0   \n",
       "3           3  20190406T144505         -120           0.0           0.0   \n",
       "4           4  20190406T144505         -119           0.0           0.0   \n",
       "\n",
       "   fox_joystick_x  fox_joystick_y  fox_trigger_analog  fox_Start  fox_Y  ...  \\\n",
       "0             0.0             0.0                   0          0      0  ...   \n",
       "1             0.0             0.0                   0          0      0  ...   \n",
       "2             0.0             0.0                   0          0      0  ...   \n",
       "3             0.0             0.0                   0          0      0  ...   \n",
       "4             0.0             0.0                   0          0      0  ...   \n",
       "\n",
       "   nfox_combo_count  nfox_dmg  nfox_direction  nfox_last_hit_by  \\\n",
       "0                 0       0.0               1               NaN   \n",
       "1                 0       0.0               1               NaN   \n",
       "2                 0       0.0               1               NaN   \n",
       "3                 0       0.0               1               NaN   \n",
       "4                 0       0.0               1               NaN   \n",
       "\n",
       "   nfox_position_x  nfox_position_y  nfox_shield  nfox_state  nfox_state_age  \\\n",
       "0            -60.0             10.0         60.0         322            -1.0   \n",
       "1            -60.0             10.0         60.0         322            -1.0   \n",
       "2            -60.0             10.0         60.0         322            -1.0   \n",
       "3            -60.0             10.0         60.0         322            -1.0   \n",
       "4            -60.0             10.0         60.0         322            -1.0   \n",
       "\n",
       "   nfox_stocks  \n",
       "0            4  \n",
       "1            4  \n",
       "2            4  \n",
       "3            4  \n",
       "4            4  \n",
       "\n",
       "[5 rows x 57 columns]"
      ]
     },
     "execution_count": 2,
     "metadata": {},
     "output_type": "execute_result"
    }
   ],
   "source": [
    "df_frames = pd.read_csv('../data/fox-falco-fd-frames.csv')\n",
    "df_frames.head()"
   ]
  },
  {
   "cell_type": "code",
   "execution_count": 3,
   "metadata": {},
   "outputs": [
    {
     "data": {
      "text/html": [
       "<div>\n",
       "<style scoped>\n",
       "    .dataframe tbody tr th:only-of-type {\n",
       "        vertical-align: middle;\n",
       "    }\n",
       "\n",
       "    .dataframe tbody tr th {\n",
       "        vertical-align: top;\n",
       "    }\n",
       "\n",
       "    .dataframe thead th {\n",
       "        text-align: right;\n",
       "    }\n",
       "</style>\n",
       "<table border=\"1\" class=\"dataframe\">\n",
       "  <thead>\n",
       "    <tr style=\"text-align: right;\">\n",
       "      <th></th>\n",
       "      <th>game_id</th>\n",
       "      <th>frame_index</th>\n",
       "      <th>fox_cstick_x</th>\n",
       "      <th>fox_cstick_y</th>\n",
       "      <th>fox_joystick_x</th>\n",
       "      <th>fox_joystick_y</th>\n",
       "      <th>fox_trigger_analog</th>\n",
       "      <th>fox_Start</th>\n",
       "      <th>fox_Y</th>\n",
       "      <th>fox_X</th>\n",
       "      <th>...</th>\n",
       "      <th>nfox_Dpad_Left</th>\n",
       "      <th>nfox_combo_count</th>\n",
       "      <th>nfox_dmg</th>\n",
       "      <th>nfox_direction</th>\n",
       "      <th>nfox_position_x</th>\n",
       "      <th>nfox_position_y</th>\n",
       "      <th>nfox_shield</th>\n",
       "      <th>nfox_state</th>\n",
       "      <th>nfox_state_age</th>\n",
       "      <th>nfox_stocks</th>\n",
       "    </tr>\n",
       "  </thead>\n",
       "  <tbody>\n",
       "    <tr>\n",
       "      <th>0</th>\n",
       "      <td>20190406T144505</td>\n",
       "      <td>-123</td>\n",
       "      <td>0.0</td>\n",
       "      <td>0.0</td>\n",
       "      <td>0.0</td>\n",
       "      <td>0.0</td>\n",
       "      <td>0</td>\n",
       "      <td>0</td>\n",
       "      <td>0</td>\n",
       "      <td>0</td>\n",
       "      <td>...</td>\n",
       "      <td>0</td>\n",
       "      <td>0</td>\n",
       "      <td>0.0</td>\n",
       "      <td>1</td>\n",
       "      <td>-60.0</td>\n",
       "      <td>10.0</td>\n",
       "      <td>60.0</td>\n",
       "      <td>322</td>\n",
       "      <td>-1.0</td>\n",
       "      <td>4</td>\n",
       "    </tr>\n",
       "    <tr>\n",
       "      <th>1</th>\n",
       "      <td>20190406T144505</td>\n",
       "      <td>-122</td>\n",
       "      <td>0.0</td>\n",
       "      <td>0.0</td>\n",
       "      <td>0.0</td>\n",
       "      <td>0.0</td>\n",
       "      <td>0</td>\n",
       "      <td>0</td>\n",
       "      <td>0</td>\n",
       "      <td>0</td>\n",
       "      <td>...</td>\n",
       "      <td>0</td>\n",
       "      <td>0</td>\n",
       "      <td>0.0</td>\n",
       "      <td>1</td>\n",
       "      <td>-60.0</td>\n",
       "      <td>10.0</td>\n",
       "      <td>60.0</td>\n",
       "      <td>322</td>\n",
       "      <td>-1.0</td>\n",
       "      <td>4</td>\n",
       "    </tr>\n",
       "    <tr>\n",
       "      <th>2</th>\n",
       "      <td>20190406T144505</td>\n",
       "      <td>-121</td>\n",
       "      <td>0.0</td>\n",
       "      <td>0.0</td>\n",
       "      <td>0.0</td>\n",
       "      <td>0.0</td>\n",
       "      <td>0</td>\n",
       "      <td>0</td>\n",
       "      <td>0</td>\n",
       "      <td>0</td>\n",
       "      <td>...</td>\n",
       "      <td>0</td>\n",
       "      <td>0</td>\n",
       "      <td>0.0</td>\n",
       "      <td>1</td>\n",
       "      <td>-60.0</td>\n",
       "      <td>10.0</td>\n",
       "      <td>60.0</td>\n",
       "      <td>322</td>\n",
       "      <td>-1.0</td>\n",
       "      <td>4</td>\n",
       "    </tr>\n",
       "    <tr>\n",
       "      <th>3</th>\n",
       "      <td>20190406T144505</td>\n",
       "      <td>-120</td>\n",
       "      <td>0.0</td>\n",
       "      <td>0.0</td>\n",
       "      <td>0.0</td>\n",
       "      <td>0.0</td>\n",
       "      <td>0</td>\n",
       "      <td>0</td>\n",
       "      <td>0</td>\n",
       "      <td>0</td>\n",
       "      <td>...</td>\n",
       "      <td>0</td>\n",
       "      <td>0</td>\n",
       "      <td>0.0</td>\n",
       "      <td>1</td>\n",
       "      <td>-60.0</td>\n",
       "      <td>10.0</td>\n",
       "      <td>60.0</td>\n",
       "      <td>322</td>\n",
       "      <td>-1.0</td>\n",
       "      <td>4</td>\n",
       "    </tr>\n",
       "    <tr>\n",
       "      <th>4</th>\n",
       "      <td>20190406T144505</td>\n",
       "      <td>-119</td>\n",
       "      <td>0.0</td>\n",
       "      <td>0.0</td>\n",
       "      <td>0.0</td>\n",
       "      <td>0.0</td>\n",
       "      <td>0</td>\n",
       "      <td>0</td>\n",
       "      <td>0</td>\n",
       "      <td>0</td>\n",
       "      <td>...</td>\n",
       "      <td>0</td>\n",
       "      <td>0</td>\n",
       "      <td>0.0</td>\n",
       "      <td>1</td>\n",
       "      <td>-60.0</td>\n",
       "      <td>10.0</td>\n",
       "      <td>60.0</td>\n",
       "      <td>322</td>\n",
       "      <td>-1.0</td>\n",
       "      <td>4</td>\n",
       "    </tr>\n",
       "  </tbody>\n",
       "</table>\n",
       "<p>5 rows × 54 columns</p>\n",
       "</div>"
      ],
      "text/plain": [
       "           game_id  frame_index  fox_cstick_x  fox_cstick_y  fox_joystick_x  \\\n",
       "0  20190406T144505         -123           0.0           0.0             0.0   \n",
       "1  20190406T144505         -122           0.0           0.0             0.0   \n",
       "2  20190406T144505         -121           0.0           0.0             0.0   \n",
       "3  20190406T144505         -120           0.0           0.0             0.0   \n",
       "4  20190406T144505         -119           0.0           0.0             0.0   \n",
       "\n",
       "   fox_joystick_y  fox_trigger_analog  fox_Start  fox_Y  fox_X  ...  \\\n",
       "0             0.0                   0          0      0      0  ...   \n",
       "1             0.0                   0          0      0      0  ...   \n",
       "2             0.0                   0          0      0      0  ...   \n",
       "3             0.0                   0          0      0      0  ...   \n",
       "4             0.0                   0          0      0      0  ...   \n",
       "\n",
       "   nfox_Dpad_Left  nfox_combo_count  nfox_dmg  nfox_direction  \\\n",
       "0               0                 0       0.0               1   \n",
       "1               0                 0       0.0               1   \n",
       "2               0                 0       0.0               1   \n",
       "3               0                 0       0.0               1   \n",
       "4               0                 0       0.0               1   \n",
       "\n",
       "   nfox_position_x  nfox_position_y  nfox_shield  nfox_state  nfox_state_age  \\\n",
       "0            -60.0             10.0         60.0         322            -1.0   \n",
       "1            -60.0             10.0         60.0         322            -1.0   \n",
       "2            -60.0             10.0         60.0         322            -1.0   \n",
       "3            -60.0             10.0         60.0         322            -1.0   \n",
       "4            -60.0             10.0         60.0         322            -1.0   \n",
       "\n",
       "   nfox_stocks  \n",
       "0            4  \n",
       "1            4  \n",
       "2            4  \n",
       "3            4  \n",
       "4            4  \n",
       "\n",
       "[5 rows x 54 columns]"
      ]
     },
     "execution_count": 3,
     "metadata": {},
     "output_type": "execute_result"
    }
   ],
   "source": [
    "df_frames.drop(columns = ['Unnamed: 0', 'fox_last_hit_by', 'nfox_last_hit_by'], inplace = True)\n",
    "df_frames.head()"
   ]
  },
  {
   "cell_type": "markdown",
   "metadata": {},
   "source": [
    "<a id = \"noise\"></a>\n",
    "## Reducing Noise\n",
    "\n",
    "Action States 322, 323, and 324 are useless because they are the states of the game starting, so we will drop them.\n",
    "Planned on removing all frames in which both characters are on the ground because. If `game` is a Game object, then I can access this information with `game.frames[frame_index].ports[active_port_index].leader.post.ground`. The problem is that this information is not tracked for the games recorded at Fight Pitt 9. I believe this information is recorded for more recent versions of Slippi."
   ]
  },
  {
   "cell_type": "code",
   "execution_count": 4,
   "metadata": {},
   "outputs": [
    {
     "data": {
      "text/html": [
       "<div>\n",
       "<style scoped>\n",
       "    .dataframe tbody tr th:only-of-type {\n",
       "        vertical-align: middle;\n",
       "    }\n",
       "\n",
       "    .dataframe tbody tr th {\n",
       "        vertical-align: top;\n",
       "    }\n",
       "\n",
       "    .dataframe thead th {\n",
       "        text-align: right;\n",
       "    }\n",
       "</style>\n",
       "<table border=\"1\" class=\"dataframe\">\n",
       "  <thead>\n",
       "    <tr style=\"text-align: right;\">\n",
       "      <th></th>\n",
       "      <th>game_id</th>\n",
       "      <th>frame_index</th>\n",
       "      <th>fox_cstick_x</th>\n",
       "      <th>fox_cstick_y</th>\n",
       "      <th>fox_joystick_x</th>\n",
       "      <th>fox_joystick_y</th>\n",
       "      <th>fox_trigger_analog</th>\n",
       "      <th>fox_Start</th>\n",
       "      <th>fox_Y</th>\n",
       "      <th>fox_X</th>\n",
       "      <th>...</th>\n",
       "      <th>nfox_Dpad_Left</th>\n",
       "      <th>nfox_combo_count</th>\n",
       "      <th>nfox_dmg</th>\n",
       "      <th>nfox_direction</th>\n",
       "      <th>nfox_position_x</th>\n",
       "      <th>nfox_position_y</th>\n",
       "      <th>nfox_shield</th>\n",
       "      <th>nfox_state</th>\n",
       "      <th>nfox_state_age</th>\n",
       "      <th>nfox_stocks</th>\n",
       "    </tr>\n",
       "  </thead>\n",
       "  <tbody>\n",
       "    <tr>\n",
       "      <th>0</th>\n",
       "      <td>20190406T144505</td>\n",
       "      <td>-49</td>\n",
       "      <td>0.0</td>\n",
       "      <td>0.0</td>\n",
       "      <td>0.0</td>\n",
       "      <td>0.0</td>\n",
       "      <td>0</td>\n",
       "      <td>0</td>\n",
       "      <td>0</td>\n",
       "      <td>0</td>\n",
       "      <td>...</td>\n",
       "      <td>0</td>\n",
       "      <td>0</td>\n",
       "      <td>0.0</td>\n",
       "      <td>1</td>\n",
       "      <td>-60.0</td>\n",
       "      <td>9.872425</td>\n",
       "      <td>60.0</td>\n",
       "      <td>29</td>\n",
       "      <td>0.0</td>\n",
       "      <td>4</td>\n",
       "    </tr>\n",
       "    <tr>\n",
       "      <th>1</th>\n",
       "      <td>20190406T144505</td>\n",
       "      <td>-48</td>\n",
       "      <td>0.0</td>\n",
       "      <td>0.0</td>\n",
       "      <td>0.0</td>\n",
       "      <td>0.0</td>\n",
       "      <td>0</td>\n",
       "      <td>0</td>\n",
       "      <td>0</td>\n",
       "      <td>0</td>\n",
       "      <td>...</td>\n",
       "      <td>0</td>\n",
       "      <td>0</td>\n",
       "      <td>0.0</td>\n",
       "      <td>1</td>\n",
       "      <td>-60.0</td>\n",
       "      <td>9.532425</td>\n",
       "      <td>60.0</td>\n",
       "      <td>29</td>\n",
       "      <td>1.0</td>\n",
       "      <td>4</td>\n",
       "    </tr>\n",
       "    <tr>\n",
       "      <th>2</th>\n",
       "      <td>20190406T144505</td>\n",
       "      <td>-47</td>\n",
       "      <td>0.0</td>\n",
       "      <td>0.0</td>\n",
       "      <td>0.0</td>\n",
       "      <td>0.0</td>\n",
       "      <td>0</td>\n",
       "      <td>0</td>\n",
       "      <td>0</td>\n",
       "      <td>0</td>\n",
       "      <td>...</td>\n",
       "      <td>0</td>\n",
       "      <td>0</td>\n",
       "      <td>0.0</td>\n",
       "      <td>1</td>\n",
       "      <td>-60.0</td>\n",
       "      <td>9.022425</td>\n",
       "      <td>60.0</td>\n",
       "      <td>29</td>\n",
       "      <td>2.0</td>\n",
       "      <td>4</td>\n",
       "    </tr>\n",
       "    <tr>\n",
       "      <th>3</th>\n",
       "      <td>20190406T144505</td>\n",
       "      <td>-46</td>\n",
       "      <td>0.0</td>\n",
       "      <td>0.0</td>\n",
       "      <td>0.0</td>\n",
       "      <td>0.0</td>\n",
       "      <td>0</td>\n",
       "      <td>0</td>\n",
       "      <td>0</td>\n",
       "      <td>0</td>\n",
       "      <td>...</td>\n",
       "      <td>0</td>\n",
       "      <td>0</td>\n",
       "      <td>0.0</td>\n",
       "      <td>1</td>\n",
       "      <td>-60.0</td>\n",
       "      <td>8.342424</td>\n",
       "      <td>60.0</td>\n",
       "      <td>29</td>\n",
       "      <td>3.0</td>\n",
       "      <td>4</td>\n",
       "    </tr>\n",
       "    <tr>\n",
       "      <th>4</th>\n",
       "      <td>20190406T144505</td>\n",
       "      <td>-45</td>\n",
       "      <td>0.0</td>\n",
       "      <td>0.0</td>\n",
       "      <td>0.0</td>\n",
       "      <td>0.0</td>\n",
       "      <td>0</td>\n",
       "      <td>0</td>\n",
       "      <td>0</td>\n",
       "      <td>0</td>\n",
       "      <td>...</td>\n",
       "      <td>0</td>\n",
       "      <td>0</td>\n",
       "      <td>0.0</td>\n",
       "      <td>1</td>\n",
       "      <td>-60.0</td>\n",
       "      <td>7.492424</td>\n",
       "      <td>60.0</td>\n",
       "      <td>29</td>\n",
       "      <td>4.0</td>\n",
       "      <td>4</td>\n",
       "    </tr>\n",
       "  </tbody>\n",
       "</table>\n",
       "<p>5 rows × 54 columns</p>\n",
       "</div>"
      ],
      "text/plain": [
       "           game_id  frame_index  fox_cstick_x  fox_cstick_y  fox_joystick_x  \\\n",
       "0  20190406T144505          -49           0.0           0.0             0.0   \n",
       "1  20190406T144505          -48           0.0           0.0             0.0   \n",
       "2  20190406T144505          -47           0.0           0.0             0.0   \n",
       "3  20190406T144505          -46           0.0           0.0             0.0   \n",
       "4  20190406T144505          -45           0.0           0.0             0.0   \n",
       "\n",
       "   fox_joystick_y  fox_trigger_analog  fox_Start  fox_Y  fox_X  ...  \\\n",
       "0             0.0                   0          0      0      0  ...   \n",
       "1             0.0                   0          0      0      0  ...   \n",
       "2             0.0                   0          0      0      0  ...   \n",
       "3             0.0                   0          0      0      0  ...   \n",
       "4             0.0                   0          0      0      0  ...   \n",
       "\n",
       "   nfox_Dpad_Left  nfox_combo_count  nfox_dmg  nfox_direction  \\\n",
       "0               0                 0       0.0               1   \n",
       "1               0                 0       0.0               1   \n",
       "2               0                 0       0.0               1   \n",
       "3               0                 0       0.0               1   \n",
       "4               0                 0       0.0               1   \n",
       "\n",
       "   nfox_position_x  nfox_position_y  nfox_shield  nfox_state  nfox_state_age  \\\n",
       "0            -60.0         9.872425         60.0          29             0.0   \n",
       "1            -60.0         9.532425         60.0          29             1.0   \n",
       "2            -60.0         9.022425         60.0          29             2.0   \n",
       "3            -60.0         8.342424         60.0          29             3.0   \n",
       "4            -60.0         7.492424         60.0          29             4.0   \n",
       "\n",
       "   nfox_stocks  \n",
       "0            4  \n",
       "1            4  \n",
       "2            4  \n",
       "3            4  \n",
       "4            4  \n",
       "\n",
       "[5 rows x 54 columns]"
      ]
     },
     "execution_count": 4,
     "metadata": {},
     "output_type": "execute_result"
    }
   ],
   "source": [
    "# Establish which action state values explain nothing\n",
    "useless_states = [322, 323, 324]\n",
    "\n",
    "# Return the rows that are not (~) in the useless-states list for Fox and Falco\n",
    "df_frames = df_frames.loc[(~df_frames['fox_state'].isin(useless_states)) | (~df_frames['nfox_state'].isin(useless_states))]\n",
    "df_frames.reset_index(inplace = True, drop = True)\n",
    "df_frames.head()"
   ]
  },
  {
   "cell_type": "markdown",
   "metadata": {},
   "source": [
    "Each missed tech animation has different values, but can be interpreted the same way. Thanks to these, we can colapse all of these values to the same value."
   ]
  },
  {
   "cell_type": "code",
   "execution_count": 5,
   "metadata": {},
   "outputs": [],
   "source": [
    "# Map all missed tech values as the same value\n",
    "missed_tech = [183, 188, 189, 191, 196, 197]\n",
    "df_frames['fox_state'] = df_frames['fox_state'].apply(lambda val: val if val not in missed_tech else 999)"
   ]
  },
  {
   "cell_type": "code",
   "execution_count": 6,
   "metadata": {},
   "outputs": [],
   "source": [
    "# Map [missed tech, tech in place, tech-roll forward, tech-roll backward] to their respective values in the target column\n",
    "missed_and_techs = [999, 199, 200, 201]\n",
    "df_frames['target'] = df_frames['fox_state'].apply(lambda val: 0 if val not in missed_and_techs else (1 if val == 999 else (2 if val == 199 else (3 if val == 200 else 4))))"
   ]
  },
  {
   "cell_type": "markdown",
   "metadata": {},
   "source": [
    "| Target Value |         Meaning         |\n",
    "|:------------:|:-----------------------:|\n",
    "|       0      | Not a tech situation |\n",
    "|       1      |       Missed tech       |\n",
    "|       2      |      Tech in-place      |\n",
    "|       3      |    Tech-roll forward    |\n",
    "|       4      |    Tech-roll backward   |"
   ]
  },
  {
   "cell_type": "code",
   "execution_count": 7,
   "metadata": {},
   "outputs": [
    {
     "data": {
      "text/plain": [
       "0    0.966377\n",
       "1    0.020880\n",
       "2    0.005488\n",
       "4    0.004415\n",
       "3    0.002839\n",
       "Name: target, dtype: float64"
      ]
     },
     "execution_count": 7,
     "metadata": {},
     "output_type": "execute_result"
    }
   ],
   "source": [
    "# class imbalance\n",
    "df_frames['target'].value_counts(normalize = True)"
   ]
  },
  {
   "cell_type": "code",
   "execution_count": 8,
   "metadata": {},
   "outputs": [
    {
     "data": {
      "text/plain": [
       "0    101775\n",
       "1      2199\n",
       "2       578\n",
       "4       465\n",
       "3       299\n",
       "Name: target, dtype: int64"
      ]
     },
     "execution_count": 8,
     "metadata": {},
     "output_type": "execute_result"
    }
   ],
   "source": [
    "df_frames['target'].value_counts()"
   ]
  },
  {
   "cell_type": "markdown",
   "metadata": {},
   "source": [
    "The baseline accuracy for our multi-classification RNN is 96.63%."
   ]
  },
  {
   "cell_type": "code",
   "execution_count": 9,
   "metadata": {
    "scrolled": true
   },
   "outputs": [
    {
     "data": {
      "text/plain": [
       "Index(['game_id', 'frame_index', 'fox_cstick_x', 'fox_cstick_y',\n",
       "       'fox_joystick_x', 'fox_joystick_y', 'fox_trigger_analog', 'fox_Start',\n",
       "       'fox_Y', 'fox_X', 'fox_B', 'fox_A', 'fox_L', 'fox_R', 'fox_Z',\n",
       "       'fox_Dpad_Up', 'fox_Dpad_Down', 'fox_Dpad_Right', 'fox_Dpad_Left',\n",
       "       'fox_combo_count', 'fox_dmg', 'fox_direction', 'fox_position_x',\n",
       "       'fox_position_y', 'fox_shield', 'fox_state', 'fox_state_age',\n",
       "       'fox_stocks', 'nfox_cstick_x', 'nfox_cstick_y', 'nfox_joystick_x',\n",
       "       'nfox_joystick_y', 'nfox_trigger_analog', 'nfox_Start', 'nfox_Y',\n",
       "       'nfox_X', 'nfox_B', 'nfox_A', 'nfox_L', 'nfox_R', 'nfox_Z',\n",
       "       'nfox_Dpad_Up', 'nfox_Dpad_Down', 'nfox_Dpad_Right', 'nfox_Dpad_Left',\n",
       "       'nfox_combo_count', 'nfox_dmg', 'nfox_direction', 'nfox_position_x',\n",
       "       'nfox_position_y', 'nfox_shield', 'nfox_state', 'nfox_state_age',\n",
       "       'nfox_stocks', 'target'],\n",
       "      dtype='object')"
      ]
     },
     "execution_count": 9,
     "metadata": {},
     "output_type": "execute_result"
    }
   ],
   "source": [
    "df_frames.columns"
   ]
  },
  {
   "cell_type": "code",
   "execution_count": 10,
   "metadata": {},
   "outputs": [],
   "source": [
    "# Now we need to categorize these values\n",
    "df_frames = pd.get_dummies(df_frames, columns = ['fox_state', 'nfox_state', 'fox_direction', 'nfox_direction'])"
   ]
  },
  {
   "cell_type": "markdown",
   "metadata": {},
   "source": [
    "## Modeling"
   ]
  },
  {
   "cell_type": "code",
   "execution_count": 11,
   "metadata": {},
   "outputs": [],
   "source": [
    "# Establishing X features and y target column\n",
    "X = df_frames.drop(columns = ['game_id', 'frame_index', 'target'])\n",
    "y = to_categorical(df_frames['target'])"
   ]
  },
  {
   "cell_type": "code",
   "execution_count": 12,
   "metadata": {},
   "outputs": [
    {
     "data": {
      "text/plain": [
       "(105316, 345)"
      ]
     },
     "execution_count": 12,
     "metadata": {},
     "output_type": "execute_result"
    }
   ],
   "source": [
    "X.shape"
   ]
  },
  {
   "cell_type": "code",
   "execution_count": 13,
   "metadata": {},
   "outputs": [
    {
     "data": {
      "text/plain": [
       "(105316, 5)"
      ]
     },
     "execution_count": 13,
     "metadata": {},
     "output_type": "execute_result"
    }
   ],
   "source": [
    "y.shape"
   ]
  },
  {
   "cell_type": "code",
   "execution_count": 14,
   "metadata": {},
   "outputs": [],
   "source": [
    "# Since I cannot set random_state to 20XX, I will set it to 2099\n",
    "X_train, X_test, y_train, y_test = train_test_split(X, y, shuffle = False, random_state = 2099)"
   ]
  },
  {
   "cell_type": "code",
   "execution_count": 15,
   "metadata": {},
   "outputs": [],
   "source": [
    "# Scaling our data\n",
    "ss = StandardScaler()\n",
    "Z_train = ss.fit_transform(X_train)\n",
    "Z_test = ss.transform(X_test)"
   ]
  },
  {
   "cell_type": "code",
   "execution_count": 16,
   "metadata": {},
   "outputs": [],
   "source": [
    "train_sequences = TimeseriesGenerator(Z_train, y_train,\n",
    "                                     length = 120, batch_size = 512)"
   ]
  },
  {
   "cell_type": "code",
   "execution_count": 23,
   "metadata": {},
   "outputs": [
    {
     "data": {
      "text/plain": [
       "(512, 120, 345)"
      ]
     },
     "execution_count": 23,
     "metadata": {},
     "output_type": "execute_result"
    }
   ],
   "source": [
    "train_sequences[0][0].shape"
   ]
  },
  {
   "cell_type": "code",
   "execution_count": 18,
   "metadata": {},
   "outputs": [],
   "source": [
    "test_sequences = TimeseriesGenerator(Z_test, y_test,\n",
    "                                    length = 120, batch_size = 512)"
   ]
  },
  {
   "cell_type": "code",
   "execution_count": 19,
   "metadata": {},
   "outputs": [
    {
     "data": {
      "text/plain": [
       "(78987, 345)"
      ]
     },
     "execution_count": 19,
     "metadata": {},
     "output_type": "execute_result"
    }
   ],
   "source": [
    "Z_train.shape"
   ]
  },
  {
   "cell_type": "code",
   "execution_count": 24,
   "metadata": {},
   "outputs": [],
   "source": [
    "# Constructing the model topology\n",
    "model = Sequential()\n",
    "\n",
    "# The input layer\n",
    "model.add(GRU(train_sequences[0][0].shape[2], input_shape = (train_sequences[0][0].shape[1], train_sequences[0][0].shape[2]), return_sequences = True))\n",
    "# Send the output of 120 past frames back to this layer\n",
    "model.add(GRU(train_sequences[0][0].shape[2], return_sequences = False))\n",
    "\n",
    "# A hidden layer of 128 nodes with ReLu activation function\n",
    "model.add(Dense(128, activation = 'relu'))\n",
    "\n",
    "# The output layer with 5 nodes, one for each target class\n",
    "model.add(Dense(5, activation = 'softmax'))\n",
    "\n",
    "model.compile(loss = 'categorical_crossentropy', optimizer = Adam(0.001), metrics = ['accuracy'])"
   ]
  },
  {
   "cell_type": "code",
   "execution_count": 25,
   "metadata": {
    "scrolled": true
   },
   "outputs": [
    {
     "name": "stdout",
     "output_type": "stream",
     "text": [
      "Epoch 1/5\n",
      "155/155 [==============================] - 3027s 20s/step - loss: 0.1350 - accuracy: 0.9650 - val_loss: 0.0372 - val_accuracy: 0.9929\n",
      "Epoch 2/5\n",
      "155/155 [==============================] - 2908s 19s/step - loss: 0.0160 - accuracy: 0.9969 - val_loss: 0.0193 - val_accuracy: 0.9962\n",
      "Epoch 3/5\n",
      "155/155 [==============================] - 2835s 18s/step - loss: 0.0107 - accuracy: 0.9975 - val_loss: 0.0180 - val_accuracy: 0.9962\n",
      "Epoch 4/5\n",
      "155/155 [==============================] - 2727s 18s/step - loss: 0.0091 - accuracy: 0.9979 - val_loss: 0.0200 - val_accuracy: 0.9959\n",
      "Epoch 5/5\n",
      "155/155 [==============================] - 4516s 29s/step - loss: 0.0091 - accuracy: 0.9976 - val_loss: 0.0186 - val_accuracy: 0.9963\n"
     ]
    }
   ],
   "source": [
    "# Fit the model \n",
    "hist = model.fit_generator(train_sequences, epochs = 5, validation_data = test_sequences)"
   ]
  },
  {
   "cell_type": "code",
   "execution_count": 1,
   "metadata": {},
   "outputs": [
    {
     "ename": "NameError",
     "evalue": "name 'plt' is not defined",
     "output_type": "error",
     "traceback": [
      "\u001b[0;31m---------------------------------------------------------------------------\u001b[0m",
      "\u001b[0;31mNameError\u001b[0m                                 Traceback (most recent call last)",
      "\u001b[0;32m<ipython-input-1-00aa1f74cd4c>\u001b[0m in \u001b[0;36m<module>\u001b[0;34m\u001b[0m\n\u001b[0;32m----> 1\u001b[0;31m \u001b[0mplt\u001b[0m\u001b[0;34m.\u001b[0m\u001b[0mfigure\u001b[0m\u001b[0;34m(\u001b[0m\u001b[0mfigsize\u001b[0m \u001b[0;34m=\u001b[0m \u001b[0;34m(\u001b[0m\u001b[0;36m20\u001b[0m\u001b[0;34m,\u001b[0m \u001b[0;36m12\u001b[0m\u001b[0;34m)\u001b[0m\u001b[0;34m)\u001b[0m\u001b[0;34m\u001b[0m\u001b[0;34m\u001b[0m\u001b[0m\n\u001b[0m\u001b[1;32m      2\u001b[0m \u001b[0mplt\u001b[0m\u001b[0;34m.\u001b[0m\u001b[0mtitle\u001b[0m\u001b[0;34m(\u001b[0m\u001b[0;34m'Loss per Epoch'\u001b[0m\u001b[0;34m,\u001b[0m \u001b[0msize\u001b[0m \u001b[0;34m=\u001b[0m \u001b[0;36m20\u001b[0m\u001b[0;34m)\u001b[0m\u001b[0;34m;\u001b[0m\u001b[0;34m\u001b[0m\u001b[0;34m\u001b[0m\u001b[0m\n\u001b[1;32m      3\u001b[0m \u001b[0mplt\u001b[0m\u001b[0;34m.\u001b[0m\u001b[0mxlabel\u001b[0m\u001b[0;34m(\u001b[0m\u001b[0;34m'Epochs'\u001b[0m\u001b[0;34m,\u001b[0m \u001b[0msize\u001b[0m \u001b[0;34m=\u001b[0m \u001b[0;36m15\u001b[0m\u001b[0;34m)\u001b[0m\u001b[0;34m\u001b[0m\u001b[0;34m\u001b[0m\u001b[0m\n\u001b[1;32m      4\u001b[0m \u001b[0mplt\u001b[0m\u001b[0;34m.\u001b[0m\u001b[0mylabel\u001b[0m\u001b[0;34m(\u001b[0m\u001b[0;34m'Categorical Crossentropy'\u001b[0m\u001b[0;34m,\u001b[0m \u001b[0msize\u001b[0m \u001b[0;34m=\u001b[0m \u001b[0;36m15\u001b[0m\u001b[0;34m)\u001b[0m\u001b[0;34m\u001b[0m\u001b[0;34m\u001b[0m\u001b[0m\n\u001b[1;32m      5\u001b[0m \u001b[0mplt\u001b[0m\u001b[0;34m.\u001b[0m\u001b[0mplot\u001b[0m\u001b[0;34m(\u001b[0m\u001b[0mhist\u001b[0m\u001b[0;34m.\u001b[0m\u001b[0mhistory\u001b[0m\u001b[0;34m[\u001b[0m\u001b[0;34m'loss'\u001b[0m\u001b[0;34m]\u001b[0m\u001b[0;34m,\u001b[0m \u001b[0mlabel\u001b[0m \u001b[0;34m=\u001b[0m \u001b[0;34m'Train Loss'\u001b[0m\u001b[0;34m)\u001b[0m\u001b[0;34m;\u001b[0m\u001b[0;34m\u001b[0m\u001b[0;34m\u001b[0m\u001b[0m\n",
      "\u001b[0;31mNameError\u001b[0m: name 'plt' is not defined"
     ]
    }
   ],
   "source": [
    "plt.figure(figsize = (20, 12))\n",
    "plt.title('Loss per Epoch', size = 20);\n",
    "plt.xlabel('Epochs', size = 15)\n",
    "plt.ylabel('Categorical Crossentropy', size = 15)\n",
    "plt.plot(hist.history['loss'], label = 'Train Loss');\n",
    "plt.plot(hist.history['val_loss'], label = 'Test Loss');\n",
    "plt.legend(prop = {'size': 20});"
   ]
  },
  {
   "cell_type": "markdown",
   "metadata": {},
   "source": [
    "\n",
    "## Conclusions and Future Work\n",
    "_<center>Loss and accuracy scores after fitting model</center>_\n",
    "\n",
    "| Train Loss | Test Loss | Baseline Accuracy | Train Accuracy | Test Accuracy |\n",
    "|:----------:|:---------:|:-----------------:|:--------------:|:-------------:|\n",
    "|   0.0091   |   0.0186  |       96.63%      |     99.76%     |     99.63%    |\n",
    "\n",
    "After fitting the model, the loss on the training sequence is 0.0091 and the loss on the validation sequence is 0.0186]. This tells me that my model is overfit because the categorical crossentropy of the training sequences is less than the categorical crossentropy of the testing sequences (validation data). This can also be seen when looking at the train and test accuracies. Considering that my baseline accuracy score is 96.63% and my model has a training accuracy of 99.76% and a test accuracy of 99.63%, I have a model that is better at predicting Fox's tech behavior than randomly guessing. However, it is important to note that the reason that the accuracy score is so high is because majority of the target values are 0's. These 0's represent frames in which Fox is in an action state that does not signify whether he is teching or missing a tech. For example, Fox could be standing, jumping, or attacking.\n",
    "\n",
    "I would also like to point out the behavior of the test loss. One will notice that the categorical crossentropy at the end of fitting barely shows a difference compared to the categorical crossentropy at the beginning of fitting. This tells me that the training does not have much of an affect on the testing. I believe this is because there is so much random noise for the model to train on that it does not help it predict unseen data at all. So the further versions of this product will need to programmatically find the useful frames that can explain a Fox player's tech habits.\n",
    "\n",
    "With this in mind I will disregard regularization for now because there is no need to improve this model unless the data that is fed into the model has the useless noise removed. This can be done by locating the frames in which a missed tech, tech in place, tech roll left, or tech roll right is detected. Then I will go back 120 frames and label them as important sequences where 120 is the amount of sequential frames I want to feed to the RNN. By doing this, I can drop the frames that are not labeled as important. This way, I only retain frames that lead up to a wake-up situation. When creating this function, I will also need to construct multiple models that take in sequences of different lengths. I will create models that label 120 frames to 300 frames in 30 frame intervals. In units of seconds, 2 seconds to 5 seconds in 0.5 second intervals. Then for each interval, I will fit a model and determine which number of sequential frames is enough to train a model.\n",
    "\n",
    "Another problem in the model is the data that is being fed as input. As mentioned before, the data is being inputted as one large sequence of frames. Similar to taping 13 different movie film reels together, we are \"taping\" 13 different games together for the model to interpret as one large game. This will cause a problem because when the model begins to interpret the frames that are \"taped\" together, then it will take the history of the previous, independent game and assume it will have an affect on the current game. This is not true at all. To deal with this, I will do research on various types of gates that can be applied to Long Short Term Memory (LSTM) or [GRU] (GRU). From the quick research that I have done, with thanks to Tom Ludlow, I believe the answer is a gate that will allow the recurrent layer to forget the sequences once a new game is being interpretted. By doing so, the model can continue learning without data from previous games leaking through others.\n",
    "\n",
    "Not quite a limitation, but I found it slightly difficult to truest the [documentation](https://py-slippi.readthedocs.io/en/latest/py-modindex.html) on the python Slippi parser. The values that the documentation explains is not 100% in line with the values that were found in the Fight Pitt 9 Slippi files. When parsing the metadata in the first notebook, warnings occurred that notified us about unknown values in the files. In addition to that, all values for the platform the games were played on shows NINTENDONT. However, this value is not shown in the documentation. If it was not for the Slippi Discord community showing me the [general action states](https://docs.google.com/spreadsheets/d/1JX2w-r2fuvWuNgGb6D3Cs4wHQKLFegZe2jhbBuIhCG8/preview#gid=13) and [character unique action states](https://docs.google.com/spreadsheets/d/1Nu3hSc1U6apOhU4JIJaWRC4Lj0S1inN8BFsq3Y8cFjI/preview), I would not be able to confidently interpret Fox and Falco's action states. I will need to communicate further with the contributors of Slippi to be able to more confidently feed the model accurate values."
   ]
  },
  {
   "cell_type": "code",
   "execution_count": null,
   "metadata": {},
   "outputs": [],
   "source": []
  }
 ],
 "metadata": {
  "kernelspec": {
   "display_name": "Python 3",
   "language": "python",
   "name": "python3"
  },
  "language_info": {
   "codemirror_mode": {
    "name": "ipython",
    "version": 3
   },
   "file_extension": ".py",
   "mimetype": "text/x-python",
   "name": "python",
   "nbconvert_exporter": "python",
   "pygments_lexer": "ipython3",
   "version": "3.7.5"
  }
 },
 "nbformat": 4,
 "nbformat_minor": 2
}
