{
 "cells": [
  {
   "cell_type": "markdown",
   "metadata": {},
   "source": [
    "# Modeling Fox's Wake-Up Behavior\n",
    "## Table of Contents\n",
    "\n",
    "<a id = 'imports'></a>\n",
    "## Imports"
   ]
  },
  {
   "cell_type": "code",
   "execution_count": 1,
   "metadata": {},
   "outputs": [],
   "source": [
    "import pandas as pd\n",
    "import numpy as np\n",
    "\n",
    "from sklearn.preprocessing import StandardScaler\n",
    "from sklearn.model_selection import train_test_split\n",
    "\n",
    "from tensorflow.keras.models import Sequential\n",
    "from tensorflow.keras.layers import Dense, Dropout, GRU\n",
    "from tensorflow.keras.optimizers import Adam\n",
    "from tensorflow.keras.preprocessing.sequence import TimeseriesGenerator\n",
    "from tensorflow.keras.utils import to_categorical\n",
    "from tensorflow.keras.callbacks import EarlyStopping\n",
    "from tensorflow.keras import regularizers\n",
    "\n",
    "import matplotlib.pyplot as plt\n",
    "%matplotlib inline"
   ]
  },
  {
   "cell_type": "markdown",
   "metadata": {},
   "source": [
    "<a id = 'read'></a>\n",
    "## Reading in Data"
   ]
  },
  {
   "cell_type": "code",
   "execution_count": 2,
   "metadata": {},
   "outputs": [
    {
     "data": {
      "text/html": [
       "<div>\n",
       "<style scoped>\n",
       "    .dataframe tbody tr th:only-of-type {\n",
       "        vertical-align: middle;\n",
       "    }\n",
       "\n",
       "    .dataframe tbody tr th {\n",
       "        vertical-align: top;\n",
       "    }\n",
       "\n",
       "    .dataframe thead th {\n",
       "        text-align: right;\n",
       "    }\n",
       "</style>\n",
       "<table border=\"1\" class=\"dataframe\">\n",
       "  <thead>\n",
       "    <tr style=\"text-align: right;\">\n",
       "      <th></th>\n",
       "      <th>Unnamed: 0</th>\n",
       "      <th>game_id</th>\n",
       "      <th>frame_index</th>\n",
       "      <th>fox_cstick_x</th>\n",
       "      <th>fox_cstick_y</th>\n",
       "      <th>fox_joystick_x</th>\n",
       "      <th>fox_joystick_y</th>\n",
       "      <th>fox_trigger_analog</th>\n",
       "      <th>fox_Start</th>\n",
       "      <th>fox_Y</th>\n",
       "      <th>...</th>\n",
       "      <th>nfox_combo_count</th>\n",
       "      <th>nfox_dmg</th>\n",
       "      <th>nfox_direction</th>\n",
       "      <th>nfox_last_hit_by</th>\n",
       "      <th>nfox_position_x</th>\n",
       "      <th>nfox_position_y</th>\n",
       "      <th>nfox_shield</th>\n",
       "      <th>nfox_state</th>\n",
       "      <th>nfox_state_age</th>\n",
       "      <th>nfox_stocks</th>\n",
       "    </tr>\n",
       "  </thead>\n",
       "  <tbody>\n",
       "    <tr>\n",
       "      <th>0</th>\n",
       "      <td>0</td>\n",
       "      <td>20190406T144505</td>\n",
       "      <td>-123</td>\n",
       "      <td>0.0</td>\n",
       "      <td>0.0</td>\n",
       "      <td>0.0</td>\n",
       "      <td>0.0</td>\n",
       "      <td>0</td>\n",
       "      <td>0</td>\n",
       "      <td>0</td>\n",
       "      <td>...</td>\n",
       "      <td>0</td>\n",
       "      <td>0.0</td>\n",
       "      <td>1</td>\n",
       "      <td>NaN</td>\n",
       "      <td>-60.0</td>\n",
       "      <td>10.0</td>\n",
       "      <td>60.0</td>\n",
       "      <td>322</td>\n",
       "      <td>-1.0</td>\n",
       "      <td>4</td>\n",
       "    </tr>\n",
       "    <tr>\n",
       "      <th>1</th>\n",
       "      <td>1</td>\n",
       "      <td>20190406T144505</td>\n",
       "      <td>-122</td>\n",
       "      <td>0.0</td>\n",
       "      <td>0.0</td>\n",
       "      <td>0.0</td>\n",
       "      <td>0.0</td>\n",
       "      <td>0</td>\n",
       "      <td>0</td>\n",
       "      <td>0</td>\n",
       "      <td>...</td>\n",
       "      <td>0</td>\n",
       "      <td>0.0</td>\n",
       "      <td>1</td>\n",
       "      <td>NaN</td>\n",
       "      <td>-60.0</td>\n",
       "      <td>10.0</td>\n",
       "      <td>60.0</td>\n",
       "      <td>322</td>\n",
       "      <td>-1.0</td>\n",
       "      <td>4</td>\n",
       "    </tr>\n",
       "    <tr>\n",
       "      <th>2</th>\n",
       "      <td>2</td>\n",
       "      <td>20190406T144505</td>\n",
       "      <td>-121</td>\n",
       "      <td>0.0</td>\n",
       "      <td>0.0</td>\n",
       "      <td>0.0</td>\n",
       "      <td>0.0</td>\n",
       "      <td>0</td>\n",
       "      <td>0</td>\n",
       "      <td>0</td>\n",
       "      <td>...</td>\n",
       "      <td>0</td>\n",
       "      <td>0.0</td>\n",
       "      <td>1</td>\n",
       "      <td>NaN</td>\n",
       "      <td>-60.0</td>\n",
       "      <td>10.0</td>\n",
       "      <td>60.0</td>\n",
       "      <td>322</td>\n",
       "      <td>-1.0</td>\n",
       "      <td>4</td>\n",
       "    </tr>\n",
       "    <tr>\n",
       "      <th>3</th>\n",
       "      <td>3</td>\n",
       "      <td>20190406T144505</td>\n",
       "      <td>-120</td>\n",
       "      <td>0.0</td>\n",
       "      <td>0.0</td>\n",
       "      <td>0.0</td>\n",
       "      <td>0.0</td>\n",
       "      <td>0</td>\n",
       "      <td>0</td>\n",
       "      <td>0</td>\n",
       "      <td>...</td>\n",
       "      <td>0</td>\n",
       "      <td>0.0</td>\n",
       "      <td>1</td>\n",
       "      <td>NaN</td>\n",
       "      <td>-60.0</td>\n",
       "      <td>10.0</td>\n",
       "      <td>60.0</td>\n",
       "      <td>322</td>\n",
       "      <td>-1.0</td>\n",
       "      <td>4</td>\n",
       "    </tr>\n",
       "    <tr>\n",
       "      <th>4</th>\n",
       "      <td>4</td>\n",
       "      <td>20190406T144505</td>\n",
       "      <td>-119</td>\n",
       "      <td>0.0</td>\n",
       "      <td>0.0</td>\n",
       "      <td>0.0</td>\n",
       "      <td>0.0</td>\n",
       "      <td>0</td>\n",
       "      <td>0</td>\n",
       "      <td>0</td>\n",
       "      <td>...</td>\n",
       "      <td>0</td>\n",
       "      <td>0.0</td>\n",
       "      <td>1</td>\n",
       "      <td>NaN</td>\n",
       "      <td>-60.0</td>\n",
       "      <td>10.0</td>\n",
       "      <td>60.0</td>\n",
       "      <td>322</td>\n",
       "      <td>-1.0</td>\n",
       "      <td>4</td>\n",
       "    </tr>\n",
       "  </tbody>\n",
       "</table>\n",
       "<p>5 rows × 57 columns</p>\n",
       "</div>"
      ],
      "text/plain": [
       "   Unnamed: 0          game_id  frame_index  fox_cstick_x  fox_cstick_y  \\\n",
       "0           0  20190406T144505         -123           0.0           0.0   \n",
       "1           1  20190406T144505         -122           0.0           0.0   \n",
       "2           2  20190406T144505         -121           0.0           0.0   \n",
       "3           3  20190406T144505         -120           0.0           0.0   \n",
       "4           4  20190406T144505         -119           0.0           0.0   \n",
       "\n",
       "   fox_joystick_x  fox_joystick_y  fox_trigger_analog  fox_Start  fox_Y  ...  \\\n",
       "0             0.0             0.0                   0          0      0  ...   \n",
       "1             0.0             0.0                   0          0      0  ...   \n",
       "2             0.0             0.0                   0          0      0  ...   \n",
       "3             0.0             0.0                   0          0      0  ...   \n",
       "4             0.0             0.0                   0          0      0  ...   \n",
       "\n",
       "   nfox_combo_count  nfox_dmg  nfox_direction  nfox_last_hit_by  \\\n",
       "0                 0       0.0               1               NaN   \n",
       "1                 0       0.0               1               NaN   \n",
       "2                 0       0.0               1               NaN   \n",
       "3                 0       0.0               1               NaN   \n",
       "4                 0       0.0               1               NaN   \n",
       "\n",
       "   nfox_position_x  nfox_position_y  nfox_shield  nfox_state  nfox_state_age  \\\n",
       "0            -60.0             10.0         60.0         322            -1.0   \n",
       "1            -60.0             10.0         60.0         322            -1.0   \n",
       "2            -60.0             10.0         60.0         322            -1.0   \n",
       "3            -60.0             10.0         60.0         322            -1.0   \n",
       "4            -60.0             10.0         60.0         322            -1.0   \n",
       "\n",
       "   nfox_stocks  \n",
       "0            4  \n",
       "1            4  \n",
       "2            4  \n",
       "3            4  \n",
       "4            4  \n",
       "\n",
       "[5 rows x 57 columns]"
      ]
     },
     "execution_count": 2,
     "metadata": {},
     "output_type": "execute_result"
    }
   ],
   "source": [
    "df_frames = pd.read_csv('../data/fox-falco-fd-frames.csv')\n",
    "df_frames.head()"
   ]
  },
  {
   "cell_type": "code",
   "execution_count": 3,
   "metadata": {},
   "outputs": [
    {
     "data": {
      "text/html": [
       "<div>\n",
       "<style scoped>\n",
       "    .dataframe tbody tr th:only-of-type {\n",
       "        vertical-align: middle;\n",
       "    }\n",
       "\n",
       "    .dataframe tbody tr th {\n",
       "        vertical-align: top;\n",
       "    }\n",
       "\n",
       "    .dataframe thead th {\n",
       "        text-align: right;\n",
       "    }\n",
       "</style>\n",
       "<table border=\"1\" class=\"dataframe\">\n",
       "  <thead>\n",
       "    <tr style=\"text-align: right;\">\n",
       "      <th></th>\n",
       "      <th>game_id</th>\n",
       "      <th>frame_index</th>\n",
       "      <th>fox_cstick_x</th>\n",
       "      <th>fox_cstick_y</th>\n",
       "      <th>fox_joystick_x</th>\n",
       "      <th>fox_joystick_y</th>\n",
       "      <th>fox_trigger_analog</th>\n",
       "      <th>fox_Start</th>\n",
       "      <th>fox_Y</th>\n",
       "      <th>fox_X</th>\n",
       "      <th>...</th>\n",
       "      <th>nfox_Dpad_Left</th>\n",
       "      <th>nfox_combo_count</th>\n",
       "      <th>nfox_dmg</th>\n",
       "      <th>nfox_direction</th>\n",
       "      <th>nfox_position_x</th>\n",
       "      <th>nfox_position_y</th>\n",
       "      <th>nfox_shield</th>\n",
       "      <th>nfox_state</th>\n",
       "      <th>nfox_state_age</th>\n",
       "      <th>nfox_stocks</th>\n",
       "    </tr>\n",
       "  </thead>\n",
       "  <tbody>\n",
       "    <tr>\n",
       "      <th>0</th>\n",
       "      <td>20190406T144505</td>\n",
       "      <td>-123</td>\n",
       "      <td>0.0</td>\n",
       "      <td>0.0</td>\n",
       "      <td>0.0</td>\n",
       "      <td>0.0</td>\n",
       "      <td>0</td>\n",
       "      <td>0</td>\n",
       "      <td>0</td>\n",
       "      <td>0</td>\n",
       "      <td>...</td>\n",
       "      <td>0</td>\n",
       "      <td>0</td>\n",
       "      <td>0.0</td>\n",
       "      <td>1</td>\n",
       "      <td>-60.0</td>\n",
       "      <td>10.0</td>\n",
       "      <td>60.0</td>\n",
       "      <td>322</td>\n",
       "      <td>-1.0</td>\n",
       "      <td>4</td>\n",
       "    </tr>\n",
       "    <tr>\n",
       "      <th>1</th>\n",
       "      <td>20190406T144505</td>\n",
       "      <td>-122</td>\n",
       "      <td>0.0</td>\n",
       "      <td>0.0</td>\n",
       "      <td>0.0</td>\n",
       "      <td>0.0</td>\n",
       "      <td>0</td>\n",
       "      <td>0</td>\n",
       "      <td>0</td>\n",
       "      <td>0</td>\n",
       "      <td>...</td>\n",
       "      <td>0</td>\n",
       "      <td>0</td>\n",
       "      <td>0.0</td>\n",
       "      <td>1</td>\n",
       "      <td>-60.0</td>\n",
       "      <td>10.0</td>\n",
       "      <td>60.0</td>\n",
       "      <td>322</td>\n",
       "      <td>-1.0</td>\n",
       "      <td>4</td>\n",
       "    </tr>\n",
       "    <tr>\n",
       "      <th>2</th>\n",
       "      <td>20190406T144505</td>\n",
       "      <td>-121</td>\n",
       "      <td>0.0</td>\n",
       "      <td>0.0</td>\n",
       "      <td>0.0</td>\n",
       "      <td>0.0</td>\n",
       "      <td>0</td>\n",
       "      <td>0</td>\n",
       "      <td>0</td>\n",
       "      <td>0</td>\n",
       "      <td>...</td>\n",
       "      <td>0</td>\n",
       "      <td>0</td>\n",
       "      <td>0.0</td>\n",
       "      <td>1</td>\n",
       "      <td>-60.0</td>\n",
       "      <td>10.0</td>\n",
       "      <td>60.0</td>\n",
       "      <td>322</td>\n",
       "      <td>-1.0</td>\n",
       "      <td>4</td>\n",
       "    </tr>\n",
       "    <tr>\n",
       "      <th>3</th>\n",
       "      <td>20190406T144505</td>\n",
       "      <td>-120</td>\n",
       "      <td>0.0</td>\n",
       "      <td>0.0</td>\n",
       "      <td>0.0</td>\n",
       "      <td>0.0</td>\n",
       "      <td>0</td>\n",
       "      <td>0</td>\n",
       "      <td>0</td>\n",
       "      <td>0</td>\n",
       "      <td>...</td>\n",
       "      <td>0</td>\n",
       "      <td>0</td>\n",
       "      <td>0.0</td>\n",
       "      <td>1</td>\n",
       "      <td>-60.0</td>\n",
       "      <td>10.0</td>\n",
       "      <td>60.0</td>\n",
       "      <td>322</td>\n",
       "      <td>-1.0</td>\n",
       "      <td>4</td>\n",
       "    </tr>\n",
       "    <tr>\n",
       "      <th>4</th>\n",
       "      <td>20190406T144505</td>\n",
       "      <td>-119</td>\n",
       "      <td>0.0</td>\n",
       "      <td>0.0</td>\n",
       "      <td>0.0</td>\n",
       "      <td>0.0</td>\n",
       "      <td>0</td>\n",
       "      <td>0</td>\n",
       "      <td>0</td>\n",
       "      <td>0</td>\n",
       "      <td>...</td>\n",
       "      <td>0</td>\n",
       "      <td>0</td>\n",
       "      <td>0.0</td>\n",
       "      <td>1</td>\n",
       "      <td>-60.0</td>\n",
       "      <td>10.0</td>\n",
       "      <td>60.0</td>\n",
       "      <td>322</td>\n",
       "      <td>-1.0</td>\n",
       "      <td>4</td>\n",
       "    </tr>\n",
       "  </tbody>\n",
       "</table>\n",
       "<p>5 rows × 54 columns</p>\n",
       "</div>"
      ],
      "text/plain": [
       "           game_id  frame_index  fox_cstick_x  fox_cstick_y  fox_joystick_x  \\\n",
       "0  20190406T144505         -123           0.0           0.0             0.0   \n",
       "1  20190406T144505         -122           0.0           0.0             0.0   \n",
       "2  20190406T144505         -121           0.0           0.0             0.0   \n",
       "3  20190406T144505         -120           0.0           0.0             0.0   \n",
       "4  20190406T144505         -119           0.0           0.0             0.0   \n",
       "\n",
       "   fox_joystick_y  fox_trigger_analog  fox_Start  fox_Y  fox_X  ...  \\\n",
       "0             0.0                   0          0      0      0  ...   \n",
       "1             0.0                   0          0      0      0  ...   \n",
       "2             0.0                   0          0      0      0  ...   \n",
       "3             0.0                   0          0      0      0  ...   \n",
       "4             0.0                   0          0      0      0  ...   \n",
       "\n",
       "   nfox_Dpad_Left  nfox_combo_count  nfox_dmg  nfox_direction  \\\n",
       "0               0                 0       0.0               1   \n",
       "1               0                 0       0.0               1   \n",
       "2               0                 0       0.0               1   \n",
       "3               0                 0       0.0               1   \n",
       "4               0                 0       0.0               1   \n",
       "\n",
       "   nfox_position_x  nfox_position_y  nfox_shield  nfox_state  nfox_state_age  \\\n",
       "0            -60.0             10.0         60.0         322            -1.0   \n",
       "1            -60.0             10.0         60.0         322            -1.0   \n",
       "2            -60.0             10.0         60.0         322            -1.0   \n",
       "3            -60.0             10.0         60.0         322            -1.0   \n",
       "4            -60.0             10.0         60.0         322            -1.0   \n",
       "\n",
       "   nfox_stocks  \n",
       "0            4  \n",
       "1            4  \n",
       "2            4  \n",
       "3            4  \n",
       "4            4  \n",
       "\n",
       "[5 rows x 54 columns]"
      ]
     },
     "execution_count": 3,
     "metadata": {},
     "output_type": "execute_result"
    }
   ],
   "source": [
    "df_frames.drop(columns = ['Unnamed: 0', 'fox_last_hit_by', 'nfox_last_hit_by'], inplace = True)\n",
    "df_frames.head()"
   ]
  },
  {
   "cell_type": "markdown",
   "metadata": {},
   "source": [
    "## Reducing Noise\n",
    "\n",
    "Action States 322, 323, and 324 are useless because they are the states of the game starting, so we will drop them.\n",
    "Planned on removing all frames in which both characters are on the ground because. If `game` is a Game object, then I can access this information with `game.frames[frame_index].ports[active_port_index].leader.post.ground`. The problem is that this information is not tracked for the games recorded at Fight Pitt 9. I believe this information is recorded for more recent versions of Slippi."
   ]
  },
  {
   "cell_type": "code",
   "execution_count": 4,
   "metadata": {},
   "outputs": [
    {
     "data": {
      "text/html": [
       "<div>\n",
       "<style scoped>\n",
       "    .dataframe tbody tr th:only-of-type {\n",
       "        vertical-align: middle;\n",
       "    }\n",
       "\n",
       "    .dataframe tbody tr th {\n",
       "        vertical-align: top;\n",
       "    }\n",
       "\n",
       "    .dataframe thead th {\n",
       "        text-align: right;\n",
       "    }\n",
       "</style>\n",
       "<table border=\"1\" class=\"dataframe\">\n",
       "  <thead>\n",
       "    <tr style=\"text-align: right;\">\n",
       "      <th></th>\n",
       "      <th>game_id</th>\n",
       "      <th>frame_index</th>\n",
       "      <th>fox_cstick_x</th>\n",
       "      <th>fox_cstick_y</th>\n",
       "      <th>fox_joystick_x</th>\n",
       "      <th>fox_joystick_y</th>\n",
       "      <th>fox_trigger_analog</th>\n",
       "      <th>fox_Start</th>\n",
       "      <th>fox_Y</th>\n",
       "      <th>fox_X</th>\n",
       "      <th>...</th>\n",
       "      <th>nfox_Dpad_Left</th>\n",
       "      <th>nfox_combo_count</th>\n",
       "      <th>nfox_dmg</th>\n",
       "      <th>nfox_direction</th>\n",
       "      <th>nfox_position_x</th>\n",
       "      <th>nfox_position_y</th>\n",
       "      <th>nfox_shield</th>\n",
       "      <th>nfox_state</th>\n",
       "      <th>nfox_state_age</th>\n",
       "      <th>nfox_stocks</th>\n",
       "    </tr>\n",
       "  </thead>\n",
       "  <tbody>\n",
       "    <tr>\n",
       "      <th>0</th>\n",
       "      <td>20190406T144505</td>\n",
       "      <td>-49</td>\n",
       "      <td>0.0</td>\n",
       "      <td>0.0</td>\n",
       "      <td>0.0</td>\n",
       "      <td>0.0</td>\n",
       "      <td>0</td>\n",
       "      <td>0</td>\n",
       "      <td>0</td>\n",
       "      <td>0</td>\n",
       "      <td>...</td>\n",
       "      <td>0</td>\n",
       "      <td>0</td>\n",
       "      <td>0.0</td>\n",
       "      <td>1</td>\n",
       "      <td>-60.0</td>\n",
       "      <td>9.872425</td>\n",
       "      <td>60.0</td>\n",
       "      <td>29</td>\n",
       "      <td>0.0</td>\n",
       "      <td>4</td>\n",
       "    </tr>\n",
       "    <tr>\n",
       "      <th>1</th>\n",
       "      <td>20190406T144505</td>\n",
       "      <td>-48</td>\n",
       "      <td>0.0</td>\n",
       "      <td>0.0</td>\n",
       "      <td>0.0</td>\n",
       "      <td>0.0</td>\n",
       "      <td>0</td>\n",
       "      <td>0</td>\n",
       "      <td>0</td>\n",
       "      <td>0</td>\n",
       "      <td>...</td>\n",
       "      <td>0</td>\n",
       "      <td>0</td>\n",
       "      <td>0.0</td>\n",
       "      <td>1</td>\n",
       "      <td>-60.0</td>\n",
       "      <td>9.532425</td>\n",
       "      <td>60.0</td>\n",
       "      <td>29</td>\n",
       "      <td>1.0</td>\n",
       "      <td>4</td>\n",
       "    </tr>\n",
       "    <tr>\n",
       "      <th>2</th>\n",
       "      <td>20190406T144505</td>\n",
       "      <td>-47</td>\n",
       "      <td>0.0</td>\n",
       "      <td>0.0</td>\n",
       "      <td>0.0</td>\n",
       "      <td>0.0</td>\n",
       "      <td>0</td>\n",
       "      <td>0</td>\n",
       "      <td>0</td>\n",
       "      <td>0</td>\n",
       "      <td>...</td>\n",
       "      <td>0</td>\n",
       "      <td>0</td>\n",
       "      <td>0.0</td>\n",
       "      <td>1</td>\n",
       "      <td>-60.0</td>\n",
       "      <td>9.022425</td>\n",
       "      <td>60.0</td>\n",
       "      <td>29</td>\n",
       "      <td>2.0</td>\n",
       "      <td>4</td>\n",
       "    </tr>\n",
       "    <tr>\n",
       "      <th>3</th>\n",
       "      <td>20190406T144505</td>\n",
       "      <td>-46</td>\n",
       "      <td>0.0</td>\n",
       "      <td>0.0</td>\n",
       "      <td>0.0</td>\n",
       "      <td>0.0</td>\n",
       "      <td>0</td>\n",
       "      <td>0</td>\n",
       "      <td>0</td>\n",
       "      <td>0</td>\n",
       "      <td>...</td>\n",
       "      <td>0</td>\n",
       "      <td>0</td>\n",
       "      <td>0.0</td>\n",
       "      <td>1</td>\n",
       "      <td>-60.0</td>\n",
       "      <td>8.342424</td>\n",
       "      <td>60.0</td>\n",
       "      <td>29</td>\n",
       "      <td>3.0</td>\n",
       "      <td>4</td>\n",
       "    </tr>\n",
       "    <tr>\n",
       "      <th>4</th>\n",
       "      <td>20190406T144505</td>\n",
       "      <td>-45</td>\n",
       "      <td>0.0</td>\n",
       "      <td>0.0</td>\n",
       "      <td>0.0</td>\n",
       "      <td>0.0</td>\n",
       "      <td>0</td>\n",
       "      <td>0</td>\n",
       "      <td>0</td>\n",
       "      <td>0</td>\n",
       "      <td>...</td>\n",
       "      <td>0</td>\n",
       "      <td>0</td>\n",
       "      <td>0.0</td>\n",
       "      <td>1</td>\n",
       "      <td>-60.0</td>\n",
       "      <td>7.492424</td>\n",
       "      <td>60.0</td>\n",
       "      <td>29</td>\n",
       "      <td>4.0</td>\n",
       "      <td>4</td>\n",
       "    </tr>\n",
       "  </tbody>\n",
       "</table>\n",
       "<p>5 rows × 54 columns</p>\n",
       "</div>"
      ],
      "text/plain": [
       "           game_id  frame_index  fox_cstick_x  fox_cstick_y  fox_joystick_x  \\\n",
       "0  20190406T144505          -49           0.0           0.0             0.0   \n",
       "1  20190406T144505          -48           0.0           0.0             0.0   \n",
       "2  20190406T144505          -47           0.0           0.0             0.0   \n",
       "3  20190406T144505          -46           0.0           0.0             0.0   \n",
       "4  20190406T144505          -45           0.0           0.0             0.0   \n",
       "\n",
       "   fox_joystick_y  fox_trigger_analog  fox_Start  fox_Y  fox_X  ...  \\\n",
       "0             0.0                   0          0      0      0  ...   \n",
       "1             0.0                   0          0      0      0  ...   \n",
       "2             0.0                   0          0      0      0  ...   \n",
       "3             0.0                   0          0      0      0  ...   \n",
       "4             0.0                   0          0      0      0  ...   \n",
       "\n",
       "   nfox_Dpad_Left  nfox_combo_count  nfox_dmg  nfox_direction  \\\n",
       "0               0                 0       0.0               1   \n",
       "1               0                 0       0.0               1   \n",
       "2               0                 0       0.0               1   \n",
       "3               0                 0       0.0               1   \n",
       "4               0                 0       0.0               1   \n",
       "\n",
       "   nfox_position_x  nfox_position_y  nfox_shield  nfox_state  nfox_state_age  \\\n",
       "0            -60.0         9.872425         60.0          29             0.0   \n",
       "1            -60.0         9.532425         60.0          29             1.0   \n",
       "2            -60.0         9.022425         60.0          29             2.0   \n",
       "3            -60.0         8.342424         60.0          29             3.0   \n",
       "4            -60.0         7.492424         60.0          29             4.0   \n",
       "\n",
       "   nfox_stocks  \n",
       "0            4  \n",
       "1            4  \n",
       "2            4  \n",
       "3            4  \n",
       "4            4  \n",
       "\n",
       "[5 rows x 54 columns]"
      ]
     },
     "execution_count": 4,
     "metadata": {},
     "output_type": "execute_result"
    }
   ],
   "source": [
    "# Establish which action state values explain nothing\n",
    "useless_states = [322, 323, 324]\n",
    "\n",
    "# Return the rows that are not (~) in the useless-states list for Fox and Falco\n",
    "df_frames = df_frames.loc[(~df_frames['fox_state'].isin(useless_states)) | (~df_frames['nfox_state'].isin(useless_states))]\n",
    "df_frames.reset_index(inplace = True, drop = True)\n",
    "df_frames.head()"
   ]
  },
  {
   "cell_type": "markdown",
   "metadata": {},
   "source": [
    "Each missed tech animation has different values, but can be interpreted the same way. Thanks to these, we can colapse all of these values to the same value."
   ]
  },
  {
   "cell_type": "code",
   "execution_count": 5,
   "metadata": {},
   "outputs": [],
   "source": [
    "# Map all missed tech values as the same value\n",
    "missed_tech = [183, 188, 189, 191, 196, 197]\n",
    "df_frames['fox_state'] = df_frames['fox_state'].apply(lambda val: val if val not in missed_tech else 999)"
   ]
  },
  {
   "cell_type": "code",
   "execution_count": 6,
   "metadata": {},
   "outputs": [],
   "source": [
    "# Map [missed tech, tech in place, tech-roll forward, tech-roll backward] to their respective values in the target column\n",
    "missed_and_techs = [999, 199, 200, 201]\n",
    "df_frames['target'] = df_frames['fox_state'].apply(lambda val: 0 if val not in missed_and_techs else (1 if val == 999 else (2 if val == 199 else (3 if val == 200 else 4))))"
   ]
  },
  {
   "cell_type": "markdown",
   "metadata": {},
   "source": [
    "| Target Value |         Meaning         |\n",
    "|:------------:|:-----------------------:|\n",
    "|       0      | Not a wake-up situation |\n",
    "|       1      |       Missed tech       |\n",
    "|       2      |      Tech in-place      |\n",
    "|       3      |    Tech-roll forward    |\n",
    "|       4      |    Tech-roll backward   |"
   ]
  },
  {
   "cell_type": "code",
   "execution_count": 7,
   "metadata": {},
   "outputs": [
    {
     "data": {
      "text/plain": [
       "0    0.966377\n",
       "1    0.020880\n",
       "2    0.005488\n",
       "4    0.004415\n",
       "3    0.002839\n",
       "Name: target, dtype: float64"
      ]
     },
     "execution_count": 7,
     "metadata": {},
     "output_type": "execute_result"
    }
   ],
   "source": [
    "# class imbalance\n",
    "df_frames['target'].value_counts(normalize = True)"
   ]
  },
  {
   "cell_type": "code",
   "execution_count": 8,
   "metadata": {},
   "outputs": [
    {
     "data": {
      "text/plain": [
       "0    101775\n",
       "1      2199\n",
       "2       578\n",
       "4       465\n",
       "3       299\n",
       "Name: target, dtype: int64"
      ]
     },
     "execution_count": 8,
     "metadata": {},
     "output_type": "execute_result"
    }
   ],
   "source": [
    "df_frames['target'].value_counts()"
   ]
  },
  {
   "cell_type": "markdown",
   "metadata": {},
   "source": [
    "The baseline accuracy for our multi-classification RNN is 96.63%."
   ]
  },
  {
   "cell_type": "code",
   "execution_count": 9,
   "metadata": {
    "scrolled": true
   },
   "outputs": [
    {
     "data": {
      "text/plain": [
       "Index(['game_id', 'frame_index', 'fox_cstick_x', 'fox_cstick_y',\n",
       "       'fox_joystick_x', 'fox_joystick_y', 'fox_trigger_analog', 'fox_Start',\n",
       "       'fox_Y', 'fox_X', 'fox_B', 'fox_A', 'fox_L', 'fox_R', 'fox_Z',\n",
       "       'fox_Dpad_Up', 'fox_Dpad_Down', 'fox_Dpad_Right', 'fox_Dpad_Left',\n",
       "       'fox_combo_count', 'fox_dmg', 'fox_direction', 'fox_position_x',\n",
       "       'fox_position_y', 'fox_shield', 'fox_state', 'fox_state_age',\n",
       "       'fox_stocks', 'nfox_cstick_x', 'nfox_cstick_y', 'nfox_joystick_x',\n",
       "       'nfox_joystick_y', 'nfox_trigger_analog', 'nfox_Start', 'nfox_Y',\n",
       "       'nfox_X', 'nfox_B', 'nfox_A', 'nfox_L', 'nfox_R', 'nfox_Z',\n",
       "       'nfox_Dpad_Up', 'nfox_Dpad_Down', 'nfox_Dpad_Right', 'nfox_Dpad_Left',\n",
       "       'nfox_combo_count', 'nfox_dmg', 'nfox_direction', 'nfox_position_x',\n",
       "       'nfox_position_y', 'nfox_shield', 'nfox_state', 'nfox_state_age',\n",
       "       'nfox_stocks', 'target'],\n",
       "      dtype='object')"
      ]
     },
     "execution_count": 9,
     "metadata": {},
     "output_type": "execute_result"
    }
   ],
   "source": [
    "df_frames.columns"
   ]
  },
  {
   "cell_type": "code",
   "execution_count": 10,
   "metadata": {},
   "outputs": [],
   "source": [
    "# Now we need to categorize these values\n",
    "df_frames = pd.get_dummies(df_frames, columns = ['fox_state', 'nfox_state', 'fox_direction', 'nfox_direction'])"
   ]
  },
  {
   "cell_type": "markdown",
   "metadata": {},
   "source": [
    "## Modeling"
   ]
  },
  {
   "cell_type": "code",
   "execution_count": 11,
   "metadata": {},
   "outputs": [],
   "source": [
    "# Establishing X features and y target column\n",
    "X = df_frames.drop(columns = ['game_id', 'frame_index', 'target'])\n",
    "y = to_categorical(df_frames['target'])"
   ]
  },
  {
   "cell_type": "code",
   "execution_count": 12,
   "metadata": {},
   "outputs": [
    {
     "data": {
      "text/plain": [
       "(105316, 345)"
      ]
     },
     "execution_count": 12,
     "metadata": {},
     "output_type": "execute_result"
    }
   ],
   "source": [
    "X.shape"
   ]
  },
  {
   "cell_type": "code",
   "execution_count": 13,
   "metadata": {},
   "outputs": [
    {
     "data": {
      "text/plain": [
       "(105316, 5)"
      ]
     },
     "execution_count": 13,
     "metadata": {},
     "output_type": "execute_result"
    }
   ],
   "source": [
    "y.shape"
   ]
  },
  {
   "cell_type": "code",
   "execution_count": 14,
   "metadata": {},
   "outputs": [],
   "source": [
    "# Since I cannot set random_state to 20XX, I will set it to 2099\n",
    "# 20XX is a joke among the among the competitive Melee community\n",
    "X_train, X_test, y_train, y_test = train_test_split(X, y, shuffle = False, random_state = 2099)"
   ]
  },
  {
   "cell_type": "code",
   "execution_count": 15,
   "metadata": {},
   "outputs": [],
   "source": [
    "# Scaling our data\n",
    "ss = StandardScaler()\n",
    "Z_train = ss.fit_transform(X_train)\n",
    "Z_test = ss.transform(X_test)"
   ]
  },
  {
   "cell_type": "code",
   "execution_count": 16,
   "metadata": {},
   "outputs": [],
   "source": [
    "train_sequences = TimeseriesGenerator(Z_train, y_train,\n",
    "                                     length = 120, batch_size = 512)"
   ]
  },
  {
   "cell_type": "code",
   "execution_count": 17,
   "metadata": {},
   "outputs": [
    {
     "data": {
      "text/plain": [
       "(512, 120, 345)"
      ]
     },
     "execution_count": 17,
     "metadata": {},
     "output_type": "execute_result"
    }
   ],
   "source": [
    "train_sequences[0][0].shape"
   ]
  },
  {
   "cell_type": "code",
   "execution_count": 18,
   "metadata": {},
   "outputs": [],
   "source": [
    "test_sequences = TimeseriesGenerator(Z_test, y_test,\n",
    "                                    length = 120, batch_size = 512)"
   ]
  },
  {
   "cell_type": "code",
   "execution_count": 19,
   "metadata": {},
   "outputs": [
    {
     "data": {
      "text/plain": [
       "(78987, 345)"
      ]
     },
     "execution_count": 19,
     "metadata": {},
     "output_type": "execute_result"
    }
   ],
   "source": [
    "Z_train.shape"
   ]
  },
  {
   "cell_type": "code",
   "execution_count": null,
   "metadata": {},
   "outputs": [],
   "source": [
    "# Constructing the model topology\n",
    "model = Sequential()\n",
    "\n",
    "# The input layer\n",
    "model.add(GRU(337, input_shape = (120, 337), return_sequences = True))\n",
    "# Send the output of 120 past frames back to this layer\n",
    "model.add(GRU(337, return_sequences = False))\n",
    "\n",
    "# A hidden layer of 128 nodes with ReLu activation function\n",
    "model.add(Dense(128, activation = 'relu'))\n",
    "\n",
    "# \n",
    "model.add(Dense(5, activation = 'softmax'))\n",
    "\n",
    "model.compile(loss = 'categorical_crossentropy', optimizer = Adam(0.001), metrics = ['accuracy'])"
   ]
  },
  {
   "cell_type": "code",
   "execution_count": null,
   "metadata": {},
   "outputs": [],
   "source": [
    "hist = model.fit_generator(train_sequences, epochs = 5, validation_data = test_sequences)"
   ]
  },
  {
   "cell_type": "code",
   "execution_count": null,
   "metadata": {},
   "outputs": [],
   "source": [
    "plt.title('No Regularization');\n",
    "plt.plot(hist.history['loss'], label = 'Train Loss', color = 'navy');\n",
    "plt.plot(hist.history['val_loss'], label = 'Test Loss', color = 'skyblue');\n",
    "plt.legend();"
   ]
  },
  {
   "cell_type": "code",
   "execution_count": null,
   "metadata": {},
   "outputs": [],
   "source": [
    "# EARLY STOPPING\n",
    "model_es = Sequential()\n",
    "\n",
    "model_es.add(GRU(337, input_shape = (120, 337), return_sequences = True))\n",
    "model_es.add(GRU(337, return_sequences = False))\n",
    "\n",
    "model_es.add(Dense(128, activation = 'relu'))\n",
    "\n",
    "model_es.add(Dense(5, activation = 'softmax'))\n",
    "\n",
    "early_stop = EarlyStopping(monitor = 'val_loss', min_delta = 0, patience = 5, verbose = 1, mode = 'auto')\n",
    "model_es.compile(loss = 'categorical_crossentropy', optimizer = Adam(0.001), metrics = ['accuracy'], callbacks = early_stop)\n",
    "\n",
    "hist_es = model_es.fit_generator(train_sequences, epochs = 5, validation_data = test_sequences)"
   ]
  },
  {
   "cell_type": "code",
   "execution_count": null,
   "metadata": {},
   "outputs": [],
   "source": [
    "plt.title('Comparing No Regularization and Early Stopping')\n",
    "plt.title('Not expecting much difference')\n",
    "\n",
    "plt.plot(hist.history['loss'], label = 'Train Loss', color = 'navy')\n",
    "plt.plot(hist.history['val_loss'], label = 'Test Loss', color = 'skyblue')\n",
    "\n",
    "plt.plot(hist_es.history['loss'], label = 'Train Loss ES', color = 'red')\n",
    "plt.plot(hist_es.history['val_loss'], label = 'Test Loss ES', color = 'pink')\n",
    "\n",
    "plt.legend();"
   ]
  },
  {
   "cell_type": "code",
   "execution_count": null,
   "metadata": {},
   "outputs": [],
   "source": [
    "# L2\n",
    "model_l2 = Sequential()\n",
    "\n",
    "model_l2.add(GRU(337, input_shape = (120, 337), return_sequences = True, kernel_regularizer = regularizers.l2(0.01)))\n",
    "model_l2.add(GRU(337, return_sequences = False, kernel_regularizer = regularizers.l2(0.01)))\n",
    "\n",
    "model_l2.add(Dense(128, activation = 'relu', kernel_regularizer = regularizers.l2(0.01)))\n",
    "\n",
    "model_l2.add(Dense(5, activation = 'softmax', kernel_regularizer = regularizers.l2(0.01)))\n",
    "\n",
    "model_l2.compile(loss = 'categorical_crossentropy', optimizer = Adam(0.001), metrics = ['accuracy'])\n",
    "\n",
    "hist_l2 = model_l2.fit_generator(train_sequences, epochs = 5, validation_data = test_sequences)"
   ]
  },
  {
   "cell_type": "code",
   "execution_count": null,
   "metadata": {},
   "outputs": [],
   "source": [
    "plt.title('Comparing No Regularization, Early Stopping, and L2 Regularization')\n",
    "\n",
    "plt.plot(hist.history['loss'], label = 'Train Loss', color = 'navy')\n",
    "plt.plot(hist.history['val_loss'], label = 'Test Loss', color = 'skyblue')\n",
    "\n",
    "# plt.plot(hist_es.history['loss'], label = 'Train Loss ES', color = 'darkred')\n",
    "# plt.plot(hist_es.history['val_loss'], label = 'Test Loss ES', color = 'pink')\n",
    "\n",
    "plt.plot(hist_l2.history['loss'], label = 'Train Loss L2', color = 'orange')\n",
    "plt.plot(hist_l2.history['val_loss'], label = 'Test Loss L2', color = 'yellow')\n",
    "\n",
    "plt.legend();"
   ]
  },
  {
   "cell_type": "code",
   "execution_count": null,
   "metadata": {},
   "outputs": [],
   "source": [
    "# Dropout\n",
    "model_do = Sequential()\n",
    "\n",
    "model_do.add(GRU(337, input_shape = (120, 337), return_sequences = True))\n",
    "model_do.add(GRU(337, return_sequences = False))\n",
    "\n",
    "model_do.add(Dense(128, activation = 'relu'))\n",
    "model_do.add(Dropout(0.5))\n",
    "\n",
    "model_do.add(Dense(5, activation = 'softmax'))\n",
    "\n",
    "model_do.compile(loss = 'categorical_crossentropy', optimizer = Adam(0.001), metrics = ['accuracy'])\n",
    "\n",
    "hist_do = model_do.fit_generator(train_sequences, epochs = 5, validation_data = test_sequences)"
   ]
  },
  {
   "cell_type": "code",
   "execution_count": null,
   "metadata": {},
   "outputs": [],
   "source": [
    "plt.title('Comparing No Regularization, Early Stopping, L2 Regularization, and Dropout')\n",
    "\n",
    "plt.plot(hist.history['loss'], label = 'Train Loss', color = 'navy')\n",
    "plt.plot(hist.history['val_loss'], label = 'Test Loss', color = 'skyblue')\n",
    "\n",
    "# plt.plot(hist_es.history['loss'], label = 'Train Loss ES', color = 'darkred')\n",
    "# plt.plot(hist_es.history['val_loss'], label = 'Test Loss ES', color = 'pink')\n",
    "\n",
    "# plt.plot(hist_l2.history['loss'], label = 'Train Loss L2', color = 'orange')\n",
    "# plt.plot(hist_l2.history['val_loss'], label = 'Test Loss L2', color = 'yellow')\n",
    "\n",
    "plt.plot(hist_do.history['loss'], label = 'Train Loss Dropout', color = 'darkgreen')\n",
    "plt.plot(hist_do.history['val_loss'], label = 'Test Loss Dropout', color = 'lightgreen')\n",
    "\n",
    "plt.legend();"
   ]
  },
  {
   "cell_type": "code",
   "execution_count": null,
   "metadata": {},
   "outputs": [],
   "source": [
    "plt.plot(hist_do.history['loss'], label = 'Train Loss Dropout', color = 'darkgreen')\n",
    "plt.plot(hist_do.history['val_loss'], label = 'Test Loss Dropout', color = 'lightgreen')"
   ]
  },
  {
   "cell_type": "code",
   "execution_count": null,
   "metadata": {},
   "outputs": [],
   "source": []
  },
  {
   "cell_type": "code",
   "execution_count": null,
   "metadata": {},
   "outputs": [],
   "source": []
  }
 ],
 "metadata": {
  "kernelspec": {
   "display_name": "Python 3",
   "language": "python",
   "name": "python3"
  },
  "language_info": {
   "codemirror_mode": {
    "name": "ipython",
    "version": 3
   },
   "file_extension": ".py",
   "mimetype": "text/x-python",
   "name": "python",
   "nbconvert_exporter": "python",
   "pygments_lexer": "ipython3",
   "version": "3.7.5"
  }
 },
 "nbformat": 4,
 "nbformat_minor": 2
}
