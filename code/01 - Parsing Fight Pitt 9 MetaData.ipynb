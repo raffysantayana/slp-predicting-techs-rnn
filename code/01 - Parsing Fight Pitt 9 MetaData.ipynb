{
 "cells": [
  {
   "cell_type": "markdown",
   "metadata": {},
   "source": [
    "# Converting Slippi to a DataFrame: The Metadata\n",
    "## Table of Contents\n",
    "\n",
    "1. [Problem Statement](#problem)\n",
    "2. [Context](#context)<br>\n",
    "    a. [Terminology](#terms)<br>\n",
    "    b. [Why Super Smash Bros.?](#why)<br>\n",
    "    c. [How does Super Smash Bros. Work?](#how)<br>\n",
    "3. [Executive Summary](#executive)<br>\n",
    "    a. [Data Gathering](#gather)<br>\n",
    "    b. [Parsing Data](#parse)<br>\n",
    "    c. [Modeling](#modeling)<br>\n",
    "    d. [Limitations](#limitdoesnotexist)<br>\n",
    "4. [Importing Libraries](#imports)\n",
    "5. [Retrieving Filepaths of Each Slippi Game](#filepaths)\n",
    "6. [Data Normalization: First Normal Form](#engineer)\n",
    "7. [Reading in a Slippi File](#readslp)\n",
    "8. [Extracting Metadata From Games](#extract)<br>\n",
    "    a. [Date](#date)<br>\n",
    "    b. [Duration](#duration)<br>\n",
    "    c. [Platform](#platform)<br>\n",
    "\n",
    "<a id='problem'></a>\n",
    "## Problem Statement\n",
    "\n",
    "Note: For those unfamiliar with Super Smash Bros., I encourage you to read the [context](#context) section.\n",
    "\n",
    "Fox versus Falco is a frequent match in competitive Melee. Discussions about whether Fox or Falco have the upperhand in the matchup is a popular debate among players. I believe that among today's top ranked players in the world, Fox will most likely win because of his faster speed over Falco. However, Falco is more likely to win against newer players because he is able to utilize different tools to perform combos that lead to Fox losing a stock.\n",
    "\n",
    "Since Falco is often one of the first major hurdles for new players to defeat, I hope to construct a coaching tool that will help them overcome this. The final product will use a collection of Slippi games as input and provide summary statistics on the games. For coaching tools of the product, a player can feed in a collection of Slippi games to learn how a specified player and character plays. Then this will create an AI that someone can battle. This is useful for those who wish to practice against a live player, but does not have immediate access to others. A similar idea to how Super Smash Bros. Wii U utilized [Amiibos](https://www.youtube.com/watch?v=uOnLcVOvrEE). As a quick check to see how feasible this project is, I will train a recurrent neural network on a series of games to see how well the network can learn Fox's wake-up behavior.\n",
    "<img src=\"../images/melee-wallpaper.jpg\" alt=\"Drawing\" style=\"width: 600px;\"/>\n",
    "\n",
    "<a id='context'></a>\n",
    "## Context\n",
    "<a id='why'></a>\n",
    "### Why Super Smash Bros.?\n",
    "\n",
    "Super Smash Bros. is a video game series published by Nintendo where video game characters of different franchises battle it out. The second game of the series, Super Smash Bros. Melee, was released in December 2001. This sparked fun parties, happy players, and heated rivalries. These rivalries grew from friend groups, to local neighborhood challenges, to large-scale tournaments by 2002. If you are interested in learning the history of the Super Smash Bros. Melee's competitive scene, I encourage you to watch a docuseries called [The Smash Brothers](https://www.youtube.com/watch?v=NSf2mgkRm7Q&list=PLoUHkRwnRH-IXbZfwlgiEN8eXmoj6DtKM) produced by East Point Pictures.\n",
    "\n",
    "Many players within this community are dedicated to becoming the best player that they can be. There are many fan-made tools and mods to the game for the purpose of either improving the player experience in training or improving the production of content. Some tools allow players to create save states so that they can easily practice a scenario quickly. Others allow content creators to create replays for the audience to enjoy. Today, I would like to highlight one of these tools, Project Slippi.\n",
    "- [Website](https://slippi.gg/)\n",
    "- [Github](https://github.com/project-slippi/project-slippi)\n",
    "- [Medium](https://medium.com/project-slippi)\n",
    "\n",
    "<a id='how'></a>\n",
    "### How Does Super Smash Bros. Work?\n",
    "\n",
    "In this project, I will be only looking at 1v1 tournament legal matches. The criteria for that are:\n",
    "- The match must be 1v1 with no other players or CPU's in the match.\n",
    "- The match must be on a tournament legal stage.\n",
    "- The match must be 8 minutes or less.\n",
    "\n",
    "In a 1v1 match, players are limited to defeat their opponent with nothing more than the abilities of themselves as a player and the abilities of their selected character. Characters have various moves such as jabs, smash attacks, tilt attacks, special attacks, grabs, and aerial attacks. Most of these attacks have slight variations of themselves, but at different directions. When a player strikes their opponent with an attack, then the opponent's damage percentage goes up.\n",
    "<img src=\"../images/damage-example.gif\"/> <center>Fox Damaging Falco</center>\n",
    "\n",
    "As a character's damage increases, then the distance at which they are launched after a hit then increases. This is beneficial as an opponent because the further they travel for each hit, then it should be easier to push them through a blast zone and have them lose a stock. Once a character loses all their stocks, then the other player is determined the winner. If a timeout occurs, then the player with the most stocks and least damage wins. In the case that those are tied as well, then a rematch is played with each charcter getting one stock.\n",
    "\n",
    "<img src=\"../images/GAME.gif\"/> <center>Jigglypuff Defeating Fox's Last Stock; Winning the Game</center>\n",
    "\n",
    "### A Primer on Fighting Games\n",
    "\n",
    "Fighting games is one of the many genres of video games. Some fighting game titles that may sound familiar are Street Fighter and Tekken. These games are unique in that Street Fighter is a 2-dimensional fighter where characters can only move left or right and Tekken characters can move forward, backwards, left or right. While all of these games are systematically different, they all share similar strategies that a player can utilize. For example, players can play as a heavy brute that can pack a punch, but are slow. Or they can play a glass cannon that can attack with lightning fast speed, but they are easy to kill once their momentum is broken.\n",
    "\n",
    "The idea of mixups is another common thread among fighting games. One of the most frequent mixup situations that occur in fighting games are when a character is laying on the ground. Usually, the character has one of four options known as get-up options or wake-up options. They can stay on the ground, get up, roll forward, or roll back. The opponent must be able to either predict or quickly react to whichever option the player takes and act accordingly. If the opponent does not capitalize on the player's vulnerability, then the player has a chance to fight back and win.\n",
    "\n",
    "In Melee, when a character is launched towards the floor, wall, or ceiling, then they have the option to tech. When a player is hit and placed in a situation where they must decide whether to tech in-place, tech-roll left, or tech-roll right, they may miss the 20 frame window and not tech. This will cause them to stay vulnerable on the ground with few options to retaliate. However, like stated before, this is a mixup. If a player frequently techs to the right, then their opponent will be accustomed to that behavior. So whenever the the opponent sees that the player has the option to tech, then they will assume the player will tech right and adjust the combo. If the player suddenly techs in-place and the opponent did not expect that, then the player has recovered safely and is free to move. This process is known as tech chasing - the opponent is tech-chasing the player. \n",
    "![tech-chasing](../images/tech-chase.gif) <center>Captain Falcon tech-chasing Fox McCloud</center>\n",
    "\n",
    "\n",
    "\n",
    "<a id='executive'></a>\n",
    "## Executive Summary\n",
    "<a id = 'gather'></a>\n",
    "### Data Gathering\n",
    "To begin, I considered constructing a script that would scrape [Slippi's site](https://slippi.gg) for games that occured during a tournament using the library `selenium`. I opted not to do this because the official Slippi Discord channel has the `!replaydumps` chat command that provides a download link to Slippi files from [Fight Pitt 9](https://smash.gg/tournament/fight-pitt-9-1/details), [Full Bloom 5](https://smash.gg/tournament/full-bloom-5/details), [The Gang Steals the Script](https://smash.gg/tournament/the-gang-steals-the-script/details), and [Pound 2019](https://smash.gg/tournament/pound-2019/details). The source of the data is on a different platform, but each are controlled by the creators and major contributors to the project such as [Fizzi](https://twitter.com/Fizzi36).\n",
    "\n",
    "<a id='parse'></a>\n",
    "### Parsing Data\n",
    "With the data in hand, I used the `slippi` library to read in each file as a Slippi's own Game object. Game objects have attributes whose values are sometimes other objects. Since each Slippi file has the same structure, I created a function `metadata_to_df` to parse the metadata of each game. The objective here is to filter the games as needed. For example, I want 1v1 games, so I can filter for games where the team battle option is set to off.\n",
    "\n",
    "<a id = 'modeling'></a>\n",
    "### Modeling\n",
    "Once I have filtered the games I will use as input, I will then create another function to parse the Frame objects of each game. Each Frame object contains information of each frame within the game such as character position and controller inputs. These values will be fed to a recurrent neural network (RNN). The RNN will have a simple topology of a single hidden layer. This is because I am interested to see how well the RNN can learn the players behavior the least amount of complexity possible. If the results were not much better than the baseline accuracy score, then I would increase the complexity of the topology, but cannot due to the below limitations.\n",
    "\n",
    "<a id = 'limitatdoesnotexist'></a>\n",
    "### Limitations\n",
    "tl;dr Power and money.\n",
    "\n",
    "When parsing the metadata and frame data from each game, it took a considerable amount of time to execute for all Fight Pitt 9 games. This was a concern because Fight Pitt 9 contained the least amount of games compared to the other tournaments. This lack of power encouraged me only utilize Fight Pitt 9 games.\n",
    "\n",
    "Since every frame of a game contains multiple features that can be used as inputs to the RNN, there is a lot of data to deal with. If a single game lasts for a minute, then that is 3600 frames (60 seconds * 60 frames per second). Each frame contains 333 features after cleaning and dummying. In short, a lot of power is needed to be able to fit the neural network quickly.\n",
    "\n",
    "I could use AWS cloud computing to perform the task, but the machine's that were noticeably stronger than my machine cost too much for me at the moment.\n",
    "\n",
    "<a id = 'imports'></a>\n",
    "## Importing libraries"
   ]
  },
  {
   "cell_type": "code",
   "execution_count": 1,
   "metadata": {},
   "outputs": [],
   "source": [
    "import pandas as pd\n",
    "import numpy as np\n",
    "import slippi as slp\n",
    "import os"
   ]
  },
  {
   "cell_type": "markdown",
   "metadata": {},
   "source": [
    "<a id = 'filepaths'></a>\n",
    "## Retrieving Filepaths of Each Slippi Game\n",
    "Create a list that contains each file path to all games within the provided directory<sub>[1](https://kite.com/python/examples/4286/os-get-the-path-of-all-files-in-a-directory)</sub>."
   ]
  },
  {
   "cell_type": "code",
   "execution_count": 2,
   "metadata": {},
   "outputs": [],
   "source": [
    "# Directory to take filepaths from\n",
    "dir_fp9 = '../../data/Fight-Pitt-9/'\n",
    "\n",
    "# lists of file paths to Slippi files\n",
    "fight_pitt_9, full_bloom_5, gang = [], [], []\n",
    "\n",
    "# adding each file to their respective list\n",
    "# Fight Pitt 9\n",
    "for path in os.listdir(dir_fp9):\n",
    "    full_path = os.path.join(dir_fp9, path)\n",
    "    if os.path.isfile(full_path):\n",
    "        fight_pitt_9.append(full_path)"
   ]
  },
  {
   "cell_type": "markdown",
   "metadata": {},
   "source": [
    "According to Finder, there are 1,151 items in the Fight Pitt 9 directory."
   ]
  },
  {
   "cell_type": "code",
   "execution_count": 3,
   "metadata": {},
   "outputs": [
    {
     "name": "stdout",
     "output_type": "stream",
     "text": [
      "# of Fight Pitt 9 filepaths: 1151\n",
      "Expecting 1151\n"
     ]
    },
    {
     "data": {
      "text/plain": [
       "['../../data/Fight-Pitt-9/Game_20190406T182021.slp',\n",
       " '../../data/Fight-Pitt-9/Game_20190406T054329.slp',\n",
       " '../../data/Fight-Pitt-9/Game_20190406T113710.slp',\n",
       " '../../data/Fight-Pitt-9/Game_20190406T060932.slp',\n",
       " '../../data/Fight-Pitt-9/Game_20190406T063208.slp']"
      ]
     },
     "execution_count": 3,
     "metadata": {},
     "output_type": "execute_result"
    }
   ],
   "source": [
    "print(f'# of Fight Pitt 9 filepaths: {len(fight_pitt_9)}')\n",
    "print('Expecting 1151')\n",
    "fight_pitt_9[:5]"
   ]
  },
  {
   "cell_type": "code",
   "execution_count": 4,
   "metadata": {},
   "outputs": [
    {
     "name": "stdout",
     "output_type": "stream",
     "text": [
      "../../data/Fight-Pitt-9/Game_20190406T165651 copy.slp\n",
      "../../data/Fight-Pitt-9/Game_20190406T173112 copy.slp\n",
      "../../data/Fight-Pitt-9/Game_20190406T113216 copy.slp\n",
      "../../data/Fight-Pitt-9/Game_20190406T194233 copy.slp\n",
      "../../data/Fight-Pitt-9/Game_20190406T104203 copy.slp\n",
      "../../data/Fight-Pitt-9/Game_20190406T192258 copy.slp\n",
      "../../data/Fight-Pitt-9/Game_20190406T104708 copy.slp\n",
      "../../data/Fight-Pitt-9/Game_20190406T122825 copy.slp\n"
     ]
    }
   ],
   "source": [
    "for thing in fight_pitt_9:\n",
    "    if 'copy' in thing:\n",
    "        print(thing)"
   ]
  },
  {
   "cell_type": "markdown",
   "metadata": {},
   "source": [
    "<a id = 'engineer'></a>\n",
    "### Data Normalization: 1st Normal Form<sub>[2](https://www.guru99.com/database-normalization.html#2)</sub>\n",
    "You may have noticed that some ` copy` before the file extension if you looked at more game files within the list. This occurred because the main directory that contained all Slippi files for a particular tournament grouped all files according to which station (i.e. console) at which the game was played.\n",
    "\n",
    "In other words, the main directory contained sub-directories that held the games. In order to get all games in one folder, regardless of station, I had moved all Slippi files into the main directory and deleted the subdirectories once emtpy. Since it is possible for two stations to have started a game at the same time within a second, then it is possible for a `game_id` to be shared between multiple games. Currently, the filename of each Slippi file will be used as the index in the metadata  dataframe. This creates an anomoly in which the index that represents a single game may be used to represent two games.\n",
    "\n",
    "In future versions, I will adjust [cell 2](#cell2) to be able to retrieve the filepaths of Slippi files within all sub-directories and then make the index of the metadata dataframe the filename of the Slippi file as well as the station ID.\n",
    "\n",
    "These anomalies are not addressed at the moment because I will only be using games that are Fox vs. Falco on Final Destination. Of all games that fit that criteria, none of them share a filename.\n",
    "\n",
    "<a id='readslp'></a>\n",
    "## Reading in a Slippi File"
   ]
  },
  {
   "cell_type": "markdown",
   "metadata": {},
   "source": []
  },
  {
   "cell_type": "code",
   "execution_count": 5,
   "metadata": {},
   "outputs": [],
   "source": [
    "# A single game from each tournament:\n",
    "game = slp.Game(fight_pitt_9[0])"
   ]
  },
  {
   "cell_type": "markdown",
   "metadata": {},
   "source": []
  },
  {
   "cell_type": "markdown",
   "metadata": {},
   "source": [
    "<a id = 'extract'></a>\n",
    "## Extracting Metadata From Games\n",
    "<a id = 'date'></a>\n",
    "### Date\n",
    "When reading in a list of Slippi files, a list comprehension will be used to iterate through each game."
   ]
  },
  {
   "cell_type": "code",
   "execution_count": 6,
   "metadata": {},
   "outputs": [
    {
     "data": {
      "text/plain": [
       "Metadata(date=2019-04-06 18:20:21+00:00, duration=11653, platform=Platform.NINTENDONT, players=(None, None, None, None))"
      ]
     },
     "execution_count": 6,
     "metadata": {},
     "output_type": "execute_result"
    }
   ],
   "source": [
    "game.metadata"
   ]
  },
  {
   "cell_type": "code",
   "execution_count": 7,
   "metadata": {},
   "outputs": [
    {
     "name": "stdout",
     "output_type": "stream",
     "text": [
      "2019-04-06 18:20:21+00:00\n"
     ]
    }
   ],
   "source": [
    "# A Game object has a metadata attribute whose value is a Metadata object.\n",
    "# This Metadata object has attributes shown below.\n",
    "date = game.metadata.date\n",
    "print(date)"
   ]
  },
  {
   "cell_type": "markdown",
   "metadata": {},
   "source": [
    "<a id = 'duration'></a>\n",
    "### Duration\n",
    "This details the length of the match in _n_ frames where a single frame is 1/60 seconds."
   ]
  },
  {
   "cell_type": "code",
   "execution_count": 8,
   "metadata": {},
   "outputs": [
    {
     "data": {
      "text/plain": [
       "11653"
      ]
     },
     "execution_count": 8,
     "metadata": {},
     "output_type": "execute_result"
    }
   ],
   "source": [
    "duration = game.metadata.duration\n",
    "duration"
   ]
  },
  {
   "cell_type": "markdown",
   "metadata": {},
   "source": [
    "<a id = 'platform'></a>\n",
    "### Platform\n",
    "The platform on which the game was played. Either on a Dolphin emulator or console."
   ]
  },
  {
   "cell_type": "code",
   "execution_count": 9,
   "metadata": {},
   "outputs": [
    {
     "data": {
      "text/plain": [
       "Platform.NINTENDONT"
      ]
     },
     "execution_count": 9,
     "metadata": {},
     "output_type": "execute_result"
    }
   ],
   "source": [
    "platform = game.metadata.platform\n",
    "platform"
   ]
  },
  {
   "cell_type": "markdown",
   "metadata": {},
   "source": [
    "<a id = 'chars'></a>\n",
    "### Characters\n",
    "We will need to determine which controller ports are being used to determine where to read data from."
   ]
  },
  {
   "cell_type": "code",
   "execution_count": 10,
   "metadata": {},
   "outputs": [
    {
     "data": {
      "text/plain": [
       "(None, None, None, None)"
      ]
     },
     "execution_count": 10,
     "metadata": {},
     "output_type": "execute_result"
    }
   ],
   "source": [
    "game.metadata.players"
   ]
  },
  {
   "cell_type": "markdown",
   "metadata": {},
   "source": [
    "It appears this data is not stored in the metadata attribute. Since these files are able to reconstruct a replay of the game using the controller inputs, then this information must be somewhere in the file. That \"somewhere\" is the `start` attribute."
   ]
  },
  {
   "cell_type": "code",
   "execution_count": 11,
   "metadata": {},
   "outputs": [
    {
     "data": {
      "text/plain": [
       "(Player(character=CSSCharacter.ICE_CLIMBERS, costume=0, stocks=4, tag=, team=None, type=Type.HUMAN, ucf=UCF(dash_back=DashBack.UCF, shield_drop=ShieldDrop.UCF)),\n",
       " None,\n",
       " None,\n",
       " Player(character=CSSCharacter.MARTH, costume=1, stocks=4, tag=, team=None, type=Type.HUMAN, ucf=UCF(dash_back=DashBack.UCF, shield_drop=ShieldDrop.UCF)))"
      ]
     },
     "execution_count": 11,
     "metadata": {},
     "output_type": "execute_result"
    }
   ],
   "source": [
    "# Similar to the Metadata, each Game object has a\n",
    "# Start object stored in each game's start attribute\n",
    "game.start.players"
   ]
  },
  {
   "cell_type": "code",
   "execution_count": 12,
   "metadata": {},
   "outputs": [
    {
     "data": {
      "text/plain": [
       "Start(is_frozen_ps=None, is_pal=False, is_teams=False, players=(Player(character=CSSCharacter.ICE_CLIMBERS, costume=0, stocks=4, tag=, team=None, type=Type.HUMAN, ucf=UCF(dash_back=DashBack.UCF, shield_drop=ShieldDrop.UCF)), None, None, Player(character=CSSCharacter.MARTH, costume=1, stocks=4, tag=, team=None, type=Type.HUMAN, ucf=UCF(dash_back=DashBack.UCF, shield_drop=ShieldDrop.UCF))), random_seed=3456179710, slippi=Slippi(version=1.7.1), stage=Stage.FINAL_DESTINATION)"
      ]
     },
     "execution_count": 12,
     "metadata": {},
     "output_type": "execute_result"
    }
   ],
   "source": [
    "game.start"
   ]
  },
  {
   "cell_type": "code",
   "execution_count": 13,
   "metadata": {},
   "outputs": [
    {
     "data": {
      "text/plain": [
       "[0, 3]"
      ]
     },
     "execution_count": 13,
     "metadata": {},
     "output_type": "execute_result"
    }
   ],
   "source": [
    "# For each port in the tuple stored in Game.Start.players,\n",
    "# if the port is not a Nonetype value,\n",
    "# append its index to the list\n",
    "ports = [game.start.players.index(port) for port in game.start.players if port != None]\n",
    "ports"
   ]
  },
  {
   "cell_type": "code",
   "execution_count": 14,
   "metadata": {},
   "outputs": [
    {
     "data": {
      "text/plain": [
       "[0, 3]"
      ]
     },
     "execution_count": 14,
     "metadata": {},
     "output_type": "execute_result"
    }
   ],
   "source": [
    "[game.start.players.index(port) for port in game.start.players if port != None]"
   ]
  },
  {
   "cell_type": "code",
   "execution_count": 15,
   "metadata": {},
   "outputs": [
    {
     "data": {
      "text/plain": [
       "CSSCharacter.ICE_CLIMBERS"
      ]
     },
     "execution_count": 15,
     "metadata": {},
     "output_type": "execute_result"
    }
   ],
   "source": [
    "# If a player is occupying the 0th port, then we can extract data about that player\n",
    "# If no player exists at the requested port, an error is thrown.\n",
    "game.start.players[0].character"
   ]
  },
  {
   "cell_type": "code",
   "execution_count": 16,
   "metadata": {},
   "outputs": [
    {
     "data": {
      "text/plain": [
       "[CSSCharacter.ICE_CLIMBERS, CSSCharacter.MARTH]"
      ]
     },
     "execution_count": 16,
     "metadata": {},
     "output_type": "execute_result"
    }
   ],
   "source": [
    "characters = [game.start.players[port].character for port in ports]\n",
    "characters"
   ]
  },
  {
   "cell_type": "markdown",
   "metadata": {},
   "source": [
    "### Stage"
   ]
  },
  {
   "cell_type": "code",
   "execution_count": 17,
   "metadata": {},
   "outputs": [
    {
     "data": {
      "text/plain": [
       "Stage.FINAL_DESTINATION"
      ]
     },
     "execution_count": 17,
     "metadata": {},
     "output_type": "execute_result"
    }
   ],
   "source": [
    "game.start.stage"
   ]
  },
  {
   "cell_type": "markdown",
   "metadata": {},
   "source": [
    "### Metadata Series\n",
    "When reading in multiple games a DataFrame will be made where each row will represent a single game. When doing so, we can make the value of each key of the dictionary a list of values for each column."
   ]
  },
  {
   "cell_type": "markdown",
   "metadata": {},
   "source": [
    "#### For Older Versions of Slippi Such as Fight Pitt 9"
   ]
  },
  {
   "cell_type": "code",
   "execution_count": 18,
   "metadata": {},
   "outputs": [
    {
     "data": {
      "text/plain": [
       "date            2019-04-06 18:20:21+00:00\n",
       "duration                            11653\n",
       "platform              Platform.NINTENDONT\n",
       "p1_port                                 0\n",
       "p1_character    CSSCharacter.ICE_CLIMBERS\n",
       "p2_port                                 3\n",
       "p2_character           CSSCharacter.MARTH\n",
       "stage             Stage.FINAL_DESTINATION\n",
       "dtype: object"
      ]
     },
     "execution_count": 18,
     "metadata": {},
     "output_type": "execute_result"
    }
   ],
   "source": [
    "pd.Series({'date': date,\n",
    "           'duration': duration,\n",
    "           'platform': platform,\n",
    "           'p1_port': ports[0],\n",
    "           'p1_character': characters[0],\n",
    "           'p2_port': ports[1],\n",
    "           'p2_character': characters[1],\n",
    "          'stage': game.start.stage})"
   ]
  },
  {
   "cell_type": "markdown",
   "metadata": {},
   "source": [
    "### Getting all Metadata\n",
    "#### game_id\n",
    "\n",
    "The `game_id` will be established using the time at which the game has started. As mentioned above in the Data Normalization section, this can cause anomalies in the data. However, of the games that we will use in our model, we do not encounter this problem. This will be addressed in future versions of this project."
   ]
  },
  {
   "cell_type": "code",
   "execution_count": 19,
   "metadata": {},
   "outputs": [
    {
     "data": {
      "text/plain": [
       "'../../data/Fight-Pitt-9/Game_20190406T182021.slp'"
      ]
     },
     "execution_count": 19,
     "metadata": {},
     "output_type": "execute_result"
    }
   ],
   "source": [
    "fight_pitt_9[0]"
   ]
  },
  {
   "cell_type": "code",
   "execution_count": 20,
   "metadata": {},
   "outputs": [
    {
     "data": {
      "text/plain": [
       "'20190406T182021'"
      ]
     },
     "execution_count": 20,
     "metadata": {},
     "output_type": "execute_result"
    }
   ],
   "source": [
    "# Take the first filepath in the list of filepaths.\n",
    "# Split the string according at each \"/\" character\n",
    "# Take the last element of the resulting list after splitting.\n",
    "# Remove \"Game_\" from the beginning and \".slp\" from the end.\n",
    "fight_pitt_9[0].split('/')[-1].strip('Game_').strip('.slp')"
   ]
  },
  {
   "cell_type": "code",
   "execution_count": 21,
   "metadata": {},
   "outputs": [],
   "source": [
    "def metadata_to_df(slp_paths):\n",
    "    '''\n",
    "    Of a collection of games, store the metadata as a dataframe.\n",
    "    \n",
    "    slp_paths (list): each value is the file path to games\n",
    "    returns a dataframe\n",
    "    '''\n",
    "    # Used to determine how far along the function is while waiting\n",
    "    length = len(slp_paths)\n",
    "    count = 0\n",
    "    \n",
    "    # lists of values to populate dataframe.\n",
    "    dates, game_id, durations, plats, p1_ports, p1_chars, p2_ports, p2_chars, stages, is_teams, is_pal = list(), \\\n",
    "    list(), list(), list(), list(), list(), list(), list(), list(), list(), list()\n",
    "    \n",
    "    # For each filepath in the provided list of filepaths\n",
    "    for path in slp_paths:\n",
    "        count += 1\n",
    "        print(f'Parsing metadata from file {count} of {length}: {round(count / length * 100, 2)}%', end = '\\r')\n",
    "        \n",
    "        # try to instantiate the Game object, else skip it and try the next one\n",
    "        try:\n",
    "            game = slp.Game(path)\n",
    "        except:\n",
    "            print(f'Skip game {count} of {length}')\n",
    "            continue\n",
    "            \n",
    "        # set game ID\n",
    "        # to get file path using game_id:\n",
    "        # ../folder_directory/Game_[game_id].slp\n",
    "        game_id.append(slp_paths[count - 1].split('/')[-1].strip('Game_').strip('.slp'))\n",
    "        \n",
    "        # take the date, duration, and platform data\n",
    "        dates.append(game.metadata.date)\n",
    "        durations.append(game.metadata.duration)\n",
    "        plats.append(game.metadata.platform)\n",
    "\n",
    "        # get active ports\n",
    "        ports = [game.start.players.index(port) for port in game.start.players if port != None]\n",
    "        p1_ports.append(ports[0])\n",
    "        p2_ports.append(ports[1])\n",
    "\n",
    "        # get characters\n",
    "        characters = [game.start.players[port].character for port in ports]\n",
    "        p1_chars.append(characters[0])\n",
    "        p2_chars.append(characters[1])\n",
    "        \n",
    "        # get stages played on\n",
    "        stages.append(game.start.stage)\n",
    "        \n",
    "        # is the game not a 1v1\n",
    "        is_teams.append(game.start.is_teams)\n",
    "        \n",
    "        # is this not a v1.02 match\n",
    "        is_pal.append(game.start.is_pal)\n",
    "    \n",
    "    # return metadata DataFrame\n",
    "    return pd.DataFrame(data = {\n",
    "            'game_id': game_id,\n",
    "            'date': dates,\n",
    "            'duration': durations,\n",
    "            'platform': plats,\n",
    "            'p1_port': p1_ports,\n",
    "            'p1_char': p1_chars,\n",
    "            'p2_port': p2_ports,\n",
    "            'p2_char': p2_chars,\n",
    "            'stage': stages,\n",
    "            'is_teams': is_teams,\n",
    "            'is_pal': is_pal\n",
    "        })"
   ]
  },
  {
   "cell_type": "markdown",
   "metadata": {},
   "source": [
    "Even though the character information is missing in the metadata, the character information is stored in other locations of each game file such as the start attribute of the Game object."
   ]
  },
  {
   "cell_type": "code",
   "execution_count": 22,
   "metadata": {
    "scrolled": true
   },
   "outputs": [
    {
     "name": "stdout",
     "output_type": "stream",
     "text": [
      "Parsing metadata from file 21 of 1151: 1.82%\r"
     ]
    },
    {
     "name": "stderr",
     "output_type": "stream",
     "text": [
      "\u001b[33mWARNING\u001b[0m unknown Attack: 87\n"
     ]
    },
    {
     "name": "stdout",
     "output_type": "stream",
     "text": [
      "Parsing metadata from file 37 of 1151: 3.21%\r"
     ]
    },
    {
     "name": "stderr",
     "output_type": "stream",
     "text": [
      "\u001b[33mWARNING\u001b[0m unknown Attack: 59\n"
     ]
    },
    {
     "name": "stdout",
     "output_type": "stream",
     "text": [
      "Parsing metadata from file 83 of 1151: 7.21%\r"
     ]
    },
    {
     "name": "stderr",
     "output_type": "stream",
     "text": [
      "\u001b[33mWARNING\u001b[0m unknown ActionState: 383\n",
      "\u001b[33mWARNING\u001b[0m unknown ActionState: 384\n",
      "\u001b[33mWARNING\u001b[0m unknown ActionState: 385\n"
     ]
    },
    {
     "name": "stdout",
     "output_type": "stream",
     "text": [
      "Skip game 173 of 1151 file 173 of 1151: 15.03%\n",
      "Parsing metadata from file 176 of 1151: 15.29%\r"
     ]
    },
    {
     "name": "stderr",
     "output_type": "stream",
     "text": [
      "\u001b[33mWARNING\u001b[0m unknown Attack: 57\n"
     ]
    },
    {
     "name": "stdout",
     "output_type": "stream",
     "text": [
      "Parsing metadata from file 185 of 1151: 16.07%\r"
     ]
    },
    {
     "name": "stderr",
     "output_type": "stream",
     "text": [
      "\u001b[33mWARNING\u001b[0m unknown Attack: 60\n",
      "\u001b[33mWARNING\u001b[0m unknown Attack: 58\n"
     ]
    },
    {
     "name": "stdout",
     "output_type": "stream",
     "text": [
      "Skip game 197 of 1151 file 197 of 1151: 17.12%\n",
      "Parsing metadata from file 312 of 1151: 27.11%\r"
     ]
    },
    {
     "name": "stderr",
     "output_type": "stream",
     "text": [
      "\u001b[33mWARNING\u001b[0m unknown ActionState: 389\n",
      "\u001b[33mWARNING\u001b[0m unknown ActionState: 390\n"
     ]
    },
    {
     "name": "stdout",
     "output_type": "stream",
     "text": [
      "Skip game 381 of 1151 file 381 of 1151: 33.1%%\n",
      "Parsing metadata from file 427 of 1151: 37.1%%\r"
     ]
    },
    {
     "name": "stderr",
     "output_type": "stream",
     "text": [
      "\u001b[33mWARNING\u001b[0m unknown Attack: 63\n"
     ]
    },
    {
     "name": "stdout",
     "output_type": "stream",
     "text": [
      "Parsing metadata from file 464 of 1151: 40.31%\r"
     ]
    },
    {
     "name": "stderr",
     "output_type": "stream",
     "text": [
      "\u001b[33mWARNING\u001b[0m unknown ActionState: 388\n"
     ]
    },
    {
     "name": "stdout",
     "output_type": "stream",
     "text": [
      "Parsing metadata from file 518 of 1151: 45.0%%\r"
     ]
    },
    {
     "name": "stderr",
     "output_type": "stream",
     "text": [
      "\u001b[33mWARNING\u001b[0m unknown ActionState: 391\n",
      "\u001b[33mWARNING\u001b[0m unknown ActionState: 396\n",
      "\u001b[33mWARNING\u001b[0m unknown ActionState: 397\n",
      "\u001b[33mWARNING\u001b[0m unknown ActionState: 394\n",
      "\u001b[33mWARNING\u001b[0m unknown ActionState: 395\n"
     ]
    },
    {
     "name": "stdout",
     "output_type": "stream",
     "text": [
      "Parsing metadata from file 760 of 1151: 66.03%\r"
     ]
    },
    {
     "name": "stderr",
     "output_type": "stream",
     "text": [
      "\u001b[33mWARNING\u001b[0m unknown ActionState: 492\n",
      "\u001b[33mWARNING\u001b[0m unknown ActionState: 493\n",
      "\u001b[33mWARNING\u001b[0m unknown ActionState: 494\n",
      "\u001b[33mWARNING\u001b[0m unknown Attack: 38\n"
     ]
    },
    {
     "name": "stdout",
     "output_type": "stream",
     "text": [
      "Skip game 868 of 1151 file 868 of 1151: 75.41%\n",
      "Skip game 1036 of 1151file 1036 of 1151: 90.01%\n",
      "Parsing metadata from file 1151 of 1151: 100.0%\r"
     ]
    },
    {
     "data": {
      "text/html": [
       "<div>\n",
       "<style scoped>\n",
       "    .dataframe tbody tr th:only-of-type {\n",
       "        vertical-align: middle;\n",
       "    }\n",
       "\n",
       "    .dataframe tbody tr th {\n",
       "        vertical-align: top;\n",
       "    }\n",
       "\n",
       "    .dataframe thead th {\n",
       "        text-align: right;\n",
       "    }\n",
       "</style>\n",
       "<table border=\"1\" class=\"dataframe\">\n",
       "  <thead>\n",
       "    <tr style=\"text-align: right;\">\n",
       "      <th></th>\n",
       "      <th>game_id</th>\n",
       "      <th>date</th>\n",
       "      <th>duration</th>\n",
       "      <th>platform</th>\n",
       "      <th>p1_port</th>\n",
       "      <th>p1_char</th>\n",
       "      <th>p2_port</th>\n",
       "      <th>p2_char</th>\n",
       "      <th>stage</th>\n",
       "      <th>is_teams</th>\n",
       "      <th>is_pal</th>\n",
       "    </tr>\n",
       "  </thead>\n",
       "  <tbody>\n",
       "    <tr>\n",
       "      <th>0</th>\n",
       "      <td>20190406T182021</td>\n",
       "      <td>2019-04-06 18:20:21+00:00</td>\n",
       "      <td>11653</td>\n",
       "      <td>Platform.NINTENDONT</td>\n",
       "      <td>0</td>\n",
       "      <td>14</td>\n",
       "      <td>3</td>\n",
       "      <td>9</td>\n",
       "      <td>32</td>\n",
       "      <td>False</td>\n",
       "      <td>False</td>\n",
       "    </tr>\n",
       "    <tr>\n",
       "      <th>1</th>\n",
       "      <td>20190406T054329</td>\n",
       "      <td>2019-04-06 05:43:29+00:00</td>\n",
       "      <td>1435</td>\n",
       "      <td>Platform.NINTENDONT</td>\n",
       "      <td>1</td>\n",
       "      <td>20</td>\n",
       "      <td>2</td>\n",
       "      <td>18</td>\n",
       "      <td>31</td>\n",
       "      <td>False</td>\n",
       "      <td>False</td>\n",
       "    </tr>\n",
       "    <tr>\n",
       "      <th>2</th>\n",
       "      <td>20190406T113710</td>\n",
       "      <td>2019-04-06 11:37:10+00:00</td>\n",
       "      <td>7577</td>\n",
       "      <td>Platform.NINTENDONT</td>\n",
       "      <td>0</td>\n",
       "      <td>22</td>\n",
       "      <td>1</td>\n",
       "      <td>2</td>\n",
       "      <td>3</td>\n",
       "      <td>True</td>\n",
       "      <td>False</td>\n",
       "    </tr>\n",
       "    <tr>\n",
       "      <th>3</th>\n",
       "      <td>20190406T060932</td>\n",
       "      <td>2019-04-06 06:09:32+00:00</td>\n",
       "      <td>9589</td>\n",
       "      <td>Platform.NINTENDONT</td>\n",
       "      <td>0</td>\n",
       "      <td>20</td>\n",
       "      <td>3</td>\n",
       "      <td>7</td>\n",
       "      <td>28</td>\n",
       "      <td>False</td>\n",
       "      <td>False</td>\n",
       "    </tr>\n",
       "    <tr>\n",
       "      <th>4</th>\n",
       "      <td>20190406T063208</td>\n",
       "      <td>2019-04-06 06:32:08+00:00</td>\n",
       "      <td>10043</td>\n",
       "      <td>Platform.NINTENDONT</td>\n",
       "      <td>0</td>\n",
       "      <td>14</td>\n",
       "      <td>3</td>\n",
       "      <td>9</td>\n",
       "      <td>8</td>\n",
       "      <td>False</td>\n",
       "      <td>False</td>\n",
       "    </tr>\n",
       "  </tbody>\n",
       "</table>\n",
       "</div>"
      ],
      "text/plain": [
       "           game_id                      date  duration             platform  \\\n",
       "0  20190406T182021 2019-04-06 18:20:21+00:00     11653  Platform.NINTENDONT   \n",
       "1  20190406T054329 2019-04-06 05:43:29+00:00      1435  Platform.NINTENDONT   \n",
       "2  20190406T113710 2019-04-06 11:37:10+00:00      7577  Platform.NINTENDONT   \n",
       "3  20190406T060932 2019-04-06 06:09:32+00:00      9589  Platform.NINTENDONT   \n",
       "4  20190406T063208 2019-04-06 06:32:08+00:00     10043  Platform.NINTENDONT   \n",
       "\n",
       "   p1_port  p1_char  p2_port  p2_char  stage  is_teams  is_pal  \n",
       "0        0       14        3        9     32     False   False  \n",
       "1        1       20        2       18     31     False   False  \n",
       "2        0       22        1        2      3      True   False  \n",
       "3        0       20        3        7     28     False   False  \n",
       "4        0       14        3        9      8     False   False  "
      ]
     },
     "execution_count": 22,
     "metadata": {},
     "output_type": "execute_result"
    }
   ],
   "source": [
    "df_fp9 = metadata_to_df(fight_pitt_9)\n",
    "df_fp9.head()"
   ]
  },
  {
   "cell_type": "code",
   "execution_count": 23,
   "metadata": {},
   "outputs": [
    {
     "data": {
      "text/plain": [
       "Player(character=CSSCharacter.ICE_CLIMBERS, costume=0, stocks=4, tag=, team=None, type=Type.HUMAN, ucf=UCF(dash_back=DashBack.UCF, shield_drop=ShieldDrop.UCF))"
      ]
     },
     "execution_count": 23,
     "metadata": {},
     "output_type": "execute_result"
    }
   ],
   "source": [
    "game.start.players[0]"
   ]
  },
  {
   "cell_type": "code",
   "execution_count": 24,
   "metadata": {},
   "outputs": [
    {
     "data": {
      "text/plain": [
       "UCF(dash_back=DashBack.UCF, shield_drop=ShieldDrop.UCF)"
      ]
     },
     "execution_count": 24,
     "metadata": {},
     "output_type": "execute_result"
    }
   ],
   "source": [
    "game.start.players[0].ucf"
   ]
  },
  {
   "cell_type": "code",
   "execution_count": 25,
   "metadata": {},
   "outputs": [],
   "source": [
    "df_fp9.to_csv('../data/fp9.csv')"
   ]
  },
  {
   "cell_type": "markdown",
   "metadata": {},
   "source": [
    "<a id='terms'></a>\n",
    "## Terminology\n",
    "- Melee (noun): Shorthand for Super Smash Bros. Melee\n",
    "- Stock (noun): A single unit of character lives. When a character runs out of stocks, then they lose the game.\n",
    "- Frame (noun): A single unit of time for animation. In this case, there are 60 frames per second.\n",
    "    - If a video is a collection of images being shown sequentially at a specified rate, then a single image is a frame.\n",
    "- Hurtbox (noun): An invisible shape that contours the visible character model. Allows interaction between various elements of the game such as hitboxes.\n",
    "- Hitbox (noun): An invisible shape that, when collided with an opponent's hurtbox, the game registers a hit.\n",
    "- Mixup (noun): Changing one's pattern of fighting to be unpredictable and gain advantage over the opponent.\n",
    "- Fox (noun): A playable character in Super Smash Bros. Melee.\n",
    "- Marth (noun): \n",
    "- Stage (noun): The stage the characters are fighting on.\n",
    "- Blast Zone (noun): Outer perimeter of the stage. When a character crosses over the perimeter, then that character loses a stock.\n",
    "- Tech (verb): When a character is launched towards a surface, they can press either L or R triggers within 20 frames of colliding with the surface in order to be able to retaliate faster than if one were to not tech.\n",
    "    - When teching on the ground, a character can tech in place, tech-roll left, tech-roll right, or not tech at all.\n",
    "![tech-example](../images/tech.gif) <center>Example of a neutral tech or tech in-place</center>"
   ]
  }
 ],
 "metadata": {
  "kernelspec": {
   "display_name": "Python 3",
   "language": "python",
   "name": "python3"
  },
  "language_info": {
   "codemirror_mode": {
    "name": "ipython",
    "version": 3
   },
   "file_extension": ".py",
   "mimetype": "text/x-python",
   "name": "python",
   "nbconvert_exporter": "python",
   "pygments_lexer": "ipython3",
   "version": "3.7.5"
  }
 },
 "nbformat": 4,
 "nbformat_minor": 2
}
