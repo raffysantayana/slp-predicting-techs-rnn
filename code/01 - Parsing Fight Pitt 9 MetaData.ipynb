{
 "cells": [
  {
   "cell_type": "markdown",
   "metadata": {},
   "source": [
    "# Converting Slippi to a DataFrame\n",
    "## Table of Contents\n",
    "1. [Problem Statement](#problem)\n",
    "2. [Context](#context)<br>\n",
    "    a. [Terminology](#terms)<br>\n",
    "    b. [Why Super Smash Bros.?](#why)<br>\n",
    "    c. [How does Super Smash Bros. Work?](#how)<br>\n",
    "3. [Executive Summary](#executive)<br>\n",
    "    a. [Data Gathering](#gather)<br>\n",
    "    b. [Parsing Data](#parse)<br>\n",
    "    c. [Modeling](#modeling)<br>\n",
    "    d. [Limitations](#limitdoesnotexist)<br>\n",
    "4. [Importing Libraries](#imports)\n",
    "5. [Retrieving Filepaths of Each Slippi Game](#filepaths)"
   ]
  },
  {
   "cell_type": "markdown",
   "metadata": {},
   "source": [
    "<a id='problem'></a>\n",
    "## Problem Statement\n",
    "\n",
    "Note: For those unfamiliar with Super Smash Bros., I encourage you to read the [context](#context) section.\n",
    "\n",
    "Fox versus Falco is a frequent match in competitive Melee. Discussions about whether Fox or Falco have the upperhand in the matchup is a popular debate among players. I believe that among today's top ranked players in the world, Fox will most likely win because of his faster speed over Falco. However, Falco is more likely to win against newer players because he is able to utilize different tools to perform combos that lead to Fox losing a stock.\n",
    "\n",
    "Since Falco is often one of the first major hurdles for new players to defeat, I hope to construct a coaching tool that will help them overcome this. The final product will use a collection of Slippi games as input and provide summary statistics on the games. For coaching tools of the product, a player can feed in a collection of games to feed as input to learn how a specified player and character plays. Then this will create an AI that someone can battle. This is useful for those who wish to practice against a live player, but does not have immediate access to others. A similar idea to how Super Smash Bros. Wii U utilized [Amiibos](https://www.youtube.com/watch?v=uOnLcVOvrEE). As a quick check to see how feasible this project is, I will train a recurrent neural network on a series of games to see how well the network can learn Fox's wake-up behavior.\n",
    "<img src=\"../images/melee-wallpaper.jpg\" alt=\"Drawing\" style=\"width: 600px;\"/>\n",
    "\n",
    "<a id='context'></a>\n",
    "## Context\n",
    "<a id='why'></a>\n",
    "### Why Super Smash Bros.?\n",
    "\n",
    "Super Smash Bros. is a video game series published by Nintendo where video game characters of different franchises battle it out. The second game of the series, Super Smash Bros. Melee, was released in December 2001. This sparked fun parties, happy players, and heated rivalries. These rivalries grew from friend groups, to local neighborhood challenges, to large-scale tournaments by 2002. If you are interested in learning the history of the Super Smash Bros. Melee competitive scene, I encourage you to watch a docuseries called [The Smash Brothers](https://www.youtube.com/watch?v=NSf2mgkRm7Q&list=PLoUHkRwnRH-IXbZfwlgiEN8eXmoj6DtKM) produced by East Point Pictures.\n",
    "\n",
    "Many players within this community are dedicated to becoming the best player that they can be. There are many fan-made tools and mods to the game for the purpose of either improving the player experience in training or improving the production of content. Some tools allow players to create save states so that they can easily practice a scenario quickly. Others allow content creators to create replays for the audience to enjoy. Today, I would like to highlight one of these tools, Project Slippi.\n",
    "- [Website](https://slippi.gg/)\n",
    "- [Github](https://github.com/project-slippi/project-slippi)\n",
    "- [Medium](https://medium.com/project-slippi)\n",
    "\n",
    "<a id='how'></a>\n",
    "### How Does Super Smash Bros. Work?\n",
    "\n",
    "In this project, I will be only looking at 1v1 tournament legal matches. The criteria for that are:\n",
    "- The match must be 1v1 with no other players or CPU's in the match.\n",
    "- The match must be on a tournament legal stage.\n",
    "- The match must be 8 minutes or less.\n",
    "\n",
    "In a 1v1 match, players are limited to defeat their opponent with nothing more than the abilities of themselves as a player and the abilities of their selected character. Characters have various moves such as jabs, smash attacks, tilt attacks, special attacks, grabs, and aerial attacks. Most of these attacks have slight variations of the same attack, but at different directions. When a player strikes their opponent with an attack, then the opponent's damage percentage goes up.\n",
    "<img src=\"../images/damage-example.gif\"/> <center>Fox Damaging Falco</center>\n",
    "\n",
    "As a character's damage increases, then the distance at which they are launched after a hit then increases. This is beneficial as an opponent because the further they travel for each hit, then it should be easier to push them through a blast zone and have them lose a stock. Once a character loses all their stocks, then the other player is determined the winner. If a timeout occurs, then the player with the most stocks and least damage wins. In the case that those are tied as well, then a rematch is played with each charcter getting one stock.\n",
    "\n",
    "<img src=\"../images/GAME.gif\"/> <center>Jigglypuff Defeating Fox's Last Stock; Winning the Game</center>\n",
    "\n",
    "### A Primer on Fighting Games\n",
    "\n",
    "Fighting games is one of the many genres of video games. Some fighting game titles that may sound familiar are Street Fighter and Tekken. These games are unique in that Street Fighter is a 2-dimensional fighter where characters can only move left or right and Tekken characters can move forward, backwards, left or right. While all of these games are systematically different, they all share similar strategies that a player can utilize. For example, players can play as a heavy brute that can pack a punch, but are slow. Or they can play a glass cannon that can attack with lightning fast speed, but they are easy to kill once their momentum is broken.\n",
    "\n",
    "The idea of mixups is another common thread among fighting games. One of the most frequent mixup situations that occur in fighting games are when a character is laying on the ground. Usually, the character has one of four options known as get-up options or wake-up options. They can stay on the ground, get up, roll forward, or roll back. The opponent must be able to either predict or quickly react to whichever option the player takes and act accordingly. If the opponent does not capitalize on the player's vulnerability, then the player has a chance to fight back and win.\n",
    "\n",
    "In Melee, when a character is launched towards the floor, wall, or ceiling, then they have the option to tech. When a player is hit and placed in a situation where they must decide whether to tech in-place, tech-roll left, or tech-roll right, they may miss the 20 frame window and not tech. This will cause them to stay vulnerable on the ground with few options to retaliate. However, like stated before, this is a mixup. If a player frequently techs to the right, then their opponent will be accustomed to that behavior. So whenever the the opponent sees that the player has the option to tech, then they will assume the player will tech right and adjust the combo. If the player suddenly techs in-place and the opponent did not expect that, then the player has recovered safely and is free to move. This process is known as tech chasing - the opponent is tech-chasing the player. \n",
    "![tech-chasing](../images/tech-chase.gif) <center>Captain Falcon tech-chasing Fox McCloud</center>\n",
    "\n",
    "\n",
    "\n",
    "<a id='executive'></a>\n",
    "## Executive Summary\n",
    "<a id = 'gather'></a>\n",
    "### Data Gathering\n",
    "To begin, I considered constructing a script that would scrape [Slippi's site](https://slippi.gg) for games that occured during a tournament using the library `selenium`. I opted not to do this because the official Slippi Discord channel has the `!replaydumps` chat command that provides a download link to Slippi files from [Fight Pitt 9](https://smash.gg/tournament/fight-pitt-9-1/details), [Full Bloom 5](https://smash.gg/tournament/full-bloom-5/details), [The Gang Steals the Script](https://smash.gg/tournament/the-gang-steals-the-script/details), and [Pound 2019](https://smash.gg/tournament/pound-2019/details). The source of the data is on a different platform, but each are controlled by the creators and major contributors to the project such as [Fizzi](https://twitter.com/Fizzi36).\n",
    "\n",
    "<a id='parse'></a>\n",
    "### Parsing Data\n",
    "With the data in hand, I used the `slippi` library to read in each file as a Slippi's own Game object. Game objects have attributes whose values are sometimes other objects. Since each Slippi file has the same structure, I created a function `metadata_to_df` to parse the metadata of each game. The objective here is to filter the games as needed. For example, I want 1v1 games, so I can filter for games where the team battle option is set to off.\n",
    "\n",
    "<a id = 'modeling'></a>\n",
    "### Modeling\n",
    "Once I have filtered the games I will use as input, I will then create another function to parse the Frame objects of each game. Each Frame object contains information of each frame within the game such as character position and controller inputs. These values will be fed to a recurrent neural network (RNN). The RNN will have a simple topology of a single hidden layer. This is because I am interested to see how well the RNN can learn the players behavior the least amount of complexity possible. If the results were not much better than the baseline accuracy score, then I would increase the complexity of the topology, but cannot due to the below limitations.\n",
    "\n",
    "<a id = 'limitatdoesnotexist'></a>\n",
    "### Limitations\n",
    "tl;dr Power and money.\n",
    "\n",
    "When parsing the metadata and frame data from each game, it took a considerable amount of time to execute for all Fight Pitt 9 games. This was a concern because Fight Pitt 9 contained the least amount of games compared to the other tournaments. This lack of power encouraged me only utilize Fight Pitt 9 games.\n",
    "\n",
    "Since every frame of a game contains multiple features that can be used as inputs to the RNN, there is a lot of data to deal with. If a single game lasts for a minute, then that is 3600 frames (60 seconds * 60 frames per second). Each frame contains 333 features after cleaning and dummying. In short, a lot of power is needed to be able to fit the neural network quickly.\n",
    "\n",
    "I could use AWS cloud computing to perform the task, but the machine's that were noticeably stronger than my machine cost too much for me at the moment.\n",
    "\n",
    "<a id = 'imports'></a>\n",
    "## Importing libraries"
   ]
  },
  {
   "cell_type": "code",
   "execution_count": 1,
   "metadata": {
    "ExecuteTime": {
     "end_time": "2020-01-02T16:01:06.456121Z",
     "start_time": "2020-01-02T16:01:05.294415Z"
    }
   },
   "outputs": [],
   "source": [
    "import pandas as pd\n",
    "import numpy as np\n",
    "import slippi as slp\n",
    "import os"
   ]
  },
  {
   "cell_type": "markdown",
   "metadata": {},
   "source": [
    "<a id = 'filepaths'></a>\n",
    "## Retrieving Filepaths of Each Slippi Game\n",
    "Create a list that contains each file path to all games within the provided directory<sub>[1](https://kite.com/python/examples/4286/os-get-the-path-of-all-files-in-a-directory)</sub>."
   ]
  },
  {
   "cell_type": "code",
   "execution_count": 2,
   "metadata": {
    "ExecuteTime": {
     "end_time": "2020-01-02T16:01:06.668761Z",
     "start_time": "2020-01-02T16:01:06.459046Z"
    }
   },
   "outputs": [],
   "source": [
    "# Directory to take filepaths from\n",
    "dir_fp9 = '../../data/Fight-Pitt-9/'\n",
    "\n",
    "# lists of file paths to Slippi files\n",
    "fight_pitt_9, full_bloom_5, gang = [], [], []\n",
    "\n",
    "# adding each file to their respective list\n",
    "# Fight Pitt 9\n",
    "for path in os.listdir(dir_fp9):\n",
    "    full_path = os.path.join(dir_fp9, path)\n",
    "    if os.path.isfile(full_path):\n",
    "        fight_pitt_9.append(full_path)"
   ]
  },
  {
   "cell_type": "markdown",
   "metadata": {},
   "source": [
    "According to Finder, there are 1,151 items in the Fight Pitt 9 directory."
   ]
  },
  {
   "cell_type": "code",
   "execution_count": 3,
   "metadata": {
    "ExecuteTime": {
     "end_time": "2020-01-02T16:01:06.707591Z",
     "start_time": "2020-01-02T16:01:06.671162Z"
    }
   },
   "outputs": [
    {
     "name": "stdout",
     "output_type": "stream",
     "text": [
      "# of Fight Pitt 9 filepaths: 1151\n",
      "Expecting 1151\n"
     ]
    },
    {
     "data": {
      "text/plain": [
       "['../../data/Fight-Pitt-9/Game_20190406T182021.slp',\n",
       " '../../data/Fight-Pitt-9/Game_20190406T054329.slp',\n",
       " '../../data/Fight-Pitt-9/Game_20190406T113710.slp',\n",
       " '../../data/Fight-Pitt-9/Game_20190406T060932.slp',\n",
       " '../../data/Fight-Pitt-9/Game_20190406T063208.slp']"
      ]
     },
     "execution_count": 3,
     "metadata": {},
     "output_type": "execute_result"
    }
   ],
   "source": [
    "print(f'# of Fight Pitt 9 filepaths: {len(fight_pitt_9)}')\n",
    "print('Expecting 1151')\n",
    "fight_pitt_9[:5]"
   ]
  },
  {
   "cell_type": "markdown",
   "metadata": {},
   "source": [
    "### Data Normalization: 1st Normal Form<sub>[2](https://www.guru99.com/database-normalization.html#2)</sub>\n",
    "You may have noticed that some ` copy` before the file extension if you looked at more game files within the list. This occurred because the main directory that contained all Slippi files for a particular tournament grouped all files according to which station (i.e. console) at which the game was played.\n",
    "\n",
    "In other words, the main directory contained sub-directories that held the games. In order to get all games in one folder, regardless of station, I had moved all Slippi files into the main directory and deleted the subdirectories once emtpy. Since it is possible for two stations to have started a game at the same time within a second, then it is possible for a `game_id` to be shared between multiple games. Currently, the filename of each Slippi file will be used as the index in the metadata  dataframe. This creates an anomoly in which the index that represents a single game may be used to represent two games.\n",
    "\n",
    "In future versions, I will adjust [cell 2](#cell2) to be able to retrieve the filepaths of Slippi files within all sub-directories and then make the index of the metadata dataframe the filename of the Slippi file as well as the station ID.\n",
    "\n",
    "These anomalies are not addressed at the moment because I will only be using games that are Fox vs. Falco on Final Destination. Of all games that fit that criteria, none of them share a filename.\n",
    "\n",
    "## Reading in a Slippi File"
   ]
  },
  {
   "cell_type": "code",
   "execution_count": 4,
   "metadata": {
    "ExecuteTime": {
     "end_time": "2020-01-02T16:01:08.459239Z",
     "start_time": "2020-01-02T16:01:06.711258Z"
    }
   },
   "outputs": [],
   "source": [
    "# A single game from each tournament:\n",
    "game = slp.Game(fight_pitt_9[0])"
   ]
  },
  {
   "cell_type": "markdown",
   "metadata": {},
   "source": [
    "## 2. Extracting Metadata From Games"
   ]
  },
  {
   "cell_type": "markdown",
   "metadata": {},
   "source": [
    "### Date\n",
    "When reading in a list of Slippi files, a list comprehension will be used to iterate through each game."
   ]
  },
  {
   "cell_type": "code",
   "execution_count": 5,
   "metadata": {
    "ExecuteTime": {
     "end_time": "2020-01-02T16:01:08.469374Z",
     "start_time": "2020-01-02T16:01:08.461754Z"
    }
   },
   "outputs": [
    {
     "data": {
      "text/plain": [
       "Metadata(date=2019-04-06 18:20:21+00:00, duration=11653, platform=Platform.NINTENDONT, players=(None, None, None, None))"
      ]
     },
     "execution_count": 5,
     "metadata": {},
     "output_type": "execute_result"
    }
   ],
   "source": [
    "game.metadata"
   ]
  },
  {
   "cell_type": "code",
   "execution_count": 6,
   "metadata": {
    "ExecuteTime": {
     "end_time": "2020-01-02T16:01:08.480981Z",
     "start_time": "2020-01-02T16:01:08.473234Z"
    }
   },
   "outputs": [
    {
     "name": "stdout",
     "output_type": "stream",
     "text": [
      "2019-04-06 18:20:21+00:00\n"
     ]
    }
   ],
   "source": [
    "# A Game object has a metadata attribute whose value is a Metadata object.\n",
    "# This Metadata object has attributes shown below.\n",
    "date = game.metadata.date\n",
    "print(date)"
   ]
  },
  {
   "cell_type": "markdown",
   "metadata": {},
   "source": [
    "### Duration\n",
    "This details the length of the match in _n_ frames where a single frame is 1/60 seconds."
   ]
  },
  {
   "cell_type": "code",
   "execution_count": 7,
   "metadata": {
    "ExecuteTime": {
     "end_time": "2020-01-02T16:01:08.492655Z",
     "start_time": "2020-01-02T16:01:08.485491Z"
    }
   },
   "outputs": [
    {
     "data": {
      "text/plain": [
       "11653"
      ]
     },
     "execution_count": 7,
     "metadata": {},
     "output_type": "execute_result"
    }
   ],
   "source": [
    "duration = game.metadata.duration\n",
    "duration"
   ]
  },
  {
   "cell_type": "markdown",
   "metadata": {},
   "source": [
    "### Platform\n",
    "The platform on which the game was played. Either on a Dolphin emulator or console."
   ]
  },
  {
   "cell_type": "code",
   "execution_count": 8,
   "metadata": {
    "ExecuteTime": {
     "end_time": "2020-01-02T16:01:08.565223Z",
     "start_time": "2020-01-02T16:01:08.554728Z"
    }
   },
   "outputs": [
    {
     "data": {
      "text/plain": [
       "Platform.NINTENDONT"
      ]
     },
     "execution_count": 8,
     "metadata": {},
     "output_type": "execute_result"
    }
   ],
   "source": [
    "platform = game.metadata.platform\n",
    "platform"
   ]
  },
  {
   "cell_type": "markdown",
   "metadata": {},
   "source": [
    "### Characters\n",
    "We will need to determine which controller ports are being used to determine where to read data from."
   ]
  },
  {
   "cell_type": "code",
   "execution_count": 9,
   "metadata": {
    "ExecuteTime": {
     "end_time": "2020-01-02T16:01:08.582313Z",
     "start_time": "2020-01-02T16:01:08.570858Z"
    }
   },
   "outputs": [
    {
     "data": {
      "text/plain": [
       "(None, None, None, None)"
      ]
     },
     "execution_count": 9,
     "metadata": {},
     "output_type": "execute_result"
    }
   ],
   "source": [
    "game.metadata.players"
   ]
  },
  {
   "cell_type": "markdown",
   "metadata": {},
   "source": [
    "It appears this data is not stored in the metadata attribute. Since these files are able to reconstruct a replay of the game using the controller inputs, then this information must be somewhere in the file. That \"somewhere\" is the `start` attribute."
   ]
  },
  {
   "cell_type": "code",
   "execution_count": 10,
   "metadata": {
    "ExecuteTime": {
     "end_time": "2020-01-02T16:01:08.596730Z",
     "start_time": "2020-01-02T16:01:08.587175Z"
    }
   },
   "outputs": [
    {
     "data": {
      "text/plain": [
       "Start(is_frozen_ps=None, is_pal=False, is_teams=False, players=(Player(character=CSSCharacter.ICE_CLIMBERS, costume=0, stocks=4, tag=, team=None, type=Type.HUMAN, ucf=UCF(dash_back=DashBack.UCF, shield_drop=ShieldDrop.UCF)), None, None, Player(character=CSSCharacter.MARTH, costume=1, stocks=4, tag=, team=None, type=Type.HUMAN, ucf=UCF(dash_back=DashBack.UCF, shield_drop=ShieldDrop.UCF))), random_seed=3456179710, slippi=Slippi(version=1.7.1), stage=Stage.FINAL_DESTINATION)"
      ]
     },
     "execution_count": 10,
     "metadata": {},
     "output_type": "execute_result"
    }
   ],
   "source": [
    "game.start"
   ]
  },
  {
   "cell_type": "code",
   "execution_count": 11,
   "metadata": {
    "ExecuteTime": {
     "end_time": "2020-01-02T16:01:08.608173Z",
     "start_time": "2020-01-02T16:01:08.599309Z"
    }
   },
   "outputs": [
    {
     "data": {
      "text/plain": [
       "(Player(character=CSSCharacter.ICE_CLIMBERS, costume=0, stocks=4, tag=, team=None, type=Type.HUMAN, ucf=UCF(dash_back=DashBack.UCF, shield_drop=ShieldDrop.UCF)),\n",
       " None,\n",
       " None,\n",
       " Player(character=CSSCharacter.MARTH, costume=1, stocks=4, tag=, team=None, type=Type.HUMAN, ucf=UCF(dash_back=DashBack.UCF, shield_drop=ShieldDrop.UCF)))"
      ]
     },
     "execution_count": 11,
     "metadata": {},
     "output_type": "execute_result"
    }
   ],
   "source": [
    "game.start.players"
   ]
  },
  {
   "cell_type": "code",
   "execution_count": 17,
   "metadata": {
    "ExecuteTime": {
     "end_time": "2020-01-02T16:02:46.969233Z",
     "start_time": "2020-01-02T16:02:46.960607Z"
    }
   },
   "outputs": [
    {
     "data": {
      "text/plain": [
       "[0, nan, nan, 3]"
      ]
     },
     "execution_count": 17,
     "metadata": {},
     "output_type": "execute_result"
    }
   ],
   "source": [
    "[game.start.players.index(port) if port != None else np.nan for port in game.start.players]"
   ]
  },
  {
   "cell_type": "code",
   "execution_count": 16,
   "metadata": {},
   "outputs": [
    {
     "data": {
      "text/plain": [
       "[0, 3]"
      ]
     },
     "execution_count": 16,
     "metadata": {},
     "output_type": "execute_result"
    }
   ],
   "source": [
    "# Similar to the Metadata, each Game object has a\n",
    "# Start object stored in each game's start attribute.\n",
    "ports = [game.start.players.index(port) for port in game.start.players if port != None]\n",
    "ports"
   ]
  },
  {
   "cell_type": "code",
   "execution_count": 13,
   "metadata": {},
   "outputs": [
    {
     "data": {
      "text/plain": [
       "CSSCharacter.ICE_CLIMBERS"
      ]
     },
     "execution_count": 13,
     "metadata": {},
     "output_type": "execute_result"
    }
   ],
   "source": [
    "game.start.players[0].character"
   ]
  },
  {
   "cell_type": "code",
   "execution_count": 15,
   "metadata": {},
   "outputs": [
    {
     "data": {
      "text/plain": [
       "[CSSCharacter.ICE_CLIMBERS, CSSCharacter.MARTH]"
      ]
     },
     "execution_count": 15,
     "metadata": {},
     "output_type": "execute_result"
    }
   ],
   "source": [
    "characters = [game.start.players[port].character for port in ports]\n",
    "characters"
   ]
  },
  {
   "cell_type": "markdown",
   "metadata": {},
   "source": [
    "### Stage"
   ]
  },
  {
   "cell_type": "code",
   "execution_count": null,
   "metadata": {},
   "outputs": [],
   "source": [
    "game.start.stage"
   ]
  },
  {
   "cell_type": "markdown",
   "metadata": {},
   "source": [
    "#### For Older Versions of Slippi Such as Fight Pitt 9"
   ]
  },
  {
   "cell_type": "markdown",
   "metadata": {},
   "source": [
    "### Metadata Series\n",
    "When reading in multiple games a DataFrame will be made where each row will represent a single game."
   ]
  },
  {
   "cell_type": "code",
   "execution_count": null,
   "metadata": {},
   "outputs": [],
   "source": [
    "pd.Series({'date': date,\n",
    "           'duration': duration,\n",
    "           'platform': platform,\n",
    "           'p1_port': ports[0],\n",
    "           'p1_character': characters[0],\n",
    "           'p2_port': ports[1],\n",
    "           'p2_character': characters[1],\n",
    "          'stage': game.start.stage})"
   ]
  },
  {
   "cell_type": "markdown",
   "metadata": {},
   "source": [
    "### Getting all Metadata"
   ]
  },
  {
   "cell_type": "code",
   "execution_count": null,
   "metadata": {},
   "outputs": [],
   "source": [
    "test_fp9 = fight_pitt_9[:10]"
   ]
  },
  {
   "cell_type": "code",
   "execution_count": null,
   "metadata": {},
   "outputs": [],
   "source": [
    "game.start.players[0]"
   ]
  },
  {
   "cell_type": "code",
   "execution_count": null,
   "metadata": {},
   "outputs": [],
   "source": [
    "fight_pitt_9[0].split('/')[-1].strip('Game_').strip('.slp')"
   ]
  },
  {
   "cell_type": "code",
   "execution_count": null,
   "metadata": {},
   "outputs": [],
   "source": [
    "### THIS IS ADJUSTED TO TAKE ANY NUMBER OF FILE PATHS\n",
    "### AND PARSE TO A DATAFRAME\n",
    "### INCLUDING PORT AND CHARACTER INFO\n",
    "def metadata_to_df(slp_paths):\n",
    "    '''\n",
    "    Of a collection of games, store the metadata as a dataframe.\n",
    "    \n",
    "    slp_paths (list): each value is the file path to games\n",
    "    returns a dataframe\n",
    "    '''\n",
    "    length = len(slp_paths)\n",
    "    count = 0\n",
    "    dates, game_id, durations, plats, p1_ports, p1_chars, p2_ports, p2_chars, stages, is_teams, is_pal = list(), \\\n",
    "    list(), list(), list(), list(), list(), list(), list(), list(), list(), list()\n",
    "    for path in slp_paths:\n",
    "        count += 1\n",
    "        print(f'Parsing metadata from file {count} of {length}: {round(count / length * 100, 2)}%', end = '\\r')\n",
    "        # try to create Game object, else skip it and try the next one\n",
    "        try:\n",
    "            game = slp.Game(path)\n",
    "        except:\n",
    "            print(f'Skip game {count} of {length}')\n",
    "            continue\n",
    "            \n",
    "        # set game ID\n",
    "        # to get file path using game_id:\n",
    "        # ../folder_directory/Game_[game_id].slp\n",
    "        game_id.append(slp_paths[count - 1].split('/')[-1].strip('Game_').strip('.slp'))\n",
    "        \n",
    "        # take the date, duration, and platform data\n",
    "        dates.append(game.metadata.date)\n",
    "        durations.append(game.metadata.duration)\n",
    "        plats.append(game.metadata.platform)\n",
    "\n",
    "        # get active ports\n",
    "        ports = [game.start.players.index(port) for port in game.start.players if port != None]\n",
    "        p1_ports.append(ports[0])\n",
    "        p2_ports.append(ports[1])\n",
    "\n",
    "        # get characters\n",
    "        characters = [game.start.players[port].character for port in ports]\n",
    "        p1_chars.append(characters[0])\n",
    "        p2_chars.append(characters[1])\n",
    "        \n",
    "        # get stages played on\n",
    "        stages.append(game.start.stage)\n",
    "        \n",
    "        # is the game not a 1v1\n",
    "        is_teams.append(game.start.is_teams)\n",
    "        \n",
    "        # is this not a v1.02 match\n",
    "        is_pal.append(game.start.is_pal)\n",
    "        \n",
    "    return pd.DataFrame(data = {\n",
    "            'game_id': game_id,\n",
    "            'date': dates,\n",
    "            'duration': durations,\n",
    "            'platform': plats,\n",
    "            'p1_port': p1_ports,\n",
    "            'p1_char': p1_chars,\n",
    "            'p2_port': p2_ports,\n",
    "            'p2_char': p2_chars,\n",
    "            'stage': stages,\n",
    "            'is_teams': is_teams,\n",
    "            'is_pal': is_pal\n",
    "        })"
   ]
  },
  {
   "cell_type": "markdown",
   "metadata": {},
   "source": [
    "Even though the character information is missing in the metadata, the character information is stored in other locations of each game file such as the start attribute of the Game object."
   ]
  },
  {
   "cell_type": "code",
   "execution_count": null,
   "metadata": {},
   "outputs": [],
   "source": [
    "game.start.players[0].ucf"
   ]
  },
  {
   "cell_type": "code",
   "execution_count": null,
   "metadata": {
    "scrolled": true
   },
   "outputs": [],
   "source": [
    "df_fp9 = metadata_to_df(fight_pitt_9)\n",
    "df_fp9.head()"
   ]
  },
  {
   "cell_type": "code",
   "execution_count": null,
   "metadata": {},
   "outputs": [],
   "source": [
    "df_fp9.to_csv('../data/fp9.csv')"
   ]
  },
  {
   "cell_type": "markdown",
   "metadata": {},
   "source": [
    "# END OF NOTEBOOK 1"
   ]
  },
  {
   "cell_type": "code",
   "execution_count": null,
   "metadata": {},
   "outputs": [],
   "source": [
    "sum(df_fp9['duration'])"
   ]
  },
  {
   "cell_type": "code",
   "execution_count": null,
   "metadata": {},
   "outputs": [],
   "source": [
    "df_fp9.shape == df_fp9.drop_duplicates(subset = ['game_id']).shape"
   ]
  },
  {
   "cell_type": "code",
   "execution_count": null,
   "metadata": {},
   "outputs": [],
   "source": [
    "df_fp9.shape"
   ]
  },
  {
   "cell_type": "code",
   "execution_count": null,
   "metadata": {},
   "outputs": [],
   "source": [
    "df_fp9.set_index('game_id', inplace = True)"
   ]
  },
  {
   "cell_type": "markdown",
   "metadata": {},
   "source": [
    "For an easier time determining which character each player used in the game, I will be using the [documentation](https://py-slippi.readthedocs.io/en/latest/source/slippi.html) to make sure they are appropriately mapped. Upon looking into the docs, I noticed that there are two enumeration objects regarding characters, `CSSCharacter` and `InGameCharacter`. These objects label all tournament legal chracters, but in different orders. For example, Mario has a value of 0 in the `InGameCharacter` object, but has a value of 8 in `CSSCharacter`. Since I know which characters are more frequently played in tournaments, I'll take the value counts of one character column and determine if the `CSSCharacter` was interpretted or `InGameCharacter`."
   ]
  },
  {
   "cell_type": "code",
   "execution_count": null,
   "metadata": {},
   "outputs": [],
   "source": [
    "df_fp9['p1_char'].value_counts()"
   ]
  },
  {
   "cell_type": "markdown",
   "metadata": {},
   "source": [
    "# MAKE THIS A TABLE\n",
    "Val. `Object`: Character\n",
    "\n",
    "    `Other Object`: Character\n",
    "    \n",
    "9. `CSSCharacter`: Marth\n",
    "\n",
    "    `InGameCharacter`: Peach\n",
    "    \n",
    "Since both characters are popular relative to the rest of the characters, I am not completely certain that a value of 9 represents Marth or Peach.\n",
    "\n",
    "20. `CSSCharacter`: Fox\n",
    "\n",
    "    `InGameCharacter`: Young Link\n",
    "\n",
    "If someone were to tell me the second most frequent character in ports 0, 1, or 2 are either Fox or Young Link, then I would am confident that the it was Fox. I am now inclined to say that the values represent the `CSSCharacter` object rather than the `InGameCharacter` object.\n",
    "\n",
    "2. `CSSCharacter`: Fox\n",
    "\n",
    "    `InGameCharacter`: Captain Falcon\n",
    "\n",
    "Both of these characters are popular, so I am again uncertain.\n",
    "\n",
    "0. `CSSCharacter`: Captain Falcon\n",
    "\n",
    "    `InGameCharacter`: Mario\n",
    "    \n",
    "This is a similar comparison to Fox and Young Link. Of Captain Falcon and Mario, Captain Falcon is the more popular character. Additionally, comparing Fox and Captain Falcon, it is expected that there are more Fox players than Captain Falcon players.\n",
    "\n",
    "With the above comparisons, I am very confident that the values are the `CSSCharacter` object."
   ]
  },
  {
   "cell_type": "code",
   "execution_count": null,
   "metadata": {},
   "outputs": [],
   "source": [
    "csscharacter = {\n",
    "    0: 'Captain Falcon',\n",
    "    1: 'Donkey Kong',\n",
    "    2: 'Fox',\n",
    "    3: 'Game and Watch',\n",
    "    4: 'Kirby',\n",
    "    5: 'Bowser',\n",
    "    6: 'Link',\n",
    "    7: 'Luigi',\n",
    "    8: 'Mario',\n",
    "    9: 'Marth',\n",
    "    10: 'Mewtwo',\n",
    "    11: 'Ness',\n",
    "    12: 'Peach',\n",
    "    13: 'Pikachu',\n",
    "    14: 'Ice Climbers',\n",
    "    15: 'Jigglypuff',\n",
    "    16: 'Samus',\n",
    "    17: 'Yoshi',\n",
    "    18: 'Zelda',\n",
    "    19: 'Sheik',\n",
    "    20: 'Falco',\n",
    "    21: 'Young Link',\n",
    "    22: 'Dr. Mario',\n",
    "    23: 'Roy',\n",
    "    24: 'Pichu',\n",
    "    25: 'Ganondorf'\n",
    "}"
   ]
  },
  {
   "cell_type": "code",
   "execution_count": null,
   "metadata": {},
   "outputs": [],
   "source": [
    "df_fp9['p1_char_name'] = df_fp9['p1_char'].map(csscharacter)\n",
    "df_fp9['p2_char_name'] = df_fp9['p2_char'].map(csscharacter)"
   ]
  },
  {
   "cell_type": "code",
   "execution_count": null,
   "metadata": {},
   "outputs": [],
   "source": [
    "df_fp9.head()"
   ]
  },
  {
   "cell_type": "code",
   "execution_count": null,
   "metadata": {},
   "outputs": [],
   "source": [
    "df_fp9.shape"
   ]
  },
  {
   "cell_type": "markdown",
   "metadata": {},
   "source": [
    "Get only the filepaths of games that are not team battles."
   ]
  },
  {
   "cell_type": "code",
   "execution_count": null,
   "metadata": {},
   "outputs": [],
   "source": [
    "not_teams = list(df_fp9.loc[df_fp9['is_teams'] == False].index)\n",
    "not_teams = list(map(lambda filename: '../../data/Fight-Pitt-9/Game_' + filename + '.slp', not_teams))"
   ]
  },
  {
   "cell_type": "code",
   "execution_count": null,
   "metadata": {},
   "outputs": [],
   "source": [
    "def get_not_teams():\n",
    "    not_teams = list(df_fp9.loc[df_fp9['is_teams'] == False].index)\n",
    "    return list(map(lambda filename: '../../data/Fight-Pitt-9/Game_' + filename + '.slp', not_teams))"
   ]
  },
  {
   "cell_type": "markdown",
   "metadata": {},
   "source": [
    "I know I want to analyze matches that have a Fox, just because that is a character I personally play and know there are a lot of matches."
   ]
  },
  {
   "cell_type": "code",
   "execution_count": null,
   "metadata": {},
   "outputs": [],
   "source": [
    "df_fox = df_fp9.loc[(df_fp9['p1_char_name'] == 'Fox') | (df_fp9['p2_char_name'] == 'Fox')]\n",
    "print('df_fp9.shape:', df_fp9.shape)\n",
    "df_fox.shape"
   ]
  },
  {
   "cell_type": "code",
   "execution_count": null,
   "metadata": {},
   "outputs": [],
   "source": [
    "sum(df_fp9['duration'])"
   ]
  },
  {
   "cell_type": "code",
   "execution_count": null,
   "metadata": {},
   "outputs": [],
   "source": [
    "sum(df_fox['duration'])"
   ]
  },
  {
   "cell_type": "markdown",
   "metadata": {},
   "source": [
    "I also want to drop all games that were not a 1 vs. 1 match. So, I want `is_teams` to be False."
   ]
  },
  {
   "cell_type": "code",
   "execution_count": null,
   "metadata": {},
   "outputs": [],
   "source": [
    "df_fox.shape"
   ]
  },
  {
   "cell_type": "code",
   "execution_count": null,
   "metadata": {},
   "outputs": [],
   "source": [
    "df_fox = df_fox.loc[df_fox['is_teams'] == False]\n",
    "df_fox"
   ]
  },
  {
   "cell_type": "code",
   "execution_count": null,
   "metadata": {},
   "outputs": [],
   "source": [
    "sum(df_fox['duration'])"
   ]
  },
  {
   "cell_type": "code",
   "execution_count": null,
   "metadata": {},
   "outputs": [],
   "source": [
    "df_fox['stage'].value_counts()"
   ]
  },
  {
   "cell_type": "code",
   "execution_count": null,
   "metadata": {},
   "outputs": [],
   "source": [
    "stages = {\n",
    "    2: 'Fountain of Dreams',\n",
    "    3: 'Pokemon Stadium',\n",
    "    4: \"Princess Peach's Castle\",\n",
    "    5: 'Kongo Jungle',\n",
    "    6: 'Brinstar',\n",
    "    7: 'Corneria',\n",
    "    8: \"Yoshi's Story\",\n",
    "    9: 'Onett',\n",
    "    10: 'Mute City',\n",
    "    11: 'Rainbow Cruise',\n",
    "    12: 'Jungle Japes',\n",
    "    13: 'Great Bay',\n",
    "    14: 'Hyrule Temple',\n",
    "    15: 'Brinstar Depths',\n",
    "    16: \"Yoshi's Island\",\n",
    "    17: 'Green Greens',\n",
    "    18: 'Fourside',\n",
    "    19: 'Mushroom Kingdom I',\n",
    "    20: 'Mushroom Kingdom II',\n",
    "    22: 'Venom',\n",
    "    23: 'Poke Floats',\n",
    "    24: 'Big Blue',\n",
    "    25: 'Icicle Mountain',\n",
    "    26: 'Icetop',\n",
    "    27: 'Flat Zone',\n",
    "    28: 'Dream Land 64',\n",
    "    29: \"Yoshi's Island 64\",\n",
    "    30: 'Kongo Jungle 64',\n",
    "    31: 'Battlefield',\n",
    "    32: 'Final Destination'\n",
    "}"
   ]
  },
  {
   "cell_type": "code",
   "execution_count": null,
   "metadata": {},
   "outputs": [],
   "source": [
    "df_fox['stage_name'] = df_fox['stage'].map(stages)\n",
    "df_fox"
   ]
  },
  {
   "cell_type": "code",
   "execution_count": null,
   "metadata": {},
   "outputs": [],
   "source": [
    "df_fox['stage_name'].value_counts()"
   ]
  },
  {
   "cell_type": "code",
   "execution_count": null,
   "metadata": {},
   "outputs": [],
   "source": [
    "# create a list of tuples where the first item is the stage name\n",
    "# and the second item is the total number of frames played on that stage\n",
    "# with at least one Fox\n",
    "stage_frame_total = [(stage, sum(df_fox.loc[(df_fox['stage_name'] == stage), 'duration'])) for stage in set(df_fox['stage_name'].values)]\n",
    "stage_frame_total"
   ]
  },
  {
   "cell_type": "code",
   "execution_count": null,
   "metadata": {},
   "outputs": [],
   "source": [
    "sorted(stage_frame_total, key = lambda val: val[1])"
   ]
  },
  {
   "cell_type": "markdown",
   "metadata": {},
   "source": [
    "Although there are more games played on Dream Land than any other stage, I will only be using games played on Final Destination. Between Dream Land, Final Destination has a frame difference of about 60,000 frames or 10,000 seconds or "
   ]
  },
  {
   "cell_type": "markdown",
   "metadata": {},
   "source": [
    "Now I want to get a frequency of each matchup. For example, how many matches did a Fox player fight another Fox player? How many matches did a Fox player fight a Captain Falcon?"
   ]
  },
  {
   "cell_type": "code",
   "execution_count": null,
   "metadata": {},
   "outputs": [],
   "source": [
    "p1_nofox_counts = df_fox.loc[df_fox['p1_char_name'] != 'Fox', 'p1_char_name'].value_counts()\n",
    "p2_nofox_counts = df_fox.loc[df_fox['p2_char_name'] != 'Fox', 'p2_char_name'].value_counts()\n",
    "p1_nofox_counts"
   ]
  },
  {
   "cell_type": "code",
   "execution_count": null,
   "metadata": {},
   "outputs": [],
   "source": [
    "p2_nofox_counts"
   ]
  },
  {
   "cell_type": "code",
   "execution_count": null,
   "metadata": {},
   "outputs": [],
   "source": [
    "not_foxes = p2_nofox_counts.append(p1_nofox_counts)\n",
    "not_foxes"
   ]
  },
  {
   "cell_type": "code",
   "execution_count": null,
   "metadata": {},
   "outputs": [],
   "source": [
    "not_foxes.groupby(not_foxes.index).sum().sort_values(ascending = False)"
   ]
  },
  {
   "cell_type": "markdown",
   "metadata": {},
   "source": [
    "Marth and Falco both have a lot of games against Fox. This makes sense because they both have strong options to defeat Fox. Let's drop all rows that do not have Fox, Falco, or Marth. Then consider how many frames exist a game is played on Final Destination with Fox vs. Marth or Fox vs. Falco."
   ]
  },
  {
   "cell_type": "code",
   "execution_count": null,
   "metadata": {},
   "outputs": [],
   "source": [
    "mask_fd = (df_fox['stage_name'] == 'Final Destination')\n",
    "mask_marth = (df_fox['p1_char_name'] == 'Marth') | (df_fox['p2_char_name'] == 'Marth')\n",
    "mask_falco = (df_fox['p1_char_name'] == 'Falco') | (df_fox['p2_char_name'] == 'Falco')"
   ]
  },
  {
   "cell_type": "code",
   "execution_count": null,
   "metadata": {},
   "outputs": [],
   "source": [
    "df_falco_fd = df_fox.loc[mask_falco & mask_fd]\n",
    "print(sum(df_falco_fd['duration']))\n",
    "df_falco_fd.head()"
   ]
  },
  {
   "cell_type": "code",
   "execution_count": null,
   "metadata": {},
   "outputs": [],
   "source": [
    "df_marth_fd = df_fox.loc[mask_marth & mask_fd]\n",
    "print(sum(df_marth_fd['duration']))\n",
    "df_marth_fd.head()"
   ]
  },
  {
   "cell_type": "markdown",
   "metadata": {},
   "source": [
    "I will keep both dataframes, but will initially use `df_falco_fd` due to less frames since time is a current constraint."
   ]
  },
  {
   "cell_type": "markdown",
   "metadata": {},
   "source": [
    "Since I want to predict all of Fox's actions in this tournament when fighting against Falco, I will need to have a column that will specify which port is controlling Fox and which port is controlling Falco."
   ]
  },
  {
   "cell_type": "code",
   "execution_count": null,
   "metadata": {},
   "outputs": [],
   "source": [
    "df_falco_fd.loc[df_falco_fd['p1_char_name'] == 'Fox', 'p1_port'].shape"
   ]
  },
  {
   "cell_type": "code",
   "execution_count": null,
   "metadata": {},
   "outputs": [],
   "source": [
    "df_falco_fd.loc[df_falco_fd['p2_char_name'] == 'Fox', 'p1_port'].shape"
   ]
  },
  {
   "cell_type": "code",
   "execution_count": null,
   "metadata": {},
   "outputs": [],
   "source": [
    "df_falco_fd"
   ]
  },
  {
   "cell_type": "code",
   "execution_count": null,
   "metadata": {},
   "outputs": [],
   "source": [
    "fox_ports = [df_falco_fd.loc[ident, 'p1_port'] if df_falco_fd.loc[ident, 'p1_char_name'] == 'Fox' else df_falco_fd.loc[ident, 'p2_port'] for ident in df_falco_fd.index]\n",
    "fox_ports"
   ]
  },
  {
   "cell_type": "code",
   "execution_count": null,
   "metadata": {},
   "outputs": [],
   "source": [
    "nfox_ports = [df_falco_fd.loc[ident, 'p1_port'] if df_falco_fd.loc[ident, 'p1_char_name'] != 'Fox' else df_falco_fd.loc[ident, 'p2_port'] for ident in df_falco_fd.index]\n",
    "nfox_ports"
   ]
  },
  {
   "cell_type": "code",
   "execution_count": null,
   "metadata": {},
   "outputs": [],
   "source": [
    "df_falco_fd['fox_ports'] = fox_ports\n",
    "df_falco_fd['falco_ports'] = nfox_ports"
   ]
  },
  {
   "cell_type": "code",
   "execution_count": null,
   "metadata": {},
   "outputs": [],
   "source": [
    "df_falco_fd"
   ]
  },
  {
   "cell_type": "code",
   "execution_count": null,
   "metadata": {},
   "outputs": [],
   "source": [
    "falco_fd_gameid = list(df_falco_fd.index)\n",
    "falco_fd_gameid"
   ]
  },
  {
   "cell_type": "code",
   "execution_count": null,
   "metadata": {},
   "outputs": [],
   "source": [
    "falco_fd_games = list(map(lambda val: '../../data/Fight-Pitt-9/Game_' + val + '.slp', falco_fd_gameid))\n",
    "falco_fd_games"
   ]
  },
  {
   "cell_type": "code",
   "execution_count": null,
   "metadata": {},
   "outputs": [],
   "source": [
    "def frames_to_df(slp_paths):\n",
    "    length = len(slp_paths)\n",
    "    count = 0\n",
    "    \n",
    "    p1_button_dict = {'Trigger Analog':[],'Start': [],'Y': [],'X': [],'B': [],'A': [],'L': [],'R': [],\n",
    "                      'Z': [],'Dpad-Up': [],'Dpad-Down': [],'Dpad-Right': [],'Dpad-Left': []}\n",
    "    \n",
    "    p2_button_dict = {'Trigger Analog':[],'Start': [],'Y': [],'X': [],'B': [],'A': [],'L': [],'R': [],\n",
    "                      'Z': [],'Dpad-Up': [],'Dpad-Down': [],'Dpad-Right': [],'Dpad-Left': []}\n",
    "    \n",
    "    # foreign key to metadata dataframe\n",
    "    game_id = list()\n",
    "    \n",
    "    # frame index\n",
    "    index = list()\n",
    "    \n",
    "    # feature per frame for p1\n",
    "    p1_combo_count, p1_dmg, p1_direction, p1_last_attack_landed, p1_last_hit_by, p1_position_x, \\\n",
    "    p1_position_y, p1_shield, p1_state, p1_stage_age, p1_stocks, p1_cstick_x, p1_cstick_y, \\\n",
    "    p1_joystick_x, p1_joystick_y, p1_state, p1_state_age = list(), list(), list(), list(), list(), \\\n",
    "    list(), list(), list(), list(), list(), list(), list(), list(), list(), list(), list(), list()\n",
    "    \n",
    "    # feature per frame for p2\n",
    "    p2_combo_count, p2_dmg, p2_direction, p2_last_attack_landed, p2_last_hit_by, p2_position_x, \\\n",
    "    p2_position_y, p2_shield, p2_state, p2_stage_age, p2_stocks, p2_cstick_x, p2_cstick_y, \\\n",
    "    p2_joystick_x, p2_joystick_y, p2_state, p2_state_age = list(), list(), list(), list(), list(), \\\n",
    "    list(), list(), list(), list(), list(), list(), list(), list(), list(), list(), list(), list()\n",
    "    \n",
    "    for path in slp_paths:\n",
    "        \n",
    "        curr_gameid = slp_paths[count].split('/')[-1].strip('Game_').strip('.slp')\n",
    "        count += 1\n",
    "        print(f'Parsing file {count} of {length}: {round(count / length * 100, 2)}%')\n",
    "        try:\n",
    "            game = slp.Game(path)\n",
    "        except:\n",
    "            print(f'Skip game {count} of {length}')\n",
    "            continue\n",
    "\n",
    "        # get active ports\n",
    "        # index 0: player 1\n",
    "        # index 1: player 2\n",
    "        ports = [game.start.players.index(port) for port in game.start.players if port != None]\n",
    "        \n",
    "        # for each Frame object of all frames in a specific game\n",
    "        flength = len(game.frames)\n",
    "        fcount = 0\n",
    "        for frame in game.frames:\n",
    "            fcount += 1\n",
    "            print(f'Parsing frame {fcount} of {flength}: {round(fcount / flength * 100, 2)}%', end = '\\r')\n",
    "            game_id.append(curr_gameid)\n",
    "            \n",
    "            index.append(frame.index)\n",
    "            try:\n",
    "                p1_cstick_x.append(frame.ports[ports[0]].leader.pre.cstick.x)\n",
    "            except:\n",
    "                p1_cstick_x.append(None)\n",
    "            \n",
    "            try:\n",
    "                p2_cstick_x.append(frame.ports[ports[1]].leader.pre.cstick.x)\n",
    "            except:\n",
    "                p2_cstick_x.append(None)\n",
    "\n",
    "            try:\n",
    "                p1_cstick_y.append(frame.ports[ports[0]].leader.pre.cstick.y)\n",
    "            except:\n",
    "                p1_cstick_y.append(None)\n",
    "\n",
    "            try:\n",
    "                p2_cstick_y.append(frame.ports[ports[1]].leader.pre.cstick.y)\n",
    "            except:\n",
    "                p2_cstick_y.append(None)\n",
    "\n",
    "            try:\n",
    "                p1_joystick_x.append(frame.ports[ports[0]].leader.pre.joystick.x)\n",
    "            except:\n",
    "                p1_joystick_x.append(None)\n",
    "                \n",
    "            try:\n",
    "                p2_joystick_x.append(frame.ports[ports[1]].leader.pre.joystick.x)\n",
    "            except:\n",
    "                p2_joystick_x.append(None)\n",
    "            \n",
    "            try:\n",
    "                p1_joystick_y.append(frame.ports[ports[0]].leader.pre.joystick.y)\n",
    "            except:\n",
    "                p1_joystick_y.append(None)\n",
    "\n",
    "            try:\n",
    "                p2_joystick_y.append(frame.ports[ports[1]].leader.pre.joystick.y)\n",
    "            except:\n",
    "                p2_joystick_y.append(None)\n",
    "\n",
    "            try:\n",
    "                p1_combo_count.append(frame.ports[ports[0]].leader.post.combo_count)\n",
    "            except:\n",
    "                p1_combo_count.append(None)\n",
    "            try:\n",
    "                p2_combo_count.append(frame.ports[ports[1]].leader.post.combo_count)\n",
    "            except:\n",
    "                p2_combo_count.append(None)\n",
    "\n",
    "            try:\n",
    "                p1_dmg.append(frame.ports[ports[0]].leader.post.damage)\n",
    "            except:\n",
    "                p1_dmg.append(None)\n",
    "            try:\n",
    "                p2_dmg.append(frame.ports[ports[1]].leader.post.damage)\n",
    "            except:\n",
    "                p2_dmg.append(None)\n",
    "\n",
    "            try:\n",
    "                p1_direction.append(frame.ports[ports[0]].leader.post.direction)\n",
    "            except:\n",
    "                p1_direction.append(None)\n",
    "                \n",
    "            try:\n",
    "                p2_direction.append(frame.ports[ports[1]].leader.post.direction)\n",
    "            except:\n",
    "                p2_direction.append(None)\n",
    "\n",
    "            try:\n",
    "                p1_last_attack_landed.append(frame.ports[ports[0]].leader.post.last_attack_landed)\n",
    "            except:\n",
    "                p1_last_attack_landed.append(None)\n",
    "\n",
    "            try:\n",
    "                p2_last_attack_landed.append(frame.ports[ports[1]].leader.post.last_attack_landed)\n",
    "            except:\n",
    "                p2_last_attack_landed.append(None)\n",
    "            \n",
    "            try:\n",
    "                p1_last_hit_by.append(frame.ports[ports[0]].leader.post.last_hit_by)\n",
    "            except:\n",
    "                p1_last_hit_by.append(None)\n",
    "                \n",
    "            try:\n",
    "                p2_last_hit_by.append(frame.ports[ports[1]].leader.post.last_hit_by)\n",
    "            except:\n",
    "                p2_last_hit_by.append(None)\n",
    "            \n",
    "            try:\n",
    "                p1_position_x.append(frame.ports[ports[0]].leader.post.position.x)\n",
    "            except:\n",
    "                p1_position_x.append(None)\n",
    "\n",
    "            try:\n",
    "                p2_position_x.append(frame.ports[ports[1]].leader.post.position.x)\n",
    "            except:\n",
    "                p2_position_x.append(None)\n",
    "            \n",
    "            try:\n",
    "                p1_position_y.append(frame.ports[ports[0]].leader.post.position.y)\n",
    "            except:\n",
    "                p1_position_y.append(None)\n",
    "\n",
    "            try:\n",
    "                p2_position_y.append(frame.ports[ports[1]].leader.post.position.y)\n",
    "            except:\n",
    "                p2_position_y.append(None)\n",
    "\n",
    "            try:\n",
    "                p1_shield.append(frame.ports[ports[0]].leader.post.shield)\n",
    "            except:\n",
    "                p2_shield.append(None)\n",
    "\n",
    "            try:\n",
    "                p2_shield.append(frame.ports[ports[1]].leader.post.shield)\n",
    "            except:\n",
    "                p2_shield.append(None)\n",
    "\n",
    "            try:\n",
    "                p1_state.append(frame.ports[ports[0]].leader.post.state)\n",
    "            except:\n",
    "                p1_state.append(None)\n",
    "\n",
    "            try:\n",
    "                p2_state.append(frame.ports[ports[1]].leader.post.state)\n",
    "            except:\n",
    "                p2_state.append(None)\n",
    "\n",
    "            try:\n",
    "                p1_state_age.append(frame.ports[ports[0]].leader.post.state_age)\n",
    "            except:\n",
    "                p1_state_age.append(None)\n",
    "            \n",
    "            try:\n",
    "                p2_state_age.append(frame.ports[ports[1]].leader.post.state_age)\n",
    "            except:\n",
    "                p2_state_age.append(None)\n",
    "\n",
    "            try:\n",
    "                p1_stocks.append(frame.ports[ports[0]].leader.post.stocks)\n",
    "            except:\n",
    "                p1_stocks.append(None)\n",
    "                \n",
    "            try:\n",
    "                p2_stocks.append(frame.ports[ports[1]].leader.post.stocks)\n",
    "            except:\n",
    "                p2_stocks.append(None)\n",
    "            try:\n",
    "                p1_ins = str(frame.ports[ports[0]].leader.pre.buttons.logical).split('.')[1].split('|')\n",
    "                for button in p1_button_dict:\n",
    "                    if button in p1_ins:\n",
    "                        p1_button_dict[button].append(1)\n",
    "                    else:\n",
    "                        p1_button_dict[button].append(0)\n",
    "            except:\n",
    "                for button in p1_button_dict:\n",
    "                    p1_button_dict[button].append(None)\n",
    "            try:\n",
    "                p2_ins = str(frame.ports[ports[1]].leader.pre.buttons.logical).split('.')[1].split('|')\n",
    "                for button in p2_button_dict:\n",
    "                    if button in p2_ins:\n",
    "                        p2_button_dict[button].append(1)\n",
    "                    else:\n",
    "                        p2_button_dict[button].append(0)\n",
    "            except:\n",
    "                for button in p2_button_dict:\n",
    "                    p2_button_dict[button].append(None)\n",
    "\n",
    "    return pd.DataFrame.from_dict({\n",
    "        'game_id': game_id,\n",
    "        'frame_index': index,\n",
    "        \n",
    "        # p1\n",
    "        'p1_cstick_x': p1_cstick_x,\n",
    "        'p1_cstick_y': p1_cstick_y,\n",
    "        'p1_joystick_x': p1_joystick_x,\n",
    "        'p1_joystick_y': p1_joystick_y,\n",
    "        'p1_trigger_analog': p1_button_dict['Trigger Analog'],\n",
    "        'p1_Start': p1_button_dict['Start'],\n",
    "        'p1_Y': p1_button_dict['Y'],\n",
    "        'p1_X': p1_button_dict['X'],\n",
    "        'p1_B': p1_button_dict['B'],\n",
    "        'p1_A': p1_button_dict['A'],\n",
    "        'p1_L': p1_button_dict['L'],\n",
    "        'p1_R': p1_button_dict['R'],\n",
    "        'p1_Z': p1_button_dict['Z'],\n",
    "        'p1_Dpad_Up': p1_button_dict['Dpad-Up'],\n",
    "        'p1_Dpad_Down': p1_button_dict['Dpad-Down'],\n",
    "        'p1_Dpad_Right': p1_button_dict['Dpad-Right'],\n",
    "        'p1_Dpad_Left': p1_button_dict['Dpad-Left'],\n",
    "        'p1_combo_count': p1_combo_count,\n",
    "        'p1_dmg': p1_dmg,\n",
    "        'p1_direction': p1_direction,\n",
    "        'p1_last_attack_landed': p1_last_attack_landed,\n",
    "        'p1_last_hit_by': p1_last_hit_by,\n",
    "        'p1_position_x': p1_position_x,\n",
    "        'p1_position_y': p1_position_y,\n",
    "        'p1_shield': p1_shield,\n",
    "        'p1_state': p1_state,\n",
    "        'p1_state_age': p1_state_age,\n",
    "        'p1_stocks': p1_stocks,\n",
    "        \n",
    "        # p2\n",
    "        'p2_cstick_x': p2_cstick_x,\n",
    "        'p2_cstick_y': p2_cstick_y,\n",
    "        'p2_joystick_x': p2_joystick_x,\n",
    "        'p2_joystick_y': p2_joystick_y,\n",
    "        'p2_trigger_analog': p2_button_dict['Trigger Analog'],\n",
    "        'p2_Start': p2_button_dict['Start'],\n",
    "        'p2_Y': p2_button_dict['Y'],\n",
    "        'p2_X': p2_button_dict['X'],\n",
    "        'p2_B': p2_button_dict['B'],\n",
    "        'p2_A': p2_button_dict['A'],\n",
    "        'p2_L': p2_button_dict['L'],\n",
    "        'p2_R': p2_button_dict['R'],\n",
    "        'p2_Z': p2_button_dict['Z'],\n",
    "        'p2_Dpad_Up': p2_button_dict['Dpad-Up'],\n",
    "        'p2_Dpad_Down': p2_button_dict['Dpad-Down'],\n",
    "        'p2_Dpad_Right': p2_button_dict['Dpad-Right'],\n",
    "        'p2_Dpad_Left': p2_button_dict['Dpad-Left'],\n",
    "        'p2_combo_count': p2_combo_count,\n",
    "        'p2_dmg': p2_dmg,\n",
    "        'p2_direction': p2_direction,\n",
    "        'p2_last_attack_landed': p2_last_attack_landed,\n",
    "        'p2_last_hit_by': p2_last_hit_by,\n",
    "        'p2_position_x': p2_position_x,\n",
    "        'p2_position_y': p2_position_y,\n",
    "        'p2_shield': p2_shield,\n",
    "        'p2_state': p2_state,\n",
    "        'p2_state_age': p2_state_age,\n",
    "        'p2_stocks': p2_stocks     \n",
    "    }, orient = 'columns')"
   ]
  },
  {
   "cell_type": "code",
   "execution_count": null,
   "metadata": {},
   "outputs": [],
   "source": [
    "len(get_not_teams())"
   ]
  },
  {
   "cell_type": "code",
   "execution_count": null,
   "metadata": {},
   "outputs": [],
   "source": [
    "not_teams = get_not_teams()"
   ]
  },
  {
   "cell_type": "markdown",
   "metadata": {},
   "source": [
    "There exists two games that are not team battles, but have more than two players. These games will not be included."
   ]
  },
  {
   "cell_type": "code",
   "execution_count": null,
   "metadata": {
    "scrolled": true
   },
   "outputs": [],
   "source": [
    "slp.Game(not_teams[766]).start"
   ]
  },
  {
   "cell_type": "code",
   "execution_count": null,
   "metadata": {},
   "outputs": [],
   "source": [
    "slp.Game(not_teams[292]).start.players"
   ]
  },
  {
   "cell_type": "markdown",
   "metadata": {},
   "source": [
    "## USE `NOT_TEAMS.REMOVE(INDEX)`"
   ]
  },
  {
   "cell_type": "code",
   "execution_count": null,
   "metadata": {
    "scrolled": true
   },
   "outputs": [],
   "source": [
    "df_fp9_frames_01 = frames_to_df(not_teams[:101])\n",
    "df_fp9_frames_02 = frames_to_df(not_teams[101:201])\n",
    "df_fp9_frames_03 = frames_to_df(not_teams[201:292])\n",
    "df_fp9_frames_03_5 = frames_to_df(not_teams[293:301])\n",
    "df_fp9_frames_04 = frames_to_df(not_teams[301:401])\n",
    "df_fp9_frames_05 = frames_to_df(not_teams[401:501])\n",
    "df_fp9_frames_06 = frames_to_df(not_teams[501:601])\n",
    "df_fp9_frames_07 = frames_to_df(not_teams[601:701])\n",
    "df_fp9_frames_08 = frames_to_df(not_teams[701:766])\n",
    "df_fp9_frames_08_5 = frames_to_df(not_teams[767:801])\n",
    "df_fp9_frames_09 = frames_to_df(not_teams[801:901])\n",
    "df_fp9_frames_10 = frames_to_df(not_teams[901:1001])\n",
    "df_fp9_frames_11 = frames_to_df(not_teams[1001:1088])"
   ]
  },
  {
   "cell_type": "markdown",
   "metadata": {},
   "source": [
    "Now to put all the above dataframes together as one."
   ]
  },
  {
   "cell_type": "code",
   "execution_count": null,
   "metadata": {},
   "outputs": [],
   "source": [
    "df_fp9_frames = pd.concat([df_fp9_frames_01, df_fp9_frames_02, df_fp9_frames_03, df_fp9_frames_03_5, df_fp9_frames_04,\n",
    "          df_fp9_frames_05, df_fp9_frames_06, df_fp9_frames_07, df_fp9_frames_08, df_fp9_frames_08_5,\n",
    "          df_fp9_frames_09, df_fp9_frames_10, df_fp9_frames_11])\n",
    "print(df_fp9_frames.shape)\n",
    "df_fp9_frames.isnull().sum()"
   ]
  },
  {
   "cell_type": "code",
   "execution_count": null,
   "metadata": {},
   "outputs": [],
   "source": []
  },
  {
   "cell_type": "code",
   "execution_count": null,
   "metadata": {},
   "outputs": [],
   "source": []
  },
  {
   "cell_type": "code",
   "execution_count": null,
   "metadata": {},
   "outputs": [],
   "source": []
  },
  {
   "cell_type": "code",
   "execution_count": null,
   "metadata": {
    "scrolled": true
   },
   "outputs": [],
   "source": [
    "1512824 / 10589313"
   ]
  },
  {
   "cell_type": "code",
   "execution_count": null,
   "metadata": {},
   "outputs": [],
   "source": [
    "df_fp9_frames.isnull().mean()"
   ]
  },
  {
   "cell_type": "code",
   "execution_count": null,
   "metadata": {},
   "outputs": [],
   "source": [
    "def frames_to_df_fox(slp_paths):\n",
    "    length = len(slp_paths)\n",
    "    count = 0\n",
    "    \n",
    "    fox_button_dict = {'Trigger Analog':[],'Start': [],'Y': [],'X': [],'B': [],'A': [],'L': [],'R': [],\n",
    "                      'Z': [],'Dpad-Up': [],'Dpad-Down': [],'Dpad-Right': [],'Dpad-Left': []}\n",
    "    \n",
    "    nfox_button_dict = {'Trigger Analog':[],'Start': [],'Y': [],'X': [],'B': [],'A': [],'L': [],'R': [],\n",
    "                      'Z': [],'Dpad-Up': [],'Dpad-Down': [],'Dpad-Right': [],'Dpad-Left': []}\n",
    "    \n",
    "    # foreign key to metadata dataframe\n",
    "    game_id = list()\n",
    "    \n",
    "    # frame index\n",
    "    index = list()\n",
    "    \n",
    "    # feature per frame for fox\n",
    "    fox_combo_count, fox_dmg, fox_direction, \\\n",
    "    fox_last_attack_landed, fox_last_hit_by, fox_position_x, fox_position_y, \\\n",
    "    fox_shield, fox_state, fox_stage_age, fox_stocks, fox_cstick_x, fox_cstick_y, fox_dmg, fox_direction, \\\n",
    "    fox_joystick_x, fox_joystick_y,  fox_position, fox_raw_analog_x, fox_state, fox_state_age = list(), list(), list(), \\\n",
    "    list(), list(), list(), list(), list(), list(), list(), list(), list(), list(), list(), list(), \\\n",
    "    list(), list(), list(), list(), list(), list()\n",
    "    \n",
    "    # feature per frame for not fox\n",
    "    nfox_combo_count, nfox_dmg, nfox_direction, \\\n",
    "    nfox_last_attack_landed, nfox_last_hit_by, nfox_position_x, nfox_position_y, \\\n",
    "    nfox_shield, nfox_state, p2_stage_age, nfox_stocks, nfox_cstick_x, nfox_cstick_y, nfox_dmg, nfox_direction, \\\n",
    "    nfox_joystick_x, nfox_joystick_y, nfox_position, nfox_raw_analog_x, nfox_state, nfox_state_age = list(), list(), list(), \\\n",
    "    list(), list(), list(), list(), list(), list(), list(), list(), list(), list(), list(), list(), \\\n",
    "    list(), list(), list(), list(), list(), list()\n",
    "    \n",
    "    for path in slp_paths:\n",
    "        \n",
    "        curr_gameid = slp_paths[count].split('/')[-1].strip('Game_').strip('.slp')\n",
    "        print(f'Parsing file {count + 1} of {length}')\n",
    "        try:\n",
    "            game = slp.Game(path)\n",
    "        except:\n",
    "            print(f'Skip game {count + 1} of {length}')\n",
    "            continue\n",
    "\n",
    "        # get fox ports and non-fox ports\n",
    "        fox_ports = [df_falco_fd.loc[ident, 'p1_port'] if df_falco_fd.loc[ident, 'p1_char_name'] == 'Fox' else df_falco_fd.loc[ident, 'p2_port'] for ident in df_falco_fd.index]\n",
    "        nfox_ports = [df_falco_fd.loc[ident, 'p1_port'] if df_falco_fd.loc[ident, 'p1_char_name'] != 'Fox' else df_falco_fd.loc[ident, 'p2_port'] for ident in df_falco_fd.index]\n",
    "        \n",
    "        # for each Frame object of all frames in a specific game\n",
    "        frame_length = len(game.frames)\n",
    "        frame_count = 0\n",
    "        for frame in game.frames:\n",
    "            frame_count += 1\n",
    "            print(f'Parsing frame {frame_count} of {frame_length}: {round(frame_count / frame_length * 100, 2)}%', end = '\\r')\n",
    "            game_id.append(curr_gameid)\n",
    "            \n",
    "            index.append(frame.index)\n",
    "            \n",
    "            fox_cstick_x.append(frame.ports[fox_ports[count]].leader.pre.cstick.x)\n",
    "            nfox_cstick_x.append(frame.ports[nfox_ports[count]].leader.pre.cstick.x)\n",
    "\n",
    "            fox_cstick_y.append(frame.ports[fox_ports[count]].leader.pre.cstick.y)\n",
    "            nfox_cstick_y.append(frame.ports[nfox_ports[count]].leader.pre.cstick.y)\n",
    "            \n",
    "            fox_joystick_x.append(frame.ports[fox_ports[count]].leader.pre.joystick.x)\n",
    "            nfox_joystick_x.append(frame.ports[nfox_ports[count]].leader.pre.joystick.x)\n",
    "            \n",
    "            fox_joystick_y.append(frame.ports[fox_ports[count]].leader.pre.joystick.y)\n",
    "            nfox_joystick_y.append(frame.ports[nfox_ports[count]].leader.pre.joystick.y)\n",
    "            \n",
    "            fox_combo_count.append(frame.ports[fox_ports[count]].leader.post.combo_count)\n",
    "            nfox_combo_count.append(frame.ports[nfox_ports[count]].leader.post.combo_count)\n",
    "            \n",
    "            fox_dmg.append(frame.ports[fox_ports[count]].leader.post.damage)\n",
    "            nfox_dmg.append(frame.ports[nfox_ports[count]].leader.post.damage)\n",
    "            \n",
    "            fox_direction.append(frame.ports[fox_ports[count]].leader.post.direction)\n",
    "            nfox_direction.append(frame.ports[nfox_ports[count]].leader.post.direction)\n",
    "            \n",
    "            fox_last_hit_by.append(frame.ports[fox_ports[count]].leader.post.last_hit_by)\n",
    "            nfox_last_hit_by.append(frame.ports[nfox_ports[count]].leader.post.last_hit_by)\n",
    "            \n",
    "            fox_position_x.append(frame.ports[fox_ports[count]].leader.post.position.x)\n",
    "            nfox_position_x.append(frame.ports[nfox_ports[count]].leader.post.position.x)\n",
    "            \n",
    "            fox_position_y.append(frame.ports[fox_ports[count]].leader.post.position.y)\n",
    "            nfox_position_y.append(frame.ports[nfox_ports[count]].leader.post.position.y)\n",
    "            \n",
    "            fox_shield.append(frame.ports[fox_ports[count]].leader.post.shield)\n",
    "            nfox_shield.append(frame.ports[nfox_ports[count]].leader.post.shield)\n",
    "            \n",
    "            fox_state.append(frame.ports[fox_ports[count]].leader.post.state)\n",
    "            nfox_state.append(frame.ports[nfox_ports[count]].leader.post.state)\n",
    "            \n",
    "            fox_state_age.append(frame.ports[fox_ports[count]].leader.post.state_age)\n",
    "            nfox_state_age.append(frame.ports[nfox_ports[count]].leader.post.state_age)\n",
    "            \n",
    "            fox_stocks.append(frame.ports[fox_ports[count]].leader.post.stocks)\n",
    "            nfox_stocks.append(frame.ports[nfox_ports[count]].leader.post.stocks)\n",
    "            \n",
    "            fox_ins = str(frame.ports[fox_ports[count]].leader.pre.buttons.logical).split('.')[1].split('|')\n",
    "            for button in fox_button_dict:\n",
    "                if button in fox_ins:\n",
    "                    fox_button_dict[button].append(1)\n",
    "                else:\n",
    "                    fox_button_dict[button].append(0)\n",
    "            \n",
    "            nfox_ins = str(frame.ports[nfox_ports[count]].leader.pre.buttons.logical).split('.')[1].split('|')\n",
    "            for button in nfox_button_dict:\n",
    "                if button in nfox_ins:\n",
    "                    nfox_button_dict[button].append(1)\n",
    "                else:\n",
    "                    nfox_button_dict[button].append(0)\n",
    "            \n",
    "        count += 1\n",
    "            \n",
    "# p2_airborne, p2_combo_count, p2_dmg, p2_direction, p2_flags, p2_ground, p2_hit_stun, \\\n",
    "# p2_jumps, p2_Lcancel, p2_last_attack_landed, p2_last_hit_by, p2_position, p2_shield, \\\n",
    "# p2_state, p2_stage_age, p2_stocks, p2_cstick, p2_dmg, p2_direction, p2_joystick, \\\n",
    "# p2_position, p2_state\n",
    "\n",
    "    return pd.DataFrame({\n",
    "        'game_id': game_id,\n",
    "        'frame_index': index,\n",
    "        \n",
    "        # p1\n",
    "        'fox_cstick_x': fox_cstick_x,\n",
    "        'fox_cstick_y': fox_cstick_y,\n",
    "        'fox_joystick_x': fox_joystick_x,\n",
    "        'fox_joystick_y': fox_joystick_y,\n",
    "        'fox_trigger_analog': fox_button_dict['Trigger Analog'],\n",
    "        'fox_Start': fox_button_dict['Start'],\n",
    "        'fox_Y': fox_button_dict['Y'],\n",
    "        'fox_X': fox_button_dict['X'],\n",
    "        'fox_B': fox_button_dict['B'],\n",
    "        'fox_A': fox_button_dict['A'],\n",
    "        'fox_L': fox_button_dict['L'],\n",
    "        'fox_R': fox_button_dict['R'],\n",
    "        'fox_Z': fox_button_dict['Z'],\n",
    "        'fox_Dpad_Up': fox_button_dict['Dpad-Up'],\n",
    "        'fox_Dpad_Down': fox_button_dict['Dpad-Down'],\n",
    "        'fox_Dpad_Right': fox_button_dict['Dpad-Right'],\n",
    "        'fox_Dpad_Left': fox_button_dict['Dpad-Left'],\n",
    "        'fox_combo_count': fox_combo_count,\n",
    "        'fox_dmg': fox_dmg,\n",
    "        'fox_direction': fox_direction,\n",
    "        'fox_last_hit_by': fox_last_hit_by,\n",
    "        'fox_position_x': fox_position_x,\n",
    "        'fox_position_y': fox_position_y,\n",
    "        'fox_shield': fox_shield,\n",
    "        'fox_state': fox_state,\n",
    "        'fox_state_age': fox_state_age,\n",
    "        'fox_stocks': fox_stocks,\n",
    "        \n",
    "        # p2\n",
    "        'nfox_cstick_x': nfox_cstick_x,\n",
    "        'nfox_cstick_y': nfox_cstick_y,\n",
    "        'nfox_joystick_x': nfox_joystick_x,\n",
    "        'nfox_joystick_y': nfox_joystick_y,\n",
    "        'nfox_trigger_analog': nfox_button_dict['Trigger Analog'],\n",
    "        'nfox_Start': nfox_button_dict['Start'],\n",
    "        'nfox_Y': nfox_button_dict['Y'],\n",
    "        'nfox_X': nfox_button_dict['X'],\n",
    "        'nfox_B': nfox_button_dict['B'],\n",
    "        'nfox_A': nfox_button_dict['A'],\n",
    "        'nfox_L': nfox_button_dict['L'],\n",
    "        'nfox_R': nfox_button_dict['R'],\n",
    "        'nfox_Z': nfox_button_dict['Z'],\n",
    "        'nfox_Dpad_Up': nfox_button_dict['Dpad-Up'],\n",
    "        'nfox_Dpad_Down': nfox_button_dict['Dpad-Down'],\n",
    "        'nfox_Dpad_Right': nfox_button_dict['Dpad-Right'],\n",
    "        'nfox_Dpad_Left': nfox_button_dict['Dpad-Left'],\n",
    "        'nfox_combo_count': nfox_combo_count,\n",
    "        'nfox_dmg': nfox_dmg,\n",
    "        'nfox_direction': nfox_direction,\n",
    "        'nfox_last_hit_by': nfox_last_hit_by,\n",
    "        'nfox_position_x': nfox_position_x,\n",
    "        'nfox_position_y': nfox_position_y,\n",
    "        'nfox_shield': nfox_shield,\n",
    "        'nfox_state': nfox_state,\n",
    "        'nfox_state_age': nfox_state_age,\n",
    "        'nfox_stocks': nfox_stocks\n",
    "    })"
   ]
  },
  {
   "cell_type": "code",
   "execution_count": null,
   "metadata": {
    "scrolled": true
   },
   "outputs": [],
   "source": [
    "test = frames_to_df_fox(falco_fd_games[:3])\n",
    "test.head()"
   ]
  },
  {
   "cell_type": "code",
   "execution_count": null,
   "metadata": {
    "scrolled": true
   },
   "outputs": [],
   "source": [
    "test.shape"
   ]
  },
  {
   "cell_type": "code",
   "execution_count": null,
   "metadata": {},
   "outputs": [],
   "source": [
    "test.isnull().sum()"
   ]
  },
  {
   "cell_type": "markdown",
   "metadata": {},
   "source": [
    "[This shows all the unique state values of each character](https://docs.google.com/spreadsheets/d/1Nu3hSc1U6apOhU4JIJaWRC4Lj0S1inN8BFsq3Y8cFjI/preview#gid=1072939422)"
   ]
  },
  {
   "cell_type": "markdown",
   "metadata": {},
   "source": [
    "Values 341 to 375 need to be altered so that they are represented as their own unique values. Since there are 382 action states that are applicable to all characters, then we must get Fox's action state value of 341 to change to 383 and Fox's action state value of 375 to 417. In short, values within the range of $[341, 375]$ must have 42 added to themselves."
   ]
  },
  {
   "cell_type": "code",
   "execution_count": null,
   "metadata": {
    "scrolled": true
   },
   "outputs": [],
   "source": [
    "test['fox_state'] = test['fox_state'].map(lambda val: val if (val < 341) or (val > 375) else val + 42)"
   ]
  },
  {
   "cell_type": "code",
   "execution_count": null,
   "metadata": {},
   "outputs": [],
   "source": [
    "set(test['fox_state'].values)"
   ]
  },
  {
   "cell_type": "markdown",
   "metadata": {},
   "source": [
    "The largest action state value is 411, this is okay because the values that we expect to be $[412, 417]$ are the action states of Fox's taunt. These are generally not used because taunting in competitive play is poor sportsmanship. Although there are niche scenarios in which taunting is beneficial in combat, it is not a frequent tactic in the current metagame as far as I know.(Refering to KJH's taunt-downsmash edgegaurd on Marth's)."
   ]
  },
  {
   "cell_type": "markdown",
   "metadata": {},
   "source": [
    "Now the same idea must be applied for Falco. Now that Fox's unique states bring the number of total action states to 417, then Falco's unique state values within the range of $[341, 375]$ should become $[418, 452]$. This is done by adding 77 to each of Falco's unique animation states.\n",
    "\n",
    "It should be noted that although Fox and Falco have nearly identical animations, the properties of each attack's hitbox's are different."
   ]
  },
  {
   "cell_type": "code",
   "execution_count": null,
   "metadata": {},
   "outputs": [],
   "source": [
    "test['nfox_state'] = test['nfox_state'].map(lambda val: val if (val < 341) or (val > 375) else val + 77)"
   ]
  },
  {
   "cell_type": "code",
   "execution_count": null,
   "metadata": {},
   "outputs": [],
   "source": [
    "test"
   ]
  },
  {
   "cell_type": "code",
   "execution_count": null,
   "metadata": {},
   "outputs": [],
   "source": [
    "foo = [0,1,2,3,4]\n",
    "foo[:5]"
   ]
  },
  {
   "cell_type": "code",
   "execution_count": null,
   "metadata": {},
   "outputs": [],
   "source": [
    "df_fp9_frames.drop(columns = ['p1_Lcancel', 'p2_Lcancel'], inplace = True)"
   ]
  },
  {
   "cell_type": "code",
   "execution_count": null,
   "metadata": {},
   "outputs": [],
   "source": [
    "df_fp9_frames.shape"
   ]
  },
  {
   "cell_type": "code",
   "execution_count": null,
   "metadata": {},
   "outputs": [],
   "source": [
    "df_fp9_frames.shape"
   ]
  },
  {
   "cell_type": "code",
   "execution_count": null,
   "metadata": {},
   "outputs": [],
   "source": [
    "df_ff_frames = frames_to_df_fox(falco_fd_games)"
   ]
  },
  {
   "cell_type": "code",
   "execution_count": null,
   "metadata": {},
   "outputs": [],
   "source": [
    "df_ff_frames.to_csv('../data/fp9_frames.csv')"
   ]
  },
  {
   "cell_type": "code",
   "execution_count": null,
   "metadata": {
    "scrolled": false
   },
   "outputs": [],
   "source": [
    "df_ff_frames.shape[0] == sum(df_falco_fd['duration'])"
   ]
  },
  {
   "cell_type": "code",
   "execution_count": null,
   "metadata": {},
   "outputs": [],
   "source": [
    "df_ff_frames['fox_state'] = df_ff_frames['fox_state'].map(lambda val: val if (val < 341) or (val > 375) else val + 42)"
   ]
  },
  {
   "cell_type": "code",
   "execution_count": null,
   "metadata": {},
   "outputs": [],
   "source": [
    "df_ff_frames['nfox_state'] = df_ff_frames['nfox_state'].map(lambda val: val if (val < 341) or (val > 375) else val + 77)"
   ]
  },
  {
   "cell_type": "code",
   "execution_count": null,
   "metadata": {},
   "outputs": [],
   "source": [
    "df_ff_frames.reset_index(inplace = True, drop = True)"
   ]
  },
  {
   "cell_type": "code",
   "execution_count": null,
   "metadata": {},
   "outputs": [],
   "source": [
    "df_ff_frames.columns"
   ]
  },
  {
   "cell_type": "code",
   "execution_count": null,
   "metadata": {},
   "outputs": [],
   "source": [
    "set(df_ff_frames['nfox_trigger_analog'].values)"
   ]
  },
  {
   "cell_type": "code",
   "execution_count": null,
   "metadata": {},
   "outputs": [],
   "source": [
    "set(df_ff_frames['fox_trigger_analog'].values)"
   ]
  },
  {
   "cell_type": "code",
   "execution_count": null,
   "metadata": {},
   "outputs": [],
   "source": [
    "set(df_ff_frames['fox_Start'].values)"
   ]
  },
  {
   "cell_type": "code",
   "execution_count": null,
   "metadata": {},
   "outputs": [],
   "source": [
    "set(df_ff_frames['nfox_Start'].values)"
   ]
  },
  {
   "cell_type": "code",
   "execution_count": null,
   "metadata": {},
   "outputs": [],
   "source": [
    "set(df_ff_frames['nfox_Dpad_Up'].values)"
   ]
  },
  {
   "cell_type": "code",
   "execution_count": null,
   "metadata": {},
   "outputs": [],
   "source": [
    "set(df_ff_frames['nfox_Dpad_Down'].values)"
   ]
  },
  {
   "cell_type": "code",
   "execution_count": null,
   "metadata": {},
   "outputs": [],
   "source": [
    "set(df_ff_frames['nfox_Dpad_Left'].values)"
   ]
  },
  {
   "cell_type": "code",
   "execution_count": null,
   "metadata": {},
   "outputs": [],
   "source": [
    "set(df_ff_frames['nfox_Dpad_Right'].values)"
   ]
  },
  {
   "cell_type": "code",
   "execution_count": null,
   "metadata": {},
   "outputs": [],
   "source": [
    "set(df_ff_frames['fox_Dpad_Up'].values)"
   ]
  },
  {
   "cell_type": "code",
   "execution_count": null,
   "metadata": {},
   "outputs": [],
   "source": [
    "set(df_ff_frames['fox_Dpad_Down'].values)"
   ]
  },
  {
   "cell_type": "code",
   "execution_count": null,
   "metadata": {},
   "outputs": [],
   "source": [
    "set(df_ff_frames['fox_Dpad_Left'].values)"
   ]
  },
  {
   "cell_type": "code",
   "execution_count": null,
   "metadata": {},
   "outputs": [],
   "source": [
    "set(df_ff_frames['fox_Dpad_Right'].values)"
   ]
  },
  {
   "cell_type": "code",
   "execution_count": null,
   "metadata": {},
   "outputs": [],
   "source": [
    "set(df_ff_frames['fox_stocks'].values)"
   ]
  },
  {
   "cell_type": "code",
   "execution_count": null,
   "metadata": {},
   "outputs": [],
   "source": [
    "df_ff_frames.drop(columns = ['fox_trigger_analog', 'nfox_trigger_analog', 'fox_Start', 'nfox_Start',\n",
    "                             'fox_Dpad_Up', 'fox_Dpad_Down', 'fox_Dpad_Left', 'fox_Dpad_Right', 'nfox_Dpad_Up',\n",
    "                            'nfox_Dpad_Down', 'nfox_Dpad_Left', 'nfox_Dpad_Right'], inplace = True)"
   ]
  },
  {
   "cell_type": "code",
   "execution_count": null,
   "metadata": {},
   "outputs": [],
   "source": [
    "df_ff_frames"
   ]
  },
  {
   "cell_type": "markdown",
   "metadata": {},
   "source": [
    "Map all missed tech action states to a single value"
   ]
  },
  {
   "cell_type": "code",
   "execution_count": null,
   "metadata": {},
   "outputs": [],
   "source": [
    "missed_tech = [183, 188, 189, 191, 196, 197]"
   ]
  },
  {
   "cell_type": "code",
   "execution_count": null,
   "metadata": {},
   "outputs": [],
   "source": [
    "df_ff_frames['fox_state'] = df_ff_frames['fox_state'].apply(lambda val: val if val not in missed_tech else 999)\n",
    "df_ff_frames.head()"
   ]
  },
  {
   "cell_type": "code",
   "execution_count": null,
   "metadata": {},
   "outputs": [],
   "source": [
    "df_ff_frames.loc[df_ff_frames['fox_state'] == 999]"
   ]
  },
  {
   "cell_type": "code",
   "execution_count": null,
   "metadata": {},
   "outputs": [],
   "source": [
    "df_ff_frames.loc[df_ff_frames['fox_state'] == 199]"
   ]
  },
  {
   "cell_type": "code",
   "execution_count": null,
   "metadata": {},
   "outputs": [],
   "source": [
    "df_ff_frames.loc[df_ff_frames['fox_state'] == 200]"
   ]
  },
  {
   "cell_type": "code",
   "execution_count": null,
   "metadata": {},
   "outputs": [],
   "source": [
    "df_ff_frames.loc[df_ff_frames['fox_state'] == 201]"
   ]
  },
  {
   "cell_type": "code",
   "execution_count": null,
   "metadata": {},
   "outputs": [],
   "source": [
    "set(df_ff_frames['fox_state'])"
   ]
  },
  {
   "cell_type": "code",
   "execution_count": null,
   "metadata": {},
   "outputs": [],
   "source": []
  },
  {
   "cell_type": "code",
   "execution_count": null,
   "metadata": {},
   "outputs": [],
   "source": []
  },
  {
   "cell_type": "code",
   "execution_count": null,
   "metadata": {},
   "outputs": [],
   "source": []
  },
  {
   "cell_type": "code",
   "execution_count": null,
   "metadata": {},
   "outputs": [],
   "source": []
  },
  {
   "cell_type": "code",
   "execution_count": null,
   "metadata": {},
   "outputs": [],
   "source": []
  },
  {
   "cell_type": "code",
   "execution_count": null,
   "metadata": {},
   "outputs": [],
   "source": []
  },
  {
   "cell_type": "code",
   "execution_count": null,
   "metadata": {},
   "outputs": [],
   "source": []
  },
  {
   "cell_type": "code",
   "execution_count": null,
   "metadata": {},
   "outputs": [],
   "source": []
  },
  {
   "cell_type": "code",
   "execution_count": null,
   "metadata": {},
   "outputs": [],
   "source": []
  },
  {
   "cell_type": "code",
   "execution_count": null,
   "metadata": {},
   "outputs": [],
   "source": []
  },
  {
   "cell_type": "code",
   "execution_count": null,
   "metadata": {},
   "outputs": [],
   "source": [
    "df_ff_frames.loc[df_ff_frames['fox_state'] == 199, ['game_id', 'frame_index', 'fox_state']].head()"
   ]
  },
  {
   "cell_type": "code",
   "execution_count": null,
   "metadata": {},
   "outputs": [],
   "source": []
  },
  {
   "cell_type": "code",
   "execution_count": null,
   "metadata": {},
   "outputs": [],
   "source": []
  },
  {
   "cell_type": "code",
   "execution_count": null,
   "metadata": {},
   "outputs": [],
   "source": []
  },
  {
   "cell_type": "code",
   "execution_count": null,
   "metadata": {},
   "outputs": [],
   "source": []
  },
  {
   "cell_type": "code",
   "execution_count": null,
   "metadata": {},
   "outputs": [],
   "source": []
  },
  {
   "cell_type": "code",
   "execution_count": null,
   "metadata": {},
   "outputs": [],
   "source": []
  },
  {
   "cell_type": "code",
   "execution_count": null,
   "metadata": {},
   "outputs": [],
   "source": []
  },
  {
   "cell_type": "code",
   "execution_count": null,
   "metadata": {},
   "outputs": [],
   "source": []
  },
  {
   "cell_type": "code",
   "execution_count": null,
   "metadata": {},
   "outputs": [],
   "source": []
  },
  {
   "cell_type": "markdown",
   "metadata": {},
   "source": [
    "## Extracting Frame Data from Games "
   ]
  },
  {
   "cell_type": "code",
   "execution_count": null,
   "metadata": {},
   "outputs": [],
   "source": [
    "fight_pitt_9[215]"
   ]
  },
  {
   "cell_type": "code",
   "execution_count": null,
   "metadata": {},
   "outputs": [],
   "source": []
  },
  {
   "cell_type": "code",
   "execution_count": null,
   "metadata": {},
   "outputs": [],
   "source": [
    "game = slp.Game(fight_pitt_9[215])\n",
    "game.metadata.duration"
   ]
  },
  {
   "cell_type": "code",
   "execution_count": null,
   "metadata": {},
   "outputs": [],
   "source": [
    "frames = game.frames\n",
    "frames"
   ]
  },
  {
   "cell_type": "code",
   "execution_count": null,
   "metadata": {},
   "outputs": [],
   "source": [
    "frames[0].ports[2].leader.post.state"
   ]
  },
  {
   "cell_type": "code",
   "execution_count": null,
   "metadata": {},
   "outputs": [],
   "source": [
    "frames[60].ports[2].leader.pre.buttons"
   ]
  },
  {
   "cell_type": "code",
   "execution_count": null,
   "metadata": {},
   "outputs": [],
   "source": [
    "frames[60].ports[2].leader.pre.triggers"
   ]
  },
  {
   "cell_type": "code",
   "execution_count": null,
   "metadata": {},
   "outputs": [],
   "source": []
  },
  {
   "cell_type": "code",
   "execution_count": null,
   "metadata": {},
   "outputs": [],
   "source": [
    "# def remove_init_frames(game):\n",
    "#     return [frame for frame in frames if frame.index >= 0]"
   ]
  },
  {
   "cell_type": "code",
   "execution_count": null,
   "metadata": {},
   "outputs": [],
   "source": [
    "# frames = remove_init_frames(game)"
   ]
  },
  {
   "cell_type": "markdown",
   "metadata": {},
   "source": [
    "### Index"
   ]
  },
  {
   "cell_type": "code",
   "execution_count": null,
   "metadata": {},
   "outputs": [],
   "source": [
    "frames[0].index"
   ]
  },
  {
   "cell_type": "markdown",
   "metadata": {},
   "source": [
    "## Player 1 Information\n",
    "\n",
    "### Direction"
   ]
  },
  {
   "cell_type": "code",
   "execution_count": null,
   "metadata": {},
   "outputs": [],
   "source": []
  },
  {
   "cell_type": "code",
   "execution_count": null,
   "metadata": {},
   "outputs": [],
   "source": [
    "frames[0].ports[3]"
   ]
  },
  {
   "cell_type": "markdown",
   "metadata": {},
   "source": [
    "### "
   ]
  },
  {
   "cell_type": "code",
   "execution_count": null,
   "metadata": {},
   "outputs": [],
   "source": [
    "for i in range(len(frames)):\n",
    "    if frames[i].ports[3].leader.post.state == 191:\n",
    "        print(i)\n",
    "        print(frames[i].ports[3].leader.post.state)\n",
    "        print()"
   ]
  },
  {
   "cell_type": "code",
   "execution_count": null,
   "metadata": {},
   "outputs": [],
   "source": [
    "frames[0].ports"
   ]
  },
  {
   "cell_type": "code",
   "execution_count": null,
   "metadata": {},
   "outputs": [],
   "source": [
    "frames[0].ports[df_falco_fd.loc[213, 'p1_port']]"
   ]
  },
  {
   "cell_type": "code",
   "execution_count": null,
   "metadata": {},
   "outputs": [],
   "source": [
    "ic_game = slp.Game(fight_pitt_9[0])"
   ]
  },
  {
   "cell_type": "code",
   "execution_count": null,
   "metadata": {},
   "outputs": [],
   "source": [
    "ic_game.frames[0].ports[0]"
   ]
  },
  {
   "cell_type": "code",
   "execution_count": null,
   "metadata": {},
   "outputs": [],
   "source": [
    "ic_game.start"
   ]
  },
  {
   "cell_type": "code",
   "execution_count": null,
   "metadata": {},
   "outputs": [],
   "source": [
    "for i in ic_game.frames[200:300]:\n",
    "    print(i.ports[3].leader.pre.buttons)"
   ]
  },
  {
   "cell_type": "code",
   "execution_count": null,
   "metadata": {},
   "outputs": [],
   "source": [
    "ic_game.frames[300].ports[3].leader.pre.buttons"
   ]
  },
  {
   "cell_type": "code",
   "execution_count": null,
   "metadata": {},
   "outputs": [],
   "source": [
    "df_fp9.loc[df_fp9['p1_char_name'] == 'Ice Climbers']"
   ]
  },
  {
   "cell_type": "code",
   "execution_count": null,
   "metadata": {},
   "outputs": [],
   "source": [
    "df_falco_fd.loc[213, 'p1_port']"
   ]
  },
  {
   "cell_type": "markdown",
   "metadata": {},
   "source": [
    "### Get active ports"
   ]
  },
  {
   "cell_type": "markdown",
   "metadata": {},
   "source": [
    "This will be taken from the df_falco_fd or df_marth_fd dataframe."
   ]
  },
  {
   "cell_type": "code",
   "execution_count": null,
   "metadata": {},
   "outputs": [],
   "source": [
    "df_falco_fd.head()"
   ]
  },
  {
   "cell_type": "code",
   "execution_count": null,
   "metadata": {},
   "outputs": [],
   "source": [
    "df_falco_fd.loc[213, 'p1_port']"
   ]
  },
  {
   "cell_type": "code",
   "execution_count": null,
   "metadata": {},
   "outputs": [],
   "source": [
    "df_falco_fd.loc[213, 'p2_port']"
   ]
  },
  {
   "cell_type": "code",
   "execution_count": null,
   "metadata": {},
   "outputs": [],
   "source": []
  },
  {
   "cell_type": "code",
   "execution_count": null,
   "metadata": {
    "scrolled": true
   },
   "outputs": [],
   "source": [
    "frames[0].ports[0]"
   ]
  },
  {
   "cell_type": "code",
   "execution_count": null,
   "metadata": {},
   "outputs": [],
   "source": [
    "frames[0].ports[3].leader.post.position"
   ]
  },
  {
   "cell_type": "code",
   "execution_count": null,
   "metadata": {},
   "outputs": [],
   "source": [
    "frames[0]"
   ]
  },
  {
   "cell_type": "code",
   "execution_count": null,
   "metadata": {},
   "outputs": [],
   "source": []
  },
  {
   "cell_type": "code",
   "execution_count": null,
   "metadata": {},
   "outputs": [],
   "source": []
  },
  {
   "cell_type": "code",
   "execution_count": null,
   "metadata": {},
   "outputs": [],
   "source": []
  },
  {
   "cell_type": "code",
   "execution_count": null,
   "metadata": {},
   "outputs": [],
   "source": []
  },
  {
   "cell_type": "code",
   "execution_count": null,
   "metadata": {},
   "outputs": [],
   "source": []
  },
  {
   "cell_type": "code",
   "execution_count": null,
   "metadata": {},
   "outputs": [],
   "source": [
    "game.metadata.duration"
   ]
  },
  {
   "cell_type": "code",
   "execution_count": null,
   "metadata": {},
   "outputs": [],
   "source": []
  },
  {
   "cell_type": "code",
   "execution_count": null,
   "metadata": {},
   "outputs": [],
   "source": [
    "test_game.start"
   ]
  },
  {
   "cell_type": "code",
   "execution_count": null,
   "metadata": {},
   "outputs": [],
   "source": [
    "frame = test_game.frames[0]\n",
    "frame"
   ]
  },
  {
   "cell_type": "code",
   "execution_count": null,
   "metadata": {},
   "outputs": [],
   "source": [
    "frame.ports[0].leader.post"
   ]
  },
  {
   "cell_type": "code",
   "execution_count": null,
   "metadata": {},
   "outputs": [],
   "source": [
    "frame.ports[0].leader.pre"
   ]
  },
  {
   "cell_type": "code",
   "execution_count": null,
   "metadata": {},
   "outputs": [],
   "source": [
    "frame.ports[0].leader.post."
   ]
  },
  {
   "cell_type": "code",
   "execution_count": null,
   "metadata": {},
   "outputs": [],
   "source": [
    "pd.Series({})"
   ]
  },
  {
   "cell_type": "code",
   "execution_count": null,
   "metadata": {},
   "outputs": [],
   "source": [
    "frame.index"
   ]
  },
  {
   "cell_type": "code",
   "execution_count": null,
   "metadata": {},
   "outputs": [],
   "source": [
    "len(other_game.frames)"
   ]
  },
  {
   "cell_type": "code",
   "execution_count": null,
   "metadata": {},
   "outputs": [],
   "source": [
    "count = 0\n",
    "for i in range(len(other_game.frames)):\n",
    "    if other_game.frames[i].ports[1].leader.post.last_attack_landed != None:\n",
    "#         print(other_game.frames[i].ports[1].leader.post)\n",
    "        count += 1\n",
    "print(count)"
   ]
  },
  {
   "cell_type": "code",
   "execution_count": null,
   "metadata": {},
   "outputs": [],
   "source": [
    "frame.ports"
   ]
  },
  {
   "cell_type": "markdown",
   "metadata": {},
   "source": [
    "```python\n",
    "def metadata_to_df(slp_paths):\n",
    "    '''\n",
    "    Of a collection of games, store the metadata as a dataframe.\n",
    "    \n",
    "    slp_paths (list): each value is the file path to games\n",
    "    returns a dataframe\n",
    "    '''\n",
    "    dates, durations, plats, p1_ports, p1_chars, p2_ports, p2_chars = list(), list(), list(), list(), list(), list(), list()\n",
    "    if len(slp_paths) == 1:\n",
    "        game = slp.Game(slp_paths[0])\n",
    "        ports = [game.metadata.players.index(port) for port in game.metadata.players if port != None]\n",
    "        characters = [char for port in ports for char in game.metadata.players[port].characters]\n",
    "        try:\n",
    "            return pd.Series({\n",
    "                'date': game.metadata.date,\n",
    "                'duration': game.metadata.duration,\n",
    "                'platform': game.metadata.platform,\n",
    "                'p1_port': ports[0],\n",
    "                'p1_char': characters[0],\n",
    "                'p2_port': ports[1],\n",
    "                'p2_char': characters[1]\n",
    "            })\n",
    "        except:\n",
    "            return pd.Series({\n",
    "                'date': game.metadata.date,\n",
    "                'duration': game.metadata.duration,\n",
    "                'platform': game.metadata.platform,\n",
    "                'p1_port': '',\n",
    "                'p1_char': '',\n",
    "                'p2_port': '',\n",
    "                'p2_char': ''\n",
    "            })\n",
    "    else:\n",
    "        for path in slp_paths:\n",
    "            try:\n",
    "                game = slp.Game(path)\n",
    "            except:\n",
    "                continue\n",
    "            dates.append(game.metadata.date)\n",
    "            durations.append(game.metadata.duration)\n",
    "            plats.append(game.metadata.platform)\n",
    "\n",
    "            # get active ports\n",
    "            ports = [game.metadata.players.index(port) for port in game.metadata.players if port != None]\n",
    "            try:\n",
    "                p1_ports.append(ports[0])\n",
    "                p2_ports.append(ports[1])\n",
    "            except:\n",
    "                p1_ports.append('')\n",
    "                p2_ports.append('')\n",
    "\n",
    "            # get characters\n",
    "            characters = [char for port in ports for char in game.metadata.players[port].characters]\n",
    "            try:\n",
    "                p1_chars.append(characters[0])\n",
    "                p2_chars.append(characters[1])\n",
    "            except:\n",
    "                p1_chars.append('')\n",
    "                p2_chars.append('')\n",
    "        return pd.DataFrame(data = {\n",
    "                'date': dates,\n",
    "                'duration': durations,\n",
    "                'platform': plats,\n",
    "                'p1_port': p1_ports,\n",
    "                'p1_char': p1_chars,\n",
    "                'p2_port': p2_ports,\n",
    "                'p2_char': p2_chars\n",
    "            })\n",
    "    return None```"
   ]
  },
  {
   "cell_type": "code",
   "execution_count": null,
   "metadata": {},
   "outputs": [],
   "source": [
    "slp.Game(fight_pitt_9[0]).start"
   ]
  },
  {
   "cell_type": "code",
   "execution_count": null,
   "metadata": {},
   "outputs": [],
   "source": [
    "df_fp9.tail()"
   ]
  },
  {
   "cell_type": "markdown",
   "metadata": {},
   "source": [
    "### Data Dictionary\n",
    "\n"
   ]
  },
  {
   "cell_type": "markdown",
   "metadata": {},
   "source": [
    "I want each row to be a single frame. Columns will be\n",
    "- binary controller inputs: A, B, X, Y, Z, Directional Pad, Start.\n",
    "- Continuous(?) inputs from 0 to 1: L and R\n",
    "- Continuous(?) inputs from -1 to 1 on each axis: Analog stick and C-stick\n",
    "- stage (`game.start.stage`)\n",
    "- position of selected player (`game.frames[n].ports[m].leader.pre.position`)\n",
    "- direction the selected player is facing (\n",
    "\n",
    "Do I want a dataframe per player per game?\n",
    "\n",
    "Do I want to use pre-frame or post-frame information?\n",
    "\n"
   ]
  },
  {
   "cell_type": "code",
   "execution_count": null,
   "metadata": {},
   "outputs": [],
   "source": [
    "slp.id.ActionState.ENTRY_START"
   ]
  },
  {
   "cell_type": "code",
   "execution_count": null,
   "metadata": {},
   "outputs": [],
   "source": []
  },
  {
   "cell_type": "code",
   "execution_count": null,
   "metadata": {},
   "outputs": [],
   "source": [
    "def after_entry(game):\n",
    "    for frame in game.frames:\n",
    "        if frame.ports[1].leader.pre.state != slp.id.ActionState.ENTRY_START \\\n",
    "        and frame.ports[1].leader.pre.state != slp.id.ActionState.ENTRY_END \\\n",
    "        and frame.ports[1].leader.pre.state != slp.id.ActionState.ENTRY:\n",
    "            return frame\n",
    "after_entry(game).ports[0].leader.pre.state"
   ]
  },
  {
   "cell_type": "code",
   "execution_count": null,
   "metadata": {},
   "outputs": [],
   "source": [
    "game.frames[0].ports[1].leader.pre.state"
   ]
  },
  {
   "cell_type": "code",
   "execution_count": null,
   "metadata": {},
   "outputs": [],
   "source": [
    "game.frames[20].ports[1].leader.pre.state"
   ]
  },
  {
   "cell_type": "code",
   "execution_count": null,
   "metadata": {},
   "outputs": [],
   "source": [
    "game.frames[0].ports[1].leader.pre.position"
   ]
  },
  {
   "cell_type": "code",
   "execution_count": null,
   "metadata": {},
   "outputs": [],
   "source": [
    "game.frames[2354].ports[1].leader.pre.buttons"
   ]
  },
  {
   "cell_type": "code",
   "execution_count": null,
   "metadata": {},
   "outputs": [],
   "source": [
    "game.frames[0].ports[1].leader.pre.buttons"
   ]
  },
  {
   "cell_type": "code",
   "execution_count": null,
   "metadata": {},
   "outputs": [],
   "source": [
    "game.frames[0].ports[1].leader.post"
   ]
  },
  {
   "cell_type": "code",
   "execution_count": null,
   "metadata": {},
   "outputs": [],
   "source": [
    "game.frames[0]"
   ]
  },
  {
   "cell_type": "code",
   "execution_count": null,
   "metadata": {},
   "outputs": [],
   "source": [
    "frame_index = [frame.index for frame in frames]"
   ]
  },
  {
   "cell_type": "code",
   "execution_count": null,
   "metadata": {},
   "outputs": [],
   "source": [
    "frames[0].ports"
   ]
  },
  {
   "cell_type": "code",
   "execution_count": null,
   "metadata": {
    "scrolled": true
   },
   "outputs": [],
   "source": [
    "for frame in game.frames:\n",
    "    data = frame.ports[0].leader # see also: port.follower (ICs)\n",
    "    print(data.post.state) # character's post-frame action state"
   ]
  },
  {
   "cell_type": "code",
   "execution_count": null,
   "metadata": {},
   "outputs": [],
   "source": []
  },
  {
   "cell_type": "code",
   "execution_count": null,
   "metadata": {},
   "outputs": [],
   "source": []
  },
  {
   "cell_type": "code",
   "execution_count": null,
   "metadata": {},
   "outputs": [],
   "source": [
    "game.frames[700].ports[0].leader.post.ground"
   ]
  },
  {
   "cell_type": "code",
   "execution_count": null,
   "metadata": {},
   "outputs": [],
   "source": [
    "for i in range(len(game.frames)):\n",
    "    if game.frames[i].ports[3].leader.post.ground != None:\n",
    "        print(i)"
   ]
  },
  {
   "cell_type": "code",
   "execution_count": null,
   "metadata": {},
   "outputs": [],
   "source": []
  },
  {
   "cell_type": "code",
   "execution_count": null,
   "metadata": {},
   "outputs": [],
   "source": []
  },
  {
   "cell_type": "code",
   "execution_count": null,
   "metadata": {},
   "outputs": [],
   "source": []
  },
  {
   "cell_type": "code",
   "execution_count": null,
   "metadata": {},
   "outputs": [],
   "source": []
  },
  {
   "cell_type": "code",
   "execution_count": null,
   "metadata": {},
   "outputs": [],
   "source": []
  },
  {
   "cell_type": "code",
   "execution_count": null,
   "metadata": {},
   "outputs": [],
   "source": []
  },
  {
   "cell_type": "markdown",
   "metadata": {},
   "source": [
    "<a id='terms'></a>\n",
    "## Terminology\n",
    "- Melee (noun): Shorthand for Super Smash Bros. Melee\n",
    "- Stock (noun): A single unit of character lives. When a character runs out of stocks, then they lose the game.\n",
    "- Frame (noun): A single unit of time for animation. In this case, there are 60 frames per second.\n",
    "    - If a video is a collection of images being shown sequentially at a specified rate, then a single image is a frame.\n",
    "- Hurtbox (noun): An invisible shape that contours the visible character model. Allows interaction between various elements of the game such as hitboxes.\n",
    "- Hitbox (noun): An invisible shape that, when collided with an opponent's hurtbox, the game registers a hit.\n",
    "- Mixup (noun): Changing one's pattern of fighting to be unpredictable and gain advantage over the opponent.\n",
    "- Fox (noun): A playable character in Super Smash Bros. Melee.\n",
    "- Marth (noun): \n",
    "- Stage (noun): The stage the characters are fighting on.\n",
    "- Blast Zone (noun): Outer perimeter of the stage. When a character crosses over the perimeter, then that character loses a stock.\n",
    "- Tech (verb): When a character is launched towards a surface, they can press either L or R triggers within 20 frames of colliding with the surface in order to be able to retaliate faster than if one were to not tech.\n",
    "    - When teching on the ground, a character can tech in place, tech-roll left, tech-roll right, or not tech at all.\n",
    "![tech-example](../images/tech.gif) <center>Example of a neutral tech or tech in-place</center>"
   ]
  },
  {
   "cell_type": "code",
   "execution_count": null,
   "metadata": {},
   "outputs": [],
   "source": [
    "avg inputs per second fox n marth,\n",
    "kd ratio fox vs marth, \n",
    "w/l ratio fox vs marth,\n",
    "avg damage per stock fox vs marth,\n",
    "\n",
    "\n",
    "WHEN MODELING\n",
    "try sklearn.model_selection.RandomizedSearchCV"
   ]
  }
 ],
 "metadata": {
  "kernelspec": {
   "display_name": "Python 3",
   "language": "python",
   "name": "python3"
  },
  "language_info": {
   "codemirror_mode": {
    "name": "ipython",
    "version": 3
   },
   "file_extension": ".py",
   "mimetype": "text/x-python",
   "name": "python",
   "nbconvert_exporter": "python",
   "pygments_lexer": "ipython3",
   "version": "3.7.5"
  },
  "toc": {
   "base_numbering": 1,
   "nav_menu": {},
   "number_sections": true,
   "sideBar": true,
   "skip_h1_title": false,
   "title_cell": "Table of Contents",
   "title_sidebar": "Contents",
   "toc_cell": false,
   "toc_position": {},
   "toc_section_display": true,
   "toc_window_display": true
  },
  "varInspector": {
   "cols": {
    "lenName": 16,
    "lenType": 16,
    "lenVar": 40
   },
   "kernels_config": {
    "python": {
     "delete_cmd_postfix": "",
     "delete_cmd_prefix": "del ",
     "library": "var_list.py",
     "varRefreshCmd": "print(var_dic_list())"
    },
    "r": {
     "delete_cmd_postfix": ") ",
     "delete_cmd_prefix": "rm(",
     "library": "var_list.r",
     "varRefreshCmd": "cat(var_dic_list()) "
    }
   },
   "types_to_exclude": [
    "module",
    "function",
    "builtin_function_or_method",
    "instance",
    "_Feature"
   ],
   "window_display": false
  }
 },
 "nbformat": 4,
 "nbformat_minor": 2
}
