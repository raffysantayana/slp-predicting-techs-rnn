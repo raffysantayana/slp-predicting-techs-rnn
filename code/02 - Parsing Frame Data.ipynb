{
 "cells": [
  {
   "cell_type": "markdown",
   "metadata": {},
   "source": [
    "# Converting Slippi to a DataFrame: The Frames\n",
    "## Table of Contents\n",
    "1. [Imports](#import)\n",
    "2. [Reading in Metadata](#metadata)\n",
    "\n",
    "<a id = 'import'></a>\n",
    "## Imports"
   ]
  },
  {
   "cell_type": "code",
   "execution_count": 1,
   "metadata": {},
   "outputs": [],
   "source": [
    "import pandas as pd\n",
    "import numpy as np\n",
    "import slippi as slp\n",
    "import os"
   ]
  },
  {
   "cell_type": "markdown",
   "metadata": {},
   "source": [
    "<a id = 'metadata'></a>\n",
    "## Reading in MetaData"
   ]
  },
  {
   "cell_type": "code",
   "execution_count": 2,
   "metadata": {},
   "outputs": [
    {
     "data": {
      "text/html": [
       "<div>\n",
       "<style scoped>\n",
       "    .dataframe tbody tr th:only-of-type {\n",
       "        vertical-align: middle;\n",
       "    }\n",
       "\n",
       "    .dataframe tbody tr th {\n",
       "        vertical-align: top;\n",
       "    }\n",
       "\n",
       "    .dataframe thead th {\n",
       "        text-align: right;\n",
       "    }\n",
       "</style>\n",
       "<table border=\"1\" class=\"dataframe\">\n",
       "  <thead>\n",
       "    <tr style=\"text-align: right;\">\n",
       "      <th></th>\n",
       "      <th>Unnamed: 0</th>\n",
       "      <th>game_id</th>\n",
       "      <th>date</th>\n",
       "      <th>duration</th>\n",
       "      <th>platform</th>\n",
       "      <th>p1_port</th>\n",
       "      <th>p1_char</th>\n",
       "      <th>p2_port</th>\n",
       "      <th>p2_char</th>\n",
       "      <th>stage</th>\n",
       "      <th>is_teams</th>\n",
       "      <th>is_pal</th>\n",
       "    </tr>\n",
       "  </thead>\n",
       "  <tbody>\n",
       "    <tr>\n",
       "      <th>0</th>\n",
       "      <td>0</td>\n",
       "      <td>20190406T182021</td>\n",
       "      <td>2019-04-06 18:20:21+00:00</td>\n",
       "      <td>11653</td>\n",
       "      <td>Platform.NINTENDONT</td>\n",
       "      <td>0</td>\n",
       "      <td>14</td>\n",
       "      <td>3</td>\n",
       "      <td>9</td>\n",
       "      <td>32</td>\n",
       "      <td>False</td>\n",
       "      <td>False</td>\n",
       "    </tr>\n",
       "    <tr>\n",
       "      <th>1</th>\n",
       "      <td>1</td>\n",
       "      <td>20190406T054329</td>\n",
       "      <td>2019-04-06 05:43:29+00:00</td>\n",
       "      <td>1435</td>\n",
       "      <td>Platform.NINTENDONT</td>\n",
       "      <td>1</td>\n",
       "      <td>20</td>\n",
       "      <td>2</td>\n",
       "      <td>18</td>\n",
       "      <td>31</td>\n",
       "      <td>False</td>\n",
       "      <td>False</td>\n",
       "    </tr>\n",
       "    <tr>\n",
       "      <th>2</th>\n",
       "      <td>2</td>\n",
       "      <td>20190406T113710</td>\n",
       "      <td>2019-04-06 11:37:10+00:00</td>\n",
       "      <td>7577</td>\n",
       "      <td>Platform.NINTENDONT</td>\n",
       "      <td>0</td>\n",
       "      <td>22</td>\n",
       "      <td>1</td>\n",
       "      <td>2</td>\n",
       "      <td>3</td>\n",
       "      <td>True</td>\n",
       "      <td>False</td>\n",
       "    </tr>\n",
       "    <tr>\n",
       "      <th>3</th>\n",
       "      <td>3</td>\n",
       "      <td>20190406T060932</td>\n",
       "      <td>2019-04-06 06:09:32+00:00</td>\n",
       "      <td>9589</td>\n",
       "      <td>Platform.NINTENDONT</td>\n",
       "      <td>0</td>\n",
       "      <td>20</td>\n",
       "      <td>3</td>\n",
       "      <td>7</td>\n",
       "      <td>28</td>\n",
       "      <td>False</td>\n",
       "      <td>False</td>\n",
       "    </tr>\n",
       "    <tr>\n",
       "      <th>4</th>\n",
       "      <td>4</td>\n",
       "      <td>20190406T063208</td>\n",
       "      <td>2019-04-06 06:32:08+00:00</td>\n",
       "      <td>10043</td>\n",
       "      <td>Platform.NINTENDONT</td>\n",
       "      <td>0</td>\n",
       "      <td>14</td>\n",
       "      <td>3</td>\n",
       "      <td>9</td>\n",
       "      <td>8</td>\n",
       "      <td>False</td>\n",
       "      <td>False</td>\n",
       "    </tr>\n",
       "  </tbody>\n",
       "</table>\n",
       "</div>"
      ],
      "text/plain": [
       "   Unnamed: 0          game_id                       date  duration  \\\n",
       "0           0  20190406T182021  2019-04-06 18:20:21+00:00     11653   \n",
       "1           1  20190406T054329  2019-04-06 05:43:29+00:00      1435   \n",
       "2           2  20190406T113710  2019-04-06 11:37:10+00:00      7577   \n",
       "3           3  20190406T060932  2019-04-06 06:09:32+00:00      9589   \n",
       "4           4  20190406T063208  2019-04-06 06:32:08+00:00     10043   \n",
       "\n",
       "              platform  p1_port  p1_char  p2_port  p2_char  stage  is_teams  \\\n",
       "0  Platform.NINTENDONT        0       14        3        9     32     False   \n",
       "1  Platform.NINTENDONT        1       20        2       18     31     False   \n",
       "2  Platform.NINTENDONT        0       22        1        2      3      True   \n",
       "3  Platform.NINTENDONT        0       20        3        7     28     False   \n",
       "4  Platform.NINTENDONT        0       14        3        9      8     False   \n",
       "\n",
       "   is_pal  \n",
       "0   False  \n",
       "1   False  \n",
       "2   False  \n",
       "3   False  \n",
       "4   False  "
      ]
     },
     "execution_count": 2,
     "metadata": {},
     "output_type": "execute_result"
    }
   ],
   "source": [
    "df_fp9 = pd.read_csv('../data/fp9.csv')\n",
    "df_fp9.head()"
   ]
  },
  {
   "cell_type": "code",
   "execution_count": 3,
   "metadata": {},
   "outputs": [
    {
     "data": {
      "text/html": [
       "<div>\n",
       "<style scoped>\n",
       "    .dataframe tbody tr th:only-of-type {\n",
       "        vertical-align: middle;\n",
       "    }\n",
       "\n",
       "    .dataframe tbody tr th {\n",
       "        vertical-align: top;\n",
       "    }\n",
       "\n",
       "    .dataframe thead th {\n",
       "        text-align: right;\n",
       "    }\n",
       "</style>\n",
       "<table border=\"1\" class=\"dataframe\">\n",
       "  <thead>\n",
       "    <tr style=\"text-align: right;\">\n",
       "      <th></th>\n",
       "      <th>game_id</th>\n",
       "      <th>date</th>\n",
       "      <th>duration</th>\n",
       "      <th>platform</th>\n",
       "      <th>p1_port</th>\n",
       "      <th>p1_char</th>\n",
       "      <th>p2_port</th>\n",
       "      <th>p2_char</th>\n",
       "      <th>stage</th>\n",
       "      <th>is_teams</th>\n",
       "      <th>is_pal</th>\n",
       "    </tr>\n",
       "  </thead>\n",
       "  <tbody>\n",
       "    <tr>\n",
       "      <th>0</th>\n",
       "      <td>20190406T182021</td>\n",
       "      <td>2019-04-06 18:20:21+00:00</td>\n",
       "      <td>11653</td>\n",
       "      <td>Platform.NINTENDONT</td>\n",
       "      <td>0</td>\n",
       "      <td>14</td>\n",
       "      <td>3</td>\n",
       "      <td>9</td>\n",
       "      <td>32</td>\n",
       "      <td>False</td>\n",
       "      <td>False</td>\n",
       "    </tr>\n",
       "    <tr>\n",
       "      <th>1</th>\n",
       "      <td>20190406T054329</td>\n",
       "      <td>2019-04-06 05:43:29+00:00</td>\n",
       "      <td>1435</td>\n",
       "      <td>Platform.NINTENDONT</td>\n",
       "      <td>1</td>\n",
       "      <td>20</td>\n",
       "      <td>2</td>\n",
       "      <td>18</td>\n",
       "      <td>31</td>\n",
       "      <td>False</td>\n",
       "      <td>False</td>\n",
       "    </tr>\n",
       "    <tr>\n",
       "      <th>2</th>\n",
       "      <td>20190406T113710</td>\n",
       "      <td>2019-04-06 11:37:10+00:00</td>\n",
       "      <td>7577</td>\n",
       "      <td>Platform.NINTENDONT</td>\n",
       "      <td>0</td>\n",
       "      <td>22</td>\n",
       "      <td>1</td>\n",
       "      <td>2</td>\n",
       "      <td>3</td>\n",
       "      <td>True</td>\n",
       "      <td>False</td>\n",
       "    </tr>\n",
       "    <tr>\n",
       "      <th>3</th>\n",
       "      <td>20190406T060932</td>\n",
       "      <td>2019-04-06 06:09:32+00:00</td>\n",
       "      <td>9589</td>\n",
       "      <td>Platform.NINTENDONT</td>\n",
       "      <td>0</td>\n",
       "      <td>20</td>\n",
       "      <td>3</td>\n",
       "      <td>7</td>\n",
       "      <td>28</td>\n",
       "      <td>False</td>\n",
       "      <td>False</td>\n",
       "    </tr>\n",
       "    <tr>\n",
       "      <th>4</th>\n",
       "      <td>20190406T063208</td>\n",
       "      <td>2019-04-06 06:32:08+00:00</td>\n",
       "      <td>10043</td>\n",
       "      <td>Platform.NINTENDONT</td>\n",
       "      <td>0</td>\n",
       "      <td>14</td>\n",
       "      <td>3</td>\n",
       "      <td>9</td>\n",
       "      <td>8</td>\n",
       "      <td>False</td>\n",
       "      <td>False</td>\n",
       "    </tr>\n",
       "  </tbody>\n",
       "</table>\n",
       "</div>"
      ],
      "text/plain": [
       "           game_id                       date  duration             platform  \\\n",
       "0  20190406T182021  2019-04-06 18:20:21+00:00     11653  Platform.NINTENDONT   \n",
       "1  20190406T054329  2019-04-06 05:43:29+00:00      1435  Platform.NINTENDONT   \n",
       "2  20190406T113710  2019-04-06 11:37:10+00:00      7577  Platform.NINTENDONT   \n",
       "3  20190406T060932  2019-04-06 06:09:32+00:00      9589  Platform.NINTENDONT   \n",
       "4  20190406T063208  2019-04-06 06:32:08+00:00     10043  Platform.NINTENDONT   \n",
       "\n",
       "   p1_port  p1_char  p2_port  p2_char  stage  is_teams  is_pal  \n",
       "0        0       14        3        9     32     False   False  \n",
       "1        1       20        2       18     31     False   False  \n",
       "2        0       22        1        2      3      True   False  \n",
       "3        0       20        3        7     28     False   False  \n",
       "4        0       14        3        9      8     False   False  "
      ]
     },
     "execution_count": 3,
     "metadata": {},
     "output_type": "execute_result"
    }
   ],
   "source": [
    "# Dropping Unnamed: 0 column\n",
    "df_fp9.drop(columns = ['Unnamed: 0'], inplace = True)\n",
    "df_fp9.head()"
   ]
  },
  {
   "cell_type": "markdown",
   "metadata": {},
   "source": [
    "Are there any duplicate games? If there are no duplicate `game_id`s, then set `game_id` as the index. It should set the column as the index because ` copy` is in the `game_id` for those that are true duplicates."
   ]
  },
  {
   "cell_type": "code",
   "execution_count": 4,
   "metadata": {},
   "outputs": [
    {
     "name": "stdout",
     "output_type": "stream",
     "text": [
      "True\n"
     ]
    },
    {
     "data": {
      "text/html": [
       "<div>\n",
       "<style scoped>\n",
       "    .dataframe tbody tr th:only-of-type {\n",
       "        vertical-align: middle;\n",
       "    }\n",
       "\n",
       "    .dataframe tbody tr th {\n",
       "        vertical-align: top;\n",
       "    }\n",
       "\n",
       "    .dataframe thead th {\n",
       "        text-align: right;\n",
       "    }\n",
       "</style>\n",
       "<table border=\"1\" class=\"dataframe\">\n",
       "  <thead>\n",
       "    <tr style=\"text-align: right;\">\n",
       "      <th></th>\n",
       "      <th>date</th>\n",
       "      <th>duration</th>\n",
       "      <th>platform</th>\n",
       "      <th>p1_port</th>\n",
       "      <th>p1_char</th>\n",
       "      <th>p2_port</th>\n",
       "      <th>p2_char</th>\n",
       "      <th>stage</th>\n",
       "      <th>is_teams</th>\n",
       "      <th>is_pal</th>\n",
       "    </tr>\n",
       "    <tr>\n",
       "      <th>game_id</th>\n",
       "      <th></th>\n",
       "      <th></th>\n",
       "      <th></th>\n",
       "      <th></th>\n",
       "      <th></th>\n",
       "      <th></th>\n",
       "      <th></th>\n",
       "      <th></th>\n",
       "      <th></th>\n",
       "      <th></th>\n",
       "    </tr>\n",
       "  </thead>\n",
       "  <tbody>\n",
       "    <tr>\n",
       "      <th>20190406T182021</th>\n",
       "      <td>2019-04-06 18:20:21+00:00</td>\n",
       "      <td>11653</td>\n",
       "      <td>Platform.NINTENDONT</td>\n",
       "      <td>0</td>\n",
       "      <td>14</td>\n",
       "      <td>3</td>\n",
       "      <td>9</td>\n",
       "      <td>32</td>\n",
       "      <td>False</td>\n",
       "      <td>False</td>\n",
       "    </tr>\n",
       "    <tr>\n",
       "      <th>20190406T054329</th>\n",
       "      <td>2019-04-06 05:43:29+00:00</td>\n",
       "      <td>1435</td>\n",
       "      <td>Platform.NINTENDONT</td>\n",
       "      <td>1</td>\n",
       "      <td>20</td>\n",
       "      <td>2</td>\n",
       "      <td>18</td>\n",
       "      <td>31</td>\n",
       "      <td>False</td>\n",
       "      <td>False</td>\n",
       "    </tr>\n",
       "    <tr>\n",
       "      <th>20190406T113710</th>\n",
       "      <td>2019-04-06 11:37:10+00:00</td>\n",
       "      <td>7577</td>\n",
       "      <td>Platform.NINTENDONT</td>\n",
       "      <td>0</td>\n",
       "      <td>22</td>\n",
       "      <td>1</td>\n",
       "      <td>2</td>\n",
       "      <td>3</td>\n",
       "      <td>True</td>\n",
       "      <td>False</td>\n",
       "    </tr>\n",
       "    <tr>\n",
       "      <th>20190406T060932</th>\n",
       "      <td>2019-04-06 06:09:32+00:00</td>\n",
       "      <td>9589</td>\n",
       "      <td>Platform.NINTENDONT</td>\n",
       "      <td>0</td>\n",
       "      <td>20</td>\n",
       "      <td>3</td>\n",
       "      <td>7</td>\n",
       "      <td>28</td>\n",
       "      <td>False</td>\n",
       "      <td>False</td>\n",
       "    </tr>\n",
       "    <tr>\n",
       "      <th>20190406T063208</th>\n",
       "      <td>2019-04-06 06:32:08+00:00</td>\n",
       "      <td>10043</td>\n",
       "      <td>Platform.NINTENDONT</td>\n",
       "      <td>0</td>\n",
       "      <td>14</td>\n",
       "      <td>3</td>\n",
       "      <td>9</td>\n",
       "      <td>8</td>\n",
       "      <td>False</td>\n",
       "      <td>False</td>\n",
       "    </tr>\n",
       "  </tbody>\n",
       "</table>\n",
       "</div>"
      ],
      "text/plain": [
       "                                      date  duration             platform  \\\n",
       "game_id                                                                     \n",
       "20190406T182021  2019-04-06 18:20:21+00:00     11653  Platform.NINTENDONT   \n",
       "20190406T054329  2019-04-06 05:43:29+00:00      1435  Platform.NINTENDONT   \n",
       "20190406T113710  2019-04-06 11:37:10+00:00      7577  Platform.NINTENDONT   \n",
       "20190406T060932  2019-04-06 06:09:32+00:00      9589  Platform.NINTENDONT   \n",
       "20190406T063208  2019-04-06 06:32:08+00:00     10043  Platform.NINTENDONT   \n",
       "\n",
       "                 p1_port  p1_char  p2_port  p2_char  stage  is_teams  is_pal  \n",
       "game_id                                                                       \n",
       "20190406T182021        0       14        3        9     32     False   False  \n",
       "20190406T054329        1       20        2       18     31     False   False  \n",
       "20190406T113710        0       22        1        2      3      True   False  \n",
       "20190406T060932        0       20        3        7     28     False   False  \n",
       "20190406T063208        0       14        3        9      8     False   False  "
      ]
     },
     "execution_count": 4,
     "metadata": {},
     "output_type": "execute_result"
    }
   ],
   "source": [
    "if df_fp9.shape == df_fp9.drop_duplicates(subset = ['game_id']).shape:\n",
    "    df_fp9.set_index('game_id', inplace = True)\n",
    "    print(True)\n",
    "else:\n",
    "    print(False)\n",
    "df_fp9.head()"
   ]
  },
  {
   "cell_type": "markdown",
   "metadata": {},
   "source": [
    "<a id = 'character'></a>\n",
    "## Mapping Character Names to Values"
   ]
  },
  {
   "cell_type": "code",
   "execution_count": 5,
   "metadata": {},
   "outputs": [
    {
     "data": {
      "text/plain": [
       "9     266\n",
       "20    226\n",
       "2     209\n",
       "0     102\n",
       "15     61\n",
       "19     56\n",
       "12     36\n",
       "16     34\n",
       "14     32\n",
       "22     27\n",
       "1      26\n",
       "25     16\n",
       "6      14\n",
       "7      11\n",
       "3       5\n",
       "10      5\n",
       "17      4\n",
       "8       4\n",
       "13      3\n",
       "18      3\n",
       "5       2\n",
       "21      1\n",
       "11      1\n",
       "4       1\n",
       "23      1\n",
       "Name: p1_char, dtype: int64"
      ]
     },
     "execution_count": 5,
     "metadata": {},
     "output_type": "execute_result"
    }
   ],
   "source": [
    "# Reminder: Someone is Player 1 if their port index is less than the port index of the other player.\n",
    "df_fp9['p1_char'].value_counts()"
   ]
  },
  {
   "cell_type": "markdown",
   "metadata": {},
   "source": [
    "For an easier time determining which character each player used in the game, I will be using the [documentation](https://py-slippi.readthedocs.io/en/latest/source/slippi.html) to make sure they are appropriately mapped. Upon looking into the docs, I noticed that there are two enumeration objects regarding characters, `CSSCharacter` and `InGameCharacter`. These objects label all tournament legal chracters, but in different orders. For example, Mario has a value of 0 in the `InGameCharacter` object, but has a value of 8 in `CSSCharacter`. Since I know which characters are more frequently played in tournaments, I'll take the value counts of one character column and determine if the `CSSCharacter` was interpretted or `InGameCharacter`.\n",
    "\n",
    "| Character Value | Count |  CSSCharacter  | InGameCharacter |\n",
    "|:---------------:|:-----:|:--------------:|:---------------:|\n",
    "|        9        |  266  |      Marth     |      Peach      |\n",
    "|        20       |  226  |      Falco     |    Young Link   |\n",
    "|        2        |  209  |       Fox      |  Captain Falcon |\n",
    "|        0        |  102  | Captain Falcon |      Mario      |\n",
    "\n",
    "The most frequently used character among those I established to be Player 1 is the character whose value is 9. Since both characters are popular relative to the rest of the characters, I am not completely certain that a value of 9 represents Marth or Peach.\n",
    "\n",
    "The second most frequent character is value 20. I am very confident that this is Falco because his performance is much better than Young Link's. So I'm inclined to say that the values represent the `CSSCharacter` object rather than the `InGameCharacgter` object. Just to be more confident than very confident, I will continue down the list.\n",
    "\n",
    "Next is the character value of 2. This value can either represent Fox or Captain Falcon. There is not much for me to interpret because both charaters are very popular in tournament play.\n",
    "\n",
    "The charcter value of 0 represents either Captain Falcon or Mario. This is a similar comparison to Falco and Young Link. Captain Falcon and Falco both get much more tournament play than Young Link and Mario. I can comfortably continue mapping the characters using the `CSSCharacter` values."
   ]
  },
  {
   "cell_type": "code",
   "execution_count": 6,
   "metadata": {},
   "outputs": [],
   "source": [
    "# A dictionary to map CSSCharacter values to their respoective character names\n",
    "csscharacter = {\n",
    "    0: 'Captain Falcon',\n",
    "    1: 'Donkey Kong',\n",
    "    2: 'Fox',\n",
    "    3: 'Game and Watch',\n",
    "    4: 'Kirby',\n",
    "    5: 'Bowser',\n",
    "    6: 'Link',\n",
    "    7: 'Luigi',\n",
    "    8: 'Mario',\n",
    "    9: 'Marth',\n",
    "    10: 'Mewtwo',\n",
    "    11: 'Ness',\n",
    "    12: 'Peach',\n",
    "    13: 'Pikachu',\n",
    "    14: 'Ice Climbers',\n",
    "    15: 'Jigglypuff',\n",
    "    16: 'Samus',\n",
    "    17: 'Yoshi',\n",
    "    18: 'Zelda',\n",
    "    19: 'Sheik',\n",
    "    20: 'Falco',\n",
    "    21: 'Young Link',\n",
    "    22: 'Dr. Mario',\n",
    "    23: 'Roy',\n",
    "    24: 'Pichu',\n",
    "    25: 'Ganondorf'\n",
    "}"
   ]
  },
  {
   "cell_type": "code",
   "execution_count": 7,
   "metadata": {
    "scrolled": true
   },
   "outputs": [
    {
     "data": {
      "text/html": [
       "<div>\n",
       "<style scoped>\n",
       "    .dataframe tbody tr th:only-of-type {\n",
       "        vertical-align: middle;\n",
       "    }\n",
       "\n",
       "    .dataframe tbody tr th {\n",
       "        vertical-align: top;\n",
       "    }\n",
       "\n",
       "    .dataframe thead th {\n",
       "        text-align: right;\n",
       "    }\n",
       "</style>\n",
       "<table border=\"1\" class=\"dataframe\">\n",
       "  <thead>\n",
       "    <tr style=\"text-align: right;\">\n",
       "      <th></th>\n",
       "      <th>date</th>\n",
       "      <th>duration</th>\n",
       "      <th>platform</th>\n",
       "      <th>p1_port</th>\n",
       "      <th>p1_char</th>\n",
       "      <th>p2_port</th>\n",
       "      <th>p2_char</th>\n",
       "      <th>stage</th>\n",
       "      <th>is_teams</th>\n",
       "      <th>is_pal</th>\n",
       "      <th>p1_char_name</th>\n",
       "      <th>p2_char_name</th>\n",
       "    </tr>\n",
       "    <tr>\n",
       "      <th>game_id</th>\n",
       "      <th></th>\n",
       "      <th></th>\n",
       "      <th></th>\n",
       "      <th></th>\n",
       "      <th></th>\n",
       "      <th></th>\n",
       "      <th></th>\n",
       "      <th></th>\n",
       "      <th></th>\n",
       "      <th></th>\n",
       "      <th></th>\n",
       "      <th></th>\n",
       "    </tr>\n",
       "  </thead>\n",
       "  <tbody>\n",
       "    <tr>\n",
       "      <th>20190406T182021</th>\n",
       "      <td>2019-04-06 18:20:21+00:00</td>\n",
       "      <td>11653</td>\n",
       "      <td>Platform.NINTENDONT</td>\n",
       "      <td>0</td>\n",
       "      <td>14</td>\n",
       "      <td>3</td>\n",
       "      <td>9</td>\n",
       "      <td>32</td>\n",
       "      <td>False</td>\n",
       "      <td>False</td>\n",
       "      <td>Ice Climbers</td>\n",
       "      <td>Marth</td>\n",
       "    </tr>\n",
       "    <tr>\n",
       "      <th>20190406T054329</th>\n",
       "      <td>2019-04-06 05:43:29+00:00</td>\n",
       "      <td>1435</td>\n",
       "      <td>Platform.NINTENDONT</td>\n",
       "      <td>1</td>\n",
       "      <td>20</td>\n",
       "      <td>2</td>\n",
       "      <td>18</td>\n",
       "      <td>31</td>\n",
       "      <td>False</td>\n",
       "      <td>False</td>\n",
       "      <td>Falco</td>\n",
       "      <td>Zelda</td>\n",
       "    </tr>\n",
       "    <tr>\n",
       "      <th>20190406T113710</th>\n",
       "      <td>2019-04-06 11:37:10+00:00</td>\n",
       "      <td>7577</td>\n",
       "      <td>Platform.NINTENDONT</td>\n",
       "      <td>0</td>\n",
       "      <td>22</td>\n",
       "      <td>1</td>\n",
       "      <td>2</td>\n",
       "      <td>3</td>\n",
       "      <td>True</td>\n",
       "      <td>False</td>\n",
       "      <td>Dr. Mario</td>\n",
       "      <td>Fox</td>\n",
       "    </tr>\n",
       "    <tr>\n",
       "      <th>20190406T060932</th>\n",
       "      <td>2019-04-06 06:09:32+00:00</td>\n",
       "      <td>9589</td>\n",
       "      <td>Platform.NINTENDONT</td>\n",
       "      <td>0</td>\n",
       "      <td>20</td>\n",
       "      <td>3</td>\n",
       "      <td>7</td>\n",
       "      <td>28</td>\n",
       "      <td>False</td>\n",
       "      <td>False</td>\n",
       "      <td>Falco</td>\n",
       "      <td>Luigi</td>\n",
       "    </tr>\n",
       "    <tr>\n",
       "      <th>20190406T063208</th>\n",
       "      <td>2019-04-06 06:32:08+00:00</td>\n",
       "      <td>10043</td>\n",
       "      <td>Platform.NINTENDONT</td>\n",
       "      <td>0</td>\n",
       "      <td>14</td>\n",
       "      <td>3</td>\n",
       "      <td>9</td>\n",
       "      <td>8</td>\n",
       "      <td>False</td>\n",
       "      <td>False</td>\n",
       "      <td>Ice Climbers</td>\n",
       "      <td>Marth</td>\n",
       "    </tr>\n",
       "  </tbody>\n",
       "</table>\n",
       "</div>"
      ],
      "text/plain": [
       "                                      date  duration             platform  \\\n",
       "game_id                                                                     \n",
       "20190406T182021  2019-04-06 18:20:21+00:00     11653  Platform.NINTENDONT   \n",
       "20190406T054329  2019-04-06 05:43:29+00:00      1435  Platform.NINTENDONT   \n",
       "20190406T113710  2019-04-06 11:37:10+00:00      7577  Platform.NINTENDONT   \n",
       "20190406T060932  2019-04-06 06:09:32+00:00      9589  Platform.NINTENDONT   \n",
       "20190406T063208  2019-04-06 06:32:08+00:00     10043  Platform.NINTENDONT   \n",
       "\n",
       "                 p1_port  p1_char  p2_port  p2_char  stage  is_teams  is_pal  \\\n",
       "game_id                                                                        \n",
       "20190406T182021        0       14        3        9     32     False   False   \n",
       "20190406T054329        1       20        2       18     31     False   False   \n",
       "20190406T113710        0       22        1        2      3      True   False   \n",
       "20190406T060932        0       20        3        7     28     False   False   \n",
       "20190406T063208        0       14        3        9      8     False   False   \n",
       "\n",
       "                 p1_char_name p2_char_name  \n",
       "game_id                                     \n",
       "20190406T182021  Ice Climbers        Marth  \n",
       "20190406T054329         Falco        Zelda  \n",
       "20190406T113710     Dr. Mario          Fox  \n",
       "20190406T060932         Falco        Luigi  \n",
       "20190406T063208  Ice Climbers        Marth  "
      ]
     },
     "execution_count": 7,
     "metadata": {},
     "output_type": "execute_result"
    }
   ],
   "source": [
    "# Applying the map to each appropriate column\n",
    "df_fp9['p1_char_name'] = df_fp9['p1_char'].map(csscharacter)\n",
    "df_fp9['p2_char_name'] = df_fp9['p2_char'].map(csscharacter)\n",
    "df_fp9.head()"
   ]
  },
  {
   "cell_type": "markdown",
   "metadata": {},
   "source": [
    "## Mapping Stage Names to Values"
   ]
  },
  {
   "cell_type": "code",
   "execution_count": 8,
   "metadata": {},
   "outputs": [
    {
     "data": {
      "text/plain": [
       "31    278\n",
       "32    205\n",
       "28    186\n",
       "8     175\n",
       "2     151\n",
       "3     149\n",
       "20      1\n",
       "14      1\n",
       "Name: stage, dtype: int64"
      ]
     },
     "execution_count": 8,
     "metadata": {},
     "output_type": "execute_result"
    }
   ],
   "source": [
    "df_fp9['stage'].value_counts()"
   ]
  },
  {
   "cell_type": "markdown",
   "metadata": {},
   "source": [
    "I know that only six stages are tournament legal, so I anticipate that stage values 20 and 14 are not tournament legal stages. The other six should be Final Destiantion, Battlefield, Yoshi's Story, Fountain of Dreams, Dream Land 64, and Pokemon Stadium. Pokemon Stadium should be either value 2 or 3 because player's cannot start on that stage unless they both consent to it."
   ]
  },
  {
   "cell_type": "code",
   "execution_count": 9,
   "metadata": {},
   "outputs": [],
   "source": [
    "stages = {\n",
    "    2: 'Fountain of Dreams',\n",
    "    3: 'Pokemon Stadium',\n",
    "    4: \"Princess Peach's Castle\",\n",
    "    5: 'Kongo Jungle',\n",
    "    6: 'Brinstar',\n",
    "    7: 'Corneria',\n",
    "    8: \"Yoshi's Story\",\n",
    "    9: 'Onett',\n",
    "    10: 'Mute City',\n",
    "    11: 'Rainbow Cruise',\n",
    "    12: 'Jungle Japes',\n",
    "    13: 'Great Bay',\n",
    "    14: 'Hyrule Temple',\n",
    "    15: 'Brinstar Depths',\n",
    "    16: \"Yoshi's Island\",\n",
    "    17: 'Green Greens',\n",
    "    18: 'Fourside',\n",
    "    19: 'Mushroom Kingdom I',\n",
    "    20: 'Mushroom Kingdom II',\n",
    "    22: 'Venom',\n",
    "    23: 'Poke Floats',\n",
    "    24: 'Big Blue',\n",
    "    25: 'Icicle Mountain',\n",
    "    26: 'Icetop',\n",
    "    27: 'Flat Zone',\n",
    "    28: 'Dream Land 64',\n",
    "    29: \"Yoshi's Island 64\",\n",
    "    30: 'Kongo Jungle 64',\n",
    "    31: 'Battlefield',\n",
    "    32: 'Final Destination'\n",
    "}"
   ]
  },
  {
   "cell_type": "code",
   "execution_count": 10,
   "metadata": {},
   "outputs": [
    {
     "data": {
      "text/html": [
       "<div>\n",
       "<style scoped>\n",
       "    .dataframe tbody tr th:only-of-type {\n",
       "        vertical-align: middle;\n",
       "    }\n",
       "\n",
       "    .dataframe tbody tr th {\n",
       "        vertical-align: top;\n",
       "    }\n",
       "\n",
       "    .dataframe thead th {\n",
       "        text-align: right;\n",
       "    }\n",
       "</style>\n",
       "<table border=\"1\" class=\"dataframe\">\n",
       "  <thead>\n",
       "    <tr style=\"text-align: right;\">\n",
       "      <th></th>\n",
       "      <th>date</th>\n",
       "      <th>duration</th>\n",
       "      <th>platform</th>\n",
       "      <th>p1_port</th>\n",
       "      <th>p1_char</th>\n",
       "      <th>p2_port</th>\n",
       "      <th>p2_char</th>\n",
       "      <th>stage</th>\n",
       "      <th>is_teams</th>\n",
       "      <th>is_pal</th>\n",
       "      <th>p1_char_name</th>\n",
       "      <th>p2_char_name</th>\n",
       "      <th>stage_name</th>\n",
       "    </tr>\n",
       "    <tr>\n",
       "      <th>game_id</th>\n",
       "      <th></th>\n",
       "      <th></th>\n",
       "      <th></th>\n",
       "      <th></th>\n",
       "      <th></th>\n",
       "      <th></th>\n",
       "      <th></th>\n",
       "      <th></th>\n",
       "      <th></th>\n",
       "      <th></th>\n",
       "      <th></th>\n",
       "      <th></th>\n",
       "      <th></th>\n",
       "    </tr>\n",
       "  </thead>\n",
       "  <tbody>\n",
       "    <tr>\n",
       "      <th>20190406T182021</th>\n",
       "      <td>2019-04-06 18:20:21+00:00</td>\n",
       "      <td>11653</td>\n",
       "      <td>Platform.NINTENDONT</td>\n",
       "      <td>0</td>\n",
       "      <td>14</td>\n",
       "      <td>3</td>\n",
       "      <td>9</td>\n",
       "      <td>32</td>\n",
       "      <td>False</td>\n",
       "      <td>False</td>\n",
       "      <td>Ice Climbers</td>\n",
       "      <td>Marth</td>\n",
       "      <td>Final Destination</td>\n",
       "    </tr>\n",
       "    <tr>\n",
       "      <th>20190406T054329</th>\n",
       "      <td>2019-04-06 05:43:29+00:00</td>\n",
       "      <td>1435</td>\n",
       "      <td>Platform.NINTENDONT</td>\n",
       "      <td>1</td>\n",
       "      <td>20</td>\n",
       "      <td>2</td>\n",
       "      <td>18</td>\n",
       "      <td>31</td>\n",
       "      <td>False</td>\n",
       "      <td>False</td>\n",
       "      <td>Falco</td>\n",
       "      <td>Zelda</td>\n",
       "      <td>Battlefield</td>\n",
       "    </tr>\n",
       "    <tr>\n",
       "      <th>20190406T113710</th>\n",
       "      <td>2019-04-06 11:37:10+00:00</td>\n",
       "      <td>7577</td>\n",
       "      <td>Platform.NINTENDONT</td>\n",
       "      <td>0</td>\n",
       "      <td>22</td>\n",
       "      <td>1</td>\n",
       "      <td>2</td>\n",
       "      <td>3</td>\n",
       "      <td>True</td>\n",
       "      <td>False</td>\n",
       "      <td>Dr. Mario</td>\n",
       "      <td>Fox</td>\n",
       "      <td>Pokemon Stadium</td>\n",
       "    </tr>\n",
       "    <tr>\n",
       "      <th>20190406T060932</th>\n",
       "      <td>2019-04-06 06:09:32+00:00</td>\n",
       "      <td>9589</td>\n",
       "      <td>Platform.NINTENDONT</td>\n",
       "      <td>0</td>\n",
       "      <td>20</td>\n",
       "      <td>3</td>\n",
       "      <td>7</td>\n",
       "      <td>28</td>\n",
       "      <td>False</td>\n",
       "      <td>False</td>\n",
       "      <td>Falco</td>\n",
       "      <td>Luigi</td>\n",
       "      <td>Dream Land 64</td>\n",
       "    </tr>\n",
       "    <tr>\n",
       "      <th>20190406T063208</th>\n",
       "      <td>2019-04-06 06:32:08+00:00</td>\n",
       "      <td>10043</td>\n",
       "      <td>Platform.NINTENDONT</td>\n",
       "      <td>0</td>\n",
       "      <td>14</td>\n",
       "      <td>3</td>\n",
       "      <td>9</td>\n",
       "      <td>8</td>\n",
       "      <td>False</td>\n",
       "      <td>False</td>\n",
       "      <td>Ice Climbers</td>\n",
       "      <td>Marth</td>\n",
       "      <td>Yoshi's Story</td>\n",
       "    </tr>\n",
       "  </tbody>\n",
       "</table>\n",
       "</div>"
      ],
      "text/plain": [
       "                                      date  duration             platform  \\\n",
       "game_id                                                                     \n",
       "20190406T182021  2019-04-06 18:20:21+00:00     11653  Platform.NINTENDONT   \n",
       "20190406T054329  2019-04-06 05:43:29+00:00      1435  Platform.NINTENDONT   \n",
       "20190406T113710  2019-04-06 11:37:10+00:00      7577  Platform.NINTENDONT   \n",
       "20190406T060932  2019-04-06 06:09:32+00:00      9589  Platform.NINTENDONT   \n",
       "20190406T063208  2019-04-06 06:32:08+00:00     10043  Platform.NINTENDONT   \n",
       "\n",
       "                 p1_port  p1_char  p2_port  p2_char  stage  is_teams  is_pal  \\\n",
       "game_id                                                                        \n",
       "20190406T182021        0       14        3        9     32     False   False   \n",
       "20190406T054329        1       20        2       18     31     False   False   \n",
       "20190406T113710        0       22        1        2      3      True   False   \n",
       "20190406T060932        0       20        3        7     28     False   False   \n",
       "20190406T063208        0       14        3        9      8     False   False   \n",
       "\n",
       "                 p1_char_name p2_char_name         stage_name  \n",
       "game_id                                                        \n",
       "20190406T182021  Ice Climbers        Marth  Final Destination  \n",
       "20190406T054329         Falco        Zelda        Battlefield  \n",
       "20190406T113710     Dr. Mario          Fox    Pokemon Stadium  \n",
       "20190406T060932         Falco        Luigi      Dream Land 64  \n",
       "20190406T063208  Ice Climbers        Marth      Yoshi's Story  "
      ]
     },
     "execution_count": 10,
     "metadata": {},
     "output_type": "execute_result"
    }
   ],
   "source": [
    "df_fp9['stage_name'] = df_fp9['stage'].map(stages)\n",
    "df_fp9.head()"
   ]
  },
  {
   "cell_type": "code",
   "execution_count": 11,
   "metadata": {},
   "outputs": [
    {
     "data": {
      "text/plain": [
       "31    278\n",
       "32    205\n",
       "28    186\n",
       "8     175\n",
       "2     151\n",
       "3     149\n",
       "20      1\n",
       "14      1\n",
       "Name: stage, dtype: int64"
      ]
     },
     "execution_count": 11,
     "metadata": {},
     "output_type": "execute_result"
    }
   ],
   "source": [
    "df_fp9['stage'].value_counts()"
   ]
  },
  {
   "cell_type": "code",
   "execution_count": 12,
   "metadata": {},
   "outputs": [
    {
     "data": {
      "text/plain": [
       "Battlefield            278\n",
       "Final Destination      205\n",
       "Dream Land 64          186\n",
       "Yoshi's Story          175\n",
       "Fountain of Dreams     151\n",
       "Pokemon Stadium        149\n",
       "Hyrule Temple            1\n",
       "Mushroom Kingdom II      1\n",
       "Name: stage_name, dtype: int64"
      ]
     },
     "execution_count": 12,
     "metadata": {},
     "output_type": "execute_result"
    }
   ],
   "source": [
    "df_fp9['stage_name'].value_counts()"
   ]
  },
  {
   "cell_type": "markdown",
   "metadata": {},
   "source": [
    "My hypotheses about what each stage value represents was held true. 20 and 14 are tournament illegal stages and Pokemon Stadium was value 3. I'm just too good."
   ]
  },
  {
   "cell_type": "markdown",
   "metadata": {},
   "source": [
    "## Filtering Games\n",
    "Now that we are able to determine which characters are in the game, we can begin filtering the games to those with...\n",
    "- Team Battle set to off\n",
    "- Fox vs. Falco\n",
    "- On Final Destination\n",
    "\n",
    "Final Destination was selected to be the stage of choice because it is a simple stage with no floating platforms. In next models, I will see how well the neural network can learn a player's behavior on other stages and in other matchups.\n",
    "\n",
    "<img src=\"../images/final-destination.jpg\" alt=\"Drawing\" style=\"width: 600px;\"/><center>Final Destination</center>\n",
    "<img src=\"../images/battlefield.png\" alt=\"Drawing\" style=\"width: 600px;\"/><center>Battlefield</center>"
   ]
  },
  {
   "cell_type": "code",
   "execution_count": 13,
   "metadata": {},
   "outputs": [],
   "source": [
    "# Masks to help filter through games\n",
    "mask_fd = (df_fp9['stage_name'] == 'Final Destination')\n",
    "mask_fox = (df_fp9['p1_char_name'] == 'Fox') | (df_fp9['p2_char_name'] == 'Fox')\n",
    "mask_falco = (df_fp9['p1_char_name'] == 'Falco') | (df_fp9['p2_char_name'] == 'Falco')\n",
    "mask_teams = (df_fp9['is_teams'] == False)"
   ]
  },
  {
   "cell_type": "code",
   "execution_count": 14,
   "metadata": {},
   "outputs": [],
   "source": [
    "def check_shape_frames(df0, df1):\n",
    "    '''\n",
    "    Prints the shape of two dataframes\n",
    "    '''\n",
    "    print(f'Shape of first dataframe: {df0.shape}')\n",
    "    print(f'Shape of second dataframe: {df1.shape}')\n",
    "    print()\n",
    "    print(f'Number of frames in first dataframe: {sum(df0[\"duration\"])}')\n",
    "    print(f'Number of frames in second dataframe: {sum(df1[\"duration\"])}')"
   ]
  },
  {
   "cell_type": "code",
   "execution_count": 15,
   "metadata": {
    "scrolled": true
   },
   "outputs": [
    {
     "name": "stdout",
     "output_type": "stream",
     "text": [
      "Shape of first dataframe: (1146, 13)\n",
      "Shape of second dataframe: (432, 13)\n",
      "\n",
      "Number of frames in first dataframe: 11255218\n",
      "Number of frames in second dataframe: 3923167\n"
     ]
    }
   ],
   "source": [
    "# Get the rows in which Fox is either Player 1 or Player 2\n",
    "df_games = df_fp9.loc[mask_fox]\n",
    "\n",
    "check_shape_frames(df_fp9, df_games)"
   ]
  },
  {
   "cell_type": "code",
   "execution_count": 16,
   "metadata": {},
   "outputs": [
    {
     "name": "stdout",
     "output_type": "stream",
     "text": [
      "Shape of first dataframe: (1146, 13)\n",
      "Shape of second dataframe: (97, 13)\n",
      "\n",
      "Number of frames in first dataframe: 11255218\n",
      "Number of frames in second dataframe: 831522\n"
     ]
    }
   ],
   "source": [
    "# Get the remaining rows in which Falco is either Player 1 or Player 2\n",
    "df_games = df_games.loc[mask_falco]\n",
    "check_shape_frames(df_fp9, df_games)"
   ]
  },
  {
   "cell_type": "code",
   "execution_count": 17,
   "metadata": {},
   "outputs": [
    {
     "name": "stdout",
     "output_type": "stream",
     "text": [
      "Shape of first dataframe: (1146, 13)\n",
      "Shape of second dataframe: (90, 13)\n",
      "\n",
      "Number of frames in first dataframe: 11255218\n",
      "Number of frames in second dataframe: 759580\n"
     ]
    }
   ],
   "source": [
    "# Get the remaining rows in which Team Battle is set to off\n",
    "df_games = df_games.loc[mask_teams]\n",
    "check_shape_frames(df_fp9, df_games)"
   ]
  },
  {
   "cell_type": "code",
   "execution_count": 18,
   "metadata": {},
   "outputs": [
    {
     "name": "stdout",
     "output_type": "stream",
     "text": [
      "Shape of first dataframe: (1146, 13)\n",
      "Shape of second dataframe: (13, 13)\n",
      "\n",
      "Number of frames in first dataframe: 11255218\n",
      "Number of frames in second dataframe: 106178\n"
     ]
    }
   ],
   "source": [
    "# Get the remaining rows in which the players are on Final Destination\n",
    "df_games = df_games.loc[mask_fd]\n",
    "check_shape_frames(df_fp9, df_games)"
   ]
  },
  {
   "cell_type": "code",
   "execution_count": 19,
   "metadata": {},
   "outputs": [
    {
     "name": "stdout",
     "output_type": "stream",
     "text": [
      "{'Fox', 'Falco'}\n",
      "{'Falco', 'Fox'}\n"
     ]
    }
   ],
   "source": [
    "# Check that the only characters remaining are Fox and Falco\n",
    "print(set(df_games['p1_char_name']))\n",
    "print(set(df_games['p2_char_name']))"
   ]
  },
  {
   "cell_type": "markdown",
   "metadata": {},
   "source": [
    "After applying the appropriate masks to filter out the games we do not want, we have 13 games for a total of 106,178 frames. This is 0.94% of our original data, but still enough data to use as input for our model."
   ]
  },
  {
   "cell_type": "markdown",
   "metadata": {},
   "source": [
    "## Parsing Frame Data\n",
    "### Getting Fox and Falco's Ports\n",
    "\n",
    "Since I want to predict all of Fox's actions in this tournament when fighting against Falco, I will need to have a column that will specify which port is controlling Fox and which port is controlling Falco."
   ]
  },
  {
   "cell_type": "code",
   "execution_count": 20,
   "metadata": {},
   "outputs": [
    {
     "data": {
      "text/plain": [
       "(2,)"
      ]
     },
     "execution_count": 20,
     "metadata": {},
     "output_type": "execute_result"
    }
   ],
   "source": [
    "df_games.loc[df_games['p1_char_name'] == 'Fox', 'p1_port'].shape"
   ]
  },
  {
   "cell_type": "code",
   "execution_count": 21,
   "metadata": {},
   "outputs": [
    {
     "data": {
      "text/plain": [
       "(11,)"
      ]
     },
     "execution_count": 21,
     "metadata": {},
     "output_type": "execute_result"
    }
   ],
   "source": [
    "df_games.loc[df_games['p2_char_name'] == 'Fox', 'p1_port'].shape"
   ]
  },
  {
   "cell_type": "code",
   "execution_count": 22,
   "metadata": {
    "scrolled": true
   },
   "outputs": [
    {
     "data": {
      "text/plain": [
       "[3, 3, 3, 0, 2, 3, 3, 0, 2, 2, 1, 3, 3]"
      ]
     },
     "execution_count": 22,
     "metadata": {},
     "output_type": "execute_result"
    }
   ],
   "source": [
    "# for each game in df_games,\n",
    "# if the Fox player is Player 1, append Player 1's port\n",
    "# else, append Player 2's port\n",
    "fox_ports = [df_games.loc[ident, 'p1_port'] if df_games.loc[ident, 'p1_char_name'] == 'Fox' else df_games.loc[ident, 'p2_port'] for ident in df_games.index]\n",
    "fox_ports"
   ]
  },
  {
   "cell_type": "code",
   "execution_count": 23,
   "metadata": {},
   "outputs": [
    {
     "data": {
      "text/plain": [
       "[2, 0, 1, 3, 0, 0, 0, 1, 0, 1, 0, 2, 0]"
      ]
     },
     "execution_count": 23,
     "metadata": {},
     "output_type": "execute_result"
    }
   ],
   "source": [
    "# for each game in df_games,\n",
    "# Append the port that Fox is not playing at\n",
    "nfox_ports = [df_games.loc[ident, 'p1_port'] if df_games.loc[ident, 'p1_char_name'] != 'Fox' else df_games.loc[ident, 'p2_port'] for ident in df_games.index]\n",
    "nfox_ports"
   ]
  },
  {
   "cell_type": "code",
   "execution_count": 24,
   "metadata": {},
   "outputs": [],
   "source": [
    "# Set each list as a column to the dataframe\n",
    "df_games['fox_ports'] = fox_ports\n",
    "df_games['falco_ports'] = nfox_ports"
   ]
  },
  {
   "cell_type": "code",
   "execution_count": 25,
   "metadata": {},
   "outputs": [
    {
     "data": {
      "text/html": [
       "<div>\n",
       "<style scoped>\n",
       "    .dataframe tbody tr th:only-of-type {\n",
       "        vertical-align: middle;\n",
       "    }\n",
       "\n",
       "    .dataframe tbody tr th {\n",
       "        vertical-align: top;\n",
       "    }\n",
       "\n",
       "    .dataframe thead th {\n",
       "        text-align: right;\n",
       "    }\n",
       "</style>\n",
       "<table border=\"1\" class=\"dataframe\">\n",
       "  <thead>\n",
       "    <tr style=\"text-align: right;\">\n",
       "      <th></th>\n",
       "      <th>date</th>\n",
       "      <th>duration</th>\n",
       "      <th>platform</th>\n",
       "      <th>p1_port</th>\n",
       "      <th>p1_char</th>\n",
       "      <th>p2_port</th>\n",
       "      <th>p2_char</th>\n",
       "      <th>stage</th>\n",
       "      <th>is_teams</th>\n",
       "      <th>is_pal</th>\n",
       "      <th>p1_char_name</th>\n",
       "      <th>p2_char_name</th>\n",
       "      <th>stage_name</th>\n",
       "      <th>fox_ports</th>\n",
       "      <th>falco_ports</th>\n",
       "    </tr>\n",
       "    <tr>\n",
       "      <th>game_id</th>\n",
       "      <th></th>\n",
       "      <th></th>\n",
       "      <th></th>\n",
       "      <th></th>\n",
       "      <th></th>\n",
       "      <th></th>\n",
       "      <th></th>\n",
       "      <th></th>\n",
       "      <th></th>\n",
       "      <th></th>\n",
       "      <th></th>\n",
       "      <th></th>\n",
       "      <th></th>\n",
       "      <th></th>\n",
       "      <th></th>\n",
       "    </tr>\n",
       "  </thead>\n",
       "  <tbody>\n",
       "    <tr>\n",
       "      <th>20190406T144505</th>\n",
       "      <td>2019-04-06 14:45:05+00:00</td>\n",
       "      <td>8449</td>\n",
       "      <td>Platform.NINTENDONT</td>\n",
       "      <td>2</td>\n",
       "      <td>20</td>\n",
       "      <td>3</td>\n",
       "      <td>2</td>\n",
       "      <td>32</td>\n",
       "      <td>False</td>\n",
       "      <td>False</td>\n",
       "      <td>Falco</td>\n",
       "      <td>Fox</td>\n",
       "      <td>Final Destination</td>\n",
       "      <td>3</td>\n",
       "      <td>2</td>\n",
       "    </tr>\n",
       "    <tr>\n",
       "      <th>20190406T190420</th>\n",
       "      <td>2019-04-06 19:04:20+00:00</td>\n",
       "      <td>7437</td>\n",
       "      <td>Platform.NINTENDONT</td>\n",
       "      <td>0</td>\n",
       "      <td>20</td>\n",
       "      <td>3</td>\n",
       "      <td>2</td>\n",
       "      <td>32</td>\n",
       "      <td>False</td>\n",
       "      <td>False</td>\n",
       "      <td>Falco</td>\n",
       "      <td>Fox</td>\n",
       "      <td>Final Destination</td>\n",
       "      <td>3</td>\n",
       "      <td>0</td>\n",
       "    </tr>\n",
       "    <tr>\n",
       "      <th>20190406T190322</th>\n",
       "      <td>2019-04-06 19:03:22+00:00</td>\n",
       "      <td>8206</td>\n",
       "      <td>Platform.NINTENDONT</td>\n",
       "      <td>1</td>\n",
       "      <td>20</td>\n",
       "      <td>3</td>\n",
       "      <td>2</td>\n",
       "      <td>32</td>\n",
       "      <td>False</td>\n",
       "      <td>False</td>\n",
       "      <td>Falco</td>\n",
       "      <td>Fox</td>\n",
       "      <td>Final Destination</td>\n",
       "      <td>3</td>\n",
       "      <td>1</td>\n",
       "    </tr>\n",
       "    <tr>\n",
       "      <th>20190309T012347</th>\n",
       "      <td>2019-03-09 01:23:47+00:00</td>\n",
       "      <td>5429</td>\n",
       "      <td>Platform.NINTENDONT</td>\n",
       "      <td>0</td>\n",
       "      <td>2</td>\n",
       "      <td>3</td>\n",
       "      <td>20</td>\n",
       "      <td>32</td>\n",
       "      <td>False</td>\n",
       "      <td>False</td>\n",
       "      <td>Fox</td>\n",
       "      <td>Falco</td>\n",
       "      <td>Final Destination</td>\n",
       "      <td>0</td>\n",
       "      <td>3</td>\n",
       "    </tr>\n",
       "    <tr>\n",
       "      <th>20190406T114015</th>\n",
       "      <td>2019-04-06 11:40:15+00:00</td>\n",
       "      <td>9572</td>\n",
       "      <td>Platform.NINTENDONT</td>\n",
       "      <td>0</td>\n",
       "      <td>20</td>\n",
       "      <td>2</td>\n",
       "      <td>2</td>\n",
       "      <td>32</td>\n",
       "      <td>False</td>\n",
       "      <td>False</td>\n",
       "      <td>Falco</td>\n",
       "      <td>Fox</td>\n",
       "      <td>Final Destination</td>\n",
       "      <td>2</td>\n",
       "      <td>0</td>\n",
       "    </tr>\n",
       "  </tbody>\n",
       "</table>\n",
       "</div>"
      ],
      "text/plain": [
       "                                      date  duration             platform  \\\n",
       "game_id                                                                     \n",
       "20190406T144505  2019-04-06 14:45:05+00:00      8449  Platform.NINTENDONT   \n",
       "20190406T190420  2019-04-06 19:04:20+00:00      7437  Platform.NINTENDONT   \n",
       "20190406T190322  2019-04-06 19:03:22+00:00      8206  Platform.NINTENDONT   \n",
       "20190309T012347  2019-03-09 01:23:47+00:00      5429  Platform.NINTENDONT   \n",
       "20190406T114015  2019-04-06 11:40:15+00:00      9572  Platform.NINTENDONT   \n",
       "\n",
       "                 p1_port  p1_char  p2_port  p2_char  stage  is_teams  is_pal  \\\n",
       "game_id                                                                        \n",
       "20190406T144505        2       20        3        2     32     False   False   \n",
       "20190406T190420        0       20        3        2     32     False   False   \n",
       "20190406T190322        1       20        3        2     32     False   False   \n",
       "20190309T012347        0        2        3       20     32     False   False   \n",
       "20190406T114015        0       20        2        2     32     False   False   \n",
       "\n",
       "                p1_char_name p2_char_name         stage_name  fox_ports  \\\n",
       "game_id                                                                   \n",
       "20190406T144505        Falco          Fox  Final Destination          3   \n",
       "20190406T190420        Falco          Fox  Final Destination          3   \n",
       "20190406T190322        Falco          Fox  Final Destination          3   \n",
       "20190309T012347          Fox        Falco  Final Destination          0   \n",
       "20190406T114015        Falco          Fox  Final Destination          2   \n",
       "\n",
       "                 falco_ports  \n",
       "game_id                       \n",
       "20190406T144505            2  \n",
       "20190406T190420            0  \n",
       "20190406T190322            1  \n",
       "20190309T012347            3  \n",
       "20190406T114015            0  "
      ]
     },
     "execution_count": 25,
     "metadata": {},
     "output_type": "execute_result"
    }
   ],
   "source": [
    "df_games.head()"
   ]
  },
  {
   "cell_type": "markdown",
   "metadata": {},
   "source": [
    "### Getting the Filepaths\n",
    "In the previous notebook, we used the filepaths to create the `game_id`s. Now we will work backwords and create the filepaths out of the `game_id`."
   ]
  },
  {
   "cell_type": "code",
   "execution_count": 26,
   "metadata": {
    "scrolled": true
   },
   "outputs": [
    {
     "data": {
      "text/plain": [
       "Index(['20190406T144505', '20190406T190420', '20190406T190322',\n",
       "       '20190309T012347', '20190406T114015', '20190406T183745',\n",
       "       '20190406T214523', '20190406T175827', '20190406T102328',\n",
       "       '20190406T104203', '20190406T105900', '20190406T143503',\n",
       "       '20190406T114529'],\n",
       "      dtype='object', name='game_id')"
      ]
     },
     "execution_count": 26,
     "metadata": {},
     "output_type": "execute_result"
    }
   ],
   "source": [
    "game_id = df_games.index\n",
    "game_id"
   ]
  },
  {
   "cell_type": "code",
   "execution_count": 27,
   "metadata": {},
   "outputs": [
    {
     "data": {
      "text/plain": [
       "['../../data/Fight-Pitt-9/Game_20190406T144505.slp',\n",
       " '../../data/Fight-Pitt-9/Game_20190406T190420.slp',\n",
       " '../../data/Fight-Pitt-9/Game_20190406T190322.slp',\n",
       " '../../data/Fight-Pitt-9/Game_20190309T012347.slp',\n",
       " '../../data/Fight-Pitt-9/Game_20190406T114015.slp',\n",
       " '../../data/Fight-Pitt-9/Game_20190406T183745.slp',\n",
       " '../../data/Fight-Pitt-9/Game_20190406T214523.slp',\n",
       " '../../data/Fight-Pitt-9/Game_20190406T175827.slp',\n",
       " '../../data/Fight-Pitt-9/Game_20190406T102328.slp',\n",
       " '../../data/Fight-Pitt-9/Game_20190406T104203.slp',\n",
       " '../../data/Fight-Pitt-9/Game_20190406T105900.slp',\n",
       " '../../data/Fight-Pitt-9/Game_20190406T143503.slp',\n",
       " '../../data/Fight-Pitt-9/Game_20190406T114529.slp']"
      ]
     },
     "execution_count": 27,
     "metadata": {},
     "output_type": "execute_result"
    }
   ],
   "source": [
    "# Use string concatenation to add the relative filepath a\n",
    "# and the file extention to each value in game_id\n",
    "games = list(map(lambda val: '../../data/Fight-Pitt-9/Game_' + val + '.slp', game_id))\n",
    "games"
   ]
  },
  {
   "cell_type": "code",
   "execution_count": 28,
   "metadata": {},
   "outputs": [],
   "source": [
    "def frames_to_df_fox(slp_paths):\n",
    "    '''\n",
    "    Returns a dataframe of frame data for each game\n",
    "    slp_paths (list): A list of filepaths that lead to Slippi files\n",
    "    '''\n",
    "    length = len(slp_paths)\n",
    "    count = 0\n",
    "\n",
    "    # Dictionaries to keep track of which buttons on the controller we pressed for each frame\n",
    "    # Fox\n",
    "    fox_button_dict = {'Trigger Analog':[],'Start': [],'Y': [],'X': [],'B': [],'A': [],'L': [],'R': [],\n",
    "                      'Z': [],'Dpad-Up': [],'Dpad-Down': [],'Dpad-Right': [],'Dpad-Left': []}\n",
    "\n",
    "    # nfox = Not Fox -> Falco\n",
    "    nfox_button_dict = {'Trigger Analog':[],'Start': [],'Y': [],'X': [],'B': [],'A': [],'L': [],'R': [],\n",
    "                      'Z': [],'Dpad-Up': [],'Dpad-Down': [],'Dpad-Right': [],'Dpad-Left': []}\n",
    "    \n",
    "    # foreign key to metadata dataframe\n",
    "    game_id = list()\n",
    "    \n",
    "    # frame index\n",
    "    index = list()\n",
    "    \n",
    "    # feature per frame for fox\n",
    "    fox_combo_count, fox_dmg, fox_direction, \\\n",
    "    fox_last_attack_landed, fox_last_hit_by, fox_position_x, fox_position_y, \\\n",
    "    fox_shield, fox_state, fox_stage_age, fox_stocks, fox_cstick_x, fox_cstick_y, fox_dmg, fox_direction, \\\n",
    "    fox_joystick_x, fox_joystick_y,  fox_position, fox_raw_analog_x, fox_state, fox_state_age = list(), list(), list(), \\\n",
    "    list(), list(), list(), list(), list(), list(), list(), list(), list(), list(), list(), list(), \\\n",
    "    list(), list(), list(), list(), list(), list()\n",
    "    \n",
    "    # feature per frame for not fox\n",
    "    nfox_combo_count, nfox_dmg, nfox_direction, \\\n",
    "    nfox_last_attack_landed, nfox_last_hit_by, nfox_position_x, nfox_position_y, \\\n",
    "    nfox_shield, nfox_state, p2_stage_age, nfox_stocks, nfox_cstick_x, nfox_cstick_y, nfox_dmg, nfox_direction, \\\n",
    "    nfox_joystick_x, nfox_joystick_y, nfox_position, nfox_raw_analog_x, nfox_state, nfox_state_age = list(), list(), list(), \\\n",
    "    list(), list(), list(), list(), list(), list(), list(), list(), list(), list(), list(), list(), \\\n",
    "    list(), list(), list(), list(), list(), list()\n",
    "    \n",
    "    # For each filepath in the provided list of filepaths\n",
    "    for path in slp_paths:\n",
    "\n",
    "        # Create game_id\n",
    "        curr_gameid = slp_paths[count].split('/')[-1].strip('Game_').strip('.slp')\n",
    "        print(f'Parsing file {count + 1} of {length}')\n",
    "        \n",
    "        # Try to instantiate the Game object. If cannot, skip it\n",
    "        try:\n",
    "            game = slp.Game(path)\n",
    "        except:\n",
    "            print(f'Skip game {count + 1} of {length}')\n",
    "            continue\n",
    "\n",
    "        # get fox ports and non-fox ports\n",
    "        fox_ports = [df_games.loc[ident, 'p1_port'] if df_games.loc[ident, 'p1_char_name'] == 'Fox' else df_games.loc[ident, 'p2_port'] for ident in df_games.index]\n",
    "        nfox_ports = [df_games.loc[ident, 'p1_port'] if df_games.loc[ident, 'p1_char_name'] != 'Fox' else df_games.loc[ident, 'p2_port'] for ident in df_games.index]\n",
    "        \n",
    "        # for each Frame object of all frames in a specific game\n",
    "        frame_length = len(game.frames)\n",
    "        frame_count = 0\n",
    "        for frame in game.frames:\n",
    "            frame_count += 1\n",
    "            print(f'Parsing frame {frame_count} of {frame_length}: {round(frame_count / frame_length * 100, 2)}%', end = '\\r')\n",
    "            \n",
    "            # Tell me what game this frame came from\n",
    "            game_id.append(curr_gameid)\n",
    "            \n",
    "            # Tell me the frame index\n",
    "            index.append(frame.index)\n",
    "            \n",
    "            # Tell me the Positional X value of the cstick of each player/character\n",
    "            fox_cstick_x.append(frame.ports[fox_ports[count]].leader.pre.cstick.x)\n",
    "            nfox_cstick_x.append(frame.ports[nfox_ports[count]].leader.pre.cstick.x)\n",
    "\n",
    "            # Positional Y value of the cstick of each player/character\n",
    "            fox_cstick_y.append(frame.ports[fox_ports[count]].leader.pre.cstick.y)\n",
    "            nfox_cstick_y.append(frame.ports[nfox_ports[count]].leader.pre.cstick.y)\n",
    "            \n",
    "            # Positional X value of the joystick of each player/character\n",
    "            fox_joystick_x.append(frame.ports[fox_ports[count]].leader.pre.joystick.x)\n",
    "            nfox_joystick_x.append(frame.ports[nfox_ports[count]].leader.pre.joystick.x)\n",
    "            \n",
    "            # Positional Y value of the joystick\n",
    "            fox_joystick_y.append(frame.ports[fox_ports[count]].leader.pre.joystick.y)\n",
    "            nfox_joystick_y.append(frame.ports[nfox_ports[count]].leader.pre.joystick.y)\n",
    "            \n",
    "            # Combo Count\n",
    "            fox_combo_count.append(frame.ports[fox_ports[count]].leader.post.combo_count)\n",
    "            nfox_combo_count.append(frame.ports[nfox_ports[count]].leader.post.combo_count)\n",
    "            \n",
    "            # Damage\n",
    "            fox_dmg.append(frame.ports[fox_ports[count]].leader.post.damage)\n",
    "            nfox_dmg.append(frame.ports[nfox_ports[count]].leader.post.damage)\n",
    "            \n",
    "            # Direction\n",
    "            fox_direction.append(frame.ports[fox_ports[count]].leader.post.direction)\n",
    "            nfox_direction.append(frame.ports[nfox_ports[count]].leader.post.direction)\n",
    "            \n",
    "            # Last move hit by\n",
    "            fox_last_hit_by.append(frame.ports[fox_ports[count]].leader.post.last_hit_by)\n",
    "            nfox_last_hit_by.append(frame.ports[nfox_ports[count]].leader.post.last_hit_by)\n",
    "            \n",
    "            # Character's X coordinate position\n",
    "            fox_position_x.append(frame.ports[fox_ports[count]].leader.post.position.x)\n",
    "            nfox_position_x.append(frame.ports[nfox_ports[count]].leader.post.position.x)\n",
    "            \n",
    "            # Character's Y coordinate position\n",
    "            fox_position_y.append(frame.ports[fox_ports[count]].leader.post.position.y)\n",
    "            nfox_position_y.append(frame.ports[nfox_ports[count]].leader.post.position.y)\n",
    "            \n",
    "            # Character's shield size\n",
    "            fox_shield.append(frame.ports[fox_ports[count]].leader.post.shield)\n",
    "            nfox_shield.append(frame.ports[nfox_ports[count]].leader.post.shield)\n",
    "            \n",
    "            # Characer's Action state\n",
    "            fox_state.append(frame.ports[fox_ports[count]].leader.post.state)\n",
    "            nfox_state.append(frame.ports[nfox_ports[count]].leader.post.state)\n",
    "            \n",
    "            # How long has the characer been in their current action state\n",
    "            fox_state_age.append(frame.ports[fox_ports[count]].leader.post.state_age)\n",
    "            nfox_state_age.append(frame.ports[nfox_ports[count]].leader.post.state_age)\n",
    "            \n",
    "            # Number of stocks remaining\n",
    "            fox_stocks.append(frame.ports[fox_ports[count]].leader.post.stocks)\n",
    "            nfox_stocks.append(frame.ports[nfox_ports[count]].leader.post.stocks)\n",
    "\n",
    "            # Get the inputs of the Fox's controller\n",
    "            fox_ins = str(frame.ports[fox_ports[count]].leader.pre.buttons.logical).split('.')[1].split('|')\n",
    "            \n",
    "            # For each key/button or stick on the controller\n",
    "            for button in fox_button_dict:\n",
    "\n",
    "                # if that key is in the buttons that were truly inputted this frame\n",
    "                if button in fox_ins:\n",
    "                    # Append True to the dictionary\n",
    "                    fox_button_dict[button].append(1)\n",
    "                # else, append False to the dictionary\n",
    "                else:\n",
    "                    fox_button_dict[button].append(0)\n",
    "            \n",
    "            nfox_ins = str(frame.ports[nfox_ports[count]].leader.pre.buttons.logical).split('.')[1].split('|')\n",
    "            for button in nfox_button_dict:\n",
    "                if button in nfox_ins:\n",
    "                    nfox_button_dict[button].append(1)\n",
    "                else:\n",
    "                    nfox_button_dict[button].append(0)\n",
    "            \n",
    "        count += 1\n",
    "\n",
    "    return pd.DataFrame({\n",
    "        'game_id': game_id,\n",
    "        'frame_index': index,\n",
    "        \n",
    "        # Fox\n",
    "        'fox_cstick_x': fox_cstick_x,\n",
    "        'fox_cstick_y': fox_cstick_y,\n",
    "        'fox_joystick_x': fox_joystick_x,\n",
    "        'fox_joystick_y': fox_joystick_y,\n",
    "        'fox_trigger_analog': fox_button_dict['Trigger Analog'],\n",
    "        'fox_Start': fox_button_dict['Start'],\n",
    "        'fox_Y': fox_button_dict['Y'],\n",
    "        'fox_X': fox_button_dict['X'],\n",
    "        'fox_B': fox_button_dict['B'],\n",
    "        'fox_A': fox_button_dict['A'],\n",
    "        'fox_L': fox_button_dict['L'],\n",
    "        'fox_R': fox_button_dict['R'],\n",
    "        'fox_Z': fox_button_dict['Z'],\n",
    "        'fox_Dpad_Up': fox_button_dict['Dpad-Up'],\n",
    "        'fox_Dpad_Down': fox_button_dict['Dpad-Down'],\n",
    "        'fox_Dpad_Right': fox_button_dict['Dpad-Right'],\n",
    "        'fox_Dpad_Left': fox_button_dict['Dpad-Left'],\n",
    "        'fox_combo_count': fox_combo_count,\n",
    "        'fox_dmg': fox_dmg,\n",
    "        'fox_direction': fox_direction,\n",
    "        'fox_last_hit_by': fox_last_hit_by,\n",
    "        'fox_position_x': fox_position_x,\n",
    "        'fox_position_y': fox_position_y,\n",
    "        'fox_shield': fox_shield,\n",
    "        'fox_state': fox_state,\n",
    "        'fox_state_age': fox_state_age,\n",
    "        'fox_stocks': fox_stocks,\n",
    "        \n",
    "        # Not Fox\n",
    "        'nfox_cstick_x': nfox_cstick_x,\n",
    "        'nfox_cstick_y': nfox_cstick_y,\n",
    "        'nfox_joystick_x': nfox_joystick_x,\n",
    "        'nfox_joystick_y': nfox_joystick_y,\n",
    "        'nfox_trigger_analog': nfox_button_dict['Trigger Analog'],\n",
    "        'nfox_Start': nfox_button_dict['Start'],\n",
    "        'nfox_Y': nfox_button_dict['Y'],\n",
    "        'nfox_X': nfox_button_dict['X'],\n",
    "        'nfox_B': nfox_button_dict['B'],\n",
    "        'nfox_A': nfox_button_dict['A'],\n",
    "        'nfox_L': nfox_button_dict['L'],\n",
    "        'nfox_R': nfox_button_dict['R'],\n",
    "        'nfox_Z': nfox_button_dict['Z'],\n",
    "        'nfox_Dpad_Up': nfox_button_dict['Dpad-Up'],\n",
    "        'nfox_Dpad_Down': nfox_button_dict['Dpad-Down'],\n",
    "        'nfox_Dpad_Right': nfox_button_dict['Dpad-Right'],\n",
    "        'nfox_Dpad_Left': nfox_button_dict['Dpad-Left'],\n",
    "        'nfox_combo_count': nfox_combo_count,\n",
    "        'nfox_dmg': nfox_dmg,\n",
    "        'nfox_direction': nfox_direction,\n",
    "        'nfox_last_hit_by': nfox_last_hit_by,\n",
    "        'nfox_position_x': nfox_position_x,\n",
    "        'nfox_position_y': nfox_position_y,\n",
    "        'nfox_shield': nfox_shield,\n",
    "        'nfox_state': nfox_state,\n",
    "        'nfox_state_age': nfox_state_age,\n",
    "        'nfox_stocks': nfox_stocks\n",
    "    })"
   ]
  },
  {
   "cell_type": "code",
   "execution_count": 29,
   "metadata": {},
   "outputs": [
    {
     "name": "stdout",
     "output_type": "stream",
     "text": [
      "Parsing file 1 of 13\n",
      "Parsing file 2 of 13f 8449: 100.0%\n",
      "Parsing file 3 of 13f 7437: 100.0%\n",
      "Parsing file 4 of 13f 8206: 100.0%\n",
      "Parsing file 5 of 13f 5429: 100.0%\n",
      "Parsing file 6 of 13f 9572: 100.0%\n",
      "Parsing file 7 of 13f 6712: 100.0%\n",
      "Parsing file 8 of 13f 6220: 100.0%\n",
      "Parsing file 9 of 13f 8705: 100.0%\n",
      "Parsing file 10 of 13 9281: 100.0%\n",
      "Parsing file 11 of 13 7117: 100.0%\n",
      "Parsing file 12 of 13f 12435: 100.0%\n",
      "Parsing file 13 of 13 7148: 100.0%\n",
      "Parsing frame 9467 of 9467: 100.0%\r"
     ]
    },
    {
     "data": {
      "text/html": [
       "<div>\n",
       "<style scoped>\n",
       "    .dataframe tbody tr th:only-of-type {\n",
       "        vertical-align: middle;\n",
       "    }\n",
       "\n",
       "    .dataframe tbody tr th {\n",
       "        vertical-align: top;\n",
       "    }\n",
       "\n",
       "    .dataframe thead th {\n",
       "        text-align: right;\n",
       "    }\n",
       "</style>\n",
       "<table border=\"1\" class=\"dataframe\">\n",
       "  <thead>\n",
       "    <tr style=\"text-align: right;\">\n",
       "      <th></th>\n",
       "      <th>game_id</th>\n",
       "      <th>frame_index</th>\n",
       "      <th>fox_cstick_x</th>\n",
       "      <th>fox_cstick_y</th>\n",
       "      <th>fox_joystick_x</th>\n",
       "      <th>fox_joystick_y</th>\n",
       "      <th>fox_trigger_analog</th>\n",
       "      <th>fox_Start</th>\n",
       "      <th>fox_Y</th>\n",
       "      <th>fox_X</th>\n",
       "      <th>...</th>\n",
       "      <th>nfox_combo_count</th>\n",
       "      <th>nfox_dmg</th>\n",
       "      <th>nfox_direction</th>\n",
       "      <th>nfox_last_hit_by</th>\n",
       "      <th>nfox_position_x</th>\n",
       "      <th>nfox_position_y</th>\n",
       "      <th>nfox_shield</th>\n",
       "      <th>nfox_state</th>\n",
       "      <th>nfox_state_age</th>\n",
       "      <th>nfox_stocks</th>\n",
       "    </tr>\n",
       "  </thead>\n",
       "  <tbody>\n",
       "    <tr>\n",
       "      <th>0</th>\n",
       "      <td>20190406T144505</td>\n",
       "      <td>-123</td>\n",
       "      <td>0.0</td>\n",
       "      <td>0.0</td>\n",
       "      <td>0.0</td>\n",
       "      <td>0.0</td>\n",
       "      <td>0</td>\n",
       "      <td>0</td>\n",
       "      <td>0</td>\n",
       "      <td>0</td>\n",
       "      <td>...</td>\n",
       "      <td>0</td>\n",
       "      <td>0.0</td>\n",
       "      <td>1</td>\n",
       "      <td>NaN</td>\n",
       "      <td>-60.0</td>\n",
       "      <td>10.0</td>\n",
       "      <td>60.0</td>\n",
       "      <td>322</td>\n",
       "      <td>-1.0</td>\n",
       "      <td>4</td>\n",
       "    </tr>\n",
       "    <tr>\n",
       "      <th>1</th>\n",
       "      <td>20190406T144505</td>\n",
       "      <td>-122</td>\n",
       "      <td>0.0</td>\n",
       "      <td>0.0</td>\n",
       "      <td>0.0</td>\n",
       "      <td>0.0</td>\n",
       "      <td>0</td>\n",
       "      <td>0</td>\n",
       "      <td>0</td>\n",
       "      <td>0</td>\n",
       "      <td>...</td>\n",
       "      <td>0</td>\n",
       "      <td>0.0</td>\n",
       "      <td>1</td>\n",
       "      <td>NaN</td>\n",
       "      <td>-60.0</td>\n",
       "      <td>10.0</td>\n",
       "      <td>60.0</td>\n",
       "      <td>322</td>\n",
       "      <td>-1.0</td>\n",
       "      <td>4</td>\n",
       "    </tr>\n",
       "    <tr>\n",
       "      <th>2</th>\n",
       "      <td>20190406T144505</td>\n",
       "      <td>-121</td>\n",
       "      <td>0.0</td>\n",
       "      <td>0.0</td>\n",
       "      <td>0.0</td>\n",
       "      <td>0.0</td>\n",
       "      <td>0</td>\n",
       "      <td>0</td>\n",
       "      <td>0</td>\n",
       "      <td>0</td>\n",
       "      <td>...</td>\n",
       "      <td>0</td>\n",
       "      <td>0.0</td>\n",
       "      <td>1</td>\n",
       "      <td>NaN</td>\n",
       "      <td>-60.0</td>\n",
       "      <td>10.0</td>\n",
       "      <td>60.0</td>\n",
       "      <td>322</td>\n",
       "      <td>-1.0</td>\n",
       "      <td>4</td>\n",
       "    </tr>\n",
       "    <tr>\n",
       "      <th>3</th>\n",
       "      <td>20190406T144505</td>\n",
       "      <td>-120</td>\n",
       "      <td>0.0</td>\n",
       "      <td>0.0</td>\n",
       "      <td>0.0</td>\n",
       "      <td>0.0</td>\n",
       "      <td>0</td>\n",
       "      <td>0</td>\n",
       "      <td>0</td>\n",
       "      <td>0</td>\n",
       "      <td>...</td>\n",
       "      <td>0</td>\n",
       "      <td>0.0</td>\n",
       "      <td>1</td>\n",
       "      <td>NaN</td>\n",
       "      <td>-60.0</td>\n",
       "      <td>10.0</td>\n",
       "      <td>60.0</td>\n",
       "      <td>322</td>\n",
       "      <td>-1.0</td>\n",
       "      <td>4</td>\n",
       "    </tr>\n",
       "    <tr>\n",
       "      <th>4</th>\n",
       "      <td>20190406T144505</td>\n",
       "      <td>-119</td>\n",
       "      <td>0.0</td>\n",
       "      <td>0.0</td>\n",
       "      <td>0.0</td>\n",
       "      <td>0.0</td>\n",
       "      <td>0</td>\n",
       "      <td>0</td>\n",
       "      <td>0</td>\n",
       "      <td>0</td>\n",
       "      <td>...</td>\n",
       "      <td>0</td>\n",
       "      <td>0.0</td>\n",
       "      <td>1</td>\n",
       "      <td>NaN</td>\n",
       "      <td>-60.0</td>\n",
       "      <td>10.0</td>\n",
       "      <td>60.0</td>\n",
       "      <td>322</td>\n",
       "      <td>-1.0</td>\n",
       "      <td>4</td>\n",
       "    </tr>\n",
       "  </tbody>\n",
       "</table>\n",
       "<p>5 rows × 56 columns</p>\n",
       "</div>"
      ],
      "text/plain": [
       "           game_id  frame_index  fox_cstick_x  fox_cstick_y  fox_joystick_x  \\\n",
       "0  20190406T144505         -123           0.0           0.0             0.0   \n",
       "1  20190406T144505         -122           0.0           0.0             0.0   \n",
       "2  20190406T144505         -121           0.0           0.0             0.0   \n",
       "3  20190406T144505         -120           0.0           0.0             0.0   \n",
       "4  20190406T144505         -119           0.0           0.0             0.0   \n",
       "\n",
       "   fox_joystick_y  fox_trigger_analog  fox_Start  fox_Y  fox_X  ...  \\\n",
       "0             0.0                   0          0      0      0  ...   \n",
       "1             0.0                   0          0      0      0  ...   \n",
       "2             0.0                   0          0      0      0  ...   \n",
       "3             0.0                   0          0      0      0  ...   \n",
       "4             0.0                   0          0      0      0  ...   \n",
       "\n",
       "   nfox_combo_count  nfox_dmg  nfox_direction  nfox_last_hit_by  \\\n",
       "0                 0       0.0               1               NaN   \n",
       "1                 0       0.0               1               NaN   \n",
       "2                 0       0.0               1               NaN   \n",
       "3                 0       0.0               1               NaN   \n",
       "4                 0       0.0               1               NaN   \n",
       "\n",
       "   nfox_position_x  nfox_position_y  nfox_shield  nfox_state  nfox_state_age  \\\n",
       "0            -60.0             10.0         60.0         322            -1.0   \n",
       "1            -60.0             10.0         60.0         322            -1.0   \n",
       "2            -60.0             10.0         60.0         322            -1.0   \n",
       "3            -60.0             10.0         60.0         322            -1.0   \n",
       "4            -60.0             10.0         60.0         322            -1.0   \n",
       "\n",
       "   nfox_stocks  \n",
       "0            4  \n",
       "1            4  \n",
       "2            4  \n",
       "3            4  \n",
       "4            4  \n",
       "\n",
       "[5 rows x 56 columns]"
      ]
     },
     "execution_count": 29,
     "metadata": {},
     "output_type": "execute_result"
    }
   ],
   "source": [
    "# Parse each Slippi game\n",
    "df_frames = frames_to_df_fox(games)\n",
    "df_frames.head()"
   ]
  },
  {
   "cell_type": "markdown",
   "metadata": {},
   "source": [
    "## Exploring the Frames"
   ]
  },
  {
   "cell_type": "code",
   "execution_count": 30,
   "metadata": {},
   "outputs": [
    {
     "data": {
      "text/plain": [
       "game_id                0.000000\n",
       "frame_index            0.000000\n",
       "fox_cstick_x           0.000000\n",
       "fox_cstick_y           0.000000\n",
       "fox_joystick_x         0.000000\n",
       "fox_joystick_y         0.000000\n",
       "fox_trigger_analog     0.000000\n",
       "fox_Start              0.000000\n",
       "fox_Y                  0.000000\n",
       "fox_X                  0.000000\n",
       "fox_B                  0.000000\n",
       "fox_A                  0.000000\n",
       "fox_L                  0.000000\n",
       "fox_R                  0.000000\n",
       "fox_Z                  0.000000\n",
       "fox_Dpad_Up            0.000000\n",
       "fox_Dpad_Down          0.000000\n",
       "fox_Dpad_Right         0.000000\n",
       "fox_Dpad_Left          0.000000\n",
       "fox_combo_count        0.000000\n",
       "fox_dmg                0.000000\n",
       "fox_direction          0.000000\n",
       "fox_last_hit_by        0.536486\n",
       "fox_position_x         0.000000\n",
       "fox_position_y         0.000000\n",
       "fox_shield             0.000000\n",
       "fox_state              0.000000\n",
       "fox_state_age          0.000000\n",
       "fox_stocks             0.000000\n",
       "nfox_cstick_x          0.000000\n",
       "nfox_cstick_y          0.000000\n",
       "nfox_joystick_x        0.000000\n",
       "nfox_joystick_y        0.000000\n",
       "nfox_trigger_analog    0.000000\n",
       "nfox_Start             0.000000\n",
       "nfox_Y                 0.000000\n",
       "nfox_X                 0.000000\n",
       "nfox_B                 0.000000\n",
       "nfox_A                 0.000000\n",
       "nfox_L                 0.000000\n",
       "nfox_R                 0.000000\n",
       "nfox_Z                 0.000000\n",
       "nfox_Dpad_Up           0.000000\n",
       "nfox_Dpad_Down         0.000000\n",
       "nfox_Dpad_Right        0.000000\n",
       "nfox_Dpad_Left         0.000000\n",
       "nfox_combo_count       0.000000\n",
       "nfox_dmg               0.000000\n",
       "nfox_direction         0.000000\n",
       "nfox_last_hit_by       0.611040\n",
       "nfox_position_x        0.000000\n",
       "nfox_position_y        0.000000\n",
       "nfox_shield            0.000000\n",
       "nfox_state             0.000000\n",
       "nfox_state_age         0.000000\n",
       "nfox_stocks            0.000000\n",
       "dtype: float64"
      ]
     },
     "execution_count": 30,
     "metadata": {},
     "output_type": "execute_result"
    }
   ],
   "source": [
    "# Checking for null values\n",
    "df_frames.isnull().mean()"
   ]
  },
  {
   "cell_type": "markdown",
   "metadata": {},
   "source": [
    "It appears that the `last_hit_by` features has a lot of missing data. Since I want the final product of this tool to perform with a user's raw game files, I cannot expect a user to take the time to clean their game files and impute their missing values. As such, I will leave these and see how well my model does."
   ]
  },
  {
   "cell_type": "code",
   "execution_count": 31,
   "metadata": {
    "scrolled": true
   },
   "outputs": [
    {
     "data": {
      "text/plain": [
       "True"
      ]
     },
     "execution_count": 31,
     "metadata": {},
     "output_type": "execute_result"
    }
   ],
   "source": [
    "df_frames.shape[0] == sum(df_games['duration'])"
   ]
  },
  {
   "cell_type": "markdown",
   "metadata": {},
   "source": [
    "According to user Summate from the Slippi Discord channel, each character has unique action states. This is obvious, but what was crucial to know is that character's action state values can be identical, but represent different moves. For example, Fox and Falco's action state value of 341 each represent that they will use their blaster to shoot a laser. While they are the same values and have very similar, if not the same animations, the effect of each character's laser is very different. Fox is able to shoot his blaster at a faster rate than Falco, but it deals no knockback. It is crucial to map this values to be unique. This way, our model is able to interpret them as different moves rather than the same."
   ]
  },
  {
   "cell_type": "code",
   "execution_count": 32,
   "metadata": {},
   "outputs": [],
   "source": [
    "# If the value is less than 341 or greater than 375, then it is not a unique action state to Fox\n",
    "# Otherwise, it is a unique action state to Fox, so add 42 to each state to make it unique\n",
    "df_frames['fox_state'] = df_frames['fox_state'].map(lambda val: val if (val < 341) or (val > 375) else val + 42)"
   ]
  },
  {
   "cell_type": "code",
   "execution_count": 33,
   "metadata": {},
   "outputs": [],
   "source": [
    "# Same idea as the above cell, but add 77 to each unique action state value\n",
    "df_frames['nfox_state'] = df_frames['nfox_state'].map(lambda val: val if (val < 341) or (val > 375) else val + 77)"
   ]
  },
  {
   "cell_type": "markdown",
   "metadata": {},
   "source": [
    "Since we need to tell the model that how much time elapses from one row to another, we need to make the index of the dataframe to be reset. I will use video editing as an analogy to help explain why I reset the index to achieve this.\n",
    "\n",
    "If the index is reset, then the 0th row has an index of 0 and the final row has an index of 106,177. This is similar to taking the video of all the 13 games and appending each video to each other to make one large video that is 106,178 frames long."
   ]
  },
  {
   "cell_type": "code",
   "execution_count": 34,
   "metadata": {},
   "outputs": [],
   "source": [
    "df_frames.reset_index(inplace = True, drop = True)"
   ]
  },
  {
   "cell_type": "code",
   "execution_count": 35,
   "metadata": {},
   "outputs": [
    {
     "data": {
      "text/plain": [
       "Index(['game_id', 'frame_index', 'fox_cstick_x', 'fox_cstick_y',\n",
       "       'fox_joystick_x', 'fox_joystick_y', 'fox_trigger_analog', 'fox_Start',\n",
       "       'fox_Y', 'fox_X', 'fox_B', 'fox_A', 'fox_L', 'fox_R', 'fox_Z',\n",
       "       'fox_Dpad_Up', 'fox_Dpad_Down', 'fox_Dpad_Right', 'fox_Dpad_Left',\n",
       "       'fox_combo_count', 'fox_dmg', 'fox_direction', 'fox_last_hit_by',\n",
       "       'fox_position_x', 'fox_position_y', 'fox_shield', 'fox_state',\n",
       "       'fox_state_age', 'fox_stocks', 'nfox_cstick_x', 'nfox_cstick_y',\n",
       "       'nfox_joystick_x', 'nfox_joystick_y', 'nfox_trigger_analog',\n",
       "       'nfox_Start', 'nfox_Y', 'nfox_X', 'nfox_B', 'nfox_A', 'nfox_L',\n",
       "       'nfox_R', 'nfox_Z', 'nfox_Dpad_Up', 'nfox_Dpad_Down', 'nfox_Dpad_Right',\n",
       "       'nfox_Dpad_Left', 'nfox_combo_count', 'nfox_dmg', 'nfox_direction',\n",
       "       'nfox_last_hit_by', 'nfox_position_x', 'nfox_position_y', 'nfox_shield',\n",
       "       'nfox_state', 'nfox_state_age', 'nfox_stocks'],\n",
       "      dtype='object')"
      ]
     },
     "execution_count": 35,
     "metadata": {},
     "output_type": "execute_result"
    }
   ],
   "source": [
    "df_frames.columns"
   ]
  },
  {
   "cell_type": "markdown",
   "metadata": {},
   "source": [
    "After checking the set of values for each button on the controller, I have found that the below buttons are all never pressed. This makes sense for Start and the Dpad buttons. If a player pauses mid-match, then they forfeit one stock. The Dpad buttons cause a character to taunt. Players don't usually taunt in a match because it usually shows bad sportsmanship and leaves their character vulnerable for a long time."
   ]
  },
  {
   "cell_type": "code",
   "execution_count": 36,
   "metadata": {},
   "outputs": [
    {
     "data": {
      "text/plain": [
       "{0}"
      ]
     },
     "execution_count": 36,
     "metadata": {},
     "output_type": "execute_result"
    }
   ],
   "source": [
    "set(df_frames['nfox_trigger_analog'].values)"
   ]
  },
  {
   "cell_type": "code",
   "execution_count": 37,
   "metadata": {},
   "outputs": [
    {
     "data": {
      "text/plain": [
       "{0}"
      ]
     },
     "execution_count": 37,
     "metadata": {},
     "output_type": "execute_result"
    }
   ],
   "source": [
    "set(df_frames['fox_trigger_analog'].values)"
   ]
  },
  {
   "cell_type": "code",
   "execution_count": 38,
   "metadata": {},
   "outputs": [
    {
     "data": {
      "text/plain": [
       "{0}"
      ]
     },
     "execution_count": 38,
     "metadata": {},
     "output_type": "execute_result"
    }
   ],
   "source": [
    "set(df_frames['fox_Start'].values)"
   ]
  },
  {
   "cell_type": "code",
   "execution_count": 39,
   "metadata": {},
   "outputs": [
    {
     "data": {
      "text/plain": [
       "{0}"
      ]
     },
     "execution_count": 39,
     "metadata": {},
     "output_type": "execute_result"
    }
   ],
   "source": [
    "set(df_frames['nfox_Start'].values)"
   ]
  },
  {
   "cell_type": "code",
   "execution_count": 40,
   "metadata": {},
   "outputs": [
    {
     "data": {
      "text/plain": [
       "{0}"
      ]
     },
     "execution_count": 40,
     "metadata": {},
     "output_type": "execute_result"
    }
   ],
   "source": [
    "set(df_frames['nfox_Dpad_Up'].values)"
   ]
  },
  {
   "cell_type": "code",
   "execution_count": 41,
   "metadata": {},
   "outputs": [
    {
     "data": {
      "text/plain": [
       "{0}"
      ]
     },
     "execution_count": 41,
     "metadata": {},
     "output_type": "execute_result"
    }
   ],
   "source": [
    "set(df_frames['nfox_Dpad_Down'].values)"
   ]
  },
  {
   "cell_type": "code",
   "execution_count": 42,
   "metadata": {},
   "outputs": [
    {
     "data": {
      "text/plain": [
       "{0}"
      ]
     },
     "execution_count": 42,
     "metadata": {},
     "output_type": "execute_result"
    }
   ],
   "source": [
    "set(df_frames['nfox_Dpad_Left'].values)"
   ]
  },
  {
   "cell_type": "code",
   "execution_count": 43,
   "metadata": {},
   "outputs": [
    {
     "data": {
      "text/plain": [
       "{0}"
      ]
     },
     "execution_count": 43,
     "metadata": {},
     "output_type": "execute_result"
    }
   ],
   "source": [
    "set(df_frames['nfox_Dpad_Right'].values)"
   ]
  },
  {
   "cell_type": "code",
   "execution_count": 44,
   "metadata": {},
   "outputs": [
    {
     "data": {
      "text/plain": [
       "{0}"
      ]
     },
     "execution_count": 44,
     "metadata": {},
     "output_type": "execute_result"
    }
   ],
   "source": [
    "set(df_frames['fox_Dpad_Up'].values)"
   ]
  },
  {
   "cell_type": "code",
   "execution_count": 45,
   "metadata": {},
   "outputs": [
    {
     "data": {
      "text/plain": [
       "{0}"
      ]
     },
     "execution_count": 45,
     "metadata": {},
     "output_type": "execute_result"
    }
   ],
   "source": [
    "set(df_frames['fox_Dpad_Down'].values)"
   ]
  },
  {
   "cell_type": "code",
   "execution_count": 46,
   "metadata": {},
   "outputs": [
    {
     "data": {
      "text/plain": [
       "{0}"
      ]
     },
     "execution_count": 46,
     "metadata": {},
     "output_type": "execute_result"
    }
   ],
   "source": [
    "set(df_frames['fox_Dpad_Left'].values)"
   ]
  },
  {
   "cell_type": "code",
   "execution_count": 47,
   "metadata": {},
   "outputs": [
    {
     "data": {
      "text/plain": [
       "{0}"
      ]
     },
     "execution_count": 47,
     "metadata": {},
     "output_type": "execute_result"
    }
   ],
   "source": [
    "set(df_frames['fox_Dpad_Right'].values)"
   ]
  },
  {
   "cell_type": "markdown",
   "metadata": {},
   "source": [
    "Since these buttons are never pushed, they are not needed to feed to the model, so we can go ahead and drop them."
   ]
  },
  {
   "cell_type": "code",
   "execution_count": 48,
   "metadata": {},
   "outputs": [],
   "source": [
    "df_frames.drop(columns = ['fox_trigger_analog', 'nfox_trigger_analog', 'fox_Start', 'nfox_Start', \n",
    "                          'fox_Dpad_Up', 'fox_Dpad_Down', 'fox_Dpad_Left', 'fox_Dpad_Right', 'nfox_Dpad_Up',\n",
    "                          'nfox_Dpad_Down', 'nfox_Dpad_Left', 'nfox_Dpad_Right'], inplace = True)"
   ]
  },
  {
   "cell_type": "code",
   "execution_count": 49,
   "metadata": {},
   "outputs": [],
   "source": [
    "df_frames.to_csv('../fox-falco-fd-frames.csv')"
   ]
  }
 ],
 "metadata": {
  "kernelspec": {
   "display_name": "Python 3",
   "language": "python",
   "name": "python3"
  },
  "language_info": {
   "codemirror_mode": {
    "name": "ipython",
    "version": 3
   },
   "file_extension": ".py",
   "mimetype": "text/x-python",
   "name": "python",
   "nbconvert_exporter": "python",
   "pygments_lexer": "ipython3",
   "version": "3.7.5"
  }
 },
 "nbformat": 4,
 "nbformat_minor": 2
}
