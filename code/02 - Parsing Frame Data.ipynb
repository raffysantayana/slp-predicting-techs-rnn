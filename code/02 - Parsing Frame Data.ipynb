{
 "cells": [
  {
   "cell_type": "markdown",
   "metadata": {},
   "source": [
    "# Converting Slippi to a DataFrame: The Frames\n",
    "## Table of Contents\n",
    "1. [Imports](#import)\n",
    "2. [Reading in Metadata](#metadata)\n",
    "3. [Mapping Character Names to Values](#character)\n",
    "4. [Mapping Stage Names to Values](#stage)\n",
    "5. [Filtering Games](#filter)\n",
    "6. [Parsing Frame Data](#parse)<br>\n",
    "    a. [Getting Fox and Falco Ports](#ports)<br>\n",
    "    b. [Getting the Filepaths](#filepaths)<br>\n",
    "    c. [The Function](#function)\n",
    "7. [Exploring the Frames](#eda)\n",
    "<a id = 'import'></a>\n",
    "## Imports"
   ]
  },
  {
   "cell_type": "code",
   "execution_count": 1,
   "metadata": {
    "ExecuteTime": {
     "end_time": "2020-03-04T17:01:48.742510Z",
     "start_time": "2020-03-04T17:01:47.972483Z"
    }
   },
   "outputs": [],
   "source": [
    "import pandas as pd\n",
    "import numpy as np\n",
    "import slippi as slp\n",
    "import os"
   ]
  },
  {
   "cell_type": "markdown",
   "metadata": {},
   "source": [
    "<a id = 'metadata'></a>\n",
    "## Reading in MetaData"
   ]
  },
  {
   "cell_type": "code",
   "execution_count": 2,
   "metadata": {
    "ExecuteTime": {
     "end_time": "2020-03-04T17:01:48.789350Z",
     "start_time": "2020-03-04T17:01:48.745403Z"
    }
   },
   "outputs": [
    {
     "data": {
      "text/html": [
       "<div>\n",
       "<style scoped>\n",
       "    .dataframe tbody tr th:only-of-type {\n",
       "        vertical-align: middle;\n",
       "    }\n",
       "\n",
       "    .dataframe tbody tr th {\n",
       "        vertical-align: top;\n",
       "    }\n",
       "\n",
       "    .dataframe thead th {\n",
       "        text-align: right;\n",
       "    }\n",
       "</style>\n",
       "<table border=\"1\" class=\"dataframe\">\n",
       "  <thead>\n",
       "    <tr style=\"text-align: right;\">\n",
       "      <th></th>\n",
       "      <th>Unnamed: 0</th>\n",
       "      <th>game_id</th>\n",
       "      <th>date</th>\n",
       "      <th>duration</th>\n",
       "      <th>platform</th>\n",
       "      <th>p1_char</th>\n",
       "      <th>p2_char</th>\n",
       "      <th>p3_char</th>\n",
       "      <th>p4_char</th>\n",
       "      <th>stage</th>\n",
       "      <th>is_teams</th>\n",
       "      <th>is_pal</th>\n",
       "    </tr>\n",
       "  </thead>\n",
       "  <tbody>\n",
       "    <tr>\n",
       "      <th>0</th>\n",
       "      <td>0</td>\n",
       "      <td>USB1-20190406T180838</td>\n",
       "      <td>2019-04-06 18:08:38+00:00</td>\n",
       "      <td>18517</td>\n",
       "      <td>Platform.NINTENDONT</td>\n",
       "      <td>15.0</td>\n",
       "      <td>NaN</td>\n",
       "      <td>NaN</td>\n",
       "      <td>14.0</td>\n",
       "      <td>2</td>\n",
       "      <td>False</td>\n",
       "      <td>False</td>\n",
       "    </tr>\n",
       "    <tr>\n",
       "      <th>1</th>\n",
       "      <td>1</td>\n",
       "      <td>USB1-20190406T172110</td>\n",
       "      <td>2019-04-06 17:21:10+00:00</td>\n",
       "      <td>11637</td>\n",
       "      <td>Platform.NINTENDONT</td>\n",
       "      <td>NaN</td>\n",
       "      <td>9.0</td>\n",
       "      <td>NaN</td>\n",
       "      <td>16.0</td>\n",
       "      <td>3</td>\n",
       "      <td>False</td>\n",
       "      <td>False</td>\n",
       "    </tr>\n",
       "    <tr>\n",
       "      <th>2</th>\n",
       "      <td>2</td>\n",
       "      <td>USB1-20190406T171424</td>\n",
       "      <td>2019-04-06 17:14:24+00:00</td>\n",
       "      <td>5305</td>\n",
       "      <td>Platform.NINTENDONT</td>\n",
       "      <td>NaN</td>\n",
       "      <td>9.0</td>\n",
       "      <td>NaN</td>\n",
       "      <td>16.0</td>\n",
       "      <td>31</td>\n",
       "      <td>False</td>\n",
       "      <td>False</td>\n",
       "    </tr>\n",
       "    <tr>\n",
       "      <th>3</th>\n",
       "      <td>3</td>\n",
       "      <td>USB1-20190406T174216</td>\n",
       "      <td>2019-04-06 17:42:16+00:00</td>\n",
       "      <td>15823</td>\n",
       "      <td>Platform.NINTENDONT</td>\n",
       "      <td>14.0</td>\n",
       "      <td>NaN</td>\n",
       "      <td>15.0</td>\n",
       "      <td>NaN</td>\n",
       "      <td>31</td>\n",
       "      <td>False</td>\n",
       "      <td>False</td>\n",
       "    </tr>\n",
       "    <tr>\n",
       "      <th>4</th>\n",
       "      <td>4</td>\n",
       "      <td>USB1-20190406T175743</td>\n",
       "      <td>2019-04-06 17:57:43+00:00</td>\n",
       "      <td>12348</td>\n",
       "      <td>Platform.NINTENDONT</td>\n",
       "      <td>14.0</td>\n",
       "      <td>NaN</td>\n",
       "      <td>14.0</td>\n",
       "      <td>NaN</td>\n",
       "      <td>31</td>\n",
       "      <td>False</td>\n",
       "      <td>False</td>\n",
       "    </tr>\n",
       "  </tbody>\n",
       "</table>\n",
       "</div>"
      ],
      "text/plain": [
       "   Unnamed: 0               game_id                       date  duration  \\\n",
       "0           0  USB1-20190406T180838  2019-04-06 18:08:38+00:00     18517   \n",
       "1           1  USB1-20190406T172110  2019-04-06 17:21:10+00:00     11637   \n",
       "2           2  USB1-20190406T171424  2019-04-06 17:14:24+00:00      5305   \n",
       "3           3  USB1-20190406T174216  2019-04-06 17:42:16+00:00     15823   \n",
       "4           4  USB1-20190406T175743  2019-04-06 17:57:43+00:00     12348   \n",
       "\n",
       "              platform  p1_char  p2_char  p3_char  p4_char  stage  is_teams  \\\n",
       "0  Platform.NINTENDONT     15.0      NaN      NaN     14.0      2     False   \n",
       "1  Platform.NINTENDONT      NaN      9.0      NaN     16.0      3     False   \n",
       "2  Platform.NINTENDONT      NaN      9.0      NaN     16.0     31     False   \n",
       "3  Platform.NINTENDONT     14.0      NaN     15.0      NaN     31     False   \n",
       "4  Platform.NINTENDONT     14.0      NaN     14.0      NaN     31     False   \n",
       "\n",
       "   is_pal  \n",
       "0   False  \n",
       "1   False  \n",
       "2   False  \n",
       "3   False  \n",
       "4   False  "
      ]
     },
     "execution_count": 2,
     "metadata": {},
     "output_type": "execute_result"
    }
   ],
   "source": [
    "df_fp9 = pd.read_csv('../data/fp9.csv')\n",
    "df_fp9.head()"
   ]
  },
  {
   "cell_type": "code",
   "execution_count": 3,
   "metadata": {
    "ExecuteTime": {
     "end_time": "2020-03-04T17:01:48.818588Z",
     "start_time": "2020-03-04T17:01:48.793991Z"
    }
   },
   "outputs": [
    {
     "data": {
      "text/html": [
       "<div>\n",
       "<style scoped>\n",
       "    .dataframe tbody tr th:only-of-type {\n",
       "        vertical-align: middle;\n",
       "    }\n",
       "\n",
       "    .dataframe tbody tr th {\n",
       "        vertical-align: top;\n",
       "    }\n",
       "\n",
       "    .dataframe thead th {\n",
       "        text-align: right;\n",
       "    }\n",
       "</style>\n",
       "<table border=\"1\" class=\"dataframe\">\n",
       "  <thead>\n",
       "    <tr style=\"text-align: right;\">\n",
       "      <th></th>\n",
       "      <th>game_id</th>\n",
       "      <th>date</th>\n",
       "      <th>duration</th>\n",
       "      <th>platform</th>\n",
       "      <th>p1_char</th>\n",
       "      <th>p2_char</th>\n",
       "      <th>p3_char</th>\n",
       "      <th>p4_char</th>\n",
       "      <th>stage</th>\n",
       "      <th>is_teams</th>\n",
       "      <th>is_pal</th>\n",
       "    </tr>\n",
       "  </thead>\n",
       "  <tbody>\n",
       "    <tr>\n",
       "      <th>0</th>\n",
       "      <td>USB1-20190406T180838</td>\n",
       "      <td>2019-04-06 18:08:38+00:00</td>\n",
       "      <td>18517</td>\n",
       "      <td>Platform.NINTENDONT</td>\n",
       "      <td>15.0</td>\n",
       "      <td>NaN</td>\n",
       "      <td>NaN</td>\n",
       "      <td>14.0</td>\n",
       "      <td>2</td>\n",
       "      <td>False</td>\n",
       "      <td>False</td>\n",
       "    </tr>\n",
       "    <tr>\n",
       "      <th>1</th>\n",
       "      <td>USB1-20190406T172110</td>\n",
       "      <td>2019-04-06 17:21:10+00:00</td>\n",
       "      <td>11637</td>\n",
       "      <td>Platform.NINTENDONT</td>\n",
       "      <td>NaN</td>\n",
       "      <td>9.0</td>\n",
       "      <td>NaN</td>\n",
       "      <td>16.0</td>\n",
       "      <td>3</td>\n",
       "      <td>False</td>\n",
       "      <td>False</td>\n",
       "    </tr>\n",
       "    <tr>\n",
       "      <th>2</th>\n",
       "      <td>USB1-20190406T171424</td>\n",
       "      <td>2019-04-06 17:14:24+00:00</td>\n",
       "      <td>5305</td>\n",
       "      <td>Platform.NINTENDONT</td>\n",
       "      <td>NaN</td>\n",
       "      <td>9.0</td>\n",
       "      <td>NaN</td>\n",
       "      <td>16.0</td>\n",
       "      <td>31</td>\n",
       "      <td>False</td>\n",
       "      <td>False</td>\n",
       "    </tr>\n",
       "    <tr>\n",
       "      <th>3</th>\n",
       "      <td>USB1-20190406T174216</td>\n",
       "      <td>2019-04-06 17:42:16+00:00</td>\n",
       "      <td>15823</td>\n",
       "      <td>Platform.NINTENDONT</td>\n",
       "      <td>14.0</td>\n",
       "      <td>NaN</td>\n",
       "      <td>15.0</td>\n",
       "      <td>NaN</td>\n",
       "      <td>31</td>\n",
       "      <td>False</td>\n",
       "      <td>False</td>\n",
       "    </tr>\n",
       "    <tr>\n",
       "      <th>4</th>\n",
       "      <td>USB1-20190406T175743</td>\n",
       "      <td>2019-04-06 17:57:43+00:00</td>\n",
       "      <td>12348</td>\n",
       "      <td>Platform.NINTENDONT</td>\n",
       "      <td>14.0</td>\n",
       "      <td>NaN</td>\n",
       "      <td>14.0</td>\n",
       "      <td>NaN</td>\n",
       "      <td>31</td>\n",
       "      <td>False</td>\n",
       "      <td>False</td>\n",
       "    </tr>\n",
       "  </tbody>\n",
       "</table>\n",
       "</div>"
      ],
      "text/plain": [
       "                game_id                       date  duration  \\\n",
       "0  USB1-20190406T180838  2019-04-06 18:08:38+00:00     18517   \n",
       "1  USB1-20190406T172110  2019-04-06 17:21:10+00:00     11637   \n",
       "2  USB1-20190406T171424  2019-04-06 17:14:24+00:00      5305   \n",
       "3  USB1-20190406T174216  2019-04-06 17:42:16+00:00     15823   \n",
       "4  USB1-20190406T175743  2019-04-06 17:57:43+00:00     12348   \n",
       "\n",
       "              platform  p1_char  p2_char  p3_char  p4_char  stage  is_teams  \\\n",
       "0  Platform.NINTENDONT     15.0      NaN      NaN     14.0      2     False   \n",
       "1  Platform.NINTENDONT      NaN      9.0      NaN     16.0      3     False   \n",
       "2  Platform.NINTENDONT      NaN      9.0      NaN     16.0     31     False   \n",
       "3  Platform.NINTENDONT     14.0      NaN     15.0      NaN     31     False   \n",
       "4  Platform.NINTENDONT     14.0      NaN     14.0      NaN     31     False   \n",
       "\n",
       "   is_pal  \n",
       "0   False  \n",
       "1   False  \n",
       "2   False  \n",
       "3   False  \n",
       "4   False  "
      ]
     },
     "execution_count": 3,
     "metadata": {},
     "output_type": "execute_result"
    }
   ],
   "source": [
    "# Dropping Unnamed: 0 column\n",
    "df_fp9.drop(columns = ['Unnamed: 0'], inplace = True)\n",
    "df_fp9.head()"
   ]
  },
  {
   "cell_type": "markdown",
   "metadata": {},
   "source": [
    "Are there any duplicate games? If there are no duplicate `game_id`s, then set `game_id` as the index. It should set the column as the index because ` copy` is in the `game_id` for those that are potentially duplicates."
   ]
  },
  {
   "cell_type": "code",
   "execution_count": 4,
   "metadata": {
    "ExecuteTime": {
     "end_time": "2020-03-04T17:01:48.875647Z",
     "start_time": "2020-03-04T17:01:48.821642Z"
    }
   },
   "outputs": [
    {
     "name": "stdout",
     "output_type": "stream",
     "text": [
      "True\n"
     ]
    },
    {
     "data": {
      "text/html": [
       "<div>\n",
       "<style scoped>\n",
       "    .dataframe tbody tr th:only-of-type {\n",
       "        vertical-align: middle;\n",
       "    }\n",
       "\n",
       "    .dataframe tbody tr th {\n",
       "        vertical-align: top;\n",
       "    }\n",
       "\n",
       "    .dataframe thead th {\n",
       "        text-align: right;\n",
       "    }\n",
       "</style>\n",
       "<table border=\"1\" class=\"dataframe\">\n",
       "  <thead>\n",
       "    <tr style=\"text-align: right;\">\n",
       "      <th></th>\n",
       "      <th>date</th>\n",
       "      <th>duration</th>\n",
       "      <th>platform</th>\n",
       "      <th>p1_char</th>\n",
       "      <th>p2_char</th>\n",
       "      <th>p3_char</th>\n",
       "      <th>p4_char</th>\n",
       "      <th>stage</th>\n",
       "      <th>is_teams</th>\n",
       "      <th>is_pal</th>\n",
       "    </tr>\n",
       "    <tr>\n",
       "      <th>game_id</th>\n",
       "      <th></th>\n",
       "      <th></th>\n",
       "      <th></th>\n",
       "      <th></th>\n",
       "      <th></th>\n",
       "      <th></th>\n",
       "      <th></th>\n",
       "      <th></th>\n",
       "      <th></th>\n",
       "      <th></th>\n",
       "    </tr>\n",
       "  </thead>\n",
       "  <tbody>\n",
       "    <tr>\n",
       "      <th>USB1-20190406T180838</th>\n",
       "      <td>2019-04-06 18:08:38+00:00</td>\n",
       "      <td>18517</td>\n",
       "      <td>Platform.NINTENDONT</td>\n",
       "      <td>15.0</td>\n",
       "      <td>NaN</td>\n",
       "      <td>NaN</td>\n",
       "      <td>14.0</td>\n",
       "      <td>2</td>\n",
       "      <td>False</td>\n",
       "      <td>False</td>\n",
       "    </tr>\n",
       "    <tr>\n",
       "      <th>USB1-20190406T172110</th>\n",
       "      <td>2019-04-06 17:21:10+00:00</td>\n",
       "      <td>11637</td>\n",
       "      <td>Platform.NINTENDONT</td>\n",
       "      <td>NaN</td>\n",
       "      <td>9.0</td>\n",
       "      <td>NaN</td>\n",
       "      <td>16.0</td>\n",
       "      <td>3</td>\n",
       "      <td>False</td>\n",
       "      <td>False</td>\n",
       "    </tr>\n",
       "    <tr>\n",
       "      <th>USB1-20190406T171424</th>\n",
       "      <td>2019-04-06 17:14:24+00:00</td>\n",
       "      <td>5305</td>\n",
       "      <td>Platform.NINTENDONT</td>\n",
       "      <td>NaN</td>\n",
       "      <td>9.0</td>\n",
       "      <td>NaN</td>\n",
       "      <td>16.0</td>\n",
       "      <td>31</td>\n",
       "      <td>False</td>\n",
       "      <td>False</td>\n",
       "    </tr>\n",
       "    <tr>\n",
       "      <th>USB1-20190406T174216</th>\n",
       "      <td>2019-04-06 17:42:16+00:00</td>\n",
       "      <td>15823</td>\n",
       "      <td>Platform.NINTENDONT</td>\n",
       "      <td>14.0</td>\n",
       "      <td>NaN</td>\n",
       "      <td>15.0</td>\n",
       "      <td>NaN</td>\n",
       "      <td>31</td>\n",
       "      <td>False</td>\n",
       "      <td>False</td>\n",
       "    </tr>\n",
       "    <tr>\n",
       "      <th>USB1-20190406T175743</th>\n",
       "      <td>2019-04-06 17:57:43+00:00</td>\n",
       "      <td>12348</td>\n",
       "      <td>Platform.NINTENDONT</td>\n",
       "      <td>14.0</td>\n",
       "      <td>NaN</td>\n",
       "      <td>14.0</td>\n",
       "      <td>NaN</td>\n",
       "      <td>31</td>\n",
       "      <td>False</td>\n",
       "      <td>False</td>\n",
       "    </tr>\n",
       "  </tbody>\n",
       "</table>\n",
       "</div>"
      ],
      "text/plain": [
       "                                           date  duration  \\\n",
       "game_id                                                     \n",
       "USB1-20190406T180838  2019-04-06 18:08:38+00:00     18517   \n",
       "USB1-20190406T172110  2019-04-06 17:21:10+00:00     11637   \n",
       "USB1-20190406T171424  2019-04-06 17:14:24+00:00      5305   \n",
       "USB1-20190406T174216  2019-04-06 17:42:16+00:00     15823   \n",
       "USB1-20190406T175743  2019-04-06 17:57:43+00:00     12348   \n",
       "\n",
       "                                 platform  p1_char  p2_char  p3_char  p4_char  \\\n",
       "game_id                                                                         \n",
       "USB1-20190406T180838  Platform.NINTENDONT     15.0      NaN      NaN     14.0   \n",
       "USB1-20190406T172110  Platform.NINTENDONT      NaN      9.0      NaN     16.0   \n",
       "USB1-20190406T171424  Platform.NINTENDONT      NaN      9.0      NaN     16.0   \n",
       "USB1-20190406T174216  Platform.NINTENDONT     14.0      NaN     15.0      NaN   \n",
       "USB1-20190406T175743  Platform.NINTENDONT     14.0      NaN     14.0      NaN   \n",
       "\n",
       "                      stage  is_teams  is_pal  \n",
       "game_id                                        \n",
       "USB1-20190406T180838      2     False   False  \n",
       "USB1-20190406T172110      3     False   False  \n",
       "USB1-20190406T171424     31     False   False  \n",
       "USB1-20190406T174216     31     False   False  \n",
       "USB1-20190406T175743     31     False   False  "
      ]
     },
     "execution_count": 4,
     "metadata": {},
     "output_type": "execute_result"
    }
   ],
   "source": [
    "if df_fp9.shape == df_fp9.drop_duplicates().shape:\n",
    "    df_fp9.set_index('game_id', inplace = True)\n",
    "    print(True)\n",
    "else:\n",
    "    print(False)\n",
    "df_fp9.head()"
   ]
  },
  {
   "cell_type": "markdown",
   "metadata": {},
   "source": [
    "<a id = 'character'></a>\n",
    "## Mapping Character Names to Values"
   ]
  },
  {
   "cell_type": "code",
   "execution_count": 5,
   "metadata": {
    "ExecuteTime": {
     "end_time": "2020-03-04T17:01:48.896165Z",
     "start_time": "2020-03-04T17:01:48.880171Z"
    }
   },
   "outputs": [
    {
     "data": {
      "text/plain": [
       "9.0     161\n",
       "20.0    146\n",
       "2.0     137\n",
       "0.0      62\n",
       "15.0     56\n",
       "19.0     42\n",
       "16.0     30\n",
       "14.0     22\n",
       "22.0     19\n",
       "1.0      19\n",
       "12.0     14\n",
       "25.0     12\n",
       "7.0       6\n",
       "13.0      3\n",
       "18.0      3\n",
       "8.0       3\n",
       "3.0       2\n",
       "6.0       2\n",
       "5.0       1\n",
       "4.0       1\n",
       "21.0      1\n",
       "Name: p1_char, dtype: int64"
      ]
     },
     "execution_count": 5,
     "metadata": {},
     "output_type": "execute_result"
    }
   ],
   "source": [
    "# Reminder: Someone is Player 1 if their port index is 0 in the Game.start.players tuple\n",
    "df_fp9['p1_char'].value_counts()"
   ]
  },
  {
   "cell_type": "markdown",
   "metadata": {},
   "source": [
    "For an easier time determining which character each player used in the game, I will be using the [documentation](https://py-slippi.readthedocs.io/en/latest/source/slippi.html) to make sure they are appropriately mapped. Upon looking into the docs, I noticed that there are two enumeration objects regarding characters, `CSSCharacter` and `InGameCharacter`. These objects label all tournament legal chracters, but in different orders. For example, Mario has a value of 0 in the `InGameCharacter` object, but has a value of 8 in `CSSCharacter`. Since I know which characters are more frequently played in tournaments, I'll take the value counts of one character column and determine if the `CSSCharacter` was interpretted or `InGameCharacter`.\n",
    "\n",
    "| Character Value | Count |  CSSCharacter  | InGameCharacter |\n",
    "|:---------------:|:-----:|:--------------:|:---------------:|\n",
    "|        9        |  161  |      Marth     |      Peach      |\n",
    "|        20       |  146  |      Falco     |    Young Link   |\n",
    "|        2        |  137  |       Fox      |  Captain Falcon |\n",
    "|        0        |  62   | Captain Falcon |      Mario      |\n",
    "\n",
    "The most frequently used character among those I established to be Player 1 is the character whose value is 9. Since both characters are popular relative to the rest of the characters, I am not completely certain that a value of 9 represents Marth or Peach.\n",
    "\n",
    "The second most frequent character is value 20. I am very confident that this is Falco because his performance is much better than Young Link's. So I'm inclined to say that the values represent the `CSSCharacter` object rather than the `InGameCharacgter` object. Just to be more confident than very confident, I will continue down the list.\n",
    "\n",
    "Next is the character value of 2. This value can either represent Fox or Captain Falcon. There is not much for me to interpret because both charaters are very popular in tournament play.\n",
    "\n",
    "The charcter value of 0 represents either Captain Falcon or Mario. This is a similar comparison to Falco and Young Link. Captain Falcon and Falco both get much more tournament play than Young Link and Mario. I can comfortably continue mapping the characters using the `CSSCharacter` values."
   ]
  },
  {
   "cell_type": "code",
   "execution_count": 6,
   "metadata": {
    "ExecuteTime": {
     "end_time": "2020-03-04T17:01:48.915368Z",
     "start_time": "2020-03-04T17:01:48.899626Z"
    }
   },
   "outputs": [],
   "source": [
    "# A dictionary to map CSSCharacter values to their respective character names\n",
    "csscharacter = {\n",
    "    0: 'Captain Falcon',\n",
    "    1: 'Donkey Kong',\n",
    "    2: 'Fox',\n",
    "    3: 'Game and Watch',\n",
    "    4: 'Kirby',\n",
    "    5: 'Bowser',\n",
    "    6: 'Link',\n",
    "    7: 'Luigi',\n",
    "    8: 'Mario',\n",
    "    9: 'Marth',\n",
    "    10: 'Mewtwo',\n",
    "    11: 'Ness',\n",
    "    12: 'Peach',\n",
    "    13: 'Pikachu',\n",
    "    14: 'Ice Climbers',\n",
    "    15: 'Jigglypuff',\n",
    "    16: 'Samus',\n",
    "    17: 'Yoshi',\n",
    "    18: 'Zelda',\n",
    "    19: 'Sheik',\n",
    "    20: 'Falco',\n",
    "    21: 'Young Link',\n",
    "    22: 'Dr. Mario',\n",
    "    23: 'Roy',\n",
    "    24: 'Pichu',\n",
    "    25: 'Ganondorf'\n",
    "}"
   ]
  },
  {
   "cell_type": "code",
   "execution_count": 7,
   "metadata": {
    "ExecuteTime": {
     "end_time": "2020-03-04T17:01:48.970175Z",
     "start_time": "2020-03-04T17:01:48.919666Z"
    },
    "scrolled": true
   },
   "outputs": [
    {
     "data": {
      "text/html": [
       "<div>\n",
       "<style scoped>\n",
       "    .dataframe tbody tr th:only-of-type {\n",
       "        vertical-align: middle;\n",
       "    }\n",
       "\n",
       "    .dataframe tbody tr th {\n",
       "        vertical-align: top;\n",
       "    }\n",
       "\n",
       "    .dataframe thead th {\n",
       "        text-align: right;\n",
       "    }\n",
       "</style>\n",
       "<table border=\"1\" class=\"dataframe\">\n",
       "  <thead>\n",
       "    <tr style=\"text-align: right;\">\n",
       "      <th></th>\n",
       "      <th>date</th>\n",
       "      <th>duration</th>\n",
       "      <th>platform</th>\n",
       "      <th>p1_char</th>\n",
       "      <th>p2_char</th>\n",
       "      <th>p3_char</th>\n",
       "      <th>p4_char</th>\n",
       "      <th>stage</th>\n",
       "      <th>is_teams</th>\n",
       "      <th>is_pal</th>\n",
       "      <th>p1_char_name</th>\n",
       "      <th>p2_char_name</th>\n",
       "      <th>p3_char_name</th>\n",
       "      <th>p4_char_name</th>\n",
       "    </tr>\n",
       "    <tr>\n",
       "      <th>game_id</th>\n",
       "      <th></th>\n",
       "      <th></th>\n",
       "      <th></th>\n",
       "      <th></th>\n",
       "      <th></th>\n",
       "      <th></th>\n",
       "      <th></th>\n",
       "      <th></th>\n",
       "      <th></th>\n",
       "      <th></th>\n",
       "      <th></th>\n",
       "      <th></th>\n",
       "      <th></th>\n",
       "      <th></th>\n",
       "    </tr>\n",
       "  </thead>\n",
       "  <tbody>\n",
       "    <tr>\n",
       "      <th>USB1-20190406T180838</th>\n",
       "      <td>2019-04-06 18:08:38+00:00</td>\n",
       "      <td>18517</td>\n",
       "      <td>Platform.NINTENDONT</td>\n",
       "      <td>15.0</td>\n",
       "      <td>NaN</td>\n",
       "      <td>NaN</td>\n",
       "      <td>14.0</td>\n",
       "      <td>2</td>\n",
       "      <td>False</td>\n",
       "      <td>False</td>\n",
       "      <td>Jigglypuff</td>\n",
       "      <td>NaN</td>\n",
       "      <td>NaN</td>\n",
       "      <td>Ice Climbers</td>\n",
       "    </tr>\n",
       "    <tr>\n",
       "      <th>USB1-20190406T172110</th>\n",
       "      <td>2019-04-06 17:21:10+00:00</td>\n",
       "      <td>11637</td>\n",
       "      <td>Platform.NINTENDONT</td>\n",
       "      <td>NaN</td>\n",
       "      <td>9.0</td>\n",
       "      <td>NaN</td>\n",
       "      <td>16.0</td>\n",
       "      <td>3</td>\n",
       "      <td>False</td>\n",
       "      <td>False</td>\n",
       "      <td>NaN</td>\n",
       "      <td>Marth</td>\n",
       "      <td>NaN</td>\n",
       "      <td>Samus</td>\n",
       "    </tr>\n",
       "    <tr>\n",
       "      <th>USB1-20190406T171424</th>\n",
       "      <td>2019-04-06 17:14:24+00:00</td>\n",
       "      <td>5305</td>\n",
       "      <td>Platform.NINTENDONT</td>\n",
       "      <td>NaN</td>\n",
       "      <td>9.0</td>\n",
       "      <td>NaN</td>\n",
       "      <td>16.0</td>\n",
       "      <td>31</td>\n",
       "      <td>False</td>\n",
       "      <td>False</td>\n",
       "      <td>NaN</td>\n",
       "      <td>Marth</td>\n",
       "      <td>NaN</td>\n",
       "      <td>Samus</td>\n",
       "    </tr>\n",
       "    <tr>\n",
       "      <th>USB1-20190406T174216</th>\n",
       "      <td>2019-04-06 17:42:16+00:00</td>\n",
       "      <td>15823</td>\n",
       "      <td>Platform.NINTENDONT</td>\n",
       "      <td>14.0</td>\n",
       "      <td>NaN</td>\n",
       "      <td>15.0</td>\n",
       "      <td>NaN</td>\n",
       "      <td>31</td>\n",
       "      <td>False</td>\n",
       "      <td>False</td>\n",
       "      <td>Ice Climbers</td>\n",
       "      <td>NaN</td>\n",
       "      <td>Jigglypuff</td>\n",
       "      <td>NaN</td>\n",
       "    </tr>\n",
       "    <tr>\n",
       "      <th>USB1-20190406T175743</th>\n",
       "      <td>2019-04-06 17:57:43+00:00</td>\n",
       "      <td>12348</td>\n",
       "      <td>Platform.NINTENDONT</td>\n",
       "      <td>14.0</td>\n",
       "      <td>NaN</td>\n",
       "      <td>14.0</td>\n",
       "      <td>NaN</td>\n",
       "      <td>31</td>\n",
       "      <td>False</td>\n",
       "      <td>False</td>\n",
       "      <td>Ice Climbers</td>\n",
       "      <td>NaN</td>\n",
       "      <td>Ice Climbers</td>\n",
       "      <td>NaN</td>\n",
       "    </tr>\n",
       "  </tbody>\n",
       "</table>\n",
       "</div>"
      ],
      "text/plain": [
       "                                           date  duration  \\\n",
       "game_id                                                     \n",
       "USB1-20190406T180838  2019-04-06 18:08:38+00:00     18517   \n",
       "USB1-20190406T172110  2019-04-06 17:21:10+00:00     11637   \n",
       "USB1-20190406T171424  2019-04-06 17:14:24+00:00      5305   \n",
       "USB1-20190406T174216  2019-04-06 17:42:16+00:00     15823   \n",
       "USB1-20190406T175743  2019-04-06 17:57:43+00:00     12348   \n",
       "\n",
       "                                 platform  p1_char  p2_char  p3_char  p4_char  \\\n",
       "game_id                                                                         \n",
       "USB1-20190406T180838  Platform.NINTENDONT     15.0      NaN      NaN     14.0   \n",
       "USB1-20190406T172110  Platform.NINTENDONT      NaN      9.0      NaN     16.0   \n",
       "USB1-20190406T171424  Platform.NINTENDONT      NaN      9.0      NaN     16.0   \n",
       "USB1-20190406T174216  Platform.NINTENDONT     14.0      NaN     15.0      NaN   \n",
       "USB1-20190406T175743  Platform.NINTENDONT     14.0      NaN     14.0      NaN   \n",
       "\n",
       "                      stage  is_teams  is_pal  p1_char_name p2_char_name  \\\n",
       "game_id                                                                    \n",
       "USB1-20190406T180838      2     False   False    Jigglypuff          NaN   \n",
       "USB1-20190406T172110      3     False   False           NaN        Marth   \n",
       "USB1-20190406T171424     31     False   False           NaN        Marth   \n",
       "USB1-20190406T174216     31     False   False  Ice Climbers          NaN   \n",
       "USB1-20190406T175743     31     False   False  Ice Climbers          NaN   \n",
       "\n",
       "                      p3_char_name  p4_char_name  \n",
       "game_id                                           \n",
       "USB1-20190406T180838           NaN  Ice Climbers  \n",
       "USB1-20190406T172110           NaN         Samus  \n",
       "USB1-20190406T171424           NaN         Samus  \n",
       "USB1-20190406T174216    Jigglypuff           NaN  \n",
       "USB1-20190406T175743  Ice Climbers           NaN  "
      ]
     },
     "execution_count": 7,
     "metadata": {},
     "output_type": "execute_result"
    }
   ],
   "source": [
    "# Applying the map to each appropriate column\n",
    "df_fp9['p1_char_name'] = df_fp9['p1_char'].map(csscharacter)\n",
    "df_fp9['p2_char_name'] = df_fp9['p2_char'].map(csscharacter)\n",
    "df_fp9['p3_char_name'] = df_fp9['p3_char'].map(csscharacter)\n",
    "df_fp9['p4_char_name'] = df_fp9['p4_char'].map(csscharacter)\n",
    "df_fp9.head()"
   ]
  },
  {
   "cell_type": "markdown",
   "metadata": {},
   "source": [
    "<a id = \"stage\"></a>\n",
    "## Mapping Stage Names to Values"
   ]
  },
  {
   "cell_type": "code",
   "execution_count": 8,
   "metadata": {
    "ExecuteTime": {
     "end_time": "2020-03-04T17:01:48.997002Z",
     "start_time": "2020-03-04T17:01:48.978318Z"
    }
   },
   "outputs": [
    {
     "data": {
      "text/plain": [
       "31    268\n",
       "32    200\n",
       "28    182\n",
       "8     171\n",
       "3     143\n",
       "2     143\n",
       "20      1\n",
       "14      1\n",
       "Name: stage, dtype: int64"
      ]
     },
     "execution_count": 8,
     "metadata": {},
     "output_type": "execute_result"
    }
   ],
   "source": [
    "df_fp9['stage'].value_counts()"
   ]
  },
  {
   "cell_type": "markdown",
   "metadata": {},
   "source": [
    "I know that only six stages are tournament legal, so I anticipate that stage values 20 and 14 are not tournament legal stages. The other six should be Final Destiantion, Battlefield, Yoshi's Story, Fountain of Dreams, Dream Land 64, and Pokemon Stadium. Pokemon Stadium should be either value 2 or 3 because player's cannot start a set of games on that stage unless they both consent to it."
   ]
  },
  {
   "cell_type": "code",
   "execution_count": 9,
   "metadata": {
    "ExecuteTime": {
     "end_time": "2020-03-04T17:01:49.017003Z",
     "start_time": "2020-03-04T17:01:49.005194Z"
    }
   },
   "outputs": [],
   "source": [
    "stages = {\n",
    "    2: 'Fountain of Dreams',\n",
    "    3: 'Pokemon Stadium',\n",
    "    4: \"Princess Peach's Castle\",\n",
    "    5: 'Kongo Jungle',\n",
    "    6: 'Brinstar',\n",
    "    7: 'Corneria',\n",
    "    8: \"Yoshi's Story\",\n",
    "    9: 'Onett',\n",
    "    10: 'Mute City',\n",
    "    11: 'Rainbow Cruise',\n",
    "    12: 'Jungle Japes',\n",
    "    13: 'Great Bay',\n",
    "    14: 'Hyrule Temple',\n",
    "    15: 'Brinstar Depths',\n",
    "    16: \"Yoshi's Island\",\n",
    "    17: 'Green Greens',\n",
    "    18: 'Fourside',\n",
    "    19: 'Mushroom Kingdom I',\n",
    "    20: 'Mushroom Kingdom II',\n",
    "    22: 'Venom',\n",
    "    23: 'Poke Floats',\n",
    "    24: 'Big Blue',\n",
    "    25: 'Icicle Mountain',\n",
    "    26: 'Icetop',\n",
    "    27: 'Flat Zone',\n",
    "    28: 'Dream Land 64',\n",
    "    29: \"Yoshi's Island 64\",\n",
    "    30: 'Kongo Jungle 64',\n",
    "    31: 'Battlefield',\n",
    "    32: 'Final Destination'\n",
    "}"
   ]
  },
  {
   "cell_type": "code",
   "execution_count": 10,
   "metadata": {
    "ExecuteTime": {
     "end_time": "2020-03-04T17:01:49.063804Z",
     "start_time": "2020-03-04T17:01:49.020324Z"
    }
   },
   "outputs": [
    {
     "data": {
      "text/html": [
       "<div>\n",
       "<style scoped>\n",
       "    .dataframe tbody tr th:only-of-type {\n",
       "        vertical-align: middle;\n",
       "    }\n",
       "\n",
       "    .dataframe tbody tr th {\n",
       "        vertical-align: top;\n",
       "    }\n",
       "\n",
       "    .dataframe thead th {\n",
       "        text-align: right;\n",
       "    }\n",
       "</style>\n",
       "<table border=\"1\" class=\"dataframe\">\n",
       "  <thead>\n",
       "    <tr style=\"text-align: right;\">\n",
       "      <th></th>\n",
       "      <th>date</th>\n",
       "      <th>duration</th>\n",
       "      <th>platform</th>\n",
       "      <th>p1_char</th>\n",
       "      <th>p2_char</th>\n",
       "      <th>p3_char</th>\n",
       "      <th>p4_char</th>\n",
       "      <th>stage</th>\n",
       "      <th>is_teams</th>\n",
       "      <th>is_pal</th>\n",
       "      <th>p1_char_name</th>\n",
       "      <th>p2_char_name</th>\n",
       "      <th>p3_char_name</th>\n",
       "      <th>p4_char_name</th>\n",
       "      <th>stage_name</th>\n",
       "    </tr>\n",
       "    <tr>\n",
       "      <th>game_id</th>\n",
       "      <th></th>\n",
       "      <th></th>\n",
       "      <th></th>\n",
       "      <th></th>\n",
       "      <th></th>\n",
       "      <th></th>\n",
       "      <th></th>\n",
       "      <th></th>\n",
       "      <th></th>\n",
       "      <th></th>\n",
       "      <th></th>\n",
       "      <th></th>\n",
       "      <th></th>\n",
       "      <th></th>\n",
       "      <th></th>\n",
       "    </tr>\n",
       "  </thead>\n",
       "  <tbody>\n",
       "    <tr>\n",
       "      <th>USB1-20190406T180838</th>\n",
       "      <td>2019-04-06 18:08:38+00:00</td>\n",
       "      <td>18517</td>\n",
       "      <td>Platform.NINTENDONT</td>\n",
       "      <td>15.0</td>\n",
       "      <td>NaN</td>\n",
       "      <td>NaN</td>\n",
       "      <td>14.0</td>\n",
       "      <td>2</td>\n",
       "      <td>False</td>\n",
       "      <td>False</td>\n",
       "      <td>Jigglypuff</td>\n",
       "      <td>NaN</td>\n",
       "      <td>NaN</td>\n",
       "      <td>Ice Climbers</td>\n",
       "      <td>Fountain of Dreams</td>\n",
       "    </tr>\n",
       "    <tr>\n",
       "      <th>USB1-20190406T172110</th>\n",
       "      <td>2019-04-06 17:21:10+00:00</td>\n",
       "      <td>11637</td>\n",
       "      <td>Platform.NINTENDONT</td>\n",
       "      <td>NaN</td>\n",
       "      <td>9.0</td>\n",
       "      <td>NaN</td>\n",
       "      <td>16.0</td>\n",
       "      <td>3</td>\n",
       "      <td>False</td>\n",
       "      <td>False</td>\n",
       "      <td>NaN</td>\n",
       "      <td>Marth</td>\n",
       "      <td>NaN</td>\n",
       "      <td>Samus</td>\n",
       "      <td>Pokemon Stadium</td>\n",
       "    </tr>\n",
       "    <tr>\n",
       "      <th>USB1-20190406T171424</th>\n",
       "      <td>2019-04-06 17:14:24+00:00</td>\n",
       "      <td>5305</td>\n",
       "      <td>Platform.NINTENDONT</td>\n",
       "      <td>NaN</td>\n",
       "      <td>9.0</td>\n",
       "      <td>NaN</td>\n",
       "      <td>16.0</td>\n",
       "      <td>31</td>\n",
       "      <td>False</td>\n",
       "      <td>False</td>\n",
       "      <td>NaN</td>\n",
       "      <td>Marth</td>\n",
       "      <td>NaN</td>\n",
       "      <td>Samus</td>\n",
       "      <td>Battlefield</td>\n",
       "    </tr>\n",
       "    <tr>\n",
       "      <th>USB1-20190406T174216</th>\n",
       "      <td>2019-04-06 17:42:16+00:00</td>\n",
       "      <td>15823</td>\n",
       "      <td>Platform.NINTENDONT</td>\n",
       "      <td>14.0</td>\n",
       "      <td>NaN</td>\n",
       "      <td>15.0</td>\n",
       "      <td>NaN</td>\n",
       "      <td>31</td>\n",
       "      <td>False</td>\n",
       "      <td>False</td>\n",
       "      <td>Ice Climbers</td>\n",
       "      <td>NaN</td>\n",
       "      <td>Jigglypuff</td>\n",
       "      <td>NaN</td>\n",
       "      <td>Battlefield</td>\n",
       "    </tr>\n",
       "    <tr>\n",
       "      <th>USB1-20190406T175743</th>\n",
       "      <td>2019-04-06 17:57:43+00:00</td>\n",
       "      <td>12348</td>\n",
       "      <td>Platform.NINTENDONT</td>\n",
       "      <td>14.0</td>\n",
       "      <td>NaN</td>\n",
       "      <td>14.0</td>\n",
       "      <td>NaN</td>\n",
       "      <td>31</td>\n",
       "      <td>False</td>\n",
       "      <td>False</td>\n",
       "      <td>Ice Climbers</td>\n",
       "      <td>NaN</td>\n",
       "      <td>Ice Climbers</td>\n",
       "      <td>NaN</td>\n",
       "      <td>Battlefield</td>\n",
       "    </tr>\n",
       "  </tbody>\n",
       "</table>\n",
       "</div>"
      ],
      "text/plain": [
       "                                           date  duration  \\\n",
       "game_id                                                     \n",
       "USB1-20190406T180838  2019-04-06 18:08:38+00:00     18517   \n",
       "USB1-20190406T172110  2019-04-06 17:21:10+00:00     11637   \n",
       "USB1-20190406T171424  2019-04-06 17:14:24+00:00      5305   \n",
       "USB1-20190406T174216  2019-04-06 17:42:16+00:00     15823   \n",
       "USB1-20190406T175743  2019-04-06 17:57:43+00:00     12348   \n",
       "\n",
       "                                 platform  p1_char  p2_char  p3_char  p4_char  \\\n",
       "game_id                                                                         \n",
       "USB1-20190406T180838  Platform.NINTENDONT     15.0      NaN      NaN     14.0   \n",
       "USB1-20190406T172110  Platform.NINTENDONT      NaN      9.0      NaN     16.0   \n",
       "USB1-20190406T171424  Platform.NINTENDONT      NaN      9.0      NaN     16.0   \n",
       "USB1-20190406T174216  Platform.NINTENDONT     14.0      NaN     15.0      NaN   \n",
       "USB1-20190406T175743  Platform.NINTENDONT     14.0      NaN     14.0      NaN   \n",
       "\n",
       "                      stage  is_teams  is_pal  p1_char_name p2_char_name  \\\n",
       "game_id                                                                    \n",
       "USB1-20190406T180838      2     False   False    Jigglypuff          NaN   \n",
       "USB1-20190406T172110      3     False   False           NaN        Marth   \n",
       "USB1-20190406T171424     31     False   False           NaN        Marth   \n",
       "USB1-20190406T174216     31     False   False  Ice Climbers          NaN   \n",
       "USB1-20190406T175743     31     False   False  Ice Climbers          NaN   \n",
       "\n",
       "                      p3_char_name  p4_char_name          stage_name  \n",
       "game_id                                                               \n",
       "USB1-20190406T180838           NaN  Ice Climbers  Fountain of Dreams  \n",
       "USB1-20190406T172110           NaN         Samus     Pokemon Stadium  \n",
       "USB1-20190406T171424           NaN         Samus         Battlefield  \n",
       "USB1-20190406T174216    Jigglypuff           NaN         Battlefield  \n",
       "USB1-20190406T175743  Ice Climbers           NaN         Battlefield  "
      ]
     },
     "execution_count": 10,
     "metadata": {},
     "output_type": "execute_result"
    }
   ],
   "source": [
    "df_fp9['stage_name'] = df_fp9['stage'].map(stages)\n",
    "df_fp9.head()"
   ]
  },
  {
   "cell_type": "code",
   "execution_count": 11,
   "metadata": {
    "ExecuteTime": {
     "end_time": "2020-03-04T17:01:49.086026Z",
     "start_time": "2020-03-04T17:01:49.067835Z"
    }
   },
   "outputs": [
    {
     "data": {
      "text/plain": [
       "31    268\n",
       "32    200\n",
       "28    182\n",
       "8     171\n",
       "3     143\n",
       "2     143\n",
       "20      1\n",
       "14      1\n",
       "Name: stage, dtype: int64"
      ]
     },
     "execution_count": 11,
     "metadata": {},
     "output_type": "execute_result"
    }
   ],
   "source": [
    "df_fp9['stage'].value_counts()"
   ]
  },
  {
   "cell_type": "code",
   "execution_count": 12,
   "metadata": {
    "ExecuteTime": {
     "end_time": "2020-03-04T17:01:49.104692Z",
     "start_time": "2020-03-04T17:01:49.091396Z"
    }
   },
   "outputs": [
    {
     "data": {
      "text/plain": [
       "Battlefield            268\n",
       "Final Destination      200\n",
       "Dream Land 64          182\n",
       "Yoshi's Story          171\n",
       "Fountain of Dreams     143\n",
       "Pokemon Stadium        143\n",
       "Hyrule Temple            1\n",
       "Mushroom Kingdom II      1\n",
       "Name: stage_name, dtype: int64"
      ]
     },
     "execution_count": 12,
     "metadata": {},
     "output_type": "execute_result"
    }
   ],
   "source": [
    "df_fp9['stage_name'].value_counts()"
   ]
  },
  {
   "cell_type": "markdown",
   "metadata": {},
   "source": [
    "My hypotheses about what each stage value represents was held true. 20 and 14 are tournament illegal stages and Pokemon Stadium was value 3. I'm just too good."
   ]
  },
  {
   "cell_type": "markdown",
   "metadata": {},
   "source": [
    "<a id = 'filter'></a>\n",
    "## Filtering Games\n",
    "Now that we are able to determine which characters are in the game, we can begin filtering the games to those with...\n",
    "- Team Battle set to off\n",
    "- 1:1 matches only (no 1:1:1 matches or others)\n",
    "- Fox vs. Falco\n",
    "- On Final Destination\n",
    "\n",
    "Final Destination was selected to be the stage of choice because it is a simple stage with no floating platforms. In next models, I will see how well the neural network can learn a player's behavior on other stages and in other matchups.\n",
    "\n",
    "<img src=\"../images/final-destination.jpg\" alt=\"Drawing\" style=\"width: 600px;\"/><center>Final Destination</center>\n",
    "<img src=\"../images/battlefield.png\" alt=\"Drawing\" style=\"width: 600px;\"/><center>Battlefield</center>"
   ]
  },
  {
   "cell_type": "code",
   "execution_count": 13,
   "metadata": {
    "ExecuteTime": {
     "end_time": "2020-03-04T17:01:49.262416Z",
     "start_time": "2020-03-04T17:01:49.109220Z"
    }
   },
   "outputs": [],
   "source": [
    "# Masks to help filter through games\n",
    "mask_fd = (df_fp9['stage_name'] == 'Final Destination')\n",
    "mask_fox = (df_fp9['p1_char_name'] == 'Fox') | (df_fp9['p2_char_name'] == 'Fox') | (df_fp9['p3_char_name'] == 'Fox') | (df_fp9['p4_char_name'] == 'Fox')\n",
    "mask_falco = (df_fp9['p1_char_name'] == 'Falco') | (df_fp9['p2_char_name'] == 'Falco') | (df_fp9['p3_char_name'] == 'Falco') | (df_fp9['p4_char_name'] == 'Falco') \n",
    "mask_teams = (df_fp9['is_teams'] == False)\n",
    "\n",
    "# Of all the columns that represent which character each player is using,\n",
    "# provide the rows that have two characters in the game by counting non-missing values\n",
    "mask_1v1 = (df_fp9[['p1_char', 'p2_char', 'p3_char', 'p4_char']].apply(lambda value: value.count(), axis = 1) == 2)"
   ]
  },
  {
   "cell_type": "code",
   "execution_count": 14,
   "metadata": {
    "ExecuteTime": {
     "end_time": "2020-03-04T17:01:49.294802Z",
     "start_time": "2020-03-04T17:01:49.276804Z"
    }
   },
   "outputs": [],
   "source": [
    "def check_shape_frames(df0, df1):\n",
    "    '''\n",
    "    Prints the shape of two dataframes\n",
    "    '''\n",
    "    print(f'Shape of first dataframe: {df0.shape}')\n",
    "    print(f'Shape of second dataframe: {df1.shape}')\n",
    "    print()\n",
    "    print(f'Number of frames in first dataframe: {sum(df0[\"duration\"])}')\n",
    "    print(f'Number of frames in second dataframe: {sum(df1[\"duration\"])}')\n",
    "    print(f'Difference of frames between dataframes: {sum(df0[\"duration\"]) - sum(df1[\"duration\"])}')"
   ]
  },
  {
   "cell_type": "markdown",
   "metadata": {
    "ExecuteTime": {
     "end_time": "2020-02-12T16:27:05.110763Z",
     "start_time": "2020-02-12T16:27:05.097418Z"
    }
   },
   "source": [
    "While I could run the following python code to apply the masks all in one go, I was curious to see how many frames and rows would be dropped after applying each mask individually.\n",
    "\n",
    "```python\n",
    "# Applying the masks to get only the games we care about\n",
    "df_games = df_fp9.loc[mask_fox & mask_falco & mask_fd & mask_teams & mask_1v1]\n",
    "\n",
    "check_shape_frames(df_fp9, df_games)\n",
    "```"
   ]
  },
  {
   "cell_type": "code",
   "execution_count": 15,
   "metadata": {
    "ExecuteTime": {
     "end_time": "2020-03-04T17:01:49.334602Z",
     "start_time": "2020-03-04T17:01:49.305627Z"
    },
    "scrolled": true
   },
   "outputs": [
    {
     "name": "stdout",
     "output_type": "stream",
     "text": [
      "Shape of first dataframe: (1109, 15)\n",
      "Shape of second dataframe: (428, 15)\n",
      "\n",
      "Number of frames in first dataframe: 10848849\n",
      "Number of frames in second dataframe: 3895543\n",
      "Difference of frames between dataframes: 6953306\n"
     ]
    }
   ],
   "source": [
    "# Get the rows in which Fox is either Player 1 or Player 2\n",
    "df_games = df_fp9.loc[mask_fox]\n",
    "\n",
    "check_shape_frames(df_fp9, df_games)"
   ]
  },
  {
   "cell_type": "code",
   "execution_count": 16,
   "metadata": {
    "ExecuteTime": {
     "end_time": "2020-03-04T17:01:49.367094Z",
     "start_time": "2020-03-04T17:01:49.349053Z"
    }
   },
   "outputs": [
    {
     "name": "stdout",
     "output_type": "stream",
     "text": [
      "Shape of first dataframe: (1109, 15)\n",
      "Shape of second dataframe: (103, 15)\n",
      "\n",
      "Number of frames in first dataframe: 10848849\n",
      "Number of frames in second dataframe: 901708\n",
      "Difference of frames between dataframes: 9947141\n"
     ]
    }
   ],
   "source": [
    "# Get the remaining rows in which Falco is either Player 1 or Player 2\n",
    "df_games = df_games.loc[mask_falco]\n",
    "\n",
    "check_shape_frames(df_fp9, df_games)"
   ]
  },
  {
   "cell_type": "code",
   "execution_count": 17,
   "metadata": {
    "ExecuteTime": {
     "end_time": "2020-03-04T17:01:49.396904Z",
     "start_time": "2020-03-04T17:01:49.376480Z"
    }
   },
   "outputs": [
    {
     "name": "stdout",
     "output_type": "stream",
     "text": [
      "Shape of first dataframe: (1109, 15)\n",
      "Shape of second dataframe: (85, 15)\n",
      "\n",
      "Number of frames in first dataframe: 10848849\n",
      "Number of frames in second dataframe: 721110\n",
      "Difference of frames between dataframes: 10127739\n"
     ]
    }
   ],
   "source": [
    "# Get the remaining rows in which Team Battle is set to off\n",
    "df_games = df_games.loc[mask_teams]\n",
    "check_shape_frames(df_fp9, df_games)"
   ]
  },
  {
   "cell_type": "code",
   "execution_count": 18,
   "metadata": {
    "ExecuteTime": {
     "end_time": "2020-03-04T17:01:49.412578Z",
     "start_time": "2020-03-04T17:01:49.399623Z"
    },
    "scrolled": true
   },
   "outputs": [
    {
     "name": "stdout",
     "output_type": "stream",
     "text": [
      "Shape of first dataframe: (1109, 15)\n",
      "Shape of second dataframe: (12, 15)\n",
      "\n",
      "Number of frames in first dataframe: 10848849\n",
      "Number of frames in second dataframe: 96711\n",
      "Difference of frames between dataframes: 10752138\n"
     ]
    }
   ],
   "source": [
    "# Get the remaining rows in which the players are on Final Destination\n",
    "df_games = df_games.loc[mask_fd]\n",
    "check_shape_frames(df_fp9, df_games)"
   ]
  },
  {
   "cell_type": "code",
   "execution_count": 19,
   "metadata": {
    "ExecuteTime": {
     "end_time": "2020-03-04T17:01:49.429955Z",
     "start_time": "2020-03-04T17:01:49.416856Z"
    }
   },
   "outputs": [
    {
     "name": "stdout",
     "output_type": "stream",
     "text": [
      "Shape of first dataframe: (1109, 15)\n",
      "Shape of second dataframe: (12, 15)\n",
      "\n",
      "Number of frames in first dataframe: 10848849\n",
      "Number of frames in second dataframe: 96711\n",
      "Difference of frames between dataframes: 10752138\n"
     ]
    }
   ],
   "source": [
    "df_games = df_games.loc[mask_1v1]\n",
    "check_shape_frames(df_fp9, df_games)"
   ]
  },
  {
   "cell_type": "code",
   "execution_count": 20,
   "metadata": {
    "ExecuteTime": {
     "end_time": "2020-03-04T17:01:49.451880Z",
     "start_time": "2020-03-04T17:01:49.442457Z"
    }
   },
   "outputs": [
    {
     "name": "stdout",
     "output_type": "stream",
     "text": [
      "{nan, 'Fox', 'Falco'}\n",
      "{nan, 'Fox', 'Falco'}\n",
      "{nan, 'Fox', 'Falco'}\n",
      "{nan, 'Fox', 'Falco'}\n"
     ]
    }
   ],
   "source": [
    "# Check that the only characters remaining are Fox and Falco and missing values\n",
    "print(set(df_games['p1_char_name']))\n",
    "print(set(df_games['p2_char_name']))\n",
    "print(set(df_games['p3_char_name']))\n",
    "print(set(df_games['p4_char_name']))"
   ]
  },
  {
   "cell_type": "code",
   "execution_count": 21,
   "metadata": {
    "ExecuteTime": {
     "end_time": "2020-03-04T17:01:49.501501Z",
     "start_time": "2020-03-04T17:01:49.455468Z"
    }
   },
   "outputs": [
    {
     "name": "stdout",
     "output_type": "stream",
     "text": [
      "(12, 15)\n"
     ]
    },
    {
     "data": {
      "text/html": [
       "<div>\n",
       "<style scoped>\n",
       "    .dataframe tbody tr th:only-of-type {\n",
       "        vertical-align: middle;\n",
       "    }\n",
       "\n",
       "    .dataframe tbody tr th {\n",
       "        vertical-align: top;\n",
       "    }\n",
       "\n",
       "    .dataframe thead th {\n",
       "        text-align: right;\n",
       "    }\n",
       "</style>\n",
       "<table border=\"1\" class=\"dataframe\">\n",
       "  <thead>\n",
       "    <tr style=\"text-align: right;\">\n",
       "      <th></th>\n",
       "      <th>date</th>\n",
       "      <th>duration</th>\n",
       "      <th>platform</th>\n",
       "      <th>p1_char</th>\n",
       "      <th>p2_char</th>\n",
       "      <th>p3_char</th>\n",
       "      <th>p4_char</th>\n",
       "      <th>stage</th>\n",
       "      <th>is_teams</th>\n",
       "      <th>is_pal</th>\n",
       "      <th>p1_char_name</th>\n",
       "      <th>p2_char_name</th>\n",
       "      <th>p3_char_name</th>\n",
       "      <th>p4_char_name</th>\n",
       "      <th>stage_name</th>\n",
       "    </tr>\n",
       "    <tr>\n",
       "      <th>game_id</th>\n",
       "      <th></th>\n",
       "      <th></th>\n",
       "      <th></th>\n",
       "      <th></th>\n",
       "      <th></th>\n",
       "      <th></th>\n",
       "      <th></th>\n",
       "      <th></th>\n",
       "      <th></th>\n",
       "      <th></th>\n",
       "      <th></th>\n",
       "      <th></th>\n",
       "      <th></th>\n",
       "      <th></th>\n",
       "      <th></th>\n",
       "    </tr>\n",
       "  </thead>\n",
       "  <tbody>\n",
       "    <tr>\n",
       "      <th>USB10-20190406T144505</th>\n",
       "      <td>2019-04-06 14:45:05+00:00</td>\n",
       "      <td>8449</td>\n",
       "      <td>Platform.NINTENDONT</td>\n",
       "      <td>NaN</td>\n",
       "      <td>NaN</td>\n",
       "      <td>20.0</td>\n",
       "      <td>2.0</td>\n",
       "      <td>32</td>\n",
       "      <td>False</td>\n",
       "      <td>False</td>\n",
       "      <td>NaN</td>\n",
       "      <td>NaN</td>\n",
       "      <td>Falco</td>\n",
       "      <td>Fox</td>\n",
       "      <td>Final Destination</td>\n",
       "    </tr>\n",
       "    <tr>\n",
       "      <th>USB10-20190406T114015</th>\n",
       "      <td>2019-04-06 11:40:15+00:00</td>\n",
       "      <td>9572</td>\n",
       "      <td>Platform.NINTENDONT</td>\n",
       "      <td>20.0</td>\n",
       "      <td>NaN</td>\n",
       "      <td>2.0</td>\n",
       "      <td>NaN</td>\n",
       "      <td>32</td>\n",
       "      <td>False</td>\n",
       "      <td>False</td>\n",
       "      <td>Falco</td>\n",
       "      <td>NaN</td>\n",
       "      <td>Fox</td>\n",
       "      <td>NaN</td>\n",
       "      <td>Final Destination</td>\n",
       "    </tr>\n",
       "    <tr>\n",
       "      <th>USB10-20190406T143503</th>\n",
       "      <td>2019-04-06 14:35:03+00:00</td>\n",
       "      <td>7148</td>\n",
       "      <td>Platform.NINTENDONT</td>\n",
       "      <td>NaN</td>\n",
       "      <td>NaN</td>\n",
       "      <td>20.0</td>\n",
       "      <td>2.0</td>\n",
       "      <td>32</td>\n",
       "      <td>False</td>\n",
       "      <td>False</td>\n",
       "      <td>NaN</td>\n",
       "      <td>NaN</td>\n",
       "      <td>Falco</td>\n",
       "      <td>Fox</td>\n",
       "      <td>Final Destination</td>\n",
       "    </tr>\n",
       "    <tr>\n",
       "      <th>USB12-20190406T102328</th>\n",
       "      <td>2019-04-06 10:23:28+00:00</td>\n",
       "      <td>9281</td>\n",
       "      <td>Platform.NINTENDONT</td>\n",
       "      <td>20.0</td>\n",
       "      <td>NaN</td>\n",
       "      <td>2.0</td>\n",
       "      <td>NaN</td>\n",
       "      <td>32</td>\n",
       "      <td>False</td>\n",
       "      <td>False</td>\n",
       "      <td>Falco</td>\n",
       "      <td>NaN</td>\n",
       "      <td>Fox</td>\n",
       "      <td>NaN</td>\n",
       "      <td>Final Destination</td>\n",
       "    </tr>\n",
       "    <tr>\n",
       "      <th>USB13-20190406T190420</th>\n",
       "      <td>2019-04-06 19:04:20+00:00</td>\n",
       "      <td>7437</td>\n",
       "      <td>Platform.NINTENDONT</td>\n",
       "      <td>20.0</td>\n",
       "      <td>NaN</td>\n",
       "      <td>NaN</td>\n",
       "      <td>2.0</td>\n",
       "      <td>32</td>\n",
       "      <td>False</td>\n",
       "      <td>False</td>\n",
       "      <td>Falco</td>\n",
       "      <td>NaN</td>\n",
       "      <td>NaN</td>\n",
       "      <td>Fox</td>\n",
       "      <td>Final Destination</td>\n",
       "    </tr>\n",
       "  </tbody>\n",
       "</table>\n",
       "</div>"
      ],
      "text/plain": [
       "                                            date  duration  \\\n",
       "game_id                                                      \n",
       "USB10-20190406T144505  2019-04-06 14:45:05+00:00      8449   \n",
       "USB10-20190406T114015  2019-04-06 11:40:15+00:00      9572   \n",
       "USB10-20190406T143503  2019-04-06 14:35:03+00:00      7148   \n",
       "USB12-20190406T102328  2019-04-06 10:23:28+00:00      9281   \n",
       "USB13-20190406T190420  2019-04-06 19:04:20+00:00      7437   \n",
       "\n",
       "                                  platform  p1_char  p2_char  p3_char  \\\n",
       "game_id                                                                 \n",
       "USB10-20190406T144505  Platform.NINTENDONT      NaN      NaN     20.0   \n",
       "USB10-20190406T114015  Platform.NINTENDONT     20.0      NaN      2.0   \n",
       "USB10-20190406T143503  Platform.NINTENDONT      NaN      NaN     20.0   \n",
       "USB12-20190406T102328  Platform.NINTENDONT     20.0      NaN      2.0   \n",
       "USB13-20190406T190420  Platform.NINTENDONT     20.0      NaN      NaN   \n",
       "\n",
       "                       p4_char  stage  is_teams  is_pal p1_char_name  \\\n",
       "game_id                                                                \n",
       "USB10-20190406T144505      2.0     32     False   False          NaN   \n",
       "USB10-20190406T114015      NaN     32     False   False        Falco   \n",
       "USB10-20190406T143503      2.0     32     False   False          NaN   \n",
       "USB12-20190406T102328      NaN     32     False   False        Falco   \n",
       "USB13-20190406T190420      2.0     32     False   False        Falco   \n",
       "\n",
       "                      p2_char_name p3_char_name p4_char_name  \\\n",
       "game_id                                                        \n",
       "USB10-20190406T144505          NaN        Falco          Fox   \n",
       "USB10-20190406T114015          NaN          Fox          NaN   \n",
       "USB10-20190406T143503          NaN        Falco          Fox   \n",
       "USB12-20190406T102328          NaN          Fox          NaN   \n",
       "USB13-20190406T190420          NaN          NaN          Fox   \n",
       "\n",
       "                              stage_name  \n",
       "game_id                                   \n",
       "USB10-20190406T144505  Final Destination  \n",
       "USB10-20190406T114015  Final Destination  \n",
       "USB10-20190406T143503  Final Destination  \n",
       "USB12-20190406T102328  Final Destination  \n",
       "USB13-20190406T190420  Final Destination  "
      ]
     },
     "execution_count": 21,
     "metadata": {},
     "output_type": "execute_result"
    }
   ],
   "source": [
    "print(df_games.shape)\n",
    "df_games.head()"
   ]
  },
  {
   "cell_type": "markdown",
   "metadata": {},
   "source": [
    "After applying the appropriate masks to filter out the games we do not want, we have 12 games for a total of 96,711 frames."
   ]
  },
  {
   "cell_type": "markdown",
   "metadata": {},
   "source": [
    "<a id = \"parse\"></a>\n",
    "## Parsing Frame Data\n",
    "<a id = \"ports\"></a>\n",
    "### Getting Fox and Falco's Ports\n",
    "\n",
    "Since I want to predict all of Fox's actions in this tournament when fighting against Falco, I will need to have a column that will specify which port is controlling Fox and which port is controlling Falco."
   ]
  },
  {
   "cell_type": "code",
   "execution_count": 22,
   "metadata": {
    "ExecuteTime": {
     "end_time": "2020-03-04T17:01:49.515710Z",
     "start_time": "2020-03-04T17:01:49.505764Z"
    }
   },
   "outputs": [
    {
     "data": {
      "text/plain": [
       "[nan,\n",
       " 'Falco',\n",
       " nan,\n",
       " 'Falco',\n",
       " 'Falco',\n",
       " 'Falco',\n",
       " 'Falco',\n",
       " 'Falco',\n",
       " 'Fox',\n",
       " nan,\n",
       " 'Fox',\n",
       " nan]"
      ]
     },
     "execution_count": 22,
     "metadata": {},
     "output_type": "execute_result"
    }
   ],
   "source": [
    "list(df_games['p1_char_name'])"
   ]
  },
  {
   "cell_type": "code",
   "execution_count": 23,
   "metadata": {
    "ExecuteTime": {
     "end_time": "2020-03-04T17:01:49.542650Z",
     "start_time": "2020-03-04T17:01:49.531103Z"
    }
   },
   "outputs": [
    {
     "data": {
      "text/plain": [
       "[nan, nan, nan, nan, nan, nan, 'Fox', nan, 'Falco', 'Falco', nan, 'Falco']"
      ]
     },
     "execution_count": 23,
     "metadata": {},
     "output_type": "execute_result"
    }
   ],
   "source": [
    "list(df_games['p2_char_name'])"
   ]
  },
  {
   "cell_type": "code",
   "execution_count": 24,
   "metadata": {
    "ExecuteTime": {
     "end_time": "2020-03-04T17:01:49.558766Z",
     "start_time": "2020-03-04T17:01:49.550143Z"
    }
   },
   "outputs": [
    {
     "data": {
      "text/plain": [
       "['Falco', 'Fox', 'Falco', 'Fox', nan, nan, nan, nan, nan, nan, nan, 'Fox']"
      ]
     },
     "execution_count": 24,
     "metadata": {},
     "output_type": "execute_result"
    }
   ],
   "source": [
    "list(df_games['p3_char_name'])"
   ]
  },
  {
   "cell_type": "code",
   "execution_count": 25,
   "metadata": {
    "ExecuteTime": {
     "end_time": "2020-03-04T17:01:49.571575Z",
     "start_time": "2020-03-04T17:01:49.562821Z"
    }
   },
   "outputs": [
    {
     "data": {
      "text/plain": [
       "['Fox', nan, 'Fox', nan, 'Fox', 'Fox', nan, 'Fox', nan, 'Fox', 'Falco', nan]"
      ]
     },
     "execution_count": 25,
     "metadata": {},
     "output_type": "execute_result"
    }
   ],
   "source": [
    "list(df_games['p4_char_name'])"
   ]
  },
  {
   "cell_type": "code",
   "execution_count": 26,
   "metadata": {
    "ExecuteTime": {
     "end_time": "2020-03-04T17:01:49.586257Z",
     "start_time": "2020-03-04T17:01:49.576033Z"
    }
   },
   "outputs": [
    {
     "data": {
      "text/plain": [
       "[((8, 'Fox'), 1), ((10, 'Fox'), 1)]"
      ]
     },
     "execution_count": 26,
     "metadata": {},
     "output_type": "execute_result"
    }
   ],
   "source": [
    "# Create a list of tuples of the following structure:\n",
    "# ((row, character), port number)\n",
    "p1_fox = [(character, 1) for character in list(enumerate(list(df_games['p1_char_name']))) if character[1] == 'Fox']\n",
    "p1_fox"
   ]
  },
  {
   "cell_type": "code",
   "execution_count": 27,
   "metadata": {
    "ExecuteTime": {
     "end_time": "2020-03-04T17:01:49.602344Z",
     "start_time": "2020-03-04T17:01:49.590555Z"
    }
   },
   "outputs": [
    {
     "data": {
      "text/plain": [
       "[((6, 'Fox'), 2)]"
      ]
     },
     "execution_count": 27,
     "metadata": {},
     "output_type": "execute_result"
    }
   ],
   "source": [
    "p2_fox = [(character, 2) for character in list(enumerate(list(df_games['p2_char_name']))) if character[1] == 'Fox']\n",
    "p2_fox"
   ]
  },
  {
   "cell_type": "code",
   "execution_count": 28,
   "metadata": {
    "ExecuteTime": {
     "end_time": "2020-03-04T17:01:49.614277Z",
     "start_time": "2020-03-04T17:01:49.605129Z"
    }
   },
   "outputs": [
    {
     "data": {
      "text/plain": [
       "[((1, 'Fox'), 3), ((3, 'Fox'), 3), ((11, 'Fox'), 3)]"
      ]
     },
     "execution_count": 28,
     "metadata": {},
     "output_type": "execute_result"
    }
   ],
   "source": [
    "p3_fox = [(character, 3) for character in list(enumerate(list(df_games['p3_char_name']))) if character[1] == 'Fox']\n",
    "p3_fox"
   ]
  },
  {
   "cell_type": "code",
   "execution_count": 29,
   "metadata": {
    "ExecuteTime": {
     "end_time": "2020-03-04T17:01:49.628434Z",
     "start_time": "2020-03-04T17:01:49.618235Z"
    }
   },
   "outputs": [
    {
     "data": {
      "text/plain": [
       "[((0, 'Fox'), 4),\n",
       " ((2, 'Fox'), 4),\n",
       " ((4, 'Fox'), 4),\n",
       " ((5, 'Fox'), 4),\n",
       " ((7, 'Fox'), 4),\n",
       " ((9, 'Fox'), 4)]"
      ]
     },
     "execution_count": 29,
     "metadata": {},
     "output_type": "execute_result"
    }
   ],
   "source": [
    "p4_fox = [(character, 4) for character in list(enumerate(list(df_games['p4_char_name']))) if character[1] == 'Fox']\n",
    "p4_fox"
   ]
  },
  {
   "cell_type": "code",
   "execution_count": 30,
   "metadata": {
    "ExecuteTime": {
     "end_time": "2020-03-04T17:01:49.643879Z",
     "start_time": "2020-03-04T17:01:49.632822Z"
    }
   },
   "outputs": [
    {
     "data": {
      "text/plain": [
       "[((8, 'Fox'), 1),\n",
       " ((10, 'Fox'), 1),\n",
       " ((6, 'Fox'), 2),\n",
       " ((1, 'Fox'), 3),\n",
       " ((3, 'Fox'), 3),\n",
       " ((11, 'Fox'), 3),\n",
       " ((0, 'Fox'), 4),\n",
       " ((2, 'Fox'), 4),\n",
       " ((4, 'Fox'), 4),\n",
       " ((5, 'Fox'), 4),\n",
       " ((7, 'Fox'), 4),\n",
       " ((9, 'Fox'), 4)]"
      ]
     },
     "execution_count": 30,
     "metadata": {},
     "output_type": "execute_result"
    }
   ],
   "source": [
    "# Put all the tuples into a single list\n",
    "p1_fox.extend(p2_fox)\n",
    "p1_fox.extend(p3_fox)\n",
    "p1_fox.extend(p4_fox)\n",
    "p1_fox"
   ]
  },
  {
   "cell_type": "code",
   "execution_count": 31,
   "metadata": {
    "ExecuteTime": {
     "end_time": "2020-03-04T17:01:49.659320Z",
     "start_time": "2020-03-04T17:01:49.648007Z"
    }
   },
   "outputs": [
    {
     "data": {
      "text/plain": [
       "[((0, 'Fox'), 4),\n",
       " ((1, 'Fox'), 3),\n",
       " ((2, 'Fox'), 4),\n",
       " ((3, 'Fox'), 3),\n",
       " ((4, 'Fox'), 4),\n",
       " ((5, 'Fox'), 4),\n",
       " ((6, 'Fox'), 2),\n",
       " ((7, 'Fox'), 4),\n",
       " ((8, 'Fox'), 1),\n",
       " ((9, 'Fox'), 4),\n",
       " ((10, 'Fox'), 1),\n",
       " ((11, 'Fox'), 3)]"
      ]
     },
     "execution_count": 31,
     "metadata": {},
     "output_type": "execute_result"
    }
   ],
   "source": [
    "# Sort the list according to row order rather than sorted by port\n",
    "fox_ports_enum = sorted(p1_fox, key = lambda x: x[0][0])\n",
    "fox_ports_enum"
   ]
  },
  {
   "cell_type": "code",
   "execution_count": 32,
   "metadata": {
    "ExecuteTime": {
     "end_time": "2020-03-04T17:01:49.673308Z",
     "start_time": "2020-03-04T17:01:49.662721Z"
    }
   },
   "outputs": [
    {
     "data": {
      "text/plain": [
       "[4, 3, 4, 3, 4, 4, 2, 4, 1, 4, 1, 3]"
      ]
     },
     "execution_count": 32,
     "metadata": {},
     "output_type": "execute_result"
    }
   ],
   "source": [
    "# Using the sorted list, maintain the order\n",
    "# and create a new list of the ports used for the given\n",
    "# character, Fox\n",
    "fox_ports = [port[1] for port in fox_ports_enum]\n",
    "fox_ports"
   ]
  },
  {
   "cell_type": "code",
   "execution_count": 33,
   "metadata": {
    "ExecuteTime": {
     "end_time": "2020-03-04T17:01:49.711351Z",
     "start_time": "2020-03-04T17:01:49.676727Z"
    }
   },
   "outputs": [
    {
     "data": {
      "text/html": [
       "<div>\n",
       "<style scoped>\n",
       "    .dataframe tbody tr th:only-of-type {\n",
       "        vertical-align: middle;\n",
       "    }\n",
       "\n",
       "    .dataframe tbody tr th {\n",
       "        vertical-align: top;\n",
       "    }\n",
       "\n",
       "    .dataframe thead th {\n",
       "        text-align: right;\n",
       "    }\n",
       "</style>\n",
       "<table border=\"1\" class=\"dataframe\">\n",
       "  <thead>\n",
       "    <tr style=\"text-align: right;\">\n",
       "      <th></th>\n",
       "      <th>date</th>\n",
       "      <th>duration</th>\n",
       "      <th>platform</th>\n",
       "      <th>p1_char</th>\n",
       "      <th>p2_char</th>\n",
       "      <th>p3_char</th>\n",
       "      <th>p4_char</th>\n",
       "      <th>stage</th>\n",
       "      <th>is_teams</th>\n",
       "      <th>is_pal</th>\n",
       "      <th>p1_char_name</th>\n",
       "      <th>p2_char_name</th>\n",
       "      <th>p3_char_name</th>\n",
       "      <th>p4_char_name</th>\n",
       "      <th>stage_name</th>\n",
       "      <th>fox_port</th>\n",
       "    </tr>\n",
       "    <tr>\n",
       "      <th>game_id</th>\n",
       "      <th></th>\n",
       "      <th></th>\n",
       "      <th></th>\n",
       "      <th></th>\n",
       "      <th></th>\n",
       "      <th></th>\n",
       "      <th></th>\n",
       "      <th></th>\n",
       "      <th></th>\n",
       "      <th></th>\n",
       "      <th></th>\n",
       "      <th></th>\n",
       "      <th></th>\n",
       "      <th></th>\n",
       "      <th></th>\n",
       "      <th></th>\n",
       "    </tr>\n",
       "  </thead>\n",
       "  <tbody>\n",
       "    <tr>\n",
       "      <th>USB10-20190406T144505</th>\n",
       "      <td>2019-04-06 14:45:05+00:00</td>\n",
       "      <td>8449</td>\n",
       "      <td>Platform.NINTENDONT</td>\n",
       "      <td>NaN</td>\n",
       "      <td>NaN</td>\n",
       "      <td>20.0</td>\n",
       "      <td>2.0</td>\n",
       "      <td>32</td>\n",
       "      <td>False</td>\n",
       "      <td>False</td>\n",
       "      <td>NaN</td>\n",
       "      <td>NaN</td>\n",
       "      <td>Falco</td>\n",
       "      <td>Fox</td>\n",
       "      <td>Final Destination</td>\n",
       "      <td>4</td>\n",
       "    </tr>\n",
       "    <tr>\n",
       "      <th>USB10-20190406T114015</th>\n",
       "      <td>2019-04-06 11:40:15+00:00</td>\n",
       "      <td>9572</td>\n",
       "      <td>Platform.NINTENDONT</td>\n",
       "      <td>20.0</td>\n",
       "      <td>NaN</td>\n",
       "      <td>2.0</td>\n",
       "      <td>NaN</td>\n",
       "      <td>32</td>\n",
       "      <td>False</td>\n",
       "      <td>False</td>\n",
       "      <td>Falco</td>\n",
       "      <td>NaN</td>\n",
       "      <td>Fox</td>\n",
       "      <td>NaN</td>\n",
       "      <td>Final Destination</td>\n",
       "      <td>3</td>\n",
       "    </tr>\n",
       "    <tr>\n",
       "      <th>USB10-20190406T143503</th>\n",
       "      <td>2019-04-06 14:35:03+00:00</td>\n",
       "      <td>7148</td>\n",
       "      <td>Platform.NINTENDONT</td>\n",
       "      <td>NaN</td>\n",
       "      <td>NaN</td>\n",
       "      <td>20.0</td>\n",
       "      <td>2.0</td>\n",
       "      <td>32</td>\n",
       "      <td>False</td>\n",
       "      <td>False</td>\n",
       "      <td>NaN</td>\n",
       "      <td>NaN</td>\n",
       "      <td>Falco</td>\n",
       "      <td>Fox</td>\n",
       "      <td>Final Destination</td>\n",
       "      <td>4</td>\n",
       "    </tr>\n",
       "    <tr>\n",
       "      <th>USB12-20190406T102328</th>\n",
       "      <td>2019-04-06 10:23:28+00:00</td>\n",
       "      <td>9281</td>\n",
       "      <td>Platform.NINTENDONT</td>\n",
       "      <td>20.0</td>\n",
       "      <td>NaN</td>\n",
       "      <td>2.0</td>\n",
       "      <td>NaN</td>\n",
       "      <td>32</td>\n",
       "      <td>False</td>\n",
       "      <td>False</td>\n",
       "      <td>Falco</td>\n",
       "      <td>NaN</td>\n",
       "      <td>Fox</td>\n",
       "      <td>NaN</td>\n",
       "      <td>Final Destination</td>\n",
       "      <td>3</td>\n",
       "    </tr>\n",
       "    <tr>\n",
       "      <th>USB13-20190406T190420</th>\n",
       "      <td>2019-04-06 19:04:20+00:00</td>\n",
       "      <td>7437</td>\n",
       "      <td>Platform.NINTENDONT</td>\n",
       "      <td>20.0</td>\n",
       "      <td>NaN</td>\n",
       "      <td>NaN</td>\n",
       "      <td>2.0</td>\n",
       "      <td>32</td>\n",
       "      <td>False</td>\n",
       "      <td>False</td>\n",
       "      <td>Falco</td>\n",
       "      <td>NaN</td>\n",
       "      <td>NaN</td>\n",
       "      <td>Fox</td>\n",
       "      <td>Final Destination</td>\n",
       "      <td>4</td>\n",
       "    </tr>\n",
       "  </tbody>\n",
       "</table>\n",
       "</div>"
      ],
      "text/plain": [
       "                                            date  duration  \\\n",
       "game_id                                                      \n",
       "USB10-20190406T144505  2019-04-06 14:45:05+00:00      8449   \n",
       "USB10-20190406T114015  2019-04-06 11:40:15+00:00      9572   \n",
       "USB10-20190406T143503  2019-04-06 14:35:03+00:00      7148   \n",
       "USB12-20190406T102328  2019-04-06 10:23:28+00:00      9281   \n",
       "USB13-20190406T190420  2019-04-06 19:04:20+00:00      7437   \n",
       "\n",
       "                                  platform  p1_char  p2_char  p3_char  \\\n",
       "game_id                                                                 \n",
       "USB10-20190406T144505  Platform.NINTENDONT      NaN      NaN     20.0   \n",
       "USB10-20190406T114015  Platform.NINTENDONT     20.0      NaN      2.0   \n",
       "USB10-20190406T143503  Platform.NINTENDONT      NaN      NaN     20.0   \n",
       "USB12-20190406T102328  Platform.NINTENDONT     20.0      NaN      2.0   \n",
       "USB13-20190406T190420  Platform.NINTENDONT     20.0      NaN      NaN   \n",
       "\n",
       "                       p4_char  stage  is_teams  is_pal p1_char_name  \\\n",
       "game_id                                                                \n",
       "USB10-20190406T144505      2.0     32     False   False          NaN   \n",
       "USB10-20190406T114015      NaN     32     False   False        Falco   \n",
       "USB10-20190406T143503      2.0     32     False   False          NaN   \n",
       "USB12-20190406T102328      NaN     32     False   False        Falco   \n",
       "USB13-20190406T190420      2.0     32     False   False        Falco   \n",
       "\n",
       "                      p2_char_name p3_char_name p4_char_name  \\\n",
       "game_id                                                        \n",
       "USB10-20190406T144505          NaN        Falco          Fox   \n",
       "USB10-20190406T114015          NaN          Fox          NaN   \n",
       "USB10-20190406T143503          NaN        Falco          Fox   \n",
       "USB12-20190406T102328          NaN          Fox          NaN   \n",
       "USB13-20190406T190420          NaN          NaN          Fox   \n",
       "\n",
       "                              stage_name  fox_port  \n",
       "game_id                                             \n",
       "USB10-20190406T144505  Final Destination         4  \n",
       "USB10-20190406T114015  Final Destination         3  \n",
       "USB10-20190406T143503  Final Destination         4  \n",
       "USB12-20190406T102328  Final Destination         3  \n",
       "USB13-20190406T190420  Final Destination         4  "
      ]
     },
     "execution_count": 33,
     "metadata": {},
     "output_type": "execute_result"
    }
   ],
   "source": [
    "# Create a column where that shows which port the Fox player used\n",
    "df_games['fox_port'] = fox_ports\n",
    "df_games.head()"
   ]
  },
  {
   "cell_type": "code",
   "execution_count": 34,
   "metadata": {
    "ExecuteTime": {
     "end_time": "2020-03-04T17:01:49.727463Z",
     "start_time": "2020-03-04T17:01:49.714835Z"
    }
   },
   "outputs": [],
   "source": [
    "def get_char_ports(char:str, dataframe:pd.DataFrame = df_games):\n",
    "    '''\n",
    "    Returns (p1_char, p2_char, p3_char, p4_char)\n",
    "    --------------------------------------------\n",
    "    char (string): Character to get ports for\n",
    "    dataframe (pd.DataFrame): Dataframe to search for `char` in.\n",
    "        Must have columns `p1_char_name`, `p2_char_name`, `p3_char_name`, `p4_char_name`\n",
    "        These columns represent the character that was used in the respective column\n",
    "    '''\n",
    "    p1_char = [(character, 0) for character in list(enumerate(list(dataframe['p1_char_name']))) if character[1] == char]\n",
    "    p1_char.extend([(character, 1) for character in list(enumerate(list(dataframe['p2_char_name']))) if character[1] == char])\n",
    "    p1_char.extend([(character, 2) for character in list(enumerate(list(dataframe['p3_char_name']))) if character[1] == char])\n",
    "    p1_char.extend([(character, 3) for character in list(enumerate(list(dataframe['p4_char_name']))) if character[1] == char])\n",
    "    char_ports = sorted(p1_char, key = lambda x: x[0][0])\n",
    "    return [port[1] for port in char_ports]\n",
    "    "
   ]
  },
  {
   "cell_type": "code",
   "execution_count": 35,
   "metadata": {
    "ExecuteTime": {
     "end_time": "2020-03-04T17:01:49.741139Z",
     "start_time": "2020-03-04T17:01:49.731350Z"
    }
   },
   "outputs": [
    {
     "data": {
      "text/plain": [
       "[3, 2, 3, 2, 3, 3, 1, 3, 0, 3, 0, 2]"
      ]
     },
     "execution_count": 35,
     "metadata": {},
     "output_type": "execute_result"
    }
   ],
   "source": [
    "get_char_ports('Fox')"
   ]
  },
  {
   "cell_type": "code",
   "execution_count": 36,
   "metadata": {
    "ExecuteTime": {
     "end_time": "2020-03-04T17:01:49.754706Z",
     "start_time": "2020-03-04T17:01:49.746311Z"
    }
   },
   "outputs": [],
   "source": [
    "def create_char_col(char:str, dataframe:pd.DataFrame = df_games):\n",
    "    '''\n",
    "    Returns given dataframe with new column that details the port number\n",
    "    that the given character played in\n",
    "    --------------------------------------------------------------------\n",
    "    char (string): Character to get ports for\n",
    "    dataframe (pd.DataFrame): Dataframe to search for `char` in.\n",
    "    '''\n",
    "    df = dataframe.copy()\n",
    "    char_ports = get_char_ports(char, dataframe)\n",
    "    df[f'{char.lower()}_port_index'] = char_ports\n",
    "    return df\n",
    "    "
   ]
  },
  {
   "cell_type": "code",
   "execution_count": 37,
   "metadata": {
    "ExecuteTime": {
     "end_time": "2020-03-04T17:01:49.800567Z",
     "start_time": "2020-03-04T17:01:49.760669Z"
    },
    "scrolled": true
   },
   "outputs": [
    {
     "data": {
      "text/html": [
       "<div>\n",
       "<style scoped>\n",
       "    .dataframe tbody tr th:only-of-type {\n",
       "        vertical-align: middle;\n",
       "    }\n",
       "\n",
       "    .dataframe tbody tr th {\n",
       "        vertical-align: top;\n",
       "    }\n",
       "\n",
       "    .dataframe thead th {\n",
       "        text-align: right;\n",
       "    }\n",
       "</style>\n",
       "<table border=\"1\" class=\"dataframe\">\n",
       "  <thead>\n",
       "    <tr style=\"text-align: right;\">\n",
       "      <th></th>\n",
       "      <th>date</th>\n",
       "      <th>duration</th>\n",
       "      <th>platform</th>\n",
       "      <th>p1_char</th>\n",
       "      <th>p2_char</th>\n",
       "      <th>p3_char</th>\n",
       "      <th>p4_char</th>\n",
       "      <th>stage</th>\n",
       "      <th>is_teams</th>\n",
       "      <th>is_pal</th>\n",
       "      <th>p1_char_name</th>\n",
       "      <th>p2_char_name</th>\n",
       "      <th>p3_char_name</th>\n",
       "      <th>p4_char_name</th>\n",
       "      <th>stage_name</th>\n",
       "      <th>fox_port</th>\n",
       "      <th>fox_port_index</th>\n",
       "    </tr>\n",
       "    <tr>\n",
       "      <th>game_id</th>\n",
       "      <th></th>\n",
       "      <th></th>\n",
       "      <th></th>\n",
       "      <th></th>\n",
       "      <th></th>\n",
       "      <th></th>\n",
       "      <th></th>\n",
       "      <th></th>\n",
       "      <th></th>\n",
       "      <th></th>\n",
       "      <th></th>\n",
       "      <th></th>\n",
       "      <th></th>\n",
       "      <th></th>\n",
       "      <th></th>\n",
       "      <th></th>\n",
       "      <th></th>\n",
       "    </tr>\n",
       "  </thead>\n",
       "  <tbody>\n",
       "    <tr>\n",
       "      <th>USB10-20190406T144505</th>\n",
       "      <td>2019-04-06 14:45:05+00:00</td>\n",
       "      <td>8449</td>\n",
       "      <td>Platform.NINTENDONT</td>\n",
       "      <td>NaN</td>\n",
       "      <td>NaN</td>\n",
       "      <td>20.0</td>\n",
       "      <td>2.0</td>\n",
       "      <td>32</td>\n",
       "      <td>False</td>\n",
       "      <td>False</td>\n",
       "      <td>NaN</td>\n",
       "      <td>NaN</td>\n",
       "      <td>Falco</td>\n",
       "      <td>Fox</td>\n",
       "      <td>Final Destination</td>\n",
       "      <td>4</td>\n",
       "      <td>3</td>\n",
       "    </tr>\n",
       "    <tr>\n",
       "      <th>USB10-20190406T114015</th>\n",
       "      <td>2019-04-06 11:40:15+00:00</td>\n",
       "      <td>9572</td>\n",
       "      <td>Platform.NINTENDONT</td>\n",
       "      <td>20.0</td>\n",
       "      <td>NaN</td>\n",
       "      <td>2.0</td>\n",
       "      <td>NaN</td>\n",
       "      <td>32</td>\n",
       "      <td>False</td>\n",
       "      <td>False</td>\n",
       "      <td>Falco</td>\n",
       "      <td>NaN</td>\n",
       "      <td>Fox</td>\n",
       "      <td>NaN</td>\n",
       "      <td>Final Destination</td>\n",
       "      <td>3</td>\n",
       "      <td>2</td>\n",
       "    </tr>\n",
       "    <tr>\n",
       "      <th>USB10-20190406T143503</th>\n",
       "      <td>2019-04-06 14:35:03+00:00</td>\n",
       "      <td>7148</td>\n",
       "      <td>Platform.NINTENDONT</td>\n",
       "      <td>NaN</td>\n",
       "      <td>NaN</td>\n",
       "      <td>20.0</td>\n",
       "      <td>2.0</td>\n",
       "      <td>32</td>\n",
       "      <td>False</td>\n",
       "      <td>False</td>\n",
       "      <td>NaN</td>\n",
       "      <td>NaN</td>\n",
       "      <td>Falco</td>\n",
       "      <td>Fox</td>\n",
       "      <td>Final Destination</td>\n",
       "      <td>4</td>\n",
       "      <td>3</td>\n",
       "    </tr>\n",
       "    <tr>\n",
       "      <th>USB12-20190406T102328</th>\n",
       "      <td>2019-04-06 10:23:28+00:00</td>\n",
       "      <td>9281</td>\n",
       "      <td>Platform.NINTENDONT</td>\n",
       "      <td>20.0</td>\n",
       "      <td>NaN</td>\n",
       "      <td>2.0</td>\n",
       "      <td>NaN</td>\n",
       "      <td>32</td>\n",
       "      <td>False</td>\n",
       "      <td>False</td>\n",
       "      <td>Falco</td>\n",
       "      <td>NaN</td>\n",
       "      <td>Fox</td>\n",
       "      <td>NaN</td>\n",
       "      <td>Final Destination</td>\n",
       "      <td>3</td>\n",
       "      <td>2</td>\n",
       "    </tr>\n",
       "    <tr>\n",
       "      <th>USB13-20190406T190420</th>\n",
       "      <td>2019-04-06 19:04:20+00:00</td>\n",
       "      <td>7437</td>\n",
       "      <td>Platform.NINTENDONT</td>\n",
       "      <td>20.0</td>\n",
       "      <td>NaN</td>\n",
       "      <td>NaN</td>\n",
       "      <td>2.0</td>\n",
       "      <td>32</td>\n",
       "      <td>False</td>\n",
       "      <td>False</td>\n",
       "      <td>Falco</td>\n",
       "      <td>NaN</td>\n",
       "      <td>NaN</td>\n",
       "      <td>Fox</td>\n",
       "      <td>Final Destination</td>\n",
       "      <td>4</td>\n",
       "      <td>3</td>\n",
       "    </tr>\n",
       "  </tbody>\n",
       "</table>\n",
       "</div>"
      ],
      "text/plain": [
       "                                            date  duration  \\\n",
       "game_id                                                      \n",
       "USB10-20190406T144505  2019-04-06 14:45:05+00:00      8449   \n",
       "USB10-20190406T114015  2019-04-06 11:40:15+00:00      9572   \n",
       "USB10-20190406T143503  2019-04-06 14:35:03+00:00      7148   \n",
       "USB12-20190406T102328  2019-04-06 10:23:28+00:00      9281   \n",
       "USB13-20190406T190420  2019-04-06 19:04:20+00:00      7437   \n",
       "\n",
       "                                  platform  p1_char  p2_char  p3_char  \\\n",
       "game_id                                                                 \n",
       "USB10-20190406T144505  Platform.NINTENDONT      NaN      NaN     20.0   \n",
       "USB10-20190406T114015  Platform.NINTENDONT     20.0      NaN      2.0   \n",
       "USB10-20190406T143503  Platform.NINTENDONT      NaN      NaN     20.0   \n",
       "USB12-20190406T102328  Platform.NINTENDONT     20.0      NaN      2.0   \n",
       "USB13-20190406T190420  Platform.NINTENDONT     20.0      NaN      NaN   \n",
       "\n",
       "                       p4_char  stage  is_teams  is_pal p1_char_name  \\\n",
       "game_id                                                                \n",
       "USB10-20190406T144505      2.0     32     False   False          NaN   \n",
       "USB10-20190406T114015      NaN     32     False   False        Falco   \n",
       "USB10-20190406T143503      2.0     32     False   False          NaN   \n",
       "USB12-20190406T102328      NaN     32     False   False        Falco   \n",
       "USB13-20190406T190420      2.0     32     False   False        Falco   \n",
       "\n",
       "                      p2_char_name p3_char_name p4_char_name  \\\n",
       "game_id                                                        \n",
       "USB10-20190406T144505          NaN        Falco          Fox   \n",
       "USB10-20190406T114015          NaN          Fox          NaN   \n",
       "USB10-20190406T143503          NaN        Falco          Fox   \n",
       "USB12-20190406T102328          NaN          Fox          NaN   \n",
       "USB13-20190406T190420          NaN          NaN          Fox   \n",
       "\n",
       "                              stage_name  fox_port  fox_port_index  \n",
       "game_id                                                             \n",
       "USB10-20190406T144505  Final Destination         4               3  \n",
       "USB10-20190406T114015  Final Destination         3               2  \n",
       "USB10-20190406T143503  Final Destination         4               3  \n",
       "USB12-20190406T102328  Final Destination         3               2  \n",
       "USB13-20190406T190420  Final Destination         4               3  "
      ]
     },
     "execution_count": 37,
     "metadata": {},
     "output_type": "execute_result"
    }
   ],
   "source": [
    "df_games = create_char_col('Fox')\n",
    "df_games.head()"
   ]
  },
  {
   "cell_type": "code",
   "execution_count": 38,
   "metadata": {
    "ExecuteTime": {
     "end_time": "2020-03-04T17:01:49.858922Z",
     "start_time": "2020-03-04T17:01:49.806191Z"
    }
   },
   "outputs": [
    {
     "data": {
      "text/html": [
       "<div>\n",
       "<style scoped>\n",
       "    .dataframe tbody tr th:only-of-type {\n",
       "        vertical-align: middle;\n",
       "    }\n",
       "\n",
       "    .dataframe tbody tr th {\n",
       "        vertical-align: top;\n",
       "    }\n",
       "\n",
       "    .dataframe thead th {\n",
       "        text-align: right;\n",
       "    }\n",
       "</style>\n",
       "<table border=\"1\" class=\"dataframe\">\n",
       "  <thead>\n",
       "    <tr style=\"text-align: right;\">\n",
       "      <th></th>\n",
       "      <th>date</th>\n",
       "      <th>duration</th>\n",
       "      <th>platform</th>\n",
       "      <th>p1_char</th>\n",
       "      <th>p2_char</th>\n",
       "      <th>p3_char</th>\n",
       "      <th>p4_char</th>\n",
       "      <th>stage</th>\n",
       "      <th>is_teams</th>\n",
       "      <th>is_pal</th>\n",
       "      <th>p1_char_name</th>\n",
       "      <th>p2_char_name</th>\n",
       "      <th>p3_char_name</th>\n",
       "      <th>p4_char_name</th>\n",
       "      <th>stage_name</th>\n",
       "      <th>fox_port</th>\n",
       "      <th>falco_port_index</th>\n",
       "    </tr>\n",
       "    <tr>\n",
       "      <th>game_id</th>\n",
       "      <th></th>\n",
       "      <th></th>\n",
       "      <th></th>\n",
       "      <th></th>\n",
       "      <th></th>\n",
       "      <th></th>\n",
       "      <th></th>\n",
       "      <th></th>\n",
       "      <th></th>\n",
       "      <th></th>\n",
       "      <th></th>\n",
       "      <th></th>\n",
       "      <th></th>\n",
       "      <th></th>\n",
       "      <th></th>\n",
       "      <th></th>\n",
       "      <th></th>\n",
       "    </tr>\n",
       "  </thead>\n",
       "  <tbody>\n",
       "    <tr>\n",
       "      <th>USB10-20190406T144505</th>\n",
       "      <td>2019-04-06 14:45:05+00:00</td>\n",
       "      <td>8449</td>\n",
       "      <td>Platform.NINTENDONT</td>\n",
       "      <td>NaN</td>\n",
       "      <td>NaN</td>\n",
       "      <td>20.0</td>\n",
       "      <td>2.0</td>\n",
       "      <td>32</td>\n",
       "      <td>False</td>\n",
       "      <td>False</td>\n",
       "      <td>NaN</td>\n",
       "      <td>NaN</td>\n",
       "      <td>Falco</td>\n",
       "      <td>Fox</td>\n",
       "      <td>Final Destination</td>\n",
       "      <td>4</td>\n",
       "      <td>2</td>\n",
       "    </tr>\n",
       "    <tr>\n",
       "      <th>USB10-20190406T114015</th>\n",
       "      <td>2019-04-06 11:40:15+00:00</td>\n",
       "      <td>9572</td>\n",
       "      <td>Platform.NINTENDONT</td>\n",
       "      <td>20.0</td>\n",
       "      <td>NaN</td>\n",
       "      <td>2.0</td>\n",
       "      <td>NaN</td>\n",
       "      <td>32</td>\n",
       "      <td>False</td>\n",
       "      <td>False</td>\n",
       "      <td>Falco</td>\n",
       "      <td>NaN</td>\n",
       "      <td>Fox</td>\n",
       "      <td>NaN</td>\n",
       "      <td>Final Destination</td>\n",
       "      <td>3</td>\n",
       "      <td>0</td>\n",
       "    </tr>\n",
       "    <tr>\n",
       "      <th>USB10-20190406T143503</th>\n",
       "      <td>2019-04-06 14:35:03+00:00</td>\n",
       "      <td>7148</td>\n",
       "      <td>Platform.NINTENDONT</td>\n",
       "      <td>NaN</td>\n",
       "      <td>NaN</td>\n",
       "      <td>20.0</td>\n",
       "      <td>2.0</td>\n",
       "      <td>32</td>\n",
       "      <td>False</td>\n",
       "      <td>False</td>\n",
       "      <td>NaN</td>\n",
       "      <td>NaN</td>\n",
       "      <td>Falco</td>\n",
       "      <td>Fox</td>\n",
       "      <td>Final Destination</td>\n",
       "      <td>4</td>\n",
       "      <td>2</td>\n",
       "    </tr>\n",
       "    <tr>\n",
       "      <th>USB12-20190406T102328</th>\n",
       "      <td>2019-04-06 10:23:28+00:00</td>\n",
       "      <td>9281</td>\n",
       "      <td>Platform.NINTENDONT</td>\n",
       "      <td>20.0</td>\n",
       "      <td>NaN</td>\n",
       "      <td>2.0</td>\n",
       "      <td>NaN</td>\n",
       "      <td>32</td>\n",
       "      <td>False</td>\n",
       "      <td>False</td>\n",
       "      <td>Falco</td>\n",
       "      <td>NaN</td>\n",
       "      <td>Fox</td>\n",
       "      <td>NaN</td>\n",
       "      <td>Final Destination</td>\n",
       "      <td>3</td>\n",
       "      <td>0</td>\n",
       "    </tr>\n",
       "    <tr>\n",
       "      <th>USB13-20190406T190420</th>\n",
       "      <td>2019-04-06 19:04:20+00:00</td>\n",
       "      <td>7437</td>\n",
       "      <td>Platform.NINTENDONT</td>\n",
       "      <td>20.0</td>\n",
       "      <td>NaN</td>\n",
       "      <td>NaN</td>\n",
       "      <td>2.0</td>\n",
       "      <td>32</td>\n",
       "      <td>False</td>\n",
       "      <td>False</td>\n",
       "      <td>Falco</td>\n",
       "      <td>NaN</td>\n",
       "      <td>NaN</td>\n",
       "      <td>Fox</td>\n",
       "      <td>Final Destination</td>\n",
       "      <td>4</td>\n",
       "      <td>0</td>\n",
       "    </tr>\n",
       "  </tbody>\n",
       "</table>\n",
       "</div>"
      ],
      "text/plain": [
       "                                            date  duration  \\\n",
       "game_id                                                      \n",
       "USB10-20190406T144505  2019-04-06 14:45:05+00:00      8449   \n",
       "USB10-20190406T114015  2019-04-06 11:40:15+00:00      9572   \n",
       "USB10-20190406T143503  2019-04-06 14:35:03+00:00      7148   \n",
       "USB12-20190406T102328  2019-04-06 10:23:28+00:00      9281   \n",
       "USB13-20190406T190420  2019-04-06 19:04:20+00:00      7437   \n",
       "\n",
       "                                  platform  p1_char  p2_char  p3_char  \\\n",
       "game_id                                                                 \n",
       "USB10-20190406T144505  Platform.NINTENDONT      NaN      NaN     20.0   \n",
       "USB10-20190406T114015  Platform.NINTENDONT     20.0      NaN      2.0   \n",
       "USB10-20190406T143503  Platform.NINTENDONT      NaN      NaN     20.0   \n",
       "USB12-20190406T102328  Platform.NINTENDONT     20.0      NaN      2.0   \n",
       "USB13-20190406T190420  Platform.NINTENDONT     20.0      NaN      NaN   \n",
       "\n",
       "                       p4_char  stage  is_teams  is_pal p1_char_name  \\\n",
       "game_id                                                                \n",
       "USB10-20190406T144505      2.0     32     False   False          NaN   \n",
       "USB10-20190406T114015      NaN     32     False   False        Falco   \n",
       "USB10-20190406T143503      2.0     32     False   False          NaN   \n",
       "USB12-20190406T102328      NaN     32     False   False        Falco   \n",
       "USB13-20190406T190420      2.0     32     False   False        Falco   \n",
       "\n",
       "                      p2_char_name p3_char_name p4_char_name  \\\n",
       "game_id                                                        \n",
       "USB10-20190406T144505          NaN        Falco          Fox   \n",
       "USB10-20190406T114015          NaN          Fox          NaN   \n",
       "USB10-20190406T143503          NaN        Falco          Fox   \n",
       "USB12-20190406T102328          NaN          Fox          NaN   \n",
       "USB13-20190406T190420          NaN          NaN          Fox   \n",
       "\n",
       "                              stage_name  fox_port  falco_port_index  \n",
       "game_id                                                               \n",
       "USB10-20190406T144505  Final Destination         4                 2  \n",
       "USB10-20190406T114015  Final Destination         3                 0  \n",
       "USB10-20190406T143503  Final Destination         4                 2  \n",
       "USB12-20190406T102328  Final Destination         3                 0  \n",
       "USB13-20190406T190420  Final Destination         4                 0  "
      ]
     },
     "execution_count": 38,
     "metadata": {},
     "output_type": "execute_result"
    }
   ],
   "source": [
    "df_games = create_char_col('Falco')\n",
    "df_games.head()"
   ]
  },
  {
   "cell_type": "markdown",
   "metadata": {},
   "source": [
    "<a id = \"filepaths\"></a>\n",
    "### Getting the Filepaths\n",
    "In the previous notebook, we used the filepaths to create the `game_id`s. Now we will work backwords and create the filepaths out of the `game_id`."
   ]
  },
  {
   "cell_type": "code",
   "execution_count": 39,
   "metadata": {
    "ExecuteTime": {
     "end_time": "2020-03-04T17:01:49.915594Z",
     "start_time": "2020-03-04T17:01:49.866704Z"
    }
   },
   "outputs": [
    {
     "data": {
      "text/html": [
       "<div>\n",
       "<style scoped>\n",
       "    .dataframe tbody tr th:only-of-type {\n",
       "        vertical-align: middle;\n",
       "    }\n",
       "\n",
       "    .dataframe tbody tr th {\n",
       "        vertical-align: top;\n",
       "    }\n",
       "\n",
       "    .dataframe thead th {\n",
       "        text-align: right;\n",
       "    }\n",
       "</style>\n",
       "<table border=\"1\" class=\"dataframe\">\n",
       "  <thead>\n",
       "    <tr style=\"text-align: right;\">\n",
       "      <th></th>\n",
       "      <th>date</th>\n",
       "      <th>duration</th>\n",
       "      <th>platform</th>\n",
       "      <th>p1_char</th>\n",
       "      <th>p2_char</th>\n",
       "      <th>p3_char</th>\n",
       "      <th>p4_char</th>\n",
       "      <th>stage</th>\n",
       "      <th>is_teams</th>\n",
       "      <th>is_pal</th>\n",
       "      <th>p1_char_name</th>\n",
       "      <th>p2_char_name</th>\n",
       "      <th>p3_char_name</th>\n",
       "      <th>p4_char_name</th>\n",
       "      <th>stage_name</th>\n",
       "      <th>fox_port</th>\n",
       "      <th>falco_port_index</th>\n",
       "    </tr>\n",
       "    <tr>\n",
       "      <th>game_id</th>\n",
       "      <th></th>\n",
       "      <th></th>\n",
       "      <th></th>\n",
       "      <th></th>\n",
       "      <th></th>\n",
       "      <th></th>\n",
       "      <th></th>\n",
       "      <th></th>\n",
       "      <th></th>\n",
       "      <th></th>\n",
       "      <th></th>\n",
       "      <th></th>\n",
       "      <th></th>\n",
       "      <th></th>\n",
       "      <th></th>\n",
       "      <th></th>\n",
       "      <th></th>\n",
       "    </tr>\n",
       "  </thead>\n",
       "  <tbody>\n",
       "    <tr>\n",
       "      <th>USB10-20190406T144505</th>\n",
       "      <td>2019-04-06 14:45:05+00:00</td>\n",
       "      <td>8449</td>\n",
       "      <td>Platform.NINTENDONT</td>\n",
       "      <td>NaN</td>\n",
       "      <td>NaN</td>\n",
       "      <td>20.0</td>\n",
       "      <td>2.0</td>\n",
       "      <td>32</td>\n",
       "      <td>False</td>\n",
       "      <td>False</td>\n",
       "      <td>NaN</td>\n",
       "      <td>NaN</td>\n",
       "      <td>Falco</td>\n",
       "      <td>Fox</td>\n",
       "      <td>Final Destination</td>\n",
       "      <td>4</td>\n",
       "      <td>2</td>\n",
       "    </tr>\n",
       "    <tr>\n",
       "      <th>USB10-20190406T114015</th>\n",
       "      <td>2019-04-06 11:40:15+00:00</td>\n",
       "      <td>9572</td>\n",
       "      <td>Platform.NINTENDONT</td>\n",
       "      <td>20.0</td>\n",
       "      <td>NaN</td>\n",
       "      <td>2.0</td>\n",
       "      <td>NaN</td>\n",
       "      <td>32</td>\n",
       "      <td>False</td>\n",
       "      <td>False</td>\n",
       "      <td>Falco</td>\n",
       "      <td>NaN</td>\n",
       "      <td>Fox</td>\n",
       "      <td>NaN</td>\n",
       "      <td>Final Destination</td>\n",
       "      <td>3</td>\n",
       "      <td>0</td>\n",
       "    </tr>\n",
       "    <tr>\n",
       "      <th>USB10-20190406T143503</th>\n",
       "      <td>2019-04-06 14:35:03+00:00</td>\n",
       "      <td>7148</td>\n",
       "      <td>Platform.NINTENDONT</td>\n",
       "      <td>NaN</td>\n",
       "      <td>NaN</td>\n",
       "      <td>20.0</td>\n",
       "      <td>2.0</td>\n",
       "      <td>32</td>\n",
       "      <td>False</td>\n",
       "      <td>False</td>\n",
       "      <td>NaN</td>\n",
       "      <td>NaN</td>\n",
       "      <td>Falco</td>\n",
       "      <td>Fox</td>\n",
       "      <td>Final Destination</td>\n",
       "      <td>4</td>\n",
       "      <td>2</td>\n",
       "    </tr>\n",
       "    <tr>\n",
       "      <th>USB12-20190406T102328</th>\n",
       "      <td>2019-04-06 10:23:28+00:00</td>\n",
       "      <td>9281</td>\n",
       "      <td>Platform.NINTENDONT</td>\n",
       "      <td>20.0</td>\n",
       "      <td>NaN</td>\n",
       "      <td>2.0</td>\n",
       "      <td>NaN</td>\n",
       "      <td>32</td>\n",
       "      <td>False</td>\n",
       "      <td>False</td>\n",
       "      <td>Falco</td>\n",
       "      <td>NaN</td>\n",
       "      <td>Fox</td>\n",
       "      <td>NaN</td>\n",
       "      <td>Final Destination</td>\n",
       "      <td>3</td>\n",
       "      <td>0</td>\n",
       "    </tr>\n",
       "    <tr>\n",
       "      <th>USB13-20190406T190420</th>\n",
       "      <td>2019-04-06 19:04:20+00:00</td>\n",
       "      <td>7437</td>\n",
       "      <td>Platform.NINTENDONT</td>\n",
       "      <td>20.0</td>\n",
       "      <td>NaN</td>\n",
       "      <td>NaN</td>\n",
       "      <td>2.0</td>\n",
       "      <td>32</td>\n",
       "      <td>False</td>\n",
       "      <td>False</td>\n",
       "      <td>Falco</td>\n",
       "      <td>NaN</td>\n",
       "      <td>NaN</td>\n",
       "      <td>Fox</td>\n",
       "      <td>Final Destination</td>\n",
       "      <td>4</td>\n",
       "      <td>0</td>\n",
       "    </tr>\n",
       "    <tr>\n",
       "      <th>USB13-20190406T183745</th>\n",
       "      <td>2019-04-06 18:37:45+00:00</td>\n",
       "      <td>6712</td>\n",
       "      <td>Platform.NINTENDONT</td>\n",
       "      <td>20.0</td>\n",
       "      <td>NaN</td>\n",
       "      <td>NaN</td>\n",
       "      <td>2.0</td>\n",
       "      <td>32</td>\n",
       "      <td>False</td>\n",
       "      <td>False</td>\n",
       "      <td>Falco</td>\n",
       "      <td>NaN</td>\n",
       "      <td>NaN</td>\n",
       "      <td>Fox</td>\n",
       "      <td>Final Destination</td>\n",
       "      <td>4</td>\n",
       "      <td>0</td>\n",
       "    </tr>\n",
       "    <tr>\n",
       "      <th>USB13-20190406T105900</th>\n",
       "      <td>2019-04-06 10:59:00+00:00</td>\n",
       "      <td>12435</td>\n",
       "      <td>Platform.NINTENDONT</td>\n",
       "      <td>20.0</td>\n",
       "      <td>2.0</td>\n",
       "      <td>NaN</td>\n",
       "      <td>NaN</td>\n",
       "      <td>32</td>\n",
       "      <td>False</td>\n",
       "      <td>False</td>\n",
       "      <td>Falco</td>\n",
       "      <td>Fox</td>\n",
       "      <td>NaN</td>\n",
       "      <td>NaN</td>\n",
       "      <td>Final Destination</td>\n",
       "      <td>2</td>\n",
       "      <td>0</td>\n",
       "    </tr>\n",
       "    <tr>\n",
       "      <th>USB15-20190406T214523</th>\n",
       "      <td>2019-04-06 21:45:23+00:00</td>\n",
       "      <td>6220</td>\n",
       "      <td>Platform.NINTENDONT</td>\n",
       "      <td>20.0</td>\n",
       "      <td>NaN</td>\n",
       "      <td>NaN</td>\n",
       "      <td>2.0</td>\n",
       "      <td>32</td>\n",
       "      <td>False</td>\n",
       "      <td>False</td>\n",
       "      <td>Falco</td>\n",
       "      <td>NaN</td>\n",
       "      <td>NaN</td>\n",
       "      <td>Fox</td>\n",
       "      <td>Final Destination</td>\n",
       "      <td>4</td>\n",
       "      <td>0</td>\n",
       "    </tr>\n",
       "    <tr>\n",
       "      <th>USB2-20190406T175827</th>\n",
       "      <td>2019-04-06 17:58:27+00:00</td>\n",
       "      <td>8705</td>\n",
       "      <td>Platform.NINTENDONT</td>\n",
       "      <td>2.0</td>\n",
       "      <td>20.0</td>\n",
       "      <td>NaN</td>\n",
       "      <td>NaN</td>\n",
       "      <td>32</td>\n",
       "      <td>False</td>\n",
       "      <td>False</td>\n",
       "      <td>Fox</td>\n",
       "      <td>Falco</td>\n",
       "      <td>NaN</td>\n",
       "      <td>NaN</td>\n",
       "      <td>Final Destination</td>\n",
       "      <td>1</td>\n",
       "      <td>1</td>\n",
       "    </tr>\n",
       "    <tr>\n",
       "      <th>USB5-20190406T190322</th>\n",
       "      <td>2019-04-06 19:03:22+00:00</td>\n",
       "      <td>8206</td>\n",
       "      <td>Platform.NINTENDONT</td>\n",
       "      <td>NaN</td>\n",
       "      <td>20.0</td>\n",
       "      <td>NaN</td>\n",
       "      <td>2.0</td>\n",
       "      <td>32</td>\n",
       "      <td>False</td>\n",
       "      <td>False</td>\n",
       "      <td>NaN</td>\n",
       "      <td>Falco</td>\n",
       "      <td>NaN</td>\n",
       "      <td>Fox</td>\n",
       "      <td>Final Destination</td>\n",
       "      <td>4</td>\n",
       "      <td>1</td>\n",
       "    </tr>\n",
       "    <tr>\n",
       "      <th>USB6-20190309T012347</th>\n",
       "      <td>2019-03-09 01:23:47+00:00</td>\n",
       "      <td>5429</td>\n",
       "      <td>Platform.NINTENDONT</td>\n",
       "      <td>2.0</td>\n",
       "      <td>NaN</td>\n",
       "      <td>NaN</td>\n",
       "      <td>20.0</td>\n",
       "      <td>32</td>\n",
       "      <td>False</td>\n",
       "      <td>False</td>\n",
       "      <td>Fox</td>\n",
       "      <td>NaN</td>\n",
       "      <td>NaN</td>\n",
       "      <td>Falco</td>\n",
       "      <td>Final Destination</td>\n",
       "      <td>1</td>\n",
       "      <td>3</td>\n",
       "    </tr>\n",
       "    <tr>\n",
       "      <th>USB7-20190406T104203</th>\n",
       "      <td>2019-04-06 10:42:03+00:00</td>\n",
       "      <td>7117</td>\n",
       "      <td>Platform.NINTENDONT</td>\n",
       "      <td>NaN</td>\n",
       "      <td>20.0</td>\n",
       "      <td>2.0</td>\n",
       "      <td>NaN</td>\n",
       "      <td>32</td>\n",
       "      <td>False</td>\n",
       "      <td>False</td>\n",
       "      <td>NaN</td>\n",
       "      <td>Falco</td>\n",
       "      <td>Fox</td>\n",
       "      <td>NaN</td>\n",
       "      <td>Final Destination</td>\n",
       "      <td>3</td>\n",
       "      <td>1</td>\n",
       "    </tr>\n",
       "  </tbody>\n",
       "</table>\n",
       "</div>"
      ],
      "text/plain": [
       "                                            date  duration  \\\n",
       "game_id                                                      \n",
       "USB10-20190406T144505  2019-04-06 14:45:05+00:00      8449   \n",
       "USB10-20190406T114015  2019-04-06 11:40:15+00:00      9572   \n",
       "USB10-20190406T143503  2019-04-06 14:35:03+00:00      7148   \n",
       "USB12-20190406T102328  2019-04-06 10:23:28+00:00      9281   \n",
       "USB13-20190406T190420  2019-04-06 19:04:20+00:00      7437   \n",
       "USB13-20190406T183745  2019-04-06 18:37:45+00:00      6712   \n",
       "USB13-20190406T105900  2019-04-06 10:59:00+00:00     12435   \n",
       "USB15-20190406T214523  2019-04-06 21:45:23+00:00      6220   \n",
       "USB2-20190406T175827   2019-04-06 17:58:27+00:00      8705   \n",
       "USB5-20190406T190322   2019-04-06 19:03:22+00:00      8206   \n",
       "USB6-20190309T012347   2019-03-09 01:23:47+00:00      5429   \n",
       "USB7-20190406T104203   2019-04-06 10:42:03+00:00      7117   \n",
       "\n",
       "                                  platform  p1_char  p2_char  p3_char  \\\n",
       "game_id                                                                 \n",
       "USB10-20190406T144505  Platform.NINTENDONT      NaN      NaN     20.0   \n",
       "USB10-20190406T114015  Platform.NINTENDONT     20.0      NaN      2.0   \n",
       "USB10-20190406T143503  Platform.NINTENDONT      NaN      NaN     20.0   \n",
       "USB12-20190406T102328  Platform.NINTENDONT     20.0      NaN      2.0   \n",
       "USB13-20190406T190420  Platform.NINTENDONT     20.0      NaN      NaN   \n",
       "USB13-20190406T183745  Platform.NINTENDONT     20.0      NaN      NaN   \n",
       "USB13-20190406T105900  Platform.NINTENDONT     20.0      2.0      NaN   \n",
       "USB15-20190406T214523  Platform.NINTENDONT     20.0      NaN      NaN   \n",
       "USB2-20190406T175827   Platform.NINTENDONT      2.0     20.0      NaN   \n",
       "USB5-20190406T190322   Platform.NINTENDONT      NaN     20.0      NaN   \n",
       "USB6-20190309T012347   Platform.NINTENDONT      2.0      NaN      NaN   \n",
       "USB7-20190406T104203   Platform.NINTENDONT      NaN     20.0      2.0   \n",
       "\n",
       "                       p4_char  stage  is_teams  is_pal p1_char_name  \\\n",
       "game_id                                                                \n",
       "USB10-20190406T144505      2.0     32     False   False          NaN   \n",
       "USB10-20190406T114015      NaN     32     False   False        Falco   \n",
       "USB10-20190406T143503      2.0     32     False   False          NaN   \n",
       "USB12-20190406T102328      NaN     32     False   False        Falco   \n",
       "USB13-20190406T190420      2.0     32     False   False        Falco   \n",
       "USB13-20190406T183745      2.0     32     False   False        Falco   \n",
       "USB13-20190406T105900      NaN     32     False   False        Falco   \n",
       "USB15-20190406T214523      2.0     32     False   False        Falco   \n",
       "USB2-20190406T175827       NaN     32     False   False          Fox   \n",
       "USB5-20190406T190322       2.0     32     False   False          NaN   \n",
       "USB6-20190309T012347      20.0     32     False   False          Fox   \n",
       "USB7-20190406T104203       NaN     32     False   False          NaN   \n",
       "\n",
       "                      p2_char_name p3_char_name p4_char_name  \\\n",
       "game_id                                                        \n",
       "USB10-20190406T144505          NaN        Falco          Fox   \n",
       "USB10-20190406T114015          NaN          Fox          NaN   \n",
       "USB10-20190406T143503          NaN        Falco          Fox   \n",
       "USB12-20190406T102328          NaN          Fox          NaN   \n",
       "USB13-20190406T190420          NaN          NaN          Fox   \n",
       "USB13-20190406T183745          NaN          NaN          Fox   \n",
       "USB13-20190406T105900          Fox          NaN          NaN   \n",
       "USB15-20190406T214523          NaN          NaN          Fox   \n",
       "USB2-20190406T175827         Falco          NaN          NaN   \n",
       "USB5-20190406T190322         Falco          NaN          Fox   \n",
       "USB6-20190309T012347           NaN          NaN        Falco   \n",
       "USB7-20190406T104203         Falco          Fox          NaN   \n",
       "\n",
       "                              stage_name  fox_port  falco_port_index  \n",
       "game_id                                                               \n",
       "USB10-20190406T144505  Final Destination         4                 2  \n",
       "USB10-20190406T114015  Final Destination         3                 0  \n",
       "USB10-20190406T143503  Final Destination         4                 2  \n",
       "USB12-20190406T102328  Final Destination         3                 0  \n",
       "USB13-20190406T190420  Final Destination         4                 0  \n",
       "USB13-20190406T183745  Final Destination         4                 0  \n",
       "USB13-20190406T105900  Final Destination         2                 0  \n",
       "USB15-20190406T214523  Final Destination         4                 0  \n",
       "USB2-20190406T175827   Final Destination         1                 1  \n",
       "USB5-20190406T190322   Final Destination         4                 1  \n",
       "USB6-20190309T012347   Final Destination         1                 3  \n",
       "USB7-20190406T104203   Final Destination         3                 1  "
      ]
     },
     "execution_count": 39,
     "metadata": {},
     "output_type": "execute_result"
    }
   ],
   "source": [
    "df_games"
   ]
  },
  {
   "cell_type": "code",
   "execution_count": 40,
   "metadata": {
    "ExecuteTime": {
     "end_time": "2020-03-04T17:01:49.931801Z",
     "start_time": "2020-03-04T17:01:49.921137Z"
    },
    "scrolled": true
   },
   "outputs": [
    {
     "data": {
      "text/plain": [
       "Index(['USB10-20190406T144505', 'USB10-20190406T114015',\n",
       "       'USB10-20190406T143503', 'USB12-20190406T102328',\n",
       "       'USB13-20190406T190420', 'USB13-20190406T183745',\n",
       "       'USB13-20190406T105900', 'USB15-20190406T214523',\n",
       "       'USB2-20190406T175827', 'USB5-20190406T190322', 'USB6-20190309T012347',\n",
       "       'USB7-20190406T104203'],\n",
       "      dtype='object', name='game_id')"
      ]
     },
     "execution_count": 40,
     "metadata": {},
     "output_type": "execute_result"
    }
   ],
   "source": [
    "game_id = df_games.index\n",
    "game_id"
   ]
  },
  {
   "cell_type": "code",
   "execution_count": 41,
   "metadata": {
    "ExecuteTime": {
     "end_time": "2020-03-04T17:01:49.942435Z",
     "start_time": "2020-03-04T17:01:49.934206Z"
    }
   },
   "outputs": [
    {
     "data": {
      "text/plain": [
       "'USB10-20190406T144505'"
      ]
     },
     "execution_count": 41,
     "metadata": {},
     "output_type": "execute_result"
    }
   ],
   "source": [
    "game_id[0].strip('-')"
   ]
  },
  {
   "cell_type": "code",
   "execution_count": 42,
   "metadata": {
    "ExecuteTime": {
     "end_time": "2020-03-04T17:01:49.958959Z",
     "start_time": "2020-03-04T17:01:49.947956Z"
    }
   },
   "outputs": [
    {
     "data": {
      "text/plain": [
       "['../../fp9/USB10/Game_20190406T144505.slp',\n",
       " '../../fp9/USB10/Game_20190406T114015.slp',\n",
       " '../../fp9/USB10/Game_20190406T143503.slp',\n",
       " '../../fp9/USB12/Game_20190406T102328.slp',\n",
       " '../../fp9/USB13/Game_20190406T190420.slp',\n",
       " '../../fp9/USB13/Game_20190406T183745.slp',\n",
       " '../../fp9/USB13/Game_20190406T105900.slp',\n",
       " '../../fp9/USB15/Game_20190406T214523.slp',\n",
       " '../../fp9/USB2/Game_20190406T175827.slp',\n",
       " '../../fp9/USB5/Game_20190406T190322.slp',\n",
       " '../../fp9/USB6/Game_20190309T012347.slp',\n",
       " '../../fp9/USB7/Game_20190406T104203.slp']"
      ]
     },
     "execution_count": 42,
     "metadata": {},
     "output_type": "execute_result"
    }
   ],
   "source": [
    "# Use string concatenation to add the relative filepath\n",
    "# and the file extention to each value in game_id\n",
    "games = list(map(lambda val: f'../../fp9/{val.split(\"-\")[0]}/Game_{val.split(\"-\")[-1]}.slp', game_id))\n",
    "games"
   ]
  },
  {
   "cell_type": "markdown",
   "metadata": {},
   "source": [
    "<a id = \"function\"></a>\n",
    "### The Function"
   ]
  },
  {
   "cell_type": "code",
   "execution_count": 44,
   "metadata": {
    "ExecuteTime": {
     "end_time": "2020-03-04T17:02:13.260704Z",
     "start_time": "2020-03-04T17:02:13.211775Z"
    }
   },
   "outputs": [],
   "source": [
    "def frames_to_df_fox(slp_paths):\n",
    "    '''\n",
    "    Returns a dataframe of frame data for each game\n",
    "    slp_paths (list): A list of filepaths that lead to Slippi files\n",
    "    '''\n",
    "    length = len(slp_paths)\n",
    "    count = 0\n",
    "\n",
    "    # Dictionaries to keep track of which buttons on the controller we pressed for each frame\n",
    "    # Fox\n",
    "    fox_button_dict = {'Trigger Analog':[],'Start': [],'Y': [],'X': [],'B': [],'A': [],'L': [],'R': [],\n",
    "                      'Z': [],'Dpad-Up': [],'Dpad-Down': [],'Dpad-Right': [],'Dpad-Left': []}\n",
    "\n",
    "    # falco = Not Fox -> Falco\n",
    "    falco_button_dict = {'Trigger Analog':[],'Start': [],'Y': [],'X': [],'B': [],'A': [],'L': [],'R': [],\n",
    "                      'Z': [],'Dpad-Up': [],'Dpad-Down': [],'Dpad-Right': [],'Dpad-Left': []}\n",
    "    \n",
    "    # foreign key to metadata dataframe\n",
    "    game_id = list()\n",
    "    \n",
    "    # frame index\n",
    "    index = list()\n",
    "    \n",
    "    # feature per frame for fox\n",
    "    fox_combo_count, fox_dmg, fox_direction, \\\n",
    "    fox_last_attack_landed, fox_last_hit_by, fox_position_x, fox_position_y, \\\n",
    "    fox_shield, fox_state, fox_stage_age, fox_stocks, fox_cstick_x, fox_cstick_y, fox_dmg, fox_direction, \\\n",
    "    fox_joystick_x, fox_joystick_y,  fox_position, fox_raw_analog_x, fox_state, fox_state_age = list(), list(), list(), \\\n",
    "    list(), list(), list(), list(), list(), list(), list(), list(), list(), list(), list(), list(), \\\n",
    "    list(), list(), list(), list(), list(), list()\n",
    "    \n",
    "    # feature per frame for not fox\n",
    "    falco_combo_count, falco_dmg, falco_direction, \\\n",
    "    falco_last_attack_landed, falco_last_hit_by, falco_position_x, falco_position_y, \\\n",
    "    falco_shield, falco_state, p2_stage_age, falco_stocks, falco_cstick_x, falco_cstick_y, falco_dmg, falco_direction, \\\n",
    "    falco_joystick_x, falco_joystick_y, falco_position, falco_raw_analog_x, falco_state, falco_state_age = list(), list(), list(), \\\n",
    "    list(), list(), list(), list(), list(), list(), list(), list(), list(), list(), list(), list(), \\\n",
    "    list(), list(), list(), list(), list(), list()\n",
    "    \n",
    "    # For each filepath in the provided list of filepaths\n",
    "    for path in slp_paths:\n",
    "\n",
    "        # Create game_id\n",
    "        curr_gameid = slp_paths[count].split('/')[-1].strip('Game_').strip('.slp')\n",
    "        print(f'Parsing file {count + 1} of {length}')\n",
    "        \n",
    "        # Try to instantiate the Game object. If cannot, skip it\n",
    "        try:\n",
    "            game = slp.Game(path)\n",
    "        except:\n",
    "            print(f'Skip game {count + 1} of {length}')\n",
    "            continue\n",
    "\n",
    "        # get fox ports and non-fox ports\n",
    "        fox_ports = get_char_ports('Fox')\n",
    "        falco_ports = get_char_ports('Falco')\n",
    "        \n",
    "        # for each Frame object of all frames in a specific game\n",
    "        frame_length = len(game.frames)\n",
    "        frame_count = 0\n",
    "        for frame in game.frames:\n",
    "            frame_count += 1\n",
    "            print(f'Parsing frame {frame_count} of {frame_length}: {round(frame_count / frame_length * 100, 2)}%', end = '\\r')\n",
    "            \n",
    "            # Tell me what game this frame came from\n",
    "            game_id.append(curr_gameid)\n",
    "            \n",
    "            # Tell me the frame index\n",
    "            index.append(frame.index)\n",
    "            \n",
    "            # Tell me the Positional X value of the cstick of each player/character\n",
    "            fox_cstick_x.append(frame.ports[fox_ports[count]].leader.pre.cstick.x)\n",
    "            falco_cstick_x.append(frame.ports[falco_ports[count]].leader.pre.cstick.x)\n",
    "\n",
    "            # Positional Y value of the cstick of each player/character\n",
    "            fox_cstick_y.append(frame.ports[fox_ports[count]].leader.pre.cstick.y)\n",
    "            falco_cstick_y.append(frame.ports[falco_ports[count]].leader.pre.cstick.y)\n",
    "            \n",
    "            # Positional X value of the joystick of each player/character\n",
    "            fox_joystick_x.append(frame.ports[fox_ports[count]].leader.pre.joystick.x)\n",
    "            falco_joystick_x.append(frame.ports[falco_ports[count]].leader.pre.joystick.x)\n",
    "            \n",
    "            # Positional Y value of the joystick\n",
    "            fox_joystick_y.append(frame.ports[fox_ports[count]].leader.pre.joystick.y)\n",
    "            falco_joystick_y.append(frame.ports[falco_ports[count]].leader.pre.joystick.y)\n",
    "            \n",
    "            # Combo Count\n",
    "            fox_combo_count.append(frame.ports[fox_ports[count]].leader.post.combo_count)\n",
    "            falco_combo_count.append(frame.ports[falco_ports[count]].leader.post.combo_count)\n",
    "            \n",
    "            # Damage\n",
    "            fox_dmg.append(frame.ports[fox_ports[count]].leader.post.damage)\n",
    "            falco_dmg.append(frame.ports[falco_ports[count]].leader.post.damage)\n",
    "            \n",
    "            # Direction\n",
    "            fox_direction.append(frame.ports[fox_ports[count]].leader.post.direction)\n",
    "            falco_direction.append(frame.ports[falco_ports[count]].leader.post.direction)\n",
    "            \n",
    "            # Last move hit by\n",
    "            fox_last_hit_by.append(frame.ports[fox_ports[count]].leader.post.last_hit_by)\n",
    "            falco_last_hit_by.append(frame.ports[falco_ports[count]].leader.post.last_hit_by)\n",
    "            \n",
    "            # Character's X coordinate position\n",
    "            fox_position_x.append(frame.ports[fox_ports[count]].leader.post.position.x)\n",
    "            falco_position_x.append(frame.ports[falco_ports[count]].leader.post.position.x)\n",
    "            \n",
    "            # Character's Y coordinate position\n",
    "            fox_position_y.append(frame.ports[fox_ports[count]].leader.post.position.y)\n",
    "            falco_position_y.append(frame.ports[falco_ports[count]].leader.post.position.y)\n",
    "            \n",
    "            # Character's shield size\n",
    "            fox_shield.append(frame.ports[fox_ports[count]].leader.post.shield)\n",
    "            falco_shield.append(frame.ports[falco_ports[count]].leader.post.shield)\n",
    "            \n",
    "            # Characer's Action state\n",
    "            fox_state.append(frame.ports[fox_ports[count]].leader.post.state)\n",
    "            falco_state.append(frame.ports[falco_ports[count]].leader.post.state)\n",
    "            \n",
    "            # How long has the characer been in their current action state\n",
    "            fox_state_age.append(frame.ports[fox_ports[count]].leader.post.state_age)\n",
    "            falco_state_age.append(frame.ports[falco_ports[count]].leader.post.state_age)\n",
    "            \n",
    "            # Number of stocks remaining\n",
    "            fox_stocks.append(frame.ports[fox_ports[count]].leader.post.stocks)\n",
    "            falco_stocks.append(frame.ports[falco_ports[count]].leader.post.stocks)\n",
    "\n",
    "            # Get the inputs of the Fox's controller\n",
    "            fox_ins = str(frame.ports[fox_ports[count]].leader.pre.buttons.logical).split('.')[1].split('|')\n",
    "            \n",
    "            # For each key/button or stick on the controller\n",
    "            for button in fox_button_dict:\n",
    "\n",
    "                # if that key is in the buttons that were truly inputted this frame\n",
    "                if button in fox_ins:\n",
    "                    # Append True to the dictionary\n",
    "                    fox_button_dict[button].append(1)\n",
    "                # else, append False to the dictionary\n",
    "                else:\n",
    "                    fox_button_dict[button].append(0)\n",
    "            \n",
    "            falco_ins = str(frame.ports[falco_ports[count]].leader.pre.buttons.logical).split('.')[1].split('|')\n",
    "            for button in falco_button_dict:\n",
    "                if button in falco_ins:\n",
    "                    falco_button_dict[button].append(1)\n",
    "                else:\n",
    "                    falco_button_dict[button].append(0)\n",
    "            \n",
    "        count += 1\n",
    "\n",
    "    return pd.DataFrame({\n",
    "        'game_id': game_id,\n",
    "        'frame_index': index,\n",
    "        \n",
    "        # Fox\n",
    "        'fox_cstick_x': fox_cstick_x,\n",
    "        'fox_cstick_y': fox_cstick_y,\n",
    "        'fox_joystick_x': fox_joystick_x,\n",
    "        'fox_joystick_y': fox_joystick_y,\n",
    "        'fox_trigger_analog': fox_button_dict['Trigger Analog'],\n",
    "        'fox_Y': fox_button_dict['Y'],\n",
    "        'fox_X': fox_button_dict['X'],\n",
    "        'fox_B': fox_button_dict['B'],\n",
    "        'fox_A': fox_button_dict['A'],\n",
    "        'fox_L': fox_button_dict['L'],\n",
    "        'fox_R': fox_button_dict['R'],\n",
    "        'fox_Z': fox_button_dict['Z'],\n",
    "        'fox_Dpad_Up': fox_button_dict['Dpad-Up'],\n",
    "        'fox_Dpad_Down': fox_button_dict['Dpad-Down'],\n",
    "        'fox_Dpad_Right': fox_button_dict['Dpad-Right'],\n",
    "        'fox_Dpad_Left': fox_button_dict['Dpad-Left'],\n",
    "        'fox_combo_count': fox_combo_count,\n",
    "        'fox_dmg': fox_dmg,\n",
    "        'fox_direction': fox_direction,\n",
    "        'fox_last_hit_by': fox_last_hit_by,\n",
    "        'fox_position_x': fox_position_x,\n",
    "        'fox_position_y': fox_position_y,\n",
    "        'fox_shield': fox_shield,\n",
    "        'fox_state': fox_state,\n",
    "        'fox_state_age': fox_state_age,\n",
    "        'fox_stocks': fox_stocks,\n",
    "        \n",
    "        # Not Fox\n",
    "        'falco_cstick_x': falco_cstick_x,\n",
    "        'falco_cstick_y': falco_cstick_y,\n",
    "        'falco_joystick_x': falco_joystick_x,\n",
    "        'falco_joystick_y': falco_joystick_y,\n",
    "        'falco_trigger_analog': falco_button_dict['Trigger Analog'],\n",
    "        'falco_Y': falco_button_dict['Y'],\n",
    "        'falco_X': falco_button_dict['X'],\n",
    "        'falco_B': falco_button_dict['B'],\n",
    "        'falco_A': falco_button_dict['A'],\n",
    "        'falco_L': falco_button_dict['L'],\n",
    "        'falco_R': falco_button_dict['R'],\n",
    "        'falco_Z': falco_button_dict['Z'],\n",
    "        'falco_Dpad_Up': falco_button_dict['Dpad-Up'],\n",
    "        'falco_Dpad_Down': falco_button_dict['Dpad-Down'],\n",
    "        'falco_Dpad_Right': falco_button_dict['Dpad-Right'],\n",
    "        'falco_Dpad_Left': falco_button_dict['Dpad-Left'],\n",
    "        'falco_combo_count': falco_combo_count,\n",
    "        'falco_dmg': falco_dmg,\n",
    "        'falco_direction': falco_direction,\n",
    "        'falco_last_hit_by': falco_last_hit_by,\n",
    "        'falco_position_x': falco_position_x,\n",
    "        'falco_position_y': falco_position_y,\n",
    "        'falco_shield': falco_shield,\n",
    "        'falco_state': falco_state,\n",
    "        'falco_state_age': falco_state_age,\n",
    "        'falco_stocks': falco_stocks\n",
    "    })"
   ]
  },
  {
   "cell_type": "code",
   "execution_count": 45,
   "metadata": {
    "ExecuteTime": {
     "end_time": "2020-03-04T17:02:13.628307Z",
     "start_time": "2020-03-04T17:02:13.621523Z"
    }
   },
   "outputs": [
    {
     "data": {
      "text/plain": [
       "[2, 0, 2, 0, 0, 0, 0, 0, 1, 1, 3, 1]"
      ]
     },
     "execution_count": 45,
     "metadata": {},
     "output_type": "execute_result"
    }
   ],
   "source": [
    "get_char_ports('Falco')"
   ]
  },
  {
   "cell_type": "code",
   "execution_count": 45,
   "metadata": {
    "ExecuteTime": {
     "end_time": "2020-02-11T21:30:55.906603Z",
     "start_time": "2020-02-11T21:30:55.891472Z"
    }
   },
   "outputs": [
    {
     "data": {
      "text/plain": [
       "[4, 3, 4, 3, 4, 4, 2, 4, 1, 4, 1, 3]"
      ]
     },
     "execution_count": 45,
     "metadata": {},
     "output_type": "execute_result"
    }
   ],
   "source": [
    "fox_ports"
   ]
  },
  {
   "cell_type": "code",
   "execution_count": 46,
   "metadata": {
    "ExecuteTime": {
     "end_time": "2020-03-04T17:02:31.526815Z",
     "start_time": "2020-03-04T17:02:15.179207Z"
    }
   },
   "outputs": [
    {
     "name": "stdout",
     "output_type": "stream",
     "text": [
      "Parsing file 1 of 5\n",
      "Parsing file 2 of 5of 8449: 100.0%\n",
      "Parsing file 3 of 5of 9572: 100.0%\n",
      "Parsing file 4 of 5of 7148: 100.0%\n",
      "Parsing file 5 of 5of 9281: 100.0%\n",
      "Parsing frame 7437 of 7437: 100.0%\r"
     ]
    },
    {
     "data": {
      "text/html": [
       "<div>\n",
       "<style scoped>\n",
       "    .dataframe tbody tr th:only-of-type {\n",
       "        vertical-align: middle;\n",
       "    }\n",
       "\n",
       "    .dataframe tbody tr th {\n",
       "        vertical-align: top;\n",
       "    }\n",
       "\n",
       "    .dataframe thead th {\n",
       "        text-align: right;\n",
       "    }\n",
       "</style>\n",
       "<table border=\"1\" class=\"dataframe\">\n",
       "  <thead>\n",
       "    <tr style=\"text-align: right;\">\n",
       "      <th></th>\n",
       "      <th>game_id</th>\n",
       "      <th>frame_index</th>\n",
       "      <th>fox_cstick_x</th>\n",
       "      <th>fox_cstick_y</th>\n",
       "      <th>fox_joystick_x</th>\n",
       "      <th>fox_joystick_y</th>\n",
       "      <th>fox_trigger_analog</th>\n",
       "      <th>fox_Y</th>\n",
       "      <th>fox_X</th>\n",
       "      <th>fox_B</th>\n",
       "      <th>...</th>\n",
       "      <th>falco_combo_count</th>\n",
       "      <th>falco_dmg</th>\n",
       "      <th>falco_direction</th>\n",
       "      <th>falco_last_hit_by</th>\n",
       "      <th>falco_position_x</th>\n",
       "      <th>falco_position_y</th>\n",
       "      <th>falco_shield</th>\n",
       "      <th>falco_state</th>\n",
       "      <th>falco_state_age</th>\n",
       "      <th>falco_stocks</th>\n",
       "    </tr>\n",
       "  </thead>\n",
       "  <tbody>\n",
       "    <tr>\n",
       "      <th>0</th>\n",
       "      <td>20190406T144505</td>\n",
       "      <td>-123</td>\n",
       "      <td>0.0</td>\n",
       "      <td>0.0</td>\n",
       "      <td>0.0</td>\n",
       "      <td>0.0</td>\n",
       "      <td>0</td>\n",
       "      <td>0</td>\n",
       "      <td>0</td>\n",
       "      <td>0</td>\n",
       "      <td>...</td>\n",
       "      <td>0</td>\n",
       "      <td>0.000000</td>\n",
       "      <td>1</td>\n",
       "      <td>NaN</td>\n",
       "      <td>-60.000000</td>\n",
       "      <td>10.000000</td>\n",
       "      <td>60.0</td>\n",
       "      <td>322</td>\n",
       "      <td>-1.0</td>\n",
       "      <td>4</td>\n",
       "    </tr>\n",
       "    <tr>\n",
       "      <th>1</th>\n",
       "      <td>20190406T144505</td>\n",
       "      <td>-122</td>\n",
       "      <td>0.0</td>\n",
       "      <td>0.0</td>\n",
       "      <td>0.0</td>\n",
       "      <td>0.0</td>\n",
       "      <td>0</td>\n",
       "      <td>0</td>\n",
       "      <td>0</td>\n",
       "      <td>0</td>\n",
       "      <td>...</td>\n",
       "      <td>0</td>\n",
       "      <td>0.000000</td>\n",
       "      <td>1</td>\n",
       "      <td>NaN</td>\n",
       "      <td>-60.000000</td>\n",
       "      <td>10.000000</td>\n",
       "      <td>60.0</td>\n",
       "      <td>322</td>\n",
       "      <td>-1.0</td>\n",
       "      <td>4</td>\n",
       "    </tr>\n",
       "    <tr>\n",
       "      <th>2</th>\n",
       "      <td>20190406T144505</td>\n",
       "      <td>-121</td>\n",
       "      <td>0.0</td>\n",
       "      <td>0.0</td>\n",
       "      <td>0.0</td>\n",
       "      <td>0.0</td>\n",
       "      <td>0</td>\n",
       "      <td>0</td>\n",
       "      <td>0</td>\n",
       "      <td>0</td>\n",
       "      <td>...</td>\n",
       "      <td>0</td>\n",
       "      <td>0.000000</td>\n",
       "      <td>1</td>\n",
       "      <td>NaN</td>\n",
       "      <td>-60.000000</td>\n",
       "      <td>10.000000</td>\n",
       "      <td>60.0</td>\n",
       "      <td>322</td>\n",
       "      <td>-1.0</td>\n",
       "      <td>4</td>\n",
       "    </tr>\n",
       "    <tr>\n",
       "      <th>3</th>\n",
       "      <td>20190406T144505</td>\n",
       "      <td>-120</td>\n",
       "      <td>0.0</td>\n",
       "      <td>0.0</td>\n",
       "      <td>0.0</td>\n",
       "      <td>0.0</td>\n",
       "      <td>0</td>\n",
       "      <td>0</td>\n",
       "      <td>0</td>\n",
       "      <td>0</td>\n",
       "      <td>...</td>\n",
       "      <td>0</td>\n",
       "      <td>0.000000</td>\n",
       "      <td>1</td>\n",
       "      <td>NaN</td>\n",
       "      <td>-60.000000</td>\n",
       "      <td>10.000000</td>\n",
       "      <td>60.0</td>\n",
       "      <td>322</td>\n",
       "      <td>-1.0</td>\n",
       "      <td>4</td>\n",
       "    </tr>\n",
       "    <tr>\n",
       "      <th>4</th>\n",
       "      <td>20190406T144505</td>\n",
       "      <td>-119</td>\n",
       "      <td>0.0</td>\n",
       "      <td>0.0</td>\n",
       "      <td>0.0</td>\n",
       "      <td>0.0</td>\n",
       "      <td>0</td>\n",
       "      <td>0</td>\n",
       "      <td>0</td>\n",
       "      <td>0</td>\n",
       "      <td>...</td>\n",
       "      <td>0</td>\n",
       "      <td>0.000000</td>\n",
       "      <td>1</td>\n",
       "      <td>NaN</td>\n",
       "      <td>-60.000000</td>\n",
       "      <td>10.000000</td>\n",
       "      <td>60.0</td>\n",
       "      <td>322</td>\n",
       "      <td>-1.0</td>\n",
       "      <td>4</td>\n",
       "    </tr>\n",
       "    <tr>\n",
       "      <th>...</th>\n",
       "      <td>...</td>\n",
       "      <td>...</td>\n",
       "      <td>...</td>\n",
       "      <td>...</td>\n",
       "      <td>...</td>\n",
       "      <td>...</td>\n",
       "      <td>...</td>\n",
       "      <td>...</td>\n",
       "      <td>...</td>\n",
       "      <td>...</td>\n",
       "      <td>...</td>\n",
       "      <td>...</td>\n",
       "      <td>...</td>\n",
       "      <td>...</td>\n",
       "      <td>...</td>\n",
       "      <td>...</td>\n",
       "      <td>...</td>\n",
       "      <td>...</td>\n",
       "      <td>...</td>\n",
       "      <td>...</td>\n",
       "      <td>...</td>\n",
       "    </tr>\n",
       "    <tr>\n",
       "      <th>41882</th>\n",
       "      <td>20190406T190420</td>\n",
       "      <td>7309</td>\n",
       "      <td>0.0</td>\n",
       "      <td>0.0</td>\n",
       "      <td>0.0</td>\n",
       "      <td>0.0</td>\n",
       "      <td>0</td>\n",
       "      <td>0</td>\n",
       "      <td>0</td>\n",
       "      <td>0</td>\n",
       "      <td>...</td>\n",
       "      <td>1</td>\n",
       "      <td>13.699999</td>\n",
       "      <td>1</td>\n",
       "      <td>3.0</td>\n",
       "      <td>-51.966187</td>\n",
       "      <td>-122.926659</td>\n",
       "      <td>60.0</td>\n",
       "      <td>247</td>\n",
       "      <td>33.0</td>\n",
       "      <td>1</td>\n",
       "    </tr>\n",
       "    <tr>\n",
       "      <th>41883</th>\n",
       "      <td>20190406T190420</td>\n",
       "      <td>7310</td>\n",
       "      <td>0.0</td>\n",
       "      <td>0.0</td>\n",
       "      <td>0.0</td>\n",
       "      <td>0.0</td>\n",
       "      <td>0</td>\n",
       "      <td>0</td>\n",
       "      <td>0</td>\n",
       "      <td>0</td>\n",
       "      <td>...</td>\n",
       "      <td>1</td>\n",
       "      <td>13.699999</td>\n",
       "      <td>1</td>\n",
       "      <td>3.0</td>\n",
       "      <td>-51.452328</td>\n",
       "      <td>-126.125114</td>\n",
       "      <td>60.0</td>\n",
       "      <td>247</td>\n",
       "      <td>34.0</td>\n",
       "      <td>1</td>\n",
       "    </tr>\n",
       "    <tr>\n",
       "      <th>41884</th>\n",
       "      <td>20190406T190420</td>\n",
       "      <td>7311</td>\n",
       "      <td>0.0</td>\n",
       "      <td>0.0</td>\n",
       "      <td>0.0</td>\n",
       "      <td>0.0</td>\n",
       "      <td>0</td>\n",
       "      <td>0</td>\n",
       "      <td>0</td>\n",
       "      <td>0</td>\n",
       "      <td>...</td>\n",
       "      <td>1</td>\n",
       "      <td>13.699999</td>\n",
       "      <td>1</td>\n",
       "      <td>3.0</td>\n",
       "      <td>-50.987770</td>\n",
       "      <td>-129.281830</td>\n",
       "      <td>60.0</td>\n",
       "      <td>247</td>\n",
       "      <td>35.0</td>\n",
       "      <td>1</td>\n",
       "    </tr>\n",
       "    <tr>\n",
       "      <th>41885</th>\n",
       "      <td>20190406T190420</td>\n",
       "      <td>7312</td>\n",
       "      <td>0.0</td>\n",
       "      <td>0.0</td>\n",
       "      <td>0.0</td>\n",
       "      <td>0.0</td>\n",
       "      <td>0</td>\n",
       "      <td>0</td>\n",
       "      <td>0</td>\n",
       "      <td>0</td>\n",
       "      <td>...</td>\n",
       "      <td>1</td>\n",
       "      <td>13.699999</td>\n",
       "      <td>1</td>\n",
       "      <td>3.0</td>\n",
       "      <td>-50.572514</td>\n",
       "      <td>-132.396805</td>\n",
       "      <td>60.0</td>\n",
       "      <td>247</td>\n",
       "      <td>36.0</td>\n",
       "      <td>1</td>\n",
       "    </tr>\n",
       "    <tr>\n",
       "      <th>41886</th>\n",
       "      <td>20190406T190420</td>\n",
       "      <td>7313</td>\n",
       "      <td>0.0</td>\n",
       "      <td>0.0</td>\n",
       "      <td>0.0</td>\n",
       "      <td>0.0</td>\n",
       "      <td>0</td>\n",
       "      <td>0</td>\n",
       "      <td>0</td>\n",
       "      <td>0</td>\n",
       "      <td>...</td>\n",
       "      <td>1</td>\n",
       "      <td>13.699999</td>\n",
       "      <td>1</td>\n",
       "      <td>3.0</td>\n",
       "      <td>-50.187763</td>\n",
       "      <td>-135.496811</td>\n",
       "      <td>60.0</td>\n",
       "      <td>247</td>\n",
       "      <td>37.0</td>\n",
       "      <td>1</td>\n",
       "    </tr>\n",
       "  </tbody>\n",
       "</table>\n",
       "<p>41887 rows × 54 columns</p>\n",
       "</div>"
      ],
      "text/plain": [
       "               game_id  frame_index  fox_cstick_x  fox_cstick_y  \\\n",
       "0      20190406T144505         -123           0.0           0.0   \n",
       "1      20190406T144505         -122           0.0           0.0   \n",
       "2      20190406T144505         -121           0.0           0.0   \n",
       "3      20190406T144505         -120           0.0           0.0   \n",
       "4      20190406T144505         -119           0.0           0.0   \n",
       "...                ...          ...           ...           ...   \n",
       "41882  20190406T190420         7309           0.0           0.0   \n",
       "41883  20190406T190420         7310           0.0           0.0   \n",
       "41884  20190406T190420         7311           0.0           0.0   \n",
       "41885  20190406T190420         7312           0.0           0.0   \n",
       "41886  20190406T190420         7313           0.0           0.0   \n",
       "\n",
       "       fox_joystick_x  fox_joystick_y  fox_trigger_analog  fox_Y  fox_X  \\\n",
       "0                 0.0             0.0                   0      0      0   \n",
       "1                 0.0             0.0                   0      0      0   \n",
       "2                 0.0             0.0                   0      0      0   \n",
       "3                 0.0             0.0                   0      0      0   \n",
       "4                 0.0             0.0                   0      0      0   \n",
       "...               ...             ...                 ...    ...    ...   \n",
       "41882             0.0             0.0                   0      0      0   \n",
       "41883             0.0             0.0                   0      0      0   \n",
       "41884             0.0             0.0                   0      0      0   \n",
       "41885             0.0             0.0                   0      0      0   \n",
       "41886             0.0             0.0                   0      0      0   \n",
       "\n",
       "       fox_B  ...  falco_combo_count  falco_dmg  falco_direction  \\\n",
       "0          0  ...                  0   0.000000                1   \n",
       "1          0  ...                  0   0.000000                1   \n",
       "2          0  ...                  0   0.000000                1   \n",
       "3          0  ...                  0   0.000000                1   \n",
       "4          0  ...                  0   0.000000                1   \n",
       "...      ...  ...                ...        ...              ...   \n",
       "41882      0  ...                  1  13.699999                1   \n",
       "41883      0  ...                  1  13.699999                1   \n",
       "41884      0  ...                  1  13.699999                1   \n",
       "41885      0  ...                  1  13.699999                1   \n",
       "41886      0  ...                  1  13.699999                1   \n",
       "\n",
       "       falco_last_hit_by  falco_position_x  falco_position_y  falco_shield  \\\n",
       "0                    NaN        -60.000000         10.000000          60.0   \n",
       "1                    NaN        -60.000000         10.000000          60.0   \n",
       "2                    NaN        -60.000000         10.000000          60.0   \n",
       "3                    NaN        -60.000000         10.000000          60.0   \n",
       "4                    NaN        -60.000000         10.000000          60.0   \n",
       "...                  ...               ...               ...           ...   \n",
       "41882                3.0        -51.966187       -122.926659          60.0   \n",
       "41883                3.0        -51.452328       -126.125114          60.0   \n",
       "41884                3.0        -50.987770       -129.281830          60.0   \n",
       "41885                3.0        -50.572514       -132.396805          60.0   \n",
       "41886                3.0        -50.187763       -135.496811          60.0   \n",
       "\n",
       "       falco_state  falco_state_age  falco_stocks  \n",
       "0              322             -1.0             4  \n",
       "1              322             -1.0             4  \n",
       "2              322             -1.0             4  \n",
       "3              322             -1.0             4  \n",
       "4              322             -1.0             4  \n",
       "...            ...              ...           ...  \n",
       "41882          247             33.0             1  \n",
       "41883          247             34.0             1  \n",
       "41884          247             35.0             1  \n",
       "41885          247             36.0             1  \n",
       "41886          247             37.0             1  \n",
       "\n",
       "[41887 rows x 54 columns]"
      ]
     },
     "execution_count": 46,
     "metadata": {},
     "output_type": "execute_result"
    }
   ],
   "source": [
    "frames_to_df_fox(games[:5])"
   ]
  },
  {
   "cell_type": "code",
   "execution_count": 46,
   "metadata": {
    "ExecuteTime": {
     "end_time": "2020-02-11T21:31:40.211118Z",
     "start_time": "2020-02-11T21:30:55.911137Z"
    }
   },
   "outputs": [
    {
     "name": "stdout",
     "output_type": "stream",
     "text": [
      "Parsing file 1 of 12\n",
      "Parsing file 2 of 12f 8449: 100.0%\n",
      "Parsing file 3 of 12f 9572: 100.0%\n",
      "Parsing file 4 of 12f 7148: 100.0%\n",
      "Parsing file 5 of 12f 9281: 100.0%\n",
      "Parsing file 6 of 12f 7437: 100.0%\n",
      "Parsing file 7 of 12f 6712: 100.0%\n",
      "Parsing file 8 of 12of 12435: 100.0%\n",
      "Parsing file 9 of 12f 6220: 100.0%\n",
      "Parsing file 10 of 12 8705: 100.0%\n",
      "Parsing file 11 of 12 8206: 100.0%\n",
      "Parsing file 12 of 12 5429: 100.0%\n",
      "Parsing frame 7117 of 7117: 100.0%\r"
     ]
    },
    {
     "data": {
      "text/html": [
       "<div>\n",
       "<style scoped>\n",
       "    .dataframe tbody tr th:only-of-type {\n",
       "        vertical-align: middle;\n",
       "    }\n",
       "\n",
       "    .dataframe tbody tr th {\n",
       "        vertical-align: top;\n",
       "    }\n",
       "\n",
       "    .dataframe thead th {\n",
       "        text-align: right;\n",
       "    }\n",
       "</style>\n",
       "<table border=\"1\" class=\"dataframe\">\n",
       "  <thead>\n",
       "    <tr style=\"text-align: right;\">\n",
       "      <th></th>\n",
       "      <th>game_id</th>\n",
       "      <th>frame_index</th>\n",
       "      <th>fox_cstick_x</th>\n",
       "      <th>fox_cstick_y</th>\n",
       "      <th>fox_joystick_x</th>\n",
       "      <th>fox_joystick_y</th>\n",
       "      <th>fox_trigger_analog</th>\n",
       "      <th>fox_Y</th>\n",
       "      <th>fox_X</th>\n",
       "      <th>fox_B</th>\n",
       "      <th>...</th>\n",
       "      <th>falco_combo_count</th>\n",
       "      <th>falco_dmg</th>\n",
       "      <th>falco_direction</th>\n",
       "      <th>falco_last_hit_by</th>\n",
       "      <th>falco_position_x</th>\n",
       "      <th>falco_position_y</th>\n",
       "      <th>falco_shield</th>\n",
       "      <th>falco_state</th>\n",
       "      <th>falco_state_age</th>\n",
       "      <th>falco_stocks</th>\n",
       "    </tr>\n",
       "  </thead>\n",
       "  <tbody>\n",
       "    <tr>\n",
       "      <th>0</th>\n",
       "      <td>20190406T144505</td>\n",
       "      <td>-123</td>\n",
       "      <td>0.0</td>\n",
       "      <td>0.0</td>\n",
       "      <td>0.0</td>\n",
       "      <td>0.0</td>\n",
       "      <td>0</td>\n",
       "      <td>0</td>\n",
       "      <td>0</td>\n",
       "      <td>0</td>\n",
       "      <td>...</td>\n",
       "      <td>0</td>\n",
       "      <td>0.0</td>\n",
       "      <td>1</td>\n",
       "      <td>NaN</td>\n",
       "      <td>-60.0</td>\n",
       "      <td>10.0</td>\n",
       "      <td>60.0</td>\n",
       "      <td>322</td>\n",
       "      <td>-1.0</td>\n",
       "      <td>4</td>\n",
       "    </tr>\n",
       "    <tr>\n",
       "      <th>1</th>\n",
       "      <td>20190406T144505</td>\n",
       "      <td>-122</td>\n",
       "      <td>0.0</td>\n",
       "      <td>0.0</td>\n",
       "      <td>0.0</td>\n",
       "      <td>0.0</td>\n",
       "      <td>0</td>\n",
       "      <td>0</td>\n",
       "      <td>0</td>\n",
       "      <td>0</td>\n",
       "      <td>...</td>\n",
       "      <td>0</td>\n",
       "      <td>0.0</td>\n",
       "      <td>1</td>\n",
       "      <td>NaN</td>\n",
       "      <td>-60.0</td>\n",
       "      <td>10.0</td>\n",
       "      <td>60.0</td>\n",
       "      <td>322</td>\n",
       "      <td>-1.0</td>\n",
       "      <td>4</td>\n",
       "    </tr>\n",
       "    <tr>\n",
       "      <th>2</th>\n",
       "      <td>20190406T144505</td>\n",
       "      <td>-121</td>\n",
       "      <td>0.0</td>\n",
       "      <td>0.0</td>\n",
       "      <td>0.0</td>\n",
       "      <td>0.0</td>\n",
       "      <td>0</td>\n",
       "      <td>0</td>\n",
       "      <td>0</td>\n",
       "      <td>0</td>\n",
       "      <td>...</td>\n",
       "      <td>0</td>\n",
       "      <td>0.0</td>\n",
       "      <td>1</td>\n",
       "      <td>NaN</td>\n",
       "      <td>-60.0</td>\n",
       "      <td>10.0</td>\n",
       "      <td>60.0</td>\n",
       "      <td>322</td>\n",
       "      <td>-1.0</td>\n",
       "      <td>4</td>\n",
       "    </tr>\n",
       "    <tr>\n",
       "      <th>3</th>\n",
       "      <td>20190406T144505</td>\n",
       "      <td>-120</td>\n",
       "      <td>0.0</td>\n",
       "      <td>0.0</td>\n",
       "      <td>0.0</td>\n",
       "      <td>0.0</td>\n",
       "      <td>0</td>\n",
       "      <td>0</td>\n",
       "      <td>0</td>\n",
       "      <td>0</td>\n",
       "      <td>...</td>\n",
       "      <td>0</td>\n",
       "      <td>0.0</td>\n",
       "      <td>1</td>\n",
       "      <td>NaN</td>\n",
       "      <td>-60.0</td>\n",
       "      <td>10.0</td>\n",
       "      <td>60.0</td>\n",
       "      <td>322</td>\n",
       "      <td>-1.0</td>\n",
       "      <td>4</td>\n",
       "    </tr>\n",
       "    <tr>\n",
       "      <th>4</th>\n",
       "      <td>20190406T144505</td>\n",
       "      <td>-119</td>\n",
       "      <td>0.0</td>\n",
       "      <td>0.0</td>\n",
       "      <td>0.0</td>\n",
       "      <td>0.0</td>\n",
       "      <td>0</td>\n",
       "      <td>0</td>\n",
       "      <td>0</td>\n",
       "      <td>0</td>\n",
       "      <td>...</td>\n",
       "      <td>0</td>\n",
       "      <td>0.0</td>\n",
       "      <td>1</td>\n",
       "      <td>NaN</td>\n",
       "      <td>-60.0</td>\n",
       "      <td>10.0</td>\n",
       "      <td>60.0</td>\n",
       "      <td>322</td>\n",
       "      <td>-1.0</td>\n",
       "      <td>4</td>\n",
       "    </tr>\n",
       "  </tbody>\n",
       "</table>\n",
       "<p>5 rows × 54 columns</p>\n",
       "</div>"
      ],
      "text/plain": [
       "           game_id  frame_index  fox_cstick_x  fox_cstick_y  fox_joystick_x  \\\n",
       "0  20190406T144505         -123           0.0           0.0             0.0   \n",
       "1  20190406T144505         -122           0.0           0.0             0.0   \n",
       "2  20190406T144505         -121           0.0           0.0             0.0   \n",
       "3  20190406T144505         -120           0.0           0.0             0.0   \n",
       "4  20190406T144505         -119           0.0           0.0             0.0   \n",
       "\n",
       "   fox_joystick_y  fox_trigger_analog  fox_Y  fox_X  fox_B  ...  \\\n",
       "0             0.0                   0      0      0      0  ...   \n",
       "1             0.0                   0      0      0      0  ...   \n",
       "2             0.0                   0      0      0      0  ...   \n",
       "3             0.0                   0      0      0      0  ...   \n",
       "4             0.0                   0      0      0      0  ...   \n",
       "\n",
       "   falco_combo_count  falco_dmg  falco_direction  falco_last_hit_by  \\\n",
       "0                  0        0.0                1                NaN   \n",
       "1                  0        0.0                1                NaN   \n",
       "2                  0        0.0                1                NaN   \n",
       "3                  0        0.0                1                NaN   \n",
       "4                  0        0.0                1                NaN   \n",
       "\n",
       "   falco_position_x  falco_position_y  falco_shield  falco_state  \\\n",
       "0             -60.0              10.0          60.0          322   \n",
       "1             -60.0              10.0          60.0          322   \n",
       "2             -60.0              10.0          60.0          322   \n",
       "3             -60.0              10.0          60.0          322   \n",
       "4             -60.0              10.0          60.0          322   \n",
       "\n",
       "   falco_state_age  falco_stocks  \n",
       "0             -1.0             4  \n",
       "1             -1.0             4  \n",
       "2             -1.0             4  \n",
       "3             -1.0             4  \n",
       "4             -1.0             4  \n",
       "\n",
       "[5 rows x 54 columns]"
      ]
     },
     "execution_count": 46,
     "metadata": {},
     "output_type": "execute_result"
    }
   ],
   "source": [
    "# Parse each Slippi game\n",
    "df_frames = frames_to_df_fox(games)\n",
    "df_frames.head()"
   ]
  },
  {
   "cell_type": "markdown",
   "metadata": {},
   "source": [
    "<a id = 'eda'></a>\n",
    "## Exploring the Frames"
   ]
  },
  {
   "cell_type": "code",
   "execution_count": 47,
   "metadata": {
    "ExecuteTime": {
     "end_time": "2020-02-11T21:31:40.257481Z",
     "start_time": "2020-02-11T21:31:40.220960Z"
    }
   },
   "outputs": [
    {
     "data": {
      "text/plain": [
       "game_id                 0.000000\n",
       "frame_index             0.000000\n",
       "fox_cstick_x            0.000000\n",
       "fox_cstick_y            0.000000\n",
       "fox_joystick_x          0.000000\n",
       "fox_joystick_y          0.000000\n",
       "fox_trigger_analog      0.000000\n",
       "fox_Y                   0.000000\n",
       "fox_X                   0.000000\n",
       "fox_B                   0.000000\n",
       "fox_A                   0.000000\n",
       "fox_L                   0.000000\n",
       "fox_R                   0.000000\n",
       "fox_Z                   0.000000\n",
       "fox_Dpad_Up             0.000000\n",
       "fox_Dpad_Down           0.000000\n",
       "fox_Dpad_Right          0.000000\n",
       "fox_Dpad_Left           0.000000\n",
       "fox_combo_count         0.000000\n",
       "fox_dmg                 0.000000\n",
       "fox_direction           0.000000\n",
       "fox_last_hit_by         0.540518\n",
       "fox_position_x          0.000000\n",
       "fox_position_y          0.000000\n",
       "fox_shield              0.000000\n",
       "fox_state               0.000000\n",
       "fox_state_age           0.000000\n",
       "fox_stocks              0.000000\n",
       "falco_cstick_x          0.000000\n",
       "falco_cstick_y          0.000000\n",
       "falco_joystick_x        0.000000\n",
       "falco_joystick_y        0.000000\n",
       "falco_trigger_analog    0.000000\n",
       "falco_Y                 0.000000\n",
       "falco_X                 0.000000\n",
       "falco_B                 0.000000\n",
       "falco_A                 0.000000\n",
       "falco_L                 0.000000\n",
       "falco_R                 0.000000\n",
       "falco_Z                 0.000000\n",
       "falco_Dpad_Up           0.000000\n",
       "falco_Dpad_Down         0.000000\n",
       "falco_Dpad_Right        0.000000\n",
       "falco_Dpad_Left         0.000000\n",
       "falco_combo_count       0.000000\n",
       "falco_dmg               0.000000\n",
       "falco_direction         0.000000\n",
       "falco_last_hit_by       0.604244\n",
       "falco_position_x        0.000000\n",
       "falco_position_y        0.000000\n",
       "falco_shield            0.000000\n",
       "falco_state             0.000000\n",
       "falco_state_age         0.000000\n",
       "falco_stocks            0.000000\n",
       "dtype: float64"
      ]
     },
     "execution_count": 47,
     "metadata": {},
     "output_type": "execute_result"
    }
   ],
   "source": [
    "# Checking for null values\n",
    "df_frames.isnull().mean()"
   ]
  },
  {
   "cell_type": "markdown",
   "metadata": {},
   "source": [
    "It appears that the `last_hit_by` features has a lot of missing data. Since I want the final product of this tool to perform with a user's raw game files, I cannot expect a user to take the time to clean their game files and impute their missing values. As such, I will leave these and see how well my model does."
   ]
  },
  {
   "cell_type": "code",
   "execution_count": 48,
   "metadata": {
    "ExecuteTime": {
     "end_time": "2020-02-11T21:31:40.272826Z",
     "start_time": "2020-02-11T21:31:40.259907Z"
    },
    "scrolled": true
   },
   "outputs": [
    {
     "data": {
      "text/plain": [
       "True"
      ]
     },
     "execution_count": 48,
     "metadata": {},
     "output_type": "execute_result"
    }
   ],
   "source": [
    "df_frames.shape[0] == sum(df_games['duration'])"
   ]
  },
  {
   "cell_type": "markdown",
   "metadata": {},
   "source": [
    "According to user __Summate__ from the Slippi Discord channel, each character has unique action states. This is obvious, but what was crucial to know is that character's action state values can be identical, but represent different moves. For example, Fox and Falco's action state value of 341 each represent that they will use their blaster to shoot a laser. While they are the same values and have very similar, if not the same animations, the effect of each character's laser is very different. Fox is able to shoot his blaster at a faster rate than Falco, but it does put the opponent in hitstun. It is crucial to map this values to be unique. This way, our model is able to interpret them as different moves rather than the same."
   ]
  },
  {
   "cell_type": "code",
   "execution_count": 49,
   "metadata": {
    "ExecuteTime": {
     "end_time": "2020-02-11T21:31:40.339131Z",
     "start_time": "2020-02-11T21:31:40.277730Z"
    }
   },
   "outputs": [],
   "source": [
    "# If the value is less than 341 or greater than 375, then it is not a unique action state to Fox\n",
    "# Otherwise, it is a unique action state to Fox, so add 42 to each state to make it unique\n",
    "df_frames['fox_state'] = df_frames['fox_state'].map(lambda val: val if (val < 341) or (val > 375) else val + 42)"
   ]
  },
  {
   "cell_type": "code",
   "execution_count": 50,
   "metadata": {
    "ExecuteTime": {
     "end_time": "2020-02-11T21:31:40.393733Z",
     "start_time": "2020-02-11T21:31:40.341027Z"
    }
   },
   "outputs": [],
   "source": [
    "# Same idea as the above cell, but add 77 to each unique action state value\n",
    "df_frames['falco_state'] = df_frames['falco_state'].map(lambda val: val if (val < 341) or (val > 375) else val + 77)"
   ]
  },
  {
   "cell_type": "markdown",
   "metadata": {},
   "source": [
    "Since we need to tell the model that how much time elapses from one row to another, we need to make the index of the dataframe to be reset. I will use video editing as an analogy to help explain why I reset the index to achieve this.\n",
    "\n",
    "If the index is reset, then the 0th row has an index of 0 and the final row has an index of 106,177. This is similar to taking the video of all the 13 games and appending each video to each other to make one large video that is 106,178 frames long."
   ]
  },
  {
   "cell_type": "code",
   "execution_count": 51,
   "metadata": {
    "ExecuteTime": {
     "end_time": "2020-02-11T21:31:40.404969Z",
     "start_time": "2020-02-11T21:31:40.396380Z"
    }
   },
   "outputs": [],
   "source": [
    "df_frames.reset_index(inplace = True, drop = True)"
   ]
  },
  {
   "cell_type": "code",
   "execution_count": 52,
   "metadata": {
    "ExecuteTime": {
     "end_time": "2020-02-11T21:31:40.417531Z",
     "start_time": "2020-02-11T21:31:40.407596Z"
    }
   },
   "outputs": [
    {
     "data": {
      "text/plain": [
       "Index(['game_id', 'frame_index', 'fox_cstick_x', 'fox_cstick_y',\n",
       "       'fox_joystick_x', 'fox_joystick_y', 'fox_trigger_analog', 'fox_Y',\n",
       "       'fox_X', 'fox_B', 'fox_A', 'fox_L', 'fox_R', 'fox_Z', 'fox_Dpad_Up',\n",
       "       'fox_Dpad_Down', 'fox_Dpad_Right', 'fox_Dpad_Left', 'fox_combo_count',\n",
       "       'fox_dmg', 'fox_direction', 'fox_last_hit_by', 'fox_position_x',\n",
       "       'fox_position_y', 'fox_shield', 'fox_state', 'fox_state_age',\n",
       "       'fox_stocks', 'falco_cstick_x', 'falco_cstick_y', 'falco_joystick_x',\n",
       "       'falco_joystick_y', 'falco_trigger_analog', 'falco_Y', 'falco_X',\n",
       "       'falco_B', 'falco_A', 'falco_L', 'falco_R', 'falco_Z', 'falco_Dpad_Up',\n",
       "       'falco_Dpad_Down', 'falco_Dpad_Right', 'falco_Dpad_Left',\n",
       "       'falco_combo_count', 'falco_dmg', 'falco_direction',\n",
       "       'falco_last_hit_by', 'falco_position_x', 'falco_position_y',\n",
       "       'falco_shield', 'falco_state', 'falco_state_age', 'falco_stocks'],\n",
       "      dtype='object')"
      ]
     },
     "execution_count": 52,
     "metadata": {},
     "output_type": "execute_result"
    }
   ],
   "source": [
    "df_frames.columns"
   ]
  },
  {
   "cell_type": "markdown",
   "metadata": {},
   "source": [
    "After checking the set of values for each button on the controller, I have found that the below buttons are all never pressed. This makes sense for Start and the Dpad buttons. If a player pauses mid-match, then they must forfeit one stock as stated in tournament rulings. The Dpad buttons cause a character to taunt. Players don't usually taunt in a match because it usually shows bad sportsmanship and leaves their character vulnerable for a long time."
   ]
  },
  {
   "cell_type": "code",
   "execution_count": 53,
   "metadata": {
    "ExecuteTime": {
     "end_time": "2020-02-11T21:31:40.448723Z",
     "start_time": "2020-02-11T21:31:40.423424Z"
    }
   },
   "outputs": [
    {
     "data": {
      "text/plain": [
       "{0}"
      ]
     },
     "execution_count": 53,
     "metadata": {},
     "output_type": "execute_result"
    }
   ],
   "source": [
    "set(df_frames['falco_trigger_analog'].values)"
   ]
  },
  {
   "cell_type": "code",
   "execution_count": 54,
   "metadata": {
    "ExecuteTime": {
     "end_time": "2020-02-11T21:31:40.477504Z",
     "start_time": "2020-02-11T21:31:40.451828Z"
    }
   },
   "outputs": [
    {
     "data": {
      "text/plain": [
       "{0}"
      ]
     },
     "execution_count": 54,
     "metadata": {},
     "output_type": "execute_result"
    }
   ],
   "source": [
    "set(df_frames['fox_trigger_analog'].values)"
   ]
  },
  {
   "cell_type": "code",
   "execution_count": 55,
   "metadata": {
    "ExecuteTime": {
     "end_time": "2020-02-11T21:31:40.518058Z",
     "start_time": "2020-02-11T21:31:40.481875Z"
    }
   },
   "outputs": [
    {
     "data": {
      "text/plain": [
       "{0}"
      ]
     },
     "execution_count": 55,
     "metadata": {},
     "output_type": "execute_result"
    }
   ],
   "source": [
    "set(df_frames['falco_Dpad_Up'].values)"
   ]
  },
  {
   "cell_type": "code",
   "execution_count": 56,
   "metadata": {
    "ExecuteTime": {
     "end_time": "2020-02-11T21:31:40.549743Z",
     "start_time": "2020-02-11T21:31:40.525037Z"
    }
   },
   "outputs": [
    {
     "data": {
      "text/plain": [
       "{0}"
      ]
     },
     "execution_count": 56,
     "metadata": {},
     "output_type": "execute_result"
    }
   ],
   "source": [
    "set(df_frames['falco_Dpad_Down'].values)"
   ]
  },
  {
   "cell_type": "code",
   "execution_count": 57,
   "metadata": {
    "ExecuteTime": {
     "end_time": "2020-02-11T21:31:40.577213Z",
     "start_time": "2020-02-11T21:31:40.553632Z"
    }
   },
   "outputs": [
    {
     "data": {
      "text/plain": [
       "{0}"
      ]
     },
     "execution_count": 57,
     "metadata": {},
     "output_type": "execute_result"
    }
   ],
   "source": [
    "set(df_frames['falco_Dpad_Left'].values)"
   ]
  },
  {
   "cell_type": "code",
   "execution_count": 58,
   "metadata": {
    "ExecuteTime": {
     "end_time": "2020-02-11T21:31:40.603821Z",
     "start_time": "2020-02-11T21:31:40.581542Z"
    }
   },
   "outputs": [
    {
     "data": {
      "text/plain": [
       "{0}"
      ]
     },
     "execution_count": 58,
     "metadata": {},
     "output_type": "execute_result"
    }
   ],
   "source": [
    "set(df_frames['falco_Dpad_Right'].values)"
   ]
  },
  {
   "cell_type": "code",
   "execution_count": 59,
   "metadata": {
    "ExecuteTime": {
     "end_time": "2020-02-11T21:31:40.637965Z",
     "start_time": "2020-02-11T21:31:40.607748Z"
    }
   },
   "outputs": [
    {
     "data": {
      "text/plain": [
       "{0}"
      ]
     },
     "execution_count": 59,
     "metadata": {},
     "output_type": "execute_result"
    }
   ],
   "source": [
    "set(df_frames['fox_Dpad_Up'].values)"
   ]
  },
  {
   "cell_type": "code",
   "execution_count": 60,
   "metadata": {
    "ExecuteTime": {
     "end_time": "2020-02-11T21:31:40.661676Z",
     "start_time": "2020-02-11T21:31:40.640459Z"
    }
   },
   "outputs": [
    {
     "data": {
      "text/plain": [
       "{0}"
      ]
     },
     "execution_count": 60,
     "metadata": {},
     "output_type": "execute_result"
    }
   ],
   "source": [
    "set(df_frames['fox_Dpad_Down'].values)"
   ]
  },
  {
   "cell_type": "code",
   "execution_count": 61,
   "metadata": {
    "ExecuteTime": {
     "end_time": "2020-02-11T21:31:40.696943Z",
     "start_time": "2020-02-11T21:31:40.676827Z"
    }
   },
   "outputs": [
    {
     "data": {
      "text/plain": [
       "{0}"
      ]
     },
     "execution_count": 61,
     "metadata": {},
     "output_type": "execute_result"
    }
   ],
   "source": [
    "set(df_frames['fox_Dpad_Left'].values)"
   ]
  },
  {
   "cell_type": "code",
   "execution_count": 62,
   "metadata": {
    "ExecuteTime": {
     "end_time": "2020-02-11T21:31:40.722647Z",
     "start_time": "2020-02-11T21:31:40.699923Z"
    },
    "scrolled": true
   },
   "outputs": [
    {
     "data": {
      "text/plain": [
       "{0}"
      ]
     },
     "execution_count": 62,
     "metadata": {},
     "output_type": "execute_result"
    }
   ],
   "source": [
    "set(df_frames['fox_Dpad_Right'].values)"
   ]
  },
  {
   "cell_type": "markdown",
   "metadata": {},
   "source": [
    "I will choose to keep the Dpad buttons in because taunting is an action that a character can perform. In niche situations, these taunts can affect the outcome of a skirmish. In addition to that, Samus is able to perform an extended grab using the Dpad buttons. Something that is exclusive to her."
   ]
  },
  {
   "cell_type": "code",
   "execution_count": 63,
   "metadata": {
    "ExecuteTime": {
     "end_time": "2020-02-11T21:31:48.811766Z",
     "start_time": "2020-02-11T21:31:40.724960Z"
    }
   },
   "outputs": [],
   "source": [
    "df_frames.to_csv('../data/fox-falco-fd-frames.csv')"
   ]
  },
  {
   "cell_type": "code",
   "execution_count": 1,
   "metadata": {
    "ExecuteTime": {
     "end_time": "2020-03-04T16:02:07.745069Z",
     "start_time": "2020-03-04T16:02:07.565433Z"
    }
   },
   "outputs": [
    {
     "ename": "NameError",
     "evalue": "name 'df_frames' is not defined",
     "output_type": "error",
     "traceback": [
      "\u001b[0;31m---------------------------------------------------------------------------\u001b[0m",
      "\u001b[0;31mNameError\u001b[0m                                 Traceback (most recent call last)",
      "\u001b[0;32m<ipython-input-1-39e5929c1555>\u001b[0m in \u001b[0;36m<module>\u001b[0;34m\u001b[0m\n\u001b[0;32m----> 1\u001b[0;31m \u001b[0mdf_frames\u001b[0m\u001b[0;34m.\u001b[0m\u001b[0mshape\u001b[0m\u001b[0;34m\u001b[0m\u001b[0;34m\u001b[0m\u001b[0m\n\u001b[0m",
      "\u001b[0;31mNameError\u001b[0m: name 'df_frames' is not defined"
     ]
    }
   ],
   "source": [
    "df_frames.shape"
   ]
  },
  {
   "cell_type": "code",
   "execution_count": null,
   "metadata": {},
   "outputs": [],
   "source": []
  }
 ],
 "metadata": {
  "kernelspec": {
   "display_name": "Python 3",
   "language": "python",
   "name": "python3"
  },
  "language_info": {
   "codemirror_mode": {
    "name": "ipython",
    "version": 3
   },
   "file_extension": ".py",
   "mimetype": "text/x-python",
   "name": "python",
   "nbconvert_exporter": "python",
   "pygments_lexer": "ipython3",
   "version": "3.7.5"
  },
  "toc": {
   "base_numbering": 1,
   "nav_menu": {},
   "number_sections": true,
   "sideBar": true,
   "skip_h1_title": false,
   "title_cell": "Table of Contents",
   "title_sidebar": "Contents",
   "toc_cell": false,
   "toc_position": {},
   "toc_section_display": true,
   "toc_window_display": true
  },
  "varInspector": {
   "cols": {
    "lenName": 16,
    "lenType": 16,
    "lenVar": 40
   },
   "kernels_config": {
    "python": {
     "delete_cmd_postfix": "",
     "delete_cmd_prefix": "del ",
     "library": "var_list.py",
     "varRefreshCmd": "print(var_dic_list())"
    },
    "r": {
     "delete_cmd_postfix": ") ",
     "delete_cmd_prefix": "rm(",
     "library": "var_list.r",
     "varRefreshCmd": "cat(var_dic_list()) "
    }
   },
   "types_to_exclude": [
    "module",
    "function",
    "builtin_function_or_method",
    "instance",
    "_Feature"
   ],
   "window_display": false
  }
 },
 "nbformat": 4,
 "nbformat_minor": 2
}
